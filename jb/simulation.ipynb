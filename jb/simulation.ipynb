{
 "cells": [
  {
   "cell_type": "markdown",
   "metadata": {},
   "source": [
    "# Simulating child allowances in US states\n",
    "\n",
    "Poverty has a lasting impact on children.  Growing up in poverty increases [stress](https://heckmanequation.org/resource/invest-in-early-childhood-development-reduce-deficits-strengthen-the-economy/) and [incarceration rates](https://heckmanequation.org/resource/invest-in-early-childhood-development-reduce-deficits-strengthen-the-economy/) and decreases [educational](https://www.sciencedirect.com/science/article/abs/pii/S1876285915003836) and [health](https://www.aeaweb.org/articles?id=10.1257/app.2.1.86) outcomes.  These negative consequences not only impact the nation’s poor, but the entire economy as well--child poverty shrinks GDP by more than [\\$1 trillion annually](https://www.nap.edu/read/25246/chapter/1).\n",
    "\n",
    "Research has shown that giving money to families with children, as most developed countries do, can reduce each of these issues.  Programs that provide cash to families with children are called a _child allowance_, and are typically paid out on a monthly basis.  \n",
    "\n",
    "This site allows users to explore the impact of a potential child allowance of various amounts in each state.  Users can also select between three funding mechanisms:\n",
    "\n",
    "* **Deficit funded** does not impose any new taxes.  Note that each of these tax reforms is static and does not account for changes in behavior.\n",
    "* **Federal tax** as a flat rate on taxable income. For each child allowance amount the total cost is calculated by multiplying the annual child allowance by the total number of children.  To calculate the revenue neutral tax rate, the total cost is divided by the nation’s total taxable income.  For example, a child allowance of \\$100 per month would cost about \\$88 billion annually and require a new flat tax of 1.1 percent.\n",
    "* **State tax** as a flat rate on taxable income. The state tax is calculated in the same manner as the federal tax, but at the state level. This shows how states can fund their own child allowances. Because states vary in child population and income, different states have different tax rates. A \\$100 monthly child allowance in DC is offset by a 0.5 percent tax on taxable income while the same amount requires a 1.3 percent tax in Alabama."
   ]
  },
  {
   "cell_type": "code",
   "execution_count": 9,
   "metadata": {
    "tags": [
     "hide-input"
    ]
   },
   "outputs": [
    {
     "data": {
      "application/vnd.plotly.v1+json": {
       "config": {
        "plotlyServerURL": "https://plot.ly"
       },
       "data": [
        {
         "mode": "markers+lines",
         "name": "State tax rate",
         "type": "scatter",
         "x": [
          0,
          50,
          100,
          150,
          200,
          250,
          300,
          350,
          400,
          450,
          500
         ],
         "xaxis": "x",
         "y": [
          0,
          0.7,
          1.3,
          2,
          2.6,
          3.3,
          4,
          4.6,
          5.3,
          6,
          6.6
         ],
         "yaxis": "y"
        },
        {
         "mode": "markers+lines",
         "name": "Federal tax rate",
         "type": "scatter",
         "x": [
          0,
          50,
          100,
          150,
          200,
          250,
          300,
          350,
          400,
          450,
          500
         ],
         "xaxis": "x",
         "y": [
          0,
          0.5,
          1.1,
          1.6,
          2.1,
          2.7,
          3.2,
          3.7,
          4.3,
          4.8,
          5.3
         ],
         "yaxis": "y"
        },
        {
         "mode": "markers+lines",
         "name": "Gini index - federal tax",
         "type": "scatter",
         "x": [
          0,
          50,
          100,
          150,
          200,
          250,
          300,
          350,
          400,
          450,
          500
         ],
         "xaxis": "x2",
         "y": [
          0.446,
          0.442,
          0.43700000000000006,
          0.433,
          0.428,
          0.424,
          0.419,
          0.415,
          0.41100000000000003,
          0.40700000000000003,
          0.40299999999999997
         ],
         "yaxis": "y2"
        },
        {
         "mode": "markers+lines",
         "name": "Gini index - state tax",
         "type": "scatter",
         "x": [
          0,
          50,
          100,
          150,
          200,
          250,
          300,
          350,
          400,
          450,
          500
         ],
         "xaxis": "x2",
         "y": [
          0.446,
          0.441,
          0.43700000000000006,
          0.43200000000000005,
          0.42700000000000005,
          0.423,
          0.418,
          0.414,
          0.409,
          0.405,
          0.401
         ],
         "yaxis": "y2"
        },
        {
         "mode": "markers+lines",
         "name": "Gini index - deficit funded",
         "type": "scatter",
         "x": [
          0,
          50,
          100,
          150,
          200,
          250,
          300,
          350,
          400,
          450,
          500
         ],
         "xaxis": "x2",
         "y": [
          0.446,
          0.442,
          0.439,
          0.435,
          0.43200000000000005,
          0.428,
          0.425,
          0.42100000000000004,
          0.418,
          0.415,
          0.41200000000000003
         ],
         "yaxis": "y2"
        }
       ],
       "layout": {
        "annotations": [
         {
          "font": {
           "size": 16
          },
          "showarrow": false,
          "text": "Revenue neutral tax rates in Alabama",
          "x": 0.5,
          "xanchor": "center",
          "xref": "paper",
          "y": 1,
          "yanchor": "bottom",
          "yref": "paper"
         },
         {
          "font": {
           "size": 16
          },
          "showarrow": false,
          "text": "Gini index inAlabama",
          "x": 0.5,
          "xanchor": "center",
          "xref": "paper",
          "y": 0.375,
          "yanchor": "bottom",
          "yref": "paper"
         }
        ],
        "font": {
         "family": "Roboto"
        },
        "height": 600,
        "hovermode": "x",
        "legend": {
         "title": {
          "text": ""
         }
        },
        "margin": {
         "b": 0,
         "l": 0,
         "r": 0,
         "t": 100
        },
        "plot_bgcolor": "white",
        "template": {
         "data": {
          "bar": [
           {
            "error_x": {
             "color": "#2a3f5f"
            },
            "error_y": {
             "color": "#2a3f5f"
            },
            "marker": {
             "line": {
              "color": "#E5ECF6",
              "width": 0.5
             }
            },
            "type": "bar"
           }
          ],
          "barpolar": [
           {
            "marker": {
             "line": {
              "color": "#E5ECF6",
              "width": 0.5
             }
            },
            "type": "barpolar"
           }
          ],
          "carpet": [
           {
            "aaxis": {
             "endlinecolor": "#2a3f5f",
             "gridcolor": "white",
             "linecolor": "white",
             "minorgridcolor": "white",
             "startlinecolor": "#2a3f5f"
            },
            "baxis": {
             "endlinecolor": "#2a3f5f",
             "gridcolor": "white",
             "linecolor": "white",
             "minorgridcolor": "white",
             "startlinecolor": "#2a3f5f"
            },
            "type": "carpet"
           }
          ],
          "choropleth": [
           {
            "colorbar": {
             "outlinewidth": 0,
             "ticks": ""
            },
            "type": "choropleth"
           }
          ],
          "contour": [
           {
            "colorbar": {
             "outlinewidth": 0,
             "ticks": ""
            },
            "colorscale": [
             [
              0,
              "#0d0887"
             ],
             [
              0.1111111111111111,
              "#46039f"
             ],
             [
              0.2222222222222222,
              "#7201a8"
             ],
             [
              0.3333333333333333,
              "#9c179e"
             ],
             [
              0.4444444444444444,
              "#bd3786"
             ],
             [
              0.5555555555555556,
              "#d8576b"
             ],
             [
              0.6666666666666666,
              "#ed7953"
             ],
             [
              0.7777777777777778,
              "#fb9f3a"
             ],
             [
              0.8888888888888888,
              "#fdca26"
             ],
             [
              1,
              "#f0f921"
             ]
            ],
            "type": "contour"
           }
          ],
          "contourcarpet": [
           {
            "colorbar": {
             "outlinewidth": 0,
             "ticks": ""
            },
            "type": "contourcarpet"
           }
          ],
          "heatmap": [
           {
            "colorbar": {
             "outlinewidth": 0,
             "ticks": ""
            },
            "colorscale": [
             [
              0,
              "#0d0887"
             ],
             [
              0.1111111111111111,
              "#46039f"
             ],
             [
              0.2222222222222222,
              "#7201a8"
             ],
             [
              0.3333333333333333,
              "#9c179e"
             ],
             [
              0.4444444444444444,
              "#bd3786"
             ],
             [
              0.5555555555555556,
              "#d8576b"
             ],
             [
              0.6666666666666666,
              "#ed7953"
             ],
             [
              0.7777777777777778,
              "#fb9f3a"
             ],
             [
              0.8888888888888888,
              "#fdca26"
             ],
             [
              1,
              "#f0f921"
             ]
            ],
            "type": "heatmap"
           }
          ],
          "heatmapgl": [
           {
            "colorbar": {
             "outlinewidth": 0,
             "ticks": ""
            },
            "colorscale": [
             [
              0,
              "#0d0887"
             ],
             [
              0.1111111111111111,
              "#46039f"
             ],
             [
              0.2222222222222222,
              "#7201a8"
             ],
             [
              0.3333333333333333,
              "#9c179e"
             ],
             [
              0.4444444444444444,
              "#bd3786"
             ],
             [
              0.5555555555555556,
              "#d8576b"
             ],
             [
              0.6666666666666666,
              "#ed7953"
             ],
             [
              0.7777777777777778,
              "#fb9f3a"
             ],
             [
              0.8888888888888888,
              "#fdca26"
             ],
             [
              1,
              "#f0f921"
             ]
            ],
            "type": "heatmapgl"
           }
          ],
          "histogram": [
           {
            "marker": {
             "colorbar": {
              "outlinewidth": 0,
              "ticks": ""
             }
            },
            "type": "histogram"
           }
          ],
          "histogram2d": [
           {
            "colorbar": {
             "outlinewidth": 0,
             "ticks": ""
            },
            "colorscale": [
             [
              0,
              "#0d0887"
             ],
             [
              0.1111111111111111,
              "#46039f"
             ],
             [
              0.2222222222222222,
              "#7201a8"
             ],
             [
              0.3333333333333333,
              "#9c179e"
             ],
             [
              0.4444444444444444,
              "#bd3786"
             ],
             [
              0.5555555555555556,
              "#d8576b"
             ],
             [
              0.6666666666666666,
              "#ed7953"
             ],
             [
              0.7777777777777778,
              "#fb9f3a"
             ],
             [
              0.8888888888888888,
              "#fdca26"
             ],
             [
              1,
              "#f0f921"
             ]
            ],
            "type": "histogram2d"
           }
          ],
          "histogram2dcontour": [
           {
            "colorbar": {
             "outlinewidth": 0,
             "ticks": ""
            },
            "colorscale": [
             [
              0,
              "#0d0887"
             ],
             [
              0.1111111111111111,
              "#46039f"
             ],
             [
              0.2222222222222222,
              "#7201a8"
             ],
             [
              0.3333333333333333,
              "#9c179e"
             ],
             [
              0.4444444444444444,
              "#bd3786"
             ],
             [
              0.5555555555555556,
              "#d8576b"
             ],
             [
              0.6666666666666666,
              "#ed7953"
             ],
             [
              0.7777777777777778,
              "#fb9f3a"
             ],
             [
              0.8888888888888888,
              "#fdca26"
             ],
             [
              1,
              "#f0f921"
             ]
            ],
            "type": "histogram2dcontour"
           }
          ],
          "mesh3d": [
           {
            "colorbar": {
             "outlinewidth": 0,
             "ticks": ""
            },
            "type": "mesh3d"
           }
          ],
          "parcoords": [
           {
            "line": {
             "colorbar": {
              "outlinewidth": 0,
              "ticks": ""
             }
            },
            "type": "parcoords"
           }
          ],
          "pie": [
           {
            "automargin": true,
            "type": "pie"
           }
          ],
          "scatter": [
           {
            "marker": {
             "colorbar": {
              "outlinewidth": 0,
              "ticks": ""
             }
            },
            "type": "scatter"
           }
          ],
          "scatter3d": [
           {
            "line": {
             "colorbar": {
              "outlinewidth": 0,
              "ticks": ""
             }
            },
            "marker": {
             "colorbar": {
              "outlinewidth": 0,
              "ticks": ""
             }
            },
            "type": "scatter3d"
           }
          ],
          "scattercarpet": [
           {
            "marker": {
             "colorbar": {
              "outlinewidth": 0,
              "ticks": ""
             }
            },
            "type": "scattercarpet"
           }
          ],
          "scattergeo": [
           {
            "marker": {
             "colorbar": {
              "outlinewidth": 0,
              "ticks": ""
             }
            },
            "type": "scattergeo"
           }
          ],
          "scattergl": [
           {
            "marker": {
             "colorbar": {
              "outlinewidth": 0,
              "ticks": ""
             }
            },
            "type": "scattergl"
           }
          ],
          "scattermapbox": [
           {
            "marker": {
             "colorbar": {
              "outlinewidth": 0,
              "ticks": ""
             }
            },
            "type": "scattermapbox"
           }
          ],
          "scatterpolar": [
           {
            "marker": {
             "colorbar": {
              "outlinewidth": 0,
              "ticks": ""
             }
            },
            "type": "scatterpolar"
           }
          ],
          "scatterpolargl": [
           {
            "marker": {
             "colorbar": {
              "outlinewidth": 0,
              "ticks": ""
             }
            },
            "type": "scatterpolargl"
           }
          ],
          "scatterternary": [
           {
            "marker": {
             "colorbar": {
              "outlinewidth": 0,
              "ticks": ""
             }
            },
            "type": "scatterternary"
           }
          ],
          "surface": [
           {
            "colorbar": {
             "outlinewidth": 0,
             "ticks": ""
            },
            "colorscale": [
             [
              0,
              "#0d0887"
             ],
             [
              0.1111111111111111,
              "#46039f"
             ],
             [
              0.2222222222222222,
              "#7201a8"
             ],
             [
              0.3333333333333333,
              "#9c179e"
             ],
             [
              0.4444444444444444,
              "#bd3786"
             ],
             [
              0.5555555555555556,
              "#d8576b"
             ],
             [
              0.6666666666666666,
              "#ed7953"
             ],
             [
              0.7777777777777778,
              "#fb9f3a"
             ],
             [
              0.8888888888888888,
              "#fdca26"
             ],
             [
              1,
              "#f0f921"
             ]
            ],
            "type": "surface"
           }
          ],
          "table": [
           {
            "cells": {
             "fill": {
              "color": "#EBF0F8"
             },
             "line": {
              "color": "white"
             }
            },
            "header": {
             "fill": {
              "color": "#C8D4E3"
             },
             "line": {
              "color": "white"
             }
            },
            "type": "table"
           }
          ]
         },
         "layout": {
          "annotationdefaults": {
           "arrowcolor": "#2a3f5f",
           "arrowhead": 0,
           "arrowwidth": 1
          },
          "coloraxis": {
           "colorbar": {
            "outlinewidth": 0,
            "ticks": ""
           }
          },
          "colorscale": {
           "diverging": [
            [
             0,
             "#8e0152"
            ],
            [
             0.1,
             "#c51b7d"
            ],
            [
             0.2,
             "#de77ae"
            ],
            [
             0.3,
             "#f1b6da"
            ],
            [
             0.4,
             "#fde0ef"
            ],
            [
             0.5,
             "#f7f7f7"
            ],
            [
             0.6,
             "#e6f5d0"
            ],
            [
             0.7,
             "#b8e186"
            ],
            [
             0.8,
             "#7fbc41"
            ],
            [
             0.9,
             "#4d9221"
            ],
            [
             1,
             "#276419"
            ]
           ],
           "sequential": [
            [
             0,
             "#0d0887"
            ],
            [
             0.1111111111111111,
             "#46039f"
            ],
            [
             0.2222222222222222,
             "#7201a8"
            ],
            [
             0.3333333333333333,
             "#9c179e"
            ],
            [
             0.4444444444444444,
             "#bd3786"
            ],
            [
             0.5555555555555556,
             "#d8576b"
            ],
            [
             0.6666666666666666,
             "#ed7953"
            ],
            [
             0.7777777777777778,
             "#fb9f3a"
            ],
            [
             0.8888888888888888,
             "#fdca26"
            ],
            [
             1,
             "#f0f921"
            ]
           ],
           "sequentialminus": [
            [
             0,
             "#0d0887"
            ],
            [
             0.1111111111111111,
             "#46039f"
            ],
            [
             0.2222222222222222,
             "#7201a8"
            ],
            [
             0.3333333333333333,
             "#9c179e"
            ],
            [
             0.4444444444444444,
             "#bd3786"
            ],
            [
             0.5555555555555556,
             "#d8576b"
            ],
            [
             0.6666666666666666,
             "#ed7953"
            ],
            [
             0.7777777777777778,
             "#fb9f3a"
            ],
            [
             0.8888888888888888,
             "#fdca26"
            ],
            [
             1,
             "#f0f921"
            ]
           ]
          },
          "colorway": [
           "#636efa",
           "#EF553B",
           "#00cc96",
           "#ab63fa",
           "#FFA15A",
           "#19d3f3",
           "#FF6692",
           "#B6E880",
           "#FF97FF",
           "#FECB52"
          ],
          "font": {
           "color": "#2a3f5f"
          },
          "geo": {
           "bgcolor": "white",
           "lakecolor": "white",
           "landcolor": "#E5ECF6",
           "showlakes": true,
           "showland": true,
           "subunitcolor": "white"
          },
          "hoverlabel": {
           "align": "left"
          },
          "hovermode": "closest",
          "mapbox": {
           "style": "light"
          },
          "paper_bgcolor": "white",
          "plot_bgcolor": "#E5ECF6",
          "polar": {
           "angularaxis": {
            "gridcolor": "white",
            "linecolor": "white",
            "ticks": ""
           },
           "bgcolor": "#E5ECF6",
           "radialaxis": {
            "gridcolor": "white",
            "linecolor": "white",
            "ticks": ""
           }
          },
          "scene": {
           "xaxis": {
            "backgroundcolor": "#E5ECF6",
            "gridcolor": "white",
            "gridwidth": 2,
            "linecolor": "white",
            "showbackground": true,
            "ticks": "",
            "zerolinecolor": "white"
           },
           "yaxis": {
            "backgroundcolor": "#E5ECF6",
            "gridcolor": "white",
            "gridwidth": 2,
            "linecolor": "white",
            "showbackground": true,
            "ticks": "",
            "zerolinecolor": "white"
           },
           "zaxis": {
            "backgroundcolor": "#E5ECF6",
            "gridcolor": "white",
            "gridwidth": 2,
            "linecolor": "white",
            "showbackground": true,
            "ticks": "",
            "zerolinecolor": "white"
           }
          },
          "shapedefaults": {
           "line": {
            "color": "#2a3f5f"
           }
          },
          "ternary": {
           "aaxis": {
            "gridcolor": "white",
            "linecolor": "white",
            "ticks": ""
           },
           "baxis": {
            "gridcolor": "white",
            "linecolor": "white",
            "ticks": ""
           },
           "bgcolor": "#E5ECF6",
           "caxis": {
            "gridcolor": "white",
            "linecolor": "white",
            "ticks": ""
           }
          },
          "title": {
           "x": 0.05
          },
          "xaxis": {
           "automargin": true,
           "gridcolor": "white",
           "linecolor": "white",
           "ticks": "",
           "title": {
            "standoff": 15
           },
           "zerolinecolor": "white",
           "zerolinewidth": 2
          },
          "yaxis": {
           "automargin": true,
           "gridcolor": "white",
           "linecolor": "white",
           "ticks": "",
           "title": {
            "standoff": 15
           },
           "zerolinecolor": "white",
           "zerolinewidth": 2
          }
         }
        },
        "title": {
         "text": "Tax reform and Gini index"
        },
        "updatemenus": [
         {
          "buttons": [
           {
            "args": [
             {
              "y": [
               [
                0,
                0.7,
                1.3,
                2,
                2.6,
                3.3,
                4,
                4.6,
                5.3,
                6,
                6.6
               ],
               [
                0,
                0.5,
                1.1,
                1.6,
                2.1,
                2.7,
                3.2,
                3.7,
                4.3,
                4.8,
                5.3
               ],
               [
                0.446,
                0.442,
                0.43700000000000006,
                0.433,
                0.428,
                0.424,
                0.419,
                0.415,
                0.41100000000000003,
                0.40700000000000003,
                0.40299999999999997
               ],
               [
                0.446,
                0.441,
                0.43700000000000006,
                0.43200000000000005,
                0.42700000000000005,
                0.423,
                0.418,
                0.414,
                0.409,
                0.405,
                0.401
               ],
               [
                0.446,
                0.442,
                0.439,
                0.435,
                0.43200000000000005,
                0.428,
                0.425,
                0.42100000000000004,
                0.418,
                0.415,
                0.41200000000000003
               ]
              ]
             },
             {
              "annotations[0].text": "Revenue neutral tax rates in Alabama",
              "annotations[1].text": "Gini index in Alabama"
             }
            ],
            "label": "Alabama",
            "method": "update"
           },
           {
            "args": [
             {
              "y": [
               [
                0,
                0.6,
                1.2,
                1.9,
                2.5,
                3.1,
                3.7,
                4.3,
                4.9,
                5.6,
                6.2
               ],
               [
                0,
                0.5,
                1.1,
                1.6,
                2.1,
                2.7,
                3.2,
                3.7,
                4.3,
                4.8,
                5.3
               ],
               [
                0.451,
                0.446,
                0.441,
                0.43700000000000006,
                0.43200000000000005,
                0.428,
                0.423,
                0.419,
                0.414,
                0.41,
                0.406
               ],
               [
                0.451,
                0.446,
                0.441,
                0.436,
                0.43200000000000005,
                0.42700000000000005,
                0.423,
                0.418,
                0.413,
                0.409,
                0.40399999999999997
               ],
               [
                0.451,
                0.447,
                0.44299999999999995,
                0.439,
                0.435,
                0.431,
                0.428,
                0.424,
                0.42100000000000004,
                0.41700000000000004,
                0.414
               ]
              ]
             },
             {
              "annotations[0].text": "Revenue neutral tax rates in Alaska",
              "annotations[1].text": "Gini index in Alaska"
             }
            ],
            "label": "Alaska",
            "method": "update"
           },
           {
            "args": [
             {
              "y": [
               [
                0,
                0.6,
                1.2,
                1.8,
                2.4,
                3,
                3.6,
                4.2,
                4.8,
                5.4,
                6
               ],
               [
                0,
                0.5,
                1.1,
                1.6,
                2.1,
                2.7,
                3.2,
                3.7,
                4.3,
                4.8,
                5.3
               ],
               [
                0.439,
                0.435,
                0.43,
                0.426,
                0.42100000000000004,
                0.41700000000000004,
                0.413,
                0.408,
                0.40399999999999997,
                0.4,
                0.396
               ],
               [
                0.439,
                0.435,
                0.43,
                0.425,
                0.42100000000000004,
                0.41700000000000004,
                0.41200000000000003,
                0.408,
                0.40299999999999997,
                0.39899999999999997,
                0.395
               ],
               [
                0.439,
                0.435,
                0.43200000000000005,
                0.428,
                0.425,
                0.42100000000000004,
                0.418,
                0.414,
                0.41100000000000003,
                0.408,
                0.405
               ]
              ]
             },
             {
              "annotations[0].text": "Revenue neutral tax rates in Arizona",
              "annotations[1].text": "Gini index in Arizona"
             }
            ],
            "label": "Arizona",
            "method": "update"
           },
           {
            "args": [
             {
              "y": [
               [
                0,
                0.7,
                1.5,
                2.2,
                3,
                3.7,
                4.5,
                5.2,
                6,
                6.7,
                7.5
               ],
               [
                0,
                0.5,
                1.1,
                1.6,
                2.1,
                2.7,
                3.2,
                3.7,
                4.3,
                4.8,
                5.3
               ],
               [
                0.439,
                0.434,
                0.43,
                0.425,
                0.42,
                0.41600000000000004,
                0.41100000000000003,
                0.40700000000000003,
                0.402,
                0.39799999999999996,
                0.39399999999999996
               ],
               [
                0.439,
                0.434,
                0.429,
                0.424,
                0.419,
                0.414,
                0.409,
                0.40399999999999997,
                0.39899999999999997,
                0.39399999999999996,
                0.39
               ],
               [
                0.439,
                0.435,
                0.431,
                0.42700000000000005,
                0.424,
                0.42,
                0.41600000000000004,
                0.413,
                0.409,
                0.406,
                0.40299999999999997
               ]
              ]
             },
             {
              "annotations[0].text": "Revenue neutral tax rates in Arkansas",
              "annotations[1].text": "Gini index in Arkansas"
             }
            ],
            "label": "Arkansas",
            "method": "update"
           },
           {
            "args": [
             {
              "y": [
               [
                0,
                0.5,
                1,
                1.5,
                2,
                2.5,
                3,
                3.5,
                4,
                4.5,
                5.1
               ],
               [
                0,
                0.5,
                1.1,
                1.6,
                2.1,
                2.7,
                3.2,
                3.7,
                4.3,
                4.8,
                5.3
               ],
               [
                0.46,
                0.456,
                0.452,
                0.44799999999999995,
                0.444,
                0.44,
                0.436,
                0.43200000000000005,
                0.428,
                0.424,
                0.42100000000000004
               ],
               [
                0.46,
                0.456,
                0.452,
                0.44799999999999995,
                0.444,
                0.44,
                0.436,
                0.433,
                0.429,
                0.425,
                0.42100000000000004
               ],
               [
                0.46,
                0.457,
                0.45399999999999996,
                0.45,
                0.447,
                0.444,
                0.441,
                0.43799999999999994,
                0.436,
                0.433,
                0.43
               ]
              ]
             },
             {
              "annotations[0].text": "Revenue neutral tax rates in California",
              "annotations[1].text": "Gini index in California"
             }
            ],
            "label": "California",
            "method": "update"
           },
           {
            "args": [
             {
              "y": [
               [
                0,
                0.4,
                0.9,
                1.3,
                1.8,
                2.2,
                2.7,
                3.1,
                3.6,
                4,
                4.4
               ],
               [
                0,
                0.5,
                1.1,
                1.6,
                2.1,
                2.7,
                3.2,
                3.7,
                4.3,
                4.8,
                5.3
               ],
               [
                0.439,
                0.435,
                0.43200000000000005,
                0.428,
                0.425,
                0.42100000000000004,
                0.418,
                0.414,
                0.41100000000000003,
                0.408,
                0.40399999999999997
               ],
               [
                0.439,
                0.435,
                0.43200000000000005,
                0.428,
                0.425,
                0.42200000000000004,
                0.418,
                0.415,
                0.41200000000000003,
                0.409,
                0.405
               ],
               [
                0.439,
                0.436,
                0.433,
                0.43,
                0.42700000000000005,
                0.424,
                0.42200000000000004,
                0.419,
                0.41700000000000004,
                0.414,
                0.41100000000000003
               ]
              ]
             },
             {
              "annotations[0].text": "Revenue neutral tax rates in Colorado",
              "annotations[1].text": "Gini index in Colorado"
             }
            ],
            "label": "Colorado",
            "method": "update"
           },
           {
            "args": [
             {
              "y": [
               [
                0,
                0.4,
                0.8,
                1.2,
                1.6,
                2,
                2.4,
                2.8,
                3.2,
                3.6,
                4
               ],
               [
                0,
                0.5,
                1.1,
                1.6,
                2.1,
                2.7,
                3.2,
                3.7,
                4.3,
                4.8,
                5.3
               ],
               [
                0.42100000000000004,
                0.418,
                0.415,
                0.41200000000000003,
                0.408,
                0.405,
                0.402,
                0.39899999999999997,
                0.395,
                0.392,
                0.389
               ],
               [
                0.42100000000000004,
                0.418,
                0.415,
                0.41200000000000003,
                0.409,
                0.406,
                0.40299999999999997,
                0.4,
                0.397,
                0.39399999999999996,
                0.391
               ],
               [
                0.42100000000000004,
                0.419,
                0.41600000000000004,
                0.414,
                0.41100000000000003,
                0.409,
                0.40700000000000003,
                0.40399999999999997,
                0.402,
                0.4,
                0.39799999999999996
               ]
              ]
             },
             {
              "annotations[0].text": "Revenue neutral tax rates in Connecticut",
              "annotations[1].text": "Gini index in Connecticut"
             }
            ],
            "label": "Connecticut",
            "method": "update"
           },
           {
            "args": [
             {
              "y": [
               [
                0,
                0.5,
                1,
                1.4,
                1.9,
                2.4,
                2.9,
                3.3,
                3.8,
                4.3,
                4.8
               ],
               [
                0,
                0.5,
                1.1,
                1.6,
                2.1,
                2.7,
                3.2,
                3.7,
                4.3,
                4.8,
                5.3
               ],
               [
                0.429,
                0.426,
                0.42200000000000004,
                0.419,
                0.415,
                0.41200000000000003,
                0.408,
                0.405,
                0.402,
                0.39799999999999996,
                0.395
               ],
               [
                0.429,
                0.426,
                0.42200000000000004,
                0.419,
                0.41600000000000004,
                0.41200000000000003,
                0.409,
                0.406,
                0.402,
                0.39899999999999997,
                0.396
               ],
               [
                0.429,
                0.42700000000000005,
                0.424,
                0.42100000000000004,
                0.418,
                0.41600000000000004,
                0.413,
                0.41,
                0.408,
                0.405,
                0.40299999999999997
               ]
              ]
             },
             {
              "annotations[0].text": "Revenue neutral tax rates in Delaware",
              "annotations[1].text": "Gini index in Delaware"
             }
            ],
            "label": "Delaware",
            "method": "update"
           },
           {
            "args": [
             {
              "y": [
               [
                0,
                0.5,
                1.1,
                1.6,
                2.1,
                2.6,
                3.2,
                3.7,
                4.2,
                4.8,
                5.3
               ],
               [
                0,
                0.5,
                1.1,
                1.6,
                2.1,
                2.7,
                3.2,
                3.7,
                4.3,
                4.8,
                5.3
               ],
               [
                0.457,
                0.45299999999999996,
                0.449,
                0.445,
                0.441,
                0.43799999999999994,
                0.434,
                0.43,
                0.42700000000000005,
                0.423,
                0.419
               ],
               [
                0.457,
                0.45299999999999996,
                0.449,
                0.445,
                0.441,
                0.43799999999999994,
                0.434,
                0.43,
                0.42700000000000005,
                0.423,
                0.419
               ],
               [
                0.457,
                0.45399999999999996,
                0.451,
                0.44799999999999995,
                0.445,
                0.442,
                0.439,
                0.436,
                0.433,
                0.431,
                0.428
               ]
              ]
             },
             {
              "annotations[0].text": "Revenue neutral tax rates in Florida",
              "annotations[1].text": "Gini index in Florida"
             }
            ],
            "label": "Florida",
            "method": "update"
           },
           {
            "args": [
             {
              "y": [
               [
                0,
                0.7,
                1.3,
                2,
                2.7,
                3.3,
                4,
                4.7,
                5.3,
                6,
                6.7
               ],
               [
                0,
                0.5,
                1.1,
                1.6,
                2.1,
                2.7,
                3.2,
                3.7,
                4.3,
                4.8,
                5.3
               ],
               [
                0.447,
                0.442,
                0.43700000000000006,
                0.43200000000000005,
                0.428,
                0.423,
                0.419,
                0.414,
                0.41,
                0.405,
                0.401
               ],
               [
                0.447,
                0.442,
                0.43700000000000006,
                0.43200000000000005,
                0.42700000000000005,
                0.42200000000000004,
                0.41700000000000004,
                0.41200000000000003,
                0.408,
                0.40299999999999997,
                0.39899999999999997
               ],
               [
                0.447,
                0.44299999999999995,
                0.439,
                0.435,
                0.431,
                0.42700000000000005,
                0.424,
                0.42,
                0.41700000000000004,
                0.414,
                0.41
               ]
              ]
             },
             {
              "annotations[0].text": "Revenue neutral tax rates in Georgia",
              "annotations[1].text": "Gini index in Georgia"
             }
            ],
            "label": "Georgia",
            "method": "update"
           },
           {
            "args": [
             {
              "y": [
               [
                0,
                0.5,
                1,
                1.5,
                2,
                2.5,
                3,
                3.5,
                4,
                4.5,
                5
               ],
               [
                0,
                0.5,
                1.1,
                1.6,
                2.1,
                2.7,
                3.2,
                3.7,
                4.3,
                4.8,
                5.3
               ],
               [
                0.41600000000000004,
                0.413,
                0.409,
                0.405,
                0.402,
                0.39799999999999996,
                0.395,
                0.391,
                0.38799999999999996,
                0.384,
                0.381
               ],
               [
                0.41600000000000004,
                0.413,
                0.409,
                0.406,
                0.402,
                0.39799999999999996,
                0.395,
                0.391,
                0.38799999999999996,
                0.385,
                0.381
               ],
               [
                0.41600000000000004,
                0.413,
                0.41,
                0.408,
                0.405,
                0.402,
                0.39899999999999997,
                0.396,
                0.39399999999999996,
                0.391,
                0.389
               ]
              ]
             },
             {
              "annotations[0].text": "Revenue neutral tax rates in Hawaii",
              "annotations[1].text": "Gini index in Hawaii"
             }
            ],
            "label": "Hawaii",
            "method": "update"
           },
           {
            "args": [
             {
              "y": [
               [
                0,
                0.7,
                1.4,
                2.1,
                2.8,
                3.5,
                4.2,
                4.9,
                5.6,
                6.3,
                7.1
               ],
               [
                0,
                0.5,
                1.1,
                1.6,
                2.1,
                2.7,
                3.2,
                3.7,
                4.3,
                4.8,
                5.3
               ],
               [
                0.42700000000000005,
                0.42100000000000004,
                0.41600000000000004,
                0.41100000000000003,
                0.406,
                0.401,
                0.397,
                0.392,
                0.387,
                0.382,
                0.37799999999999995
               ],
               [
                0.42700000000000005,
                0.42100000000000004,
                0.41600000000000004,
                0.41100000000000003,
                0.405,
                0.4,
                0.395,
                0.39,
                0.385,
                0.38,
                0.375
               ],
               [
                0.42700000000000005,
                0.42200000000000004,
                0.418,
                0.413,
                0.409,
                0.405,
                0.401,
                0.397,
                0.39399999999999996,
                0.39,
                0.386
               ]
              ]
             },
             {
              "annotations[0].text": "Revenue neutral tax rates in Idaho",
              "annotations[1].text": "Gini index in Idaho"
             }
            ],
            "label": "Idaho",
            "method": "update"
           },
           {
            "args": [
             {
              "y": [
               [
                0,
                0.5,
                1,
                1.5,
                1.9,
                2.4,
                2.9,
                3.4,
                3.9,
                4.4,
                4.8
               ],
               [
                0,
                0.5,
                1.1,
                1.6,
                2.1,
                2.7,
                3.2,
                3.7,
                4.3,
                4.8,
                5.3
               ],
               [
                0.444,
                0.441,
                0.43700000000000006,
                0.433,
                0.429,
                0.425,
                0.42200000000000004,
                0.418,
                0.414,
                0.41100000000000003,
                0.40700000000000003
               ],
               [
                0.444,
                0.441,
                0.43700000000000006,
                0.433,
                0.429,
                0.426,
                0.42200000000000004,
                0.418,
                0.415,
                0.41100000000000003,
                0.408
               ],
               [
                0.444,
                0.441,
                0.43799999999999994,
                0.435,
                0.43200000000000005,
                0.429,
                0.42700000000000005,
                0.424,
                0.42100000000000004,
                0.418,
                0.41600000000000004
               ]
              ]
             },
             {
              "annotations[0].text": "Revenue neutral tax rates in Illinois",
              "annotations[1].text": "Gini index in Illinois"
             }
            ],
            "label": "Illinois",
            "method": "update"
           },
           {
            "args": [
             {
              "y": [
               [
                0,
                0.7,
                1.3,
                2,
                2.6,
                3.3,
                3.9,
                4.6,
                5.2,
                5.9,
                6.5
               ],
               [
                0,
                0.5,
                1.1,
                1.6,
                2.1,
                2.7,
                3.2,
                3.7,
                4.3,
                4.8,
                5.3
               ],
               [
                0.402,
                0.39799999999999996,
                0.39299999999999996,
                0.38799999999999996,
                0.384,
                0.379,
                0.375,
                0.37,
                0.366,
                0.361,
                0.35700000000000004
               ],
               [
                0.402,
                0.39799999999999996,
                0.39299999999999996,
                0.38799999999999996,
                0.38299999999999995,
                0.37799999999999995,
                0.374,
                0.369,
                0.364,
                0.36,
                0.355
               ],
               [
                0.402,
                0.39799999999999996,
                0.39399999999999996,
                0.39,
                0.387,
                0.38299999999999995,
                0.379,
                0.376,
                0.37200000000000005,
                0.369,
                0.365
               ]
              ]
             },
             {
              "annotations[0].text": "Revenue neutral tax rates in Indiana",
              "annotations[1].text": "Gini index in Indiana"
             }
            ],
            "label": "Indiana",
            "method": "update"
           },
           {
            "args": [
             {
              "y": [
               [
                0,
                0.6,
                1.2,
                1.8,
                2.5,
                3.1,
                3.7,
                4.3,
                4.9,
                5.5,
                6.2
               ],
               [
                0,
                0.5,
                1.1,
                1.6,
                2.1,
                2.7,
                3.2,
                3.7,
                4.3,
                4.8,
                5.3
               ],
               [
                0.405,
                0.4,
                0.396,
                0.391,
                0.387,
                0.38299999999999995,
                0.379,
                0.374,
                0.37,
                0.366,
                0.36200000000000004
               ],
               [
                0.405,
                0.4,
                0.396,
                0.391,
                0.387,
                0.382,
                0.37799999999999995,
                0.374,
                0.369,
                0.365,
                0.361
               ],
               [
                0.405,
                0.401,
                0.397,
                0.39299999999999996,
                0.39,
                0.386,
                0.38299999999999995,
                0.379,
                0.376,
                0.373,
                0.37
               ]
              ]
             },
             {
              "annotations[0].text": "Revenue neutral tax rates in Iowa",
              "annotations[1].text": "Gini index in Iowa"
             }
            ],
            "label": "Iowa",
            "method": "update"
           },
           {
            "args": [
             {
              "y": [
               [
                0,
                0.6,
                1.3,
                1.9,
                2.5,
                3.1,
                3.8,
                4.4,
                5,
                5.6,
                6.3
               ],
               [
                0,
                0.5,
                1.1,
                1.6,
                2.1,
                2.7,
                3.2,
                3.7,
                4.3,
                4.8,
                5.3
               ],
               [
                0.414,
                0.409,
                0.405,
                0.4,
                0.396,
                0.392,
                0.38799999999999996,
                0.38299999999999995,
                0.379,
                0.375,
                0.371
               ],
               [
                0.414,
                0.409,
                0.405,
                0.4,
                0.396,
                0.391,
                0.387,
                0.382,
                0.37799999999999995,
                0.374,
                0.369
               ],
               [
                0.414,
                0.41,
                0.406,
                0.40299999999999997,
                0.39899999999999997,
                0.396,
                0.392,
                0.389,
                0.386,
                0.38299999999999995,
                0.38
               ]
              ]
             },
             {
              "annotations[0].text": "Revenue neutral tax rates in Kansas",
              "annotations[1].text": "Gini index in Kansas"
             }
            ],
            "label": "Kansas",
            "method": "update"
           },
           {
            "args": [
             {
              "y": [
               [
                0,
                0.6,
                1.2,
                1.9,
                2.5,
                3.1,
                3.7,
                4.3,
                4.9,
                5.6,
                6.2
               ],
               [
                0,
                0.5,
                1.1,
                1.6,
                2.1,
                2.7,
                3.2,
                3.7,
                4.3,
                4.8,
                5.3
               ],
               [
                0.462,
                0.45799999999999996,
                0.45299999999999996,
                0.449,
                0.445,
                0.44,
                0.436,
                0.43200000000000005,
                0.428,
                0.424,
                0.42
               ],
               [
                0.462,
                0.45799999999999996,
                0.45299999999999996,
                0.449,
                0.444,
                0.44,
                0.435,
                0.431,
                0.42700000000000005,
                0.423,
                0.418
               ],
               [
                0.462,
                0.45799999999999996,
                0.455,
                0.451,
                0.44799999999999995,
                0.445,
                0.441,
                0.43799999999999994,
                0.435,
                0.43200000000000005,
                0.429
               ]
              ]
             },
             {
              "annotations[0].text": "Revenue neutral tax rates in Kentucky",
              "annotations[1].text": "Gini index in Kentucky"
             }
            ],
            "label": "Kentucky",
            "method": "update"
           },
           {
            "args": [
             {
              "y": [
               [
                0,
                0.7,
                1.5,
                2.2,
                2.9,
                3.7,
                4.4,
                5.1,
                5.9,
                6.6,
                7.3
               ],
               [
                0,
                0.5,
                1.1,
                1.6,
                2.1,
                2.7,
                3.2,
                3.7,
                4.3,
                4.8,
                5.3
               ],
               [
                0.45799999999999996,
                0.45299999999999996,
                0.44799999999999995,
                0.44299999999999995,
                0.43799999999999994,
                0.433,
                0.428,
                0.424,
                0.419,
                0.414,
                0.41
               ],
               [
                0.45799999999999996,
                0.45299999999999996,
                0.447,
                0.442,
                0.43700000000000006,
                0.43200000000000005,
                0.426,
                0.42100000000000004,
                0.41600000000000004,
                0.41100000000000003,
                0.406
               ],
               [
                0.45799999999999996,
                0.45399999999999996,
                0.45,
                0.446,
                0.441,
                0.43799999999999994,
                0.434,
                0.43,
                0.426,
                0.423,
                0.419
               ]
              ]
             },
             {
              "annotations[0].text": "Revenue neutral tax rates in Louisiana",
              "annotations[1].text": "Gini index in Louisiana"
             }
            ],
            "label": "Louisiana",
            "method": "update"
           },
           {
            "args": [
             {
              "y": [
               [
                0,
                0.5,
                1.1,
                1.6,
                2.1,
                2.7,
                3.2,
                3.8,
                4.3,
                4.8,
                5.4
               ],
               [
                0,
                0.5,
                1.1,
                1.6,
                2.1,
                2.7,
                3.2,
                3.7,
                4.3,
                4.8,
                5.3
               ],
               [
                0.374,
                0.371,
                0.36700000000000005,
                0.363,
                0.36,
                0.35600000000000004,
                0.353,
                0.349,
                0.34600000000000003,
                0.342,
                0.33899999999999997
               ],
               [
                0.374,
                0.371,
                0.36700000000000005,
                0.363,
                0.36,
                0.35600000000000004,
                0.353,
                0.349,
                0.34600000000000003,
                0.342,
                0.33899999999999997
               ],
               [
                0.374,
                0.371,
                0.369,
                0.366,
                0.363,
                0.36,
                0.358,
                0.355,
                0.35200000000000004,
                0.35,
                0.348
               ]
              ]
             },
             {
              "annotations[0].text": "Revenue neutral tax rates in Maine",
              "annotations[1].text": "Gini index in Maine"
             }
            ],
            "label": "Maine",
            "method": "update"
           },
           {
            "args": [
             {
              "y": [
               [
                0,
                0.4,
                0.8,
                1.2,
                1.6,
                2,
                2.4,
                2.8,
                3.2,
                3.6,
                4
               ],
               [
                0,
                0.5,
                1.1,
                1.6,
                2.1,
                2.7,
                3.2,
                3.7,
                4.3,
                4.8,
                5.3
               ],
               [
                0.42,
                0.41700000000000004,
                0.413,
                0.41,
                0.40700000000000003,
                0.40299999999999997,
                0.4,
                0.397,
                0.39299999999999996,
                0.39,
                0.387
               ],
               [
                0.42,
                0.41700000000000004,
                0.414,
                0.41,
                0.40700000000000003,
                0.40399999999999997,
                0.401,
                0.39799999999999996,
                0.395,
                0.392,
                0.389
               ],
               [
                0.42,
                0.41700000000000004,
                0.414,
                0.41200000000000003,
                0.409,
                0.40700000000000003,
                0.40399999999999997,
                0.402,
                0.39899999999999997,
                0.397,
                0.39399999999999996
               ]
              ]
             },
             {
              "annotations[0].text": "Revenue neutral tax rates in Maryland",
              "annotations[1].text": "Gini index in Maryland"
             }
            ],
            "label": "Maryland",
            "method": "update"
           },
           {
            "args": [
             {
              "y": [
               [
                0,
                0.3,
                0.7,
                1,
                1.4,
                1.7,
                2,
                2.4,
                2.7,
                3,
                3.4
               ],
               [
                0,
                0.5,
                1.1,
                1.6,
                2.1,
                2.7,
                3.2,
                3.7,
                4.3,
                4.8,
                5.3
               ],
               [
                0.429,
                0.426,
                0.423,
                0.42,
                0.41700000000000004,
                0.414,
                0.41200000000000003,
                0.409,
                0.406,
                0.40299999999999997,
                0.401
               ],
               [
                0.429,
                0.426,
                0.423,
                0.42100000000000004,
                0.418,
                0.41600000000000004,
                0.413,
                0.41100000000000003,
                0.408,
                0.406,
                0.40399999999999997
               ],
               [
                0.429,
                0.426,
                0.424,
                0.42200000000000004,
                0.42,
                0.418,
                0.41600000000000004,
                0.414,
                0.41200000000000003,
                0.41,
                0.408
               ]
              ]
             },
             {
              "annotations[0].text": "Revenue neutral tax rates in Massachusetts",
              "annotations[1].text": "Gini index in Massachusetts"
             }
            ],
            "label": "Massachusetts",
            "method": "update"
           },
           {
            "args": [
             {
              "y": [
               [
                0,
                0.5,
                1.1,
                1.6,
                2.1,
                2.7,
                3.2,
                3.7,
                4.3,
                4.8,
                5.3
               ],
               [
                0,
                0.5,
                1.1,
                1.6,
                2.1,
                2.7,
                3.2,
                3.7,
                4.3,
                4.8,
                5.3
               ],
               [
                0.426,
                0.42200000000000004,
                0.418,
                0.414,
                0.41,
                0.406,
                0.402,
                0.39899999999999997,
                0.395,
                0.391,
                0.38799999999999996
               ],
               [
                0.426,
                0.42200000000000004,
                0.418,
                0.414,
                0.41,
                0.406,
                0.40299999999999997,
                0.39899999999999997,
                0.395,
                0.391,
                0.38799999999999996
               ],
               [
                0.426,
                0.42200000000000004,
                0.419,
                0.41600000000000004,
                0.413,
                0.41,
                0.40700000000000003,
                0.40399999999999997,
                0.401,
                0.39799999999999996,
                0.396
               ]
              ]
             },
             {
              "annotations[0].text": "Revenue neutral tax rates in Michigan",
              "annotations[1].text": "Gini index in Michigan"
             }
            ],
            "label": "Michigan",
            "method": "update"
           },
           {
            "args": [
             {
              "y": [
               [
                0,
                0.5,
                1,
                1.5,
                2,
                2.5,
                2.9,
                3.4,
                3.9,
                4.4,
                4.9
               ],
               [
                0,
                0.5,
                1.1,
                1.6,
                2.1,
                2.7,
                3.2,
                3.7,
                4.3,
                4.8,
                5.3
               ],
               [
                0.39299999999999996,
                0.389,
                0.385,
                0.381,
                0.37799999999999995,
                0.374,
                0.37,
                0.36700000000000005,
                0.363,
                0.359,
                0.35600000000000004
               ],
               [
                0.39299999999999996,
                0.389,
                0.385,
                0.381,
                0.37799999999999995,
                0.374,
                0.371,
                0.36700000000000005,
                0.363,
                0.36,
                0.35700000000000004
               ],
               [
                0.39299999999999996,
                0.389,
                0.386,
                0.38299999999999995,
                0.38,
                0.377,
                0.374,
                0.37200000000000005,
                0.369,
                0.366,
                0.364
               ]
              ]
             },
             {
              "annotations[0].text": "Revenue neutral tax rates in Minnesota",
              "annotations[1].text": "Gini index in Minnesota"
             }
            ],
            "label": "Minnesota",
            "method": "update"
           },
           {
            "args": [
             {
              "y": [
               [
                0,
                1,
                1.9,
                2.9,
                3.8,
                4.8,
                5.7,
                6.7,
                7.6,
                8.6,
                9.6
               ],
               [
                0,
                0.5,
                1.1,
                1.6,
                2.1,
                2.7,
                3.2,
                3.7,
                4.3,
                4.8,
                5.3
               ],
               [
                0.439,
                0.433,
                0.428,
                0.42200000000000004,
                0.41700000000000004,
                0.41200000000000003,
                0.406,
                0.401,
                0.396,
                0.391,
                0.387
               ],
               [
                0.439,
                0.433,
                0.42700000000000005,
                0.42,
                0.414,
                0.408,
                0.402,
                0.396,
                0.39,
                0.384,
                0.37799999999999995
               ],
               [
                0.439,
                0.434,
                0.43,
                0.425,
                0.42,
                0.41600000000000004,
                0.41200000000000003,
                0.408,
                0.40399999999999997,
                0.4,
                0.396
               ]
              ]
             },
             {
              "annotations[0].text": "Revenue neutral tax rates in Mississippi",
              "annotations[1].text": "Gini index in Mississippi"
             }
            ],
            "label": "Mississippi",
            "method": "update"
           },
           {
            "args": [
             {
              "y": [
               [
                0,
                0.6,
                1.2,
                1.8,
                2.3,
                2.9,
                3.5,
                4.1,
                4.7,
                5.3,
                5.8
               ],
               [
                0,
                0.5,
                1.1,
                1.6,
                2.1,
                2.7,
                3.2,
                3.7,
                4.3,
                4.8,
                5.3
               ],
               [
                0.425,
                0.42100000000000004,
                0.41600000000000004,
                0.41200000000000003,
                0.408,
                0.40399999999999997,
                0.4,
                0.396,
                0.392,
                0.38799999999999996,
                0.384
               ],
               [
                0.425,
                0.42,
                0.41600000000000004,
                0.41200000000000003,
                0.408,
                0.40299999999999997,
                0.39899999999999997,
                0.395,
                0.391,
                0.387,
                0.38299999999999995
               ],
               [
                0.425,
                0.42100000000000004,
                0.418,
                0.414,
                0.41100000000000003,
                0.40700000000000003,
                0.40399999999999997,
                0.401,
                0.39799999999999996,
                0.39399999999999996,
                0.391
               ]
              ]
             },
             {
              "annotations[0].text": "Revenue neutral tax rates in Missouri",
              "annotations[1].text": "Gini index in Missouri"
             }
            ],
            "label": "Missouri",
            "method": "update"
           },
           {
            "args": [
             {
              "y": [
               [
                0,
                0.6,
                1.2,
                1.8,
                2.4,
                3,
                3.6,
                4.2,
                4.8,
                5.4,
                6
               ],
               [
                0,
                0.5,
                1.1,
                1.6,
                2.1,
                2.7,
                3.2,
                3.7,
                4.3,
                4.8,
                5.3
               ],
               [
                0.41200000000000003,
                0.408,
                0.40399999999999997,
                0.39899999999999997,
                0.395,
                0.391,
                0.387,
                0.38299999999999995,
                0.379,
                0.375,
                0.37200000000000005
               ],
               [
                0.41200000000000003,
                0.408,
                0.40299999999999997,
                0.39899999999999997,
                0.395,
                0.391,
                0.387,
                0.382,
                0.37799999999999995,
                0.374,
                0.37
               ],
               [
                0.41200000000000003,
                0.408,
                0.405,
                0.401,
                0.39799999999999996,
                0.395,
                0.392,
                0.389,
                0.386,
                0.38299999999999995,
                0.38
               ]
              ]
             },
             {
              "annotations[0].text": "Revenue neutral tax rates in Montana",
              "annotations[1].text": "Gini index in Montana"
             }
            ],
            "label": "Montana",
            "method": "update"
           },
           {
            "args": [
             {
              "y": [
               [
                0,
                0.6,
                1.3,
                1.9,
                2.6,
                3.2,
                3.8,
                4.5,
                5.1,
                5.7,
                6.4
               ],
               [
                0,
                0.5,
                1.1,
                1.6,
                2.1,
                2.7,
                3.2,
                3.7,
                4.3,
                4.8,
                5.3
               ],
               [
                0.42,
                0.415,
                0.41100000000000003,
                0.406,
                0.402,
                0.397,
                0.39299999999999996,
                0.38799999999999996,
                0.384,
                0.38,
                0.376
               ],
               [
                0.42,
                0.415,
                0.41100000000000003,
                0.406,
                0.401,
                0.397,
                0.392,
                0.387,
                0.38299999999999995,
                0.37799999999999995,
                0.374
               ],
               [
                0.42,
                0.41600000000000004,
                0.41200000000000003,
                0.408,
                0.40399999999999997,
                0.401,
                0.397,
                0.39399999999999996,
                0.39,
                0.387,
                0.38299999999999995
               ]
              ]
             },
             {
              "annotations[0].text": "Revenue neutral tax rates in Nebraska",
              "annotations[1].text": "Gini index in Nebraska"
             }
            ],
            "label": "Nebraska",
            "method": "update"
           },
           {
            "args": [
             {
              "y": [
               [
                0,
                0.6,
                1.2,
                1.8,
                2.4,
                3,
                3.6,
                4.2,
                4.7,
                5.3,
                5.9
               ],
               [
                0,
                0.5,
                1.1,
                1.6,
                2.1,
                2.7,
                3.2,
                3.7,
                4.3,
                4.8,
                5.3
               ],
               [
                0.456,
                0.452,
                0.447,
                0.44299999999999995,
                0.439,
                0.435,
                0.431,
                0.42700000000000005,
                0.423,
                0.419,
                0.415
               ],
               [
                0.456,
                0.451,
                0.447,
                0.44299999999999995,
                0.439,
                0.434,
                0.43,
                0.426,
                0.42200000000000004,
                0.418,
                0.414
               ],
               [
                0.456,
                0.452,
                0.449,
                0.445,
                0.442,
                0.43799999999999994,
                0.435,
                0.43200000000000005,
                0.429,
                0.426,
                0.423
               ]
              ]
             },
             {
              "annotations[0].text": "Revenue neutral tax rates in Nevada",
              "annotations[1].text": "Gini index in Nevada"
             }
            ],
            "label": "Nevada",
            "method": "update"
           },
           {
            "args": [
             {
              "y": [
               [
                0,
                0.4,
                0.7,
                1.1,
                1.5,
                1.9,
                2.2,
                2.6,
                3,
                3.4,
                3.7
               ],
               [
                0,
                0.5,
                1.1,
                1.6,
                2.1,
                2.7,
                3.2,
                3.7,
                4.3,
                4.8,
                5.3
               ],
               [
                0.396,
                0.39299999999999996,
                0.39,
                0.387,
                0.385,
                0.382,
                0.379,
                0.376,
                0.373,
                0.371,
                0.368
               ],
               [
                0.396,
                0.39299999999999996,
                0.391,
                0.38799999999999996,
                0.385,
                0.38299999999999995,
                0.38,
                0.37799999999999995,
                0.375,
                0.373,
                0.37
               ],
               [
                0.396,
                0.39399999999999996,
                0.392,
                0.389,
                0.387,
                0.385,
                0.38299999999999995,
                0.381,
                0.379,
                0.377,
                0.375
               ]
              ]
             },
             {
              "annotations[0].text": "Revenue neutral tax rates in New Hampshire",
              "annotations[1].text": "Gini index in New Hampshire"
             }
            ],
            "label": "New Hampshire",
            "method": "update"
           },
           {
            "args": [
             {
              "y": [
               [
                0,
                0.4,
                0.9,
                1.3,
                1.7,
                2.1,
                2.6,
                3,
                3.4,
                3.9,
                4.3
               ],
               [
                0,
                0.5,
                1.1,
                1.6,
                2.1,
                2.7,
                3.2,
                3.7,
                4.3,
                4.8,
                5.3
               ],
               [
                0.429,
                0.426,
                0.423,
                0.419,
                0.41600000000000004,
                0.413,
                0.41,
                0.40700000000000003,
                0.40399999999999997,
                0.4,
                0.397
               ],
               [
                0.429,
                0.426,
                0.423,
                0.42,
                0.41700000000000004,
                0.414,
                0.41100000000000003,
                0.408,
                0.405,
                0.402,
                0.39899999999999997
               ],
               [
                0.429,
                0.42700000000000005,
                0.424,
                0.42200000000000004,
                0.419,
                0.41700000000000004,
                0.415,
                0.41200000000000003,
                0.41,
                0.408,
                0.406
               ]
              ]
             },
             {
              "annotations[0].text": "Revenue neutral tax rates in New Jersey",
              "annotations[1].text": "Gini index in New Jersey"
             }
            ],
            "label": "New Jersey",
            "method": "update"
           },
           {
            "args": [
             {
              "y": [
               [
                0,
                0.7,
                1.5,
                2.2,
                2.9,
                3.7,
                4.4,
                5.2,
                5.9,
                6.6,
                7.4
               ],
               [
                0,
                0.5,
                1.1,
                1.6,
                2.1,
                2.7,
                3.2,
                3.7,
                4.3,
                4.8,
                5.3
               ],
               [
                0.45799999999999996,
                0.45299999999999996,
                0.44799999999999995,
                0.44299999999999995,
                0.43799999999999994,
                0.433,
                0.428,
                0.423,
                0.418,
                0.414,
                0.409
               ],
               [
                0.45799999999999996,
                0.45299999999999996,
                0.447,
                0.442,
                0.436,
                0.431,
                0.426,
                0.42,
                0.415,
                0.41,
                0.405
               ],
               [
                0.45799999999999996,
                0.45399999999999996,
                0.45,
                0.446,
                0.442,
                0.43799999999999994,
                0.434,
                0.43,
                0.42700000000000005,
                0.423,
                0.42
               ]
              ]
             },
             {
              "annotations[0].text": "Revenue neutral tax rates in New Mexico",
              "annotations[1].text": "Gini index in New Mexico"
             }
            ],
            "label": "New Mexico",
            "method": "update"
           },
           {
            "args": [
             {
              "y": [
               [
                0,
                0.4,
                0.9,
                1.3,
                1.7,
                2.1,
                2.6,
                3,
                3.4,
                3.9,
                4.3
               ],
               [
                0,
                0.5,
                1.1,
                1.6,
                2.1,
                2.7,
                3.2,
                3.7,
                4.3,
                4.8,
                5.3
               ],
               [
                0.46399999999999997,
                0.46,
                0.457,
                0.45299999999999996,
                0.449,
                0.445,
                0.442,
                0.43799999999999994,
                0.435,
                0.431,
                0.42700000000000005
               ],
               [
                0.46399999999999997,
                0.46,
                0.457,
                0.45299999999999996,
                0.45,
                0.446,
                0.44299999999999995,
                0.439,
                0.436,
                0.433,
                0.429
               ],
               [
                0.46399999999999997,
                0.461,
                0.45799999999999996,
                0.455,
                0.45299999999999996,
                0.45,
                0.447,
                0.445,
                0.442,
                0.439,
                0.43700000000000006
               ]
              ]
             },
             {
              "annotations[0].text": "Revenue neutral tax rates in New York",
              "annotations[1].text": "Gini index in New York"
             }
            ],
            "label": "New York",
            "method": "update"
           },
           {
            "args": [
             {
              "y": [
               [
                0,
                0.6,
                1.2,
                1.8,
                2.4,
                3,
                3.6,
                4.2,
                4.8,
                5.4,
                5.9
               ],
               [
                0,
                0.5,
                1.1,
                1.6,
                2.1,
                2.7,
                3.2,
                3.7,
                4.3,
                4.8,
                5.3
               ],
               [
                0.449,
                0.445,
                0.44,
                0.436,
                0.43200000000000005,
                0.42700000000000005,
                0.423,
                0.419,
                0.415,
                0.41100000000000003,
                0.40700000000000003
               ],
               [
                0.449,
                0.445,
                0.44,
                0.436,
                0.431,
                0.42700000000000005,
                0.423,
                0.418,
                0.414,
                0.41,
                0.406
               ],
               [
                0.449,
                0.445,
                0.442,
                0.43799999999999994,
                0.435,
                0.431,
                0.428,
                0.425,
                0.42200000000000004,
                0.419,
                0.41600000000000004
               ]
              ]
             },
             {
              "annotations[0].text": "Revenue neutral tax rates in North Carolina",
              "annotations[1].text": "Gini index in North Carolina"
             }
            ],
            "label": "North Carolina",
            "method": "update"
           },
           {
            "args": [
             {
              "y": [
               [
                0,
                0.6,
                1.2,
                1.7,
                2.3,
                2.9,
                3.5,
                4.1,
                4.6,
                5.2,
                5.8
               ],
               [
                0,
                0.5,
                1.1,
                1.6,
                2.1,
                2.7,
                3.2,
                3.7,
                4.3,
                4.8,
                5.3
               ],
               [
                0.41700000000000004,
                0.413,
                0.409,
                0.405,
                0.401,
                0.397,
                0.39299999999999996,
                0.389,
                0.385,
                0.382,
                0.37799999999999995
               ],
               [
                0.41700000000000004,
                0.413,
                0.409,
                0.405,
                0.401,
                0.397,
                0.39299999999999996,
                0.389,
                0.385,
                0.381,
                0.377
               ],
               [
                0.41700000000000004,
                0.414,
                0.41,
                0.40700000000000003,
                0.40399999999999997,
                0.4,
                0.397,
                0.39399999999999996,
                0.391,
                0.38799999999999996,
                0.385
               ]
              ]
             },
             {
              "annotations[0].text": "Revenue neutral tax rates in North Dakota",
              "annotations[1].text": "Gini index in North Dakota"
             }
            ],
            "label": "North Dakota",
            "method": "update"
           },
           {
            "args": [
             {
              "y": [
               [
                0,
                0.6,
                1.1,
                1.7,
                2.3,
                2.9,
                3.4,
                4,
                4.6,
                5.2,
                5.7
               ],
               [
                0,
                0.5,
                1.1,
                1.6,
                2.1,
                2.7,
                3.2,
                3.7,
                4.3,
                4.8,
                5.3
               ],
               [
                0.426,
                0.42200000000000004,
                0.41700000000000004,
                0.413,
                0.409,
                0.405,
                0.401,
                0.397,
                0.39299999999999996,
                0.389,
                0.385
               ],
               [
                0.426,
                0.42200000000000004,
                0.41700000000000004,
                0.413,
                0.409,
                0.405,
                0.401,
                0.397,
                0.39299999999999996,
                0.389,
                0.385
               ],
               [
                0.426,
                0.42200000000000004,
                0.419,
                0.41600000000000004,
                0.41200000000000003,
                0.409,
                0.406,
                0.40299999999999997,
                0.4,
                0.397,
                0.39399999999999996
               ]
              ]
             },
             {
              "annotations[0].text": "Revenue neutral tax rates in Ohio",
              "annotations[1].text": "Gini index in Ohio"
             }
            ],
            "label": "Ohio",
            "method": "update"
           },
           {
            "args": [
             {
              "y": [
               [
                0,
                0.7,
                1.5,
                2.2,
                2.9,
                3.7,
                4.4,
                5.1,
                5.9,
                6.6,
                7.3
               ],
               [
                0,
                0.5,
                1.1,
                1.6,
                2.1,
                2.7,
                3.2,
                3.7,
                4.3,
                4.8,
                5.3
               ],
               [
                0.431,
                0.426,
                0.42100000000000004,
                0.41600000000000004,
                0.41100000000000003,
                0.406,
                0.402,
                0.397,
                0.39299999999999996,
                0.38799999999999996,
                0.384
               ],
               [
                0.431,
                0.426,
                0.42,
                0.415,
                0.41,
                0.405,
                0.4,
                0.395,
                0.39,
                0.385,
                0.38
               ],
               [
                0.431,
                0.42700000000000005,
                0.42200000000000004,
                0.418,
                0.414,
                0.41,
                0.40700000000000003,
                0.40299999999999997,
                0.39899999999999997,
                0.396,
                0.392
               ]
              ]
             },
             {
              "annotations[0].text": "Revenue neutral tax rates in Oklahoma",
              "annotations[1].text": "Gini index in Oklahoma"
             }
            ],
            "label": "Oklahoma",
            "method": "update"
           },
           {
            "args": [
             {
              "y": [
               [
                0,
                0.5,
                0.9,
                1.4,
                1.9,
                2.3,
                2.8,
                3.3,
                3.7,
                4.2,
                4.7
               ],
               [
                0,
                0.5,
                1.1,
                1.6,
                2.1,
                2.7,
                3.2,
                3.7,
                4.3,
                4.8,
                5.3
               ],
               [
                0.43700000000000006,
                0.433,
                0.429,
                0.426,
                0.42200000000000004,
                0.418,
                0.414,
                0.41,
                0.40700000000000003,
                0.40299999999999997,
                0.39899999999999997
               ],
               [
                0.43700000000000006,
                0.433,
                0.43,
                0.426,
                0.42200000000000004,
                0.418,
                0.415,
                0.41100000000000003,
                0.408,
                0.40399999999999997,
                0.401
               ],
               [
                0.43700000000000006,
                0.434,
                0.431,
                0.428,
                0.425,
                0.42200000000000004,
                0.419,
                0.41600000000000004,
                0.413,
                0.41,
                0.408
               ]
              ]
             },
             {
              "annotations[0].text": "Revenue neutral tax rates in Oregon",
              "annotations[1].text": "Gini index in Oregon"
             }
            ],
            "label": "Oregon",
            "method": "update"
           },
           {
            "args": [
             {
              "y": [
               [
                0,
                0.5,
                0.9,
                1.4,
                1.9,
                2.3,
                2.8,
                3.3,
                3.7,
                4.2,
                4.7
               ],
               [
                0,
                0.5,
                1.1,
                1.6,
                2.1,
                2.7,
                3.2,
                3.7,
                4.3,
                4.8,
                5.3
               ],
               [
                0.44299999999999995,
                0.44,
                0.436,
                0.43200000000000005,
                0.428,
                0.425,
                0.42100000000000004,
                0.41700000000000004,
                0.414,
                0.41,
                0.406
               ],
               [
                0.44299999999999995,
                0.44,
                0.436,
                0.43200000000000005,
                0.429,
                0.425,
                0.42200000000000004,
                0.418,
                0.414,
                0.41100000000000003,
                0.408
               ],
               [
                0.44299999999999995,
                0.44,
                0.43700000000000006,
                0.434,
                0.431,
                0.428,
                0.426,
                0.423,
                0.42,
                0.41700000000000004,
                0.415
               ]
              ]
             },
             {
              "annotations[0].text": "Revenue neutral tax rates in Pennsylvania",
              "annotations[1].text": "Gini index in Pennsylvania"
             }
            ],
            "label": "Pennsylvania",
            "method": "update"
           },
           {
            "args": [
             {
              "y": [
               [
                0,
                0.4,
                0.8,
                1.2,
                1.7,
                2.1,
                2.5,
                2.9,
                3.3,
                3.7,
                4.1
               ],
               [
                0,
                0.5,
                1.1,
                1.6,
                2.1,
                2.7,
                3.2,
                3.7,
                4.3,
                4.8,
                5.3
               ],
               [
                0.419,
                0.41600000000000004,
                0.41200000000000003,
                0.409,
                0.405,
                0.402,
                0.39799999999999996,
                0.395,
                0.391,
                0.38799999999999996,
                0.385
               ],
               [
                0.419,
                0.41600000000000004,
                0.413,
                0.409,
                0.406,
                0.40299999999999997,
                0.39899999999999997,
                0.396,
                0.39299999999999996,
                0.39,
                0.387
               ],
               [
                0.419,
                0.41700000000000004,
                0.414,
                0.41100000000000003,
                0.408,
                0.406,
                0.40299999999999997,
                0.401,
                0.39799999999999996,
                0.396,
                0.39399999999999996
               ]
              ]
             },
             {
              "annotations[0].text": "Revenue neutral tax rates in Rhode Island",
              "annotations[1].text": "Gini index in Rhode Island"
             }
            ],
            "label": "Rhode Island",
            "method": "update"
           },
           {
            "args": [
             {
              "y": [
               [
                0,
                0.6,
                1.2,
                1.8,
                2.3,
                2.9,
                3.5,
                4.1,
                4.7,
                5.3,
                5.8
               ],
               [
                0,
                0.5,
                1.1,
                1.6,
                2.1,
                2.7,
                3.2,
                3.7,
                4.3,
                4.8,
                5.3
               ],
               [
                0.452,
                0.447,
                0.44299999999999995,
                0.43799999999999994,
                0.434,
                0.43,
                0.426,
                0.42100000000000004,
                0.41700000000000004,
                0.413,
                0.409
               ],
               [
                0.452,
                0.447,
                0.44299999999999995,
                0.43799999999999994,
                0.434,
                0.429,
                0.425,
                0.42100000000000004,
                0.41700000000000004,
                0.41200000000000003,
                0.408
               ],
               [
                0.452,
                0.44799999999999995,
                0.444,
                0.441,
                0.43700000000000006,
                0.434,
                0.431,
                0.42700000000000005,
                0.424,
                0.42100000000000004,
                0.418
               ]
              ]
             },
             {
              "annotations[0].text": "Revenue neutral tax rates in South Carolina",
              "annotations[1].text": "Gini index in South Carolina"
             }
            ],
            "label": "South Carolina",
            "method": "update"
           },
           {
            "args": [
             {
              "y": [
               [
                0,
                0.7,
                1.3,
                2,
                2.6,
                3.3,
                3.9,
                4.6,
                5.2,
                5.9,
                6.5
               ],
               [
                0,
                0.5,
                1.1,
                1.6,
                2.1,
                2.7,
                3.2,
                3.7,
                4.3,
                4.8,
                5.3
               ],
               [
                0.43799999999999994,
                0.434,
                0.429,
                0.425,
                0.42,
                0.41600000000000004,
                0.41100000000000003,
                0.40700000000000003,
                0.40299999999999997,
                0.39799999999999996,
                0.39399999999999996
               ],
               [
                0.43799999999999994,
                0.434,
                0.429,
                0.424,
                0.42,
                0.415,
                0.41,
                0.406,
                0.401,
                0.397,
                0.392
               ],
               [
                0.43799999999999994,
                0.434,
                0.43,
                0.426,
                0.423,
                0.419,
                0.415,
                0.41200000000000003,
                0.408,
                0.405,
                0.402
               ]
              ]
             },
             {
              "annotations[0].text": "Revenue neutral tax rates in South Dakota",
              "annotations[1].text": "Gini index in South Dakota"
             }
            ],
            "label": "South Dakota",
            "method": "update"
           },
           {
            "args": [
             {
              "y": [
               [
                0,
                0.6,
                1.2,
                1.8,
                2.4,
                3,
                3.6,
                4.2,
                4.8,
                5.4,
                6
               ],
               [
                0,
                0.5,
                1.1,
                1.6,
                2.1,
                2.7,
                3.2,
                3.7,
                4.3,
                4.8,
                5.3
               ],
               [
                0.452,
                0.44799999999999995,
                0.444,
                0.439,
                0.435,
                0.431,
                0.42700000000000005,
                0.423,
                0.419,
                0.415,
                0.41100000000000003
               ],
               [
                0.452,
                0.44799999999999995,
                0.44299999999999995,
                0.439,
                0.435,
                0.431,
                0.426,
                0.42200000000000004,
                0.418,
                0.414,
                0.41
               ],
               [
                0.452,
                0.449,
                0.445,
                0.442,
                0.439,
                0.435,
                0.43200000000000005,
                0.429,
                0.426,
                0.423,
                0.42
               ]
              ]
             },
             {
              "annotations[0].text": "Revenue neutral tax rates in Tennessee",
              "annotations[1].text": "Gini index in Tennessee"
             }
            ],
            "label": "Tennessee",
            "method": "update"
           },
           {
            "args": [
             {
              "y": [
               [
                0,
                0.7,
                1.4,
                2,
                2.7,
                3.4,
                4.1,
                4.8,
                5.4,
                6.1,
                6.8
               ],
               [
                0,
                0.5,
                1.1,
                1.6,
                2.1,
                2.7,
                3.2,
                3.7,
                4.3,
                4.8,
                5.3
               ],
               [
                0.467,
                0.462,
                0.457,
                0.452,
                0.44799999999999995,
                0.44299999999999995,
                0.439,
                0.434,
                0.43,
                0.425,
                0.42100000000000004
               ],
               [
                0.467,
                0.462,
                0.457,
                0.452,
                0.447,
                0.442,
                0.43700000000000006,
                0.43200000000000005,
                0.428,
                0.423,
                0.418
               ],
               [
                0.467,
                0.462,
                0.45799999999999996,
                0.455,
                0.451,
                0.447,
                0.44299999999999995,
                0.44,
                0.436,
                0.433,
                0.43
               ]
              ]
             },
             {
              "annotations[0].text": "Revenue neutral tax rates in Texas",
              "annotations[1].text": "Gini index in Texas"
             }
            ],
            "label": "Texas",
            "method": "update"
           },
           {
            "args": [
             {
              "y": [
               [
                0,
                0.7,
                1.5,
                2.2,
                3,
                3.7,
                4.5,
                5.2,
                6,
                6.7,
                7.5
               ],
               [
                0,
                0.5,
                1.1,
                1.6,
                2.1,
                2.7,
                3.2,
                3.7,
                4.3,
                4.8,
                5.3
               ],
               [
                0.42100000000000004,
                0.41600000000000004,
                0.41100000000000003,
                0.406,
                0.4,
                0.395,
                0.39,
                0.385,
                0.38,
                0.376,
                0.371
               ],
               [
                0.42100000000000004,
                0.41600000000000004,
                0.41,
                0.405,
                0.39899999999999997,
                0.39399999999999996,
                0.38799999999999996,
                0.38299999999999995,
                0.37799999999999995,
                0.37200000000000005,
                0.36700000000000005
               ],
               [
                0.42100000000000004,
                0.41700000000000004,
                0.41200000000000003,
                0.408,
                0.40299999999999997,
                0.39899999999999997,
                0.395,
                0.391,
                0.387,
                0.38299999999999995,
                0.379
               ]
              ]
             },
             {
              "annotations[0].text": "Revenue neutral tax rates in Utah",
              "annotations[1].text": "Gini index in Utah"
             }
            ],
            "label": "Utah",
            "method": "update"
           },
           {
            "args": [
             {
              "y": [
               [
                0,
                0.4,
                0.9,
                1.3,
                1.7,
                2.2,
                2.6,
                3,
                3.5,
                3.9,
                4.3
               ],
               [
                0,
                0.5,
                1.1,
                1.6,
                2.1,
                2.7,
                3.2,
                3.7,
                4.3,
                4.8,
                5.3
               ],
               [
                0.408,
                0.405,
                0.401,
                0.39799999999999996,
                0.395,
                0.391,
                0.38799999999999996,
                0.385,
                0.382,
                0.37799999999999995,
                0.375
               ],
               [
                0.408,
                0.405,
                0.402,
                0.39799999999999996,
                0.395,
                0.392,
                0.389,
                0.386,
                0.38299999999999995,
                0.38,
                0.377
               ],
               [
                0.408,
                0.405,
                0.40299999999999997,
                0.4,
                0.39799999999999996,
                0.395,
                0.39299999999999996,
                0.39,
                0.38799999999999996,
                0.385,
                0.38299999999999995
               ]
              ]
             },
             {
              "annotations[0].text": "Revenue neutral tax rates in Vermont",
              "annotations[1].text": "Gini index in Vermont"
             }
            ],
            "label": "Vermont",
            "method": "update"
           },
           {
            "args": [
             {
              "y": [
               [
                0,
                0.4,
                0.9,
                1.3,
                1.7,
                2.2,
                2.6,
                3,
                3.5,
                3.9,
                4.3
               ],
               [
                0,
                0.5,
                1.1,
                1.6,
                2.1,
                2.7,
                3.2,
                3.7,
                4.3,
                4.8,
                5.3
               ],
               [
                0.445,
                0.441,
                0.43799999999999994,
                0.434,
                0.43,
                0.42700000000000005,
                0.423,
                0.42,
                0.41600000000000004,
                0.413,
                0.409
               ],
               [
                0.445,
                0.442,
                0.43799999999999994,
                0.434,
                0.431,
                0.428,
                0.424,
                0.42100000000000004,
                0.41700000000000004,
                0.414,
                0.41100000000000003
               ],
               [
                0.445,
                0.442,
                0.439,
                0.436,
                0.433,
                0.431,
                0.428,
                0.425,
                0.423,
                0.42,
                0.418
               ]
              ]
             },
             {
              "annotations[0].text": "Revenue neutral tax rates in Virginia",
              "annotations[1].text": "Gini index in Virginia"
             }
            ],
            "label": "Virginia",
            "method": "update"
           },
           {
            "args": [
             {
              "y": [
               [
                0,
                0.4,
                0.9,
                1.3,
                1.8,
                2.2,
                2.6,
                3.1,
                3.5,
                4,
                4.4
               ],
               [
                0,
                0.5,
                1.1,
                1.6,
                2.1,
                2.7,
                3.2,
                3.7,
                4.3,
                4.8,
                5.3
               ],
               [
                0.433,
                0.43,
                0.42700000000000005,
                0.423,
                0.42,
                0.41700000000000004,
                0.413,
                0.41,
                0.40700000000000003,
                0.40399999999999997,
                0.4
               ],
               [
                0.433,
                0.43,
                0.42700000000000005,
                0.424,
                0.42,
                0.41700000000000004,
                0.414,
                0.41100000000000003,
                0.408,
                0.405,
                0.402
               ],
               [
                0.433,
                0.431,
                0.428,
                0.425,
                0.42200000000000004,
                0.42,
                0.41700000000000004,
                0.415,
                0.41200000000000003,
                0.41,
                0.40700000000000003
               ]
              ]
             },
             {
              "annotations[0].text": "Revenue neutral tax rates in Washington",
              "annotations[1].text": "Gini index in Washington"
             }
            ],
            "label": "Washington",
            "method": "update"
           },
           {
            "args": [
             {
              "y": [
               [
                0,
                0.7,
                1.4,
                2.1,
                2.8,
                3.5,
                4.3,
                5,
                5.7,
                6.4,
                7.1
               ],
               [
                0,
                0.5,
                1.1,
                1.6,
                2.1,
                2.7,
                3.2,
                3.7,
                4.3,
                4.8,
                5.3
               ],
               [
                0.41700000000000004,
                0.41200000000000003,
                0.408,
                0.40299999999999997,
                0.39899999999999997,
                0.395,
                0.39,
                0.386,
                0.382,
                0.37799999999999995,
                0.374
               ],
               [
                0.41700000000000004,
                0.41200000000000003,
                0.40700000000000003,
                0.402,
                0.39799999999999996,
                0.39299999999999996,
                0.389,
                0.384,
                0.38,
                0.375,
                0.371
               ],
               [
                0.41700000000000004,
                0.413,
                0.409,
                0.406,
                0.402,
                0.39899999999999997,
                0.396,
                0.39299999999999996,
                0.389,
                0.386,
                0.384
               ]
              ]
             },
             {
              "annotations[0].text": "Revenue neutral tax rates in West Virginia",
              "annotations[1].text": "Gini index in West Virginia"
             }
            ],
            "label": "West Virginia",
            "method": "update"
           },
           {
            "args": [
             {
              "y": [
               [
                0,
                0.6,
                1.1,
                1.7,
                2.3,
                2.8,
                3.4,
                4,
                4.5,
                5.1,
                5.7
               ],
               [
                0,
                0.5,
                1.1,
                1.6,
                2.1,
                2.7,
                3.2,
                3.7,
                4.3,
                4.8,
                5.3
               ],
               [
                0.39299999999999996,
                0.389,
                0.385,
                0.38,
                0.376,
                0.37200000000000005,
                0.368,
                0.364,
                0.36,
                0.35600000000000004,
                0.35200000000000004
               ],
               [
                0.39299999999999996,
                0.389,
                0.384,
                0.38,
                0.376,
                0.37200000000000005,
                0.368,
                0.364,
                0.36,
                0.35600000000000004,
                0.35200000000000004
               ],
               [
                0.39299999999999996,
                0.389,
                0.386,
                0.382,
                0.379,
                0.376,
                0.37200000000000005,
                0.369,
                0.366,
                0.363,
                0.36
               ]
              ]
             },
             {
              "annotations[0].text": "Revenue neutral tax rates in Wisconsin",
              "annotations[1].text": "Gini index in Wisconsin"
             }
            ],
            "label": "Wisconsin",
            "method": "update"
           },
           {
            "args": [
             {
              "y": [
               [
                0,
                0.6,
                1.3,
                1.9,
                2.5,
                3.1,
                3.8,
                4.4,
                5,
                5.6,
                6.3
               ],
               [
                0,
                0.5,
                1.1,
                1.6,
                2.1,
                2.7,
                3.2,
                3.7,
                4.3,
                4.8,
                5.3
               ],
               [
                0.43,
                0.426,
                0.42100000000000004,
                0.41700000000000004,
                0.41200000000000003,
                0.408,
                0.40399999999999997,
                0.39899999999999997,
                0.395,
                0.391,
                0.387
               ],
               [
                0.43,
                0.425,
                0.42100000000000004,
                0.41600000000000004,
                0.41200000000000003,
                0.40700000000000003,
                0.40299999999999997,
                0.39799999999999996,
                0.39399999999999996,
                0.39,
                0.385
               ],
               [
                0.43,
                0.426,
                0.42200000000000004,
                0.419,
                0.415,
                0.41100000000000003,
                0.408,
                0.40399999999999997,
                0.401,
                0.39799999999999996,
                0.39399999999999996
               ]
              ]
             },
             {
              "annotations[0].text": "Revenue neutral tax rates in Wyoming",
              "annotations[1].text": "Gini index in Wyoming"
             }
            ],
            "label": "Wyoming",
            "method": "update"
           },
           {
            "args": [
             {
              "y": [
               [
                0,
                0.2,
                0.5,
                0.7,
                0.9,
                1.2,
                1.4,
                1.6,
                1.9,
                2.1,
                2.3
               ],
               [
                0,
                0.5,
                1.1,
                1.6,
                2.1,
                2.7,
                3.2,
                3.7,
                4.3,
                4.8,
                5.3
               ],
               [
                0.475,
                0.47200000000000003,
                0.47,
                0.467,
                0.465,
                0.462,
                0.45899999999999996,
                0.457,
                0.45399999999999996,
                0.452,
                0.449
               ],
               [
                0.475,
                0.47200000000000003,
                0.47,
                0.46799999999999997,
                0.466,
                0.46399999999999997,
                0.462,
                0.46,
                0.45799999999999996,
                0.456,
                0.45399999999999996
               ],
               [
                0.475,
                0.473,
                0.47100000000000003,
                0.469,
                0.467,
                0.466,
                0.46399999999999997,
                0.462,
                0.46,
                0.45899999999999996,
                0.457
               ]
              ]
             },
             {
              "annotations[0].text": "Revenue neutral tax rates in District of Columbia",
              "annotations[1].text": "Gini index in District of Columbia"
             }
            ],
            "label": "District of Columbia",
            "method": "update"
           },
           {
            "args": [
             {
              "y": [
               [
                0,
                0.5,
                1.1,
                1.6,
                2.1,
                2.7,
                3.2,
                3.8,
                4.3,
                4.8,
                5.4
               ],
               [
                0,
                0.5,
                1.1,
                1.6,
                2.1,
                2.7,
                3.2,
                3.7,
                4.3,
                4.8,
                5.3
               ],
               [
                0.446,
                0.442,
                0.43799999999999994,
                0.434,
                0.43,
                0.426,
                0.42200000000000004,
                0.418,
                0.414,
                0.41,
                0.406
               ],
               [
                0.446,
                0.442,
                0.43799999999999994,
                0.434,
                0.43,
                0.426,
                0.42200000000000004,
                0.418,
                0.414,
                0.41100000000000003,
                0.40700000000000003
               ],
               [
                0.446,
                0.44299999999999995,
                0.439,
                0.436,
                0.433,
                0.43,
                0.42700000000000005,
                0.424,
                0.42100000000000004,
                0.418,
                0.415
               ]
              ]
             },
             {
              "annotations[0].text": "Revenue neutral tax rates in US",
              "annotations[1].text": "Gini index in US"
             }
            ],
            "label": "US",
            "method": "update"
           }
          ],
          "direction": "down",
          "pad": {
           "r": 50
          },
          "showactive": true
         }
        ],
        "xaxis": {
         "anchor": "y",
         "domain": [
          0,
          1
         ],
         "tickprefix": "$",
         "ticksuffix": "",
         "title": {
          "text": "Monthly child allowance"
         }
        },
        "xaxis2": {
         "anchor": "y2",
         "domain": [
          0,
          1
         ],
         "title": {
          "text": "Monthly child allowance"
         }
        },
        "yaxis": {
         "anchor": "x",
         "domain": [
          0.625,
          1
         ],
         "ticksuffix": "%",
         "title": {
          "text": "Tax rate on taxable income"
         }
        },
        "yaxis2": {
         "anchor": "x2",
         "domain": [
          0,
          0.375
         ],
         "title": {
          "text": "Gini index"
         }
        }
       }
      },
      "text/html": [
       "<div>\n",
       "        \n",
       "        \n",
       "            <div id=\"90075eb9-60b0-4119-a118-6b1a29c250f8\" class=\"plotly-graph-div\" style=\"height:600px; width:100%;\"></div>\n",
       "            <script type=\"text/javascript\">\n",
       "                require([\"plotly\"], function(Plotly) {\n",
       "                    window.PLOTLYENV=window.PLOTLYENV || {};\n",
       "                    \n",
       "                if (document.getElementById(\"90075eb9-60b0-4119-a118-6b1a29c250f8\")) {\n",
       "                    Plotly.newPlot(\n",
       "                        '90075eb9-60b0-4119-a118-6b1a29c250f8',\n",
       "                        [{\"mode\": \"markers+lines\", \"name\": \"State tax rate\", \"type\": \"scatter\", \"x\": [0, 50, 100, 150, 200, 250, 300, 350, 400, 450, 500], \"xaxis\": \"x\", \"y\": [0.0, 0.7, 1.3, 2.0, 2.6, 3.3, 4.0, 4.6, 5.3, 6.0, 6.6], \"yaxis\": \"y\"}, {\"mode\": \"markers+lines\", \"name\": \"Federal tax rate\", \"type\": \"scatter\", \"x\": [0, 50, 100, 150, 200, 250, 300, 350, 400, 450, 500], \"xaxis\": \"x\", \"y\": [0.0, 0.5, 1.1, 1.6, 2.1, 2.7, 3.2, 3.7, 4.3, 4.8, 5.3], \"yaxis\": \"y\"}, {\"mode\": \"markers+lines\", \"name\": \"Gini index - federal tax\", \"type\": \"scatter\", \"x\": [0, 50, 100, 150, 200, 250, 300, 350, 400, 450, 500], \"xaxis\": \"x2\", \"y\": [0.446, 0.442, 0.43700000000000006, 0.433, 0.428, 0.424, 0.419, 0.415, 0.41100000000000003, 0.40700000000000003, 0.40299999999999997], \"yaxis\": \"y2\"}, {\"mode\": \"markers+lines\", \"name\": \"Gini index - state tax\", \"type\": \"scatter\", \"x\": [0, 50, 100, 150, 200, 250, 300, 350, 400, 450, 500], \"xaxis\": \"x2\", \"y\": [0.446, 0.441, 0.43700000000000006, 0.43200000000000005, 0.42700000000000005, 0.423, 0.418, 0.414, 0.409, 0.405, 0.401], \"yaxis\": \"y2\"}, {\"mode\": \"markers+lines\", \"name\": \"Gini index - deficit funded\", \"type\": \"scatter\", \"x\": [0, 50, 100, 150, 200, 250, 300, 350, 400, 450, 500], \"xaxis\": \"x2\", \"y\": [0.446, 0.442, 0.439, 0.435, 0.43200000000000005, 0.428, 0.425, 0.42100000000000004, 0.418, 0.415, 0.41200000000000003], \"yaxis\": \"y2\"}],\n",
       "                        {\"annotations\": [{\"font\": {\"size\": 16}, \"showarrow\": false, \"text\": \"Revenue neutral tax rates in Alabama\", \"x\": 0.5, \"xanchor\": \"center\", \"xref\": \"paper\", \"y\": 1.0, \"yanchor\": \"bottom\", \"yref\": \"paper\"}, {\"font\": {\"size\": 16}, \"showarrow\": false, \"text\": \"Gini index inAlabama\", \"x\": 0.5, \"xanchor\": \"center\", \"xref\": \"paper\", \"y\": 0.375, \"yanchor\": \"bottom\", \"yref\": \"paper\"}], \"font\": {\"family\": \"Roboto\"}, \"height\": 600, \"hovermode\": \"x\", \"legend\": {\"title\": {\"text\": \"\"}}, \"margin\": {\"b\": 0, \"l\": 0, \"r\": 0, \"t\": 100}, \"plot_bgcolor\": \"white\", \"template\": {\"data\": {\"bar\": [{\"error_x\": {\"color\": \"#2a3f5f\"}, \"error_y\": {\"color\": \"#2a3f5f\"}, \"marker\": {\"line\": {\"color\": \"#E5ECF6\", \"width\": 0.5}}, \"type\": \"bar\"}], \"barpolar\": [{\"marker\": {\"line\": {\"color\": \"#E5ECF6\", \"width\": 0.5}}, \"type\": \"barpolar\"}], \"carpet\": [{\"aaxis\": {\"endlinecolor\": \"#2a3f5f\", \"gridcolor\": \"white\", \"linecolor\": \"white\", \"minorgridcolor\": \"white\", \"startlinecolor\": \"#2a3f5f\"}, \"baxis\": {\"endlinecolor\": \"#2a3f5f\", \"gridcolor\": \"white\", \"linecolor\": \"white\", \"minorgridcolor\": \"white\", \"startlinecolor\": \"#2a3f5f\"}, \"type\": \"carpet\"}], \"choropleth\": [{\"colorbar\": {\"outlinewidth\": 0, \"ticks\": \"\"}, \"type\": \"choropleth\"}], \"contour\": [{\"colorbar\": {\"outlinewidth\": 0, \"ticks\": \"\"}, \"colorscale\": [[0.0, \"#0d0887\"], [0.1111111111111111, \"#46039f\"], [0.2222222222222222, \"#7201a8\"], [0.3333333333333333, \"#9c179e\"], [0.4444444444444444, \"#bd3786\"], [0.5555555555555556, \"#d8576b\"], [0.6666666666666666, \"#ed7953\"], [0.7777777777777778, \"#fb9f3a\"], [0.8888888888888888, \"#fdca26\"], [1.0, \"#f0f921\"]], \"type\": \"contour\"}], \"contourcarpet\": [{\"colorbar\": {\"outlinewidth\": 0, \"ticks\": \"\"}, \"type\": \"contourcarpet\"}], \"heatmap\": [{\"colorbar\": {\"outlinewidth\": 0, \"ticks\": \"\"}, \"colorscale\": [[0.0, \"#0d0887\"], [0.1111111111111111, \"#46039f\"], [0.2222222222222222, \"#7201a8\"], [0.3333333333333333, \"#9c179e\"], [0.4444444444444444, \"#bd3786\"], [0.5555555555555556, \"#d8576b\"], [0.6666666666666666, \"#ed7953\"], [0.7777777777777778, \"#fb9f3a\"], [0.8888888888888888, \"#fdca26\"], [1.0, \"#f0f921\"]], \"type\": \"heatmap\"}], \"heatmapgl\": [{\"colorbar\": {\"outlinewidth\": 0, \"ticks\": \"\"}, \"colorscale\": [[0.0, \"#0d0887\"], [0.1111111111111111, \"#46039f\"], [0.2222222222222222, \"#7201a8\"], [0.3333333333333333, \"#9c179e\"], [0.4444444444444444, \"#bd3786\"], [0.5555555555555556, \"#d8576b\"], [0.6666666666666666, \"#ed7953\"], [0.7777777777777778, \"#fb9f3a\"], [0.8888888888888888, \"#fdca26\"], [1.0, \"#f0f921\"]], \"type\": \"heatmapgl\"}], \"histogram\": [{\"marker\": {\"colorbar\": {\"outlinewidth\": 0, \"ticks\": \"\"}}, \"type\": \"histogram\"}], \"histogram2d\": [{\"colorbar\": {\"outlinewidth\": 0, \"ticks\": \"\"}, \"colorscale\": [[0.0, \"#0d0887\"], [0.1111111111111111, \"#46039f\"], [0.2222222222222222, \"#7201a8\"], [0.3333333333333333, \"#9c179e\"], [0.4444444444444444, \"#bd3786\"], [0.5555555555555556, \"#d8576b\"], [0.6666666666666666, \"#ed7953\"], [0.7777777777777778, \"#fb9f3a\"], [0.8888888888888888, \"#fdca26\"], [1.0, \"#f0f921\"]], \"type\": \"histogram2d\"}], \"histogram2dcontour\": [{\"colorbar\": {\"outlinewidth\": 0, \"ticks\": \"\"}, \"colorscale\": [[0.0, \"#0d0887\"], [0.1111111111111111, \"#46039f\"], [0.2222222222222222, \"#7201a8\"], [0.3333333333333333, \"#9c179e\"], [0.4444444444444444, \"#bd3786\"], [0.5555555555555556, \"#d8576b\"], [0.6666666666666666, \"#ed7953\"], [0.7777777777777778, \"#fb9f3a\"], [0.8888888888888888, \"#fdca26\"], [1.0, \"#f0f921\"]], \"type\": \"histogram2dcontour\"}], \"mesh3d\": [{\"colorbar\": {\"outlinewidth\": 0, \"ticks\": \"\"}, \"type\": \"mesh3d\"}], \"parcoords\": [{\"line\": {\"colorbar\": {\"outlinewidth\": 0, \"ticks\": \"\"}}, \"type\": \"parcoords\"}], \"pie\": [{\"automargin\": true, \"type\": \"pie\"}], \"scatter\": [{\"marker\": {\"colorbar\": {\"outlinewidth\": 0, \"ticks\": \"\"}}, \"type\": \"scatter\"}], \"scatter3d\": [{\"line\": {\"colorbar\": {\"outlinewidth\": 0, \"ticks\": \"\"}}, \"marker\": {\"colorbar\": {\"outlinewidth\": 0, \"ticks\": \"\"}}, \"type\": \"scatter3d\"}], \"scattercarpet\": [{\"marker\": {\"colorbar\": {\"outlinewidth\": 0, \"ticks\": \"\"}}, \"type\": \"scattercarpet\"}], \"scattergeo\": [{\"marker\": {\"colorbar\": {\"outlinewidth\": 0, \"ticks\": \"\"}}, \"type\": \"scattergeo\"}], \"scattergl\": [{\"marker\": {\"colorbar\": {\"outlinewidth\": 0, \"ticks\": \"\"}}, \"type\": \"scattergl\"}], \"scattermapbox\": [{\"marker\": {\"colorbar\": {\"outlinewidth\": 0, \"ticks\": \"\"}}, \"type\": \"scattermapbox\"}], \"scatterpolar\": [{\"marker\": {\"colorbar\": {\"outlinewidth\": 0, \"ticks\": \"\"}}, \"type\": \"scatterpolar\"}], \"scatterpolargl\": [{\"marker\": {\"colorbar\": {\"outlinewidth\": 0, \"ticks\": \"\"}}, \"type\": \"scatterpolargl\"}], \"scatterternary\": [{\"marker\": {\"colorbar\": {\"outlinewidth\": 0, \"ticks\": \"\"}}, \"type\": \"scatterternary\"}], \"surface\": [{\"colorbar\": {\"outlinewidth\": 0, \"ticks\": \"\"}, \"colorscale\": [[0.0, \"#0d0887\"], [0.1111111111111111, \"#46039f\"], [0.2222222222222222, \"#7201a8\"], [0.3333333333333333, \"#9c179e\"], [0.4444444444444444, \"#bd3786\"], [0.5555555555555556, \"#d8576b\"], [0.6666666666666666, \"#ed7953\"], [0.7777777777777778, \"#fb9f3a\"], [0.8888888888888888, \"#fdca26\"], [1.0, \"#f0f921\"]], \"type\": \"surface\"}], \"table\": [{\"cells\": {\"fill\": {\"color\": \"#EBF0F8\"}, \"line\": {\"color\": \"white\"}}, \"header\": {\"fill\": {\"color\": \"#C8D4E3\"}, \"line\": {\"color\": \"white\"}}, \"type\": \"table\"}]}, \"layout\": {\"annotationdefaults\": {\"arrowcolor\": \"#2a3f5f\", \"arrowhead\": 0, \"arrowwidth\": 1}, \"coloraxis\": {\"colorbar\": {\"outlinewidth\": 0, \"ticks\": \"\"}}, \"colorscale\": {\"diverging\": [[0, \"#8e0152\"], [0.1, \"#c51b7d\"], [0.2, \"#de77ae\"], [0.3, \"#f1b6da\"], [0.4, \"#fde0ef\"], [0.5, \"#f7f7f7\"], [0.6, \"#e6f5d0\"], [0.7, \"#b8e186\"], [0.8, \"#7fbc41\"], [0.9, \"#4d9221\"], [1, \"#276419\"]], \"sequential\": [[0.0, \"#0d0887\"], [0.1111111111111111, \"#46039f\"], [0.2222222222222222, \"#7201a8\"], [0.3333333333333333, \"#9c179e\"], [0.4444444444444444, \"#bd3786\"], [0.5555555555555556, \"#d8576b\"], [0.6666666666666666, \"#ed7953\"], [0.7777777777777778, \"#fb9f3a\"], [0.8888888888888888, \"#fdca26\"], [1.0, \"#f0f921\"]], \"sequentialminus\": [[0.0, \"#0d0887\"], [0.1111111111111111, \"#46039f\"], [0.2222222222222222, \"#7201a8\"], [0.3333333333333333, \"#9c179e\"], [0.4444444444444444, \"#bd3786\"], [0.5555555555555556, \"#d8576b\"], [0.6666666666666666, \"#ed7953\"], [0.7777777777777778, \"#fb9f3a\"], [0.8888888888888888, \"#fdca26\"], [1.0, \"#f0f921\"]]}, \"colorway\": [\"#636efa\", \"#EF553B\", \"#00cc96\", \"#ab63fa\", \"#FFA15A\", \"#19d3f3\", \"#FF6692\", \"#B6E880\", \"#FF97FF\", \"#FECB52\"], \"font\": {\"color\": \"#2a3f5f\"}, \"geo\": {\"bgcolor\": \"white\", \"lakecolor\": \"white\", \"landcolor\": \"#E5ECF6\", \"showlakes\": true, \"showland\": true, \"subunitcolor\": \"white\"}, \"hoverlabel\": {\"align\": \"left\"}, \"hovermode\": \"closest\", \"mapbox\": {\"style\": \"light\"}, \"paper_bgcolor\": \"white\", \"plot_bgcolor\": \"#E5ECF6\", \"polar\": {\"angularaxis\": {\"gridcolor\": \"white\", \"linecolor\": \"white\", \"ticks\": \"\"}, \"bgcolor\": \"#E5ECF6\", \"radialaxis\": {\"gridcolor\": \"white\", \"linecolor\": \"white\", \"ticks\": \"\"}}, \"scene\": {\"xaxis\": {\"backgroundcolor\": \"#E5ECF6\", \"gridcolor\": \"white\", \"gridwidth\": 2, \"linecolor\": \"white\", \"showbackground\": true, \"ticks\": \"\", \"zerolinecolor\": \"white\"}, \"yaxis\": {\"backgroundcolor\": \"#E5ECF6\", \"gridcolor\": \"white\", \"gridwidth\": 2, \"linecolor\": \"white\", \"showbackground\": true, \"ticks\": \"\", \"zerolinecolor\": \"white\"}, \"zaxis\": {\"backgroundcolor\": \"#E5ECF6\", \"gridcolor\": \"white\", \"gridwidth\": 2, \"linecolor\": \"white\", \"showbackground\": true, \"ticks\": \"\", \"zerolinecolor\": \"white\"}}, \"shapedefaults\": {\"line\": {\"color\": \"#2a3f5f\"}}, \"ternary\": {\"aaxis\": {\"gridcolor\": \"white\", \"linecolor\": \"white\", \"ticks\": \"\"}, \"baxis\": {\"gridcolor\": \"white\", \"linecolor\": \"white\", \"ticks\": \"\"}, \"bgcolor\": \"#E5ECF6\", \"caxis\": {\"gridcolor\": \"white\", \"linecolor\": \"white\", \"ticks\": \"\"}}, \"title\": {\"x\": 0.05}, \"xaxis\": {\"automargin\": true, \"gridcolor\": \"white\", \"linecolor\": \"white\", \"ticks\": \"\", \"title\": {\"standoff\": 15}, \"zerolinecolor\": \"white\", \"zerolinewidth\": 2}, \"yaxis\": {\"automargin\": true, \"gridcolor\": \"white\", \"linecolor\": \"white\", \"ticks\": \"\", \"title\": {\"standoff\": 15}, \"zerolinecolor\": \"white\", \"zerolinewidth\": 2}}}, \"title\": {\"text\": \"Tax reform and Gini index\"}, \"updatemenus\": [{\"buttons\": [{\"args\": [{\"y\": [[0.0, 0.7, 1.3, 2.0, 2.6, 3.3, 4.0, 4.6, 5.3, 6.0, 6.6], [0.0, 0.5, 1.1, 1.6, 2.1, 2.7, 3.2, 3.7, 4.3, 4.8, 5.3], [0.446, 0.442, 0.43700000000000006, 0.433, 0.428, 0.424, 0.419, 0.415, 0.41100000000000003, 0.40700000000000003, 0.40299999999999997], [0.446, 0.441, 0.43700000000000006, 0.43200000000000005, 0.42700000000000005, 0.423, 0.418, 0.414, 0.409, 0.405, 0.401], [0.446, 0.442, 0.439, 0.435, 0.43200000000000005, 0.428, 0.425, 0.42100000000000004, 0.418, 0.415, 0.41200000000000003]]}, {\"annotations[0].text\": \"Revenue neutral tax rates in Alabama\", \"annotations[1].text\": \"Gini index in Alabama\"}], \"label\": \"Alabama\", \"method\": \"update\"}, {\"args\": [{\"y\": [[0.0, 0.6, 1.2, 1.9, 2.5, 3.1, 3.7, 4.3, 4.9, 5.6, 6.2], [0.0, 0.5, 1.1, 1.6, 2.1, 2.7, 3.2, 3.7, 4.3, 4.8, 5.3], [0.451, 0.446, 0.441, 0.43700000000000006, 0.43200000000000005, 0.428, 0.423, 0.419, 0.414, 0.41, 0.406], [0.451, 0.446, 0.441, 0.436, 0.43200000000000005, 0.42700000000000005, 0.423, 0.418, 0.413, 0.409, 0.40399999999999997], [0.451, 0.447, 0.44299999999999995, 0.439, 0.435, 0.431, 0.428, 0.424, 0.42100000000000004, 0.41700000000000004, 0.414]]}, {\"annotations[0].text\": \"Revenue neutral tax rates in Alaska\", \"annotations[1].text\": \"Gini index in Alaska\"}], \"label\": \"Alaska\", \"method\": \"update\"}, {\"args\": [{\"y\": [[0.0, 0.6, 1.2, 1.8, 2.4, 3.0, 3.6, 4.2, 4.8, 5.4, 6.0], [0.0, 0.5, 1.1, 1.6, 2.1, 2.7, 3.2, 3.7, 4.3, 4.8, 5.3], [0.439, 0.435, 0.43, 0.426, 0.42100000000000004, 0.41700000000000004, 0.413, 0.408, 0.40399999999999997, 0.4, 0.396], [0.439, 0.435, 0.43, 0.425, 0.42100000000000004, 0.41700000000000004, 0.41200000000000003, 0.408, 0.40299999999999997, 0.39899999999999997, 0.395], [0.439, 0.435, 0.43200000000000005, 0.428, 0.425, 0.42100000000000004, 0.418, 0.414, 0.41100000000000003, 0.408, 0.405]]}, {\"annotations[0].text\": \"Revenue neutral tax rates in Arizona\", \"annotations[1].text\": \"Gini index in Arizona\"}], \"label\": \"Arizona\", \"method\": \"update\"}, {\"args\": [{\"y\": [[0.0, 0.7, 1.5, 2.2, 3.0, 3.7, 4.5, 5.2, 6.0, 6.7, 7.5], [0.0, 0.5, 1.1, 1.6, 2.1, 2.7, 3.2, 3.7, 4.3, 4.8, 5.3], [0.439, 0.434, 0.43, 0.425, 0.42, 0.41600000000000004, 0.41100000000000003, 0.40700000000000003, 0.402, 0.39799999999999996, 0.39399999999999996], [0.439, 0.434, 0.429, 0.424, 0.419, 0.414, 0.409, 0.40399999999999997, 0.39899999999999997, 0.39399999999999996, 0.39], [0.439, 0.435, 0.431, 0.42700000000000005, 0.424, 0.42, 0.41600000000000004, 0.413, 0.409, 0.406, 0.40299999999999997]]}, {\"annotations[0].text\": \"Revenue neutral tax rates in Arkansas\", \"annotations[1].text\": \"Gini index in Arkansas\"}], \"label\": \"Arkansas\", \"method\": \"update\"}, {\"args\": [{\"y\": [[0.0, 0.5, 1.0, 1.5, 2.0, 2.5, 3.0, 3.5, 4.0, 4.5, 5.1], [0.0, 0.5, 1.1, 1.6, 2.1, 2.7, 3.2, 3.7, 4.3, 4.8, 5.3], [0.46, 0.456, 0.452, 0.44799999999999995, 0.444, 0.44, 0.436, 0.43200000000000005, 0.428, 0.424, 0.42100000000000004], [0.46, 0.456, 0.452, 0.44799999999999995, 0.444, 0.44, 0.436, 0.433, 0.429, 0.425, 0.42100000000000004], [0.46, 0.457, 0.45399999999999996, 0.45, 0.447, 0.444, 0.441, 0.43799999999999994, 0.436, 0.433, 0.43]]}, {\"annotations[0].text\": \"Revenue neutral tax rates in California\", \"annotations[1].text\": \"Gini index in California\"}], \"label\": \"California\", \"method\": \"update\"}, {\"args\": [{\"y\": [[0.0, 0.4, 0.9, 1.3, 1.8, 2.2, 2.7, 3.1, 3.6, 4.0, 4.4], [0.0, 0.5, 1.1, 1.6, 2.1, 2.7, 3.2, 3.7, 4.3, 4.8, 5.3], [0.439, 0.435, 0.43200000000000005, 0.428, 0.425, 0.42100000000000004, 0.418, 0.414, 0.41100000000000003, 0.408, 0.40399999999999997], [0.439, 0.435, 0.43200000000000005, 0.428, 0.425, 0.42200000000000004, 0.418, 0.415, 0.41200000000000003, 0.409, 0.405], [0.439, 0.436, 0.433, 0.43, 0.42700000000000005, 0.424, 0.42200000000000004, 0.419, 0.41700000000000004, 0.414, 0.41100000000000003]]}, {\"annotations[0].text\": \"Revenue neutral tax rates in Colorado\", \"annotations[1].text\": \"Gini index in Colorado\"}], \"label\": \"Colorado\", \"method\": \"update\"}, {\"args\": [{\"y\": [[0.0, 0.4, 0.8, 1.2, 1.6, 2.0, 2.4, 2.8, 3.2, 3.6, 4.0], [0.0, 0.5, 1.1, 1.6, 2.1, 2.7, 3.2, 3.7, 4.3, 4.8, 5.3], [0.42100000000000004, 0.418, 0.415, 0.41200000000000003, 0.408, 0.405, 0.402, 0.39899999999999997, 0.395, 0.392, 0.389], [0.42100000000000004, 0.418, 0.415, 0.41200000000000003, 0.409, 0.406, 0.40299999999999997, 0.4, 0.397, 0.39399999999999996, 0.391], [0.42100000000000004, 0.419, 0.41600000000000004, 0.414, 0.41100000000000003, 0.409, 0.40700000000000003, 0.40399999999999997, 0.402, 0.4, 0.39799999999999996]]}, {\"annotations[0].text\": \"Revenue neutral tax rates in Connecticut\", \"annotations[1].text\": \"Gini index in Connecticut\"}], \"label\": \"Connecticut\", \"method\": \"update\"}, {\"args\": [{\"y\": [[0.0, 0.5, 1.0, 1.4, 1.9, 2.4, 2.9, 3.3, 3.8, 4.3, 4.8], [0.0, 0.5, 1.1, 1.6, 2.1, 2.7, 3.2, 3.7, 4.3, 4.8, 5.3], [0.429, 0.426, 0.42200000000000004, 0.419, 0.415, 0.41200000000000003, 0.408, 0.405, 0.402, 0.39799999999999996, 0.395], [0.429, 0.426, 0.42200000000000004, 0.419, 0.41600000000000004, 0.41200000000000003, 0.409, 0.406, 0.402, 0.39899999999999997, 0.396], [0.429, 0.42700000000000005, 0.424, 0.42100000000000004, 0.418, 0.41600000000000004, 0.413, 0.41, 0.408, 0.405, 0.40299999999999997]]}, {\"annotations[0].text\": \"Revenue neutral tax rates in Delaware\", \"annotations[1].text\": \"Gini index in Delaware\"}], \"label\": \"Delaware\", \"method\": \"update\"}, {\"args\": [{\"y\": [[0.0, 0.5, 1.1, 1.6, 2.1, 2.6, 3.2, 3.7, 4.2, 4.8, 5.3], [0.0, 0.5, 1.1, 1.6, 2.1, 2.7, 3.2, 3.7, 4.3, 4.8, 5.3], [0.457, 0.45299999999999996, 0.449, 0.445, 0.441, 0.43799999999999994, 0.434, 0.43, 0.42700000000000005, 0.423, 0.419], [0.457, 0.45299999999999996, 0.449, 0.445, 0.441, 0.43799999999999994, 0.434, 0.43, 0.42700000000000005, 0.423, 0.419], [0.457, 0.45399999999999996, 0.451, 0.44799999999999995, 0.445, 0.442, 0.439, 0.436, 0.433, 0.431, 0.428]]}, {\"annotations[0].text\": \"Revenue neutral tax rates in Florida\", \"annotations[1].text\": \"Gini index in Florida\"}], \"label\": \"Florida\", \"method\": \"update\"}, {\"args\": [{\"y\": [[0.0, 0.7, 1.3, 2.0, 2.7, 3.3, 4.0, 4.7, 5.3, 6.0, 6.7], [0.0, 0.5, 1.1, 1.6, 2.1, 2.7, 3.2, 3.7, 4.3, 4.8, 5.3], [0.447, 0.442, 0.43700000000000006, 0.43200000000000005, 0.428, 0.423, 0.419, 0.414, 0.41, 0.405, 0.401], [0.447, 0.442, 0.43700000000000006, 0.43200000000000005, 0.42700000000000005, 0.42200000000000004, 0.41700000000000004, 0.41200000000000003, 0.408, 0.40299999999999997, 0.39899999999999997], [0.447, 0.44299999999999995, 0.439, 0.435, 0.431, 0.42700000000000005, 0.424, 0.42, 0.41700000000000004, 0.414, 0.41]]}, {\"annotations[0].text\": \"Revenue neutral tax rates in Georgia\", \"annotations[1].text\": \"Gini index in Georgia\"}], \"label\": \"Georgia\", \"method\": \"update\"}, {\"args\": [{\"y\": [[0.0, 0.5, 1.0, 1.5, 2.0, 2.5, 3.0, 3.5, 4.0, 4.5, 5.0], [0.0, 0.5, 1.1, 1.6, 2.1, 2.7, 3.2, 3.7, 4.3, 4.8, 5.3], [0.41600000000000004, 0.413, 0.409, 0.405, 0.402, 0.39799999999999996, 0.395, 0.391, 0.38799999999999996, 0.384, 0.381], [0.41600000000000004, 0.413, 0.409, 0.406, 0.402, 0.39799999999999996, 0.395, 0.391, 0.38799999999999996, 0.385, 0.381], [0.41600000000000004, 0.413, 0.41, 0.408, 0.405, 0.402, 0.39899999999999997, 0.396, 0.39399999999999996, 0.391, 0.389]]}, {\"annotations[0].text\": \"Revenue neutral tax rates in Hawaii\", \"annotations[1].text\": \"Gini index in Hawaii\"}], \"label\": \"Hawaii\", \"method\": \"update\"}, {\"args\": [{\"y\": [[0.0, 0.7, 1.4, 2.1, 2.8, 3.5, 4.2, 4.9, 5.6, 6.3, 7.1], [0.0, 0.5, 1.1, 1.6, 2.1, 2.7, 3.2, 3.7, 4.3, 4.8, 5.3], [0.42700000000000005, 0.42100000000000004, 0.41600000000000004, 0.41100000000000003, 0.406, 0.401, 0.397, 0.392, 0.387, 0.382, 0.37799999999999995], [0.42700000000000005, 0.42100000000000004, 0.41600000000000004, 0.41100000000000003, 0.405, 0.4, 0.395, 0.39, 0.385, 0.38, 0.375], [0.42700000000000005, 0.42200000000000004, 0.418, 0.413, 0.409, 0.405, 0.401, 0.397, 0.39399999999999996, 0.39, 0.386]]}, {\"annotations[0].text\": \"Revenue neutral tax rates in Idaho\", \"annotations[1].text\": \"Gini index in Idaho\"}], \"label\": \"Idaho\", \"method\": \"update\"}, {\"args\": [{\"y\": [[0.0, 0.5, 1.0, 1.5, 1.9, 2.4, 2.9, 3.4, 3.9, 4.4, 4.8], [0.0, 0.5, 1.1, 1.6, 2.1, 2.7, 3.2, 3.7, 4.3, 4.8, 5.3], [0.444, 0.441, 0.43700000000000006, 0.433, 0.429, 0.425, 0.42200000000000004, 0.418, 0.414, 0.41100000000000003, 0.40700000000000003], [0.444, 0.441, 0.43700000000000006, 0.433, 0.429, 0.426, 0.42200000000000004, 0.418, 0.415, 0.41100000000000003, 0.408], [0.444, 0.441, 0.43799999999999994, 0.435, 0.43200000000000005, 0.429, 0.42700000000000005, 0.424, 0.42100000000000004, 0.418, 0.41600000000000004]]}, {\"annotations[0].text\": \"Revenue neutral tax rates in Illinois\", \"annotations[1].text\": \"Gini index in Illinois\"}], \"label\": \"Illinois\", \"method\": \"update\"}, {\"args\": [{\"y\": [[0.0, 0.7, 1.3, 2.0, 2.6, 3.3, 3.9, 4.6, 5.2, 5.9, 6.5], [0.0, 0.5, 1.1, 1.6, 2.1, 2.7, 3.2, 3.7, 4.3, 4.8, 5.3], [0.402, 0.39799999999999996, 0.39299999999999996, 0.38799999999999996, 0.384, 0.379, 0.375, 0.37, 0.366, 0.361, 0.35700000000000004], [0.402, 0.39799999999999996, 0.39299999999999996, 0.38799999999999996, 0.38299999999999995, 0.37799999999999995, 0.374, 0.369, 0.364, 0.36, 0.355], [0.402, 0.39799999999999996, 0.39399999999999996, 0.39, 0.387, 0.38299999999999995, 0.379, 0.376, 0.37200000000000005, 0.369, 0.365]]}, {\"annotations[0].text\": \"Revenue neutral tax rates in Indiana\", \"annotations[1].text\": \"Gini index in Indiana\"}], \"label\": \"Indiana\", \"method\": \"update\"}, {\"args\": [{\"y\": [[0.0, 0.6, 1.2, 1.8, 2.5, 3.1, 3.7, 4.3, 4.9, 5.5, 6.2], [0.0, 0.5, 1.1, 1.6, 2.1, 2.7, 3.2, 3.7, 4.3, 4.8, 5.3], [0.405, 0.4, 0.396, 0.391, 0.387, 0.38299999999999995, 0.379, 0.374, 0.37, 0.366, 0.36200000000000004], [0.405, 0.4, 0.396, 0.391, 0.387, 0.382, 0.37799999999999995, 0.374, 0.369, 0.365, 0.361], [0.405, 0.401, 0.397, 0.39299999999999996, 0.39, 0.386, 0.38299999999999995, 0.379, 0.376, 0.373, 0.37]]}, {\"annotations[0].text\": \"Revenue neutral tax rates in Iowa\", \"annotations[1].text\": \"Gini index in Iowa\"}], \"label\": \"Iowa\", \"method\": \"update\"}, {\"args\": [{\"y\": [[0.0, 0.6, 1.3, 1.9, 2.5, 3.1, 3.8, 4.4, 5.0, 5.6, 6.3], [0.0, 0.5, 1.1, 1.6, 2.1, 2.7, 3.2, 3.7, 4.3, 4.8, 5.3], [0.414, 0.409, 0.405, 0.4, 0.396, 0.392, 0.38799999999999996, 0.38299999999999995, 0.379, 0.375, 0.371], [0.414, 0.409, 0.405, 0.4, 0.396, 0.391, 0.387, 0.382, 0.37799999999999995, 0.374, 0.369], [0.414, 0.41, 0.406, 0.40299999999999997, 0.39899999999999997, 0.396, 0.392, 0.389, 0.386, 0.38299999999999995, 0.38]]}, {\"annotations[0].text\": \"Revenue neutral tax rates in Kansas\", \"annotations[1].text\": \"Gini index in Kansas\"}], \"label\": \"Kansas\", \"method\": \"update\"}, {\"args\": [{\"y\": [[0.0, 0.6, 1.2, 1.9, 2.5, 3.1, 3.7, 4.3, 4.9, 5.6, 6.2], [0.0, 0.5, 1.1, 1.6, 2.1, 2.7, 3.2, 3.7, 4.3, 4.8, 5.3], [0.462, 0.45799999999999996, 0.45299999999999996, 0.449, 0.445, 0.44, 0.436, 0.43200000000000005, 0.428, 0.424, 0.42], [0.462, 0.45799999999999996, 0.45299999999999996, 0.449, 0.444, 0.44, 0.435, 0.431, 0.42700000000000005, 0.423, 0.418], [0.462, 0.45799999999999996, 0.455, 0.451, 0.44799999999999995, 0.445, 0.441, 0.43799999999999994, 0.435, 0.43200000000000005, 0.429]]}, {\"annotations[0].text\": \"Revenue neutral tax rates in Kentucky\", \"annotations[1].text\": \"Gini index in Kentucky\"}], \"label\": \"Kentucky\", \"method\": \"update\"}, {\"args\": [{\"y\": [[0.0, 0.7, 1.5, 2.2, 2.9, 3.7, 4.4, 5.1, 5.9, 6.6, 7.3], [0.0, 0.5, 1.1, 1.6, 2.1, 2.7, 3.2, 3.7, 4.3, 4.8, 5.3], [0.45799999999999996, 0.45299999999999996, 0.44799999999999995, 0.44299999999999995, 0.43799999999999994, 0.433, 0.428, 0.424, 0.419, 0.414, 0.41], [0.45799999999999996, 0.45299999999999996, 0.447, 0.442, 0.43700000000000006, 0.43200000000000005, 0.426, 0.42100000000000004, 0.41600000000000004, 0.41100000000000003, 0.406], [0.45799999999999996, 0.45399999999999996, 0.45, 0.446, 0.441, 0.43799999999999994, 0.434, 0.43, 0.426, 0.423, 0.419]]}, {\"annotations[0].text\": \"Revenue neutral tax rates in Louisiana\", \"annotations[1].text\": \"Gini index in Louisiana\"}], \"label\": \"Louisiana\", \"method\": \"update\"}, {\"args\": [{\"y\": [[0.0, 0.5, 1.1, 1.6, 2.1, 2.7, 3.2, 3.8, 4.3, 4.8, 5.4], [0.0, 0.5, 1.1, 1.6, 2.1, 2.7, 3.2, 3.7, 4.3, 4.8, 5.3], [0.374, 0.371, 0.36700000000000005, 0.363, 0.36, 0.35600000000000004, 0.353, 0.349, 0.34600000000000003, 0.342, 0.33899999999999997], [0.374, 0.371, 0.36700000000000005, 0.363, 0.36, 0.35600000000000004, 0.353, 0.349, 0.34600000000000003, 0.342, 0.33899999999999997], [0.374, 0.371, 0.369, 0.366, 0.363, 0.36, 0.358, 0.355, 0.35200000000000004, 0.35, 0.348]]}, {\"annotations[0].text\": \"Revenue neutral tax rates in Maine\", \"annotations[1].text\": \"Gini index in Maine\"}], \"label\": \"Maine\", \"method\": \"update\"}, {\"args\": [{\"y\": [[0.0, 0.4, 0.8, 1.2, 1.6, 2.0, 2.4, 2.8, 3.2, 3.6, 4.0], [0.0, 0.5, 1.1, 1.6, 2.1, 2.7, 3.2, 3.7, 4.3, 4.8, 5.3], [0.42, 0.41700000000000004, 0.413, 0.41, 0.40700000000000003, 0.40299999999999997, 0.4, 0.397, 0.39299999999999996, 0.39, 0.387], [0.42, 0.41700000000000004, 0.414, 0.41, 0.40700000000000003, 0.40399999999999997, 0.401, 0.39799999999999996, 0.395, 0.392, 0.389], [0.42, 0.41700000000000004, 0.414, 0.41200000000000003, 0.409, 0.40700000000000003, 0.40399999999999997, 0.402, 0.39899999999999997, 0.397, 0.39399999999999996]]}, {\"annotations[0].text\": \"Revenue neutral tax rates in Maryland\", \"annotations[1].text\": \"Gini index in Maryland\"}], \"label\": \"Maryland\", \"method\": \"update\"}, {\"args\": [{\"y\": [[0.0, 0.3, 0.7, 1.0, 1.4, 1.7, 2.0, 2.4, 2.7, 3.0, 3.4], [0.0, 0.5, 1.1, 1.6, 2.1, 2.7, 3.2, 3.7, 4.3, 4.8, 5.3], [0.429, 0.426, 0.423, 0.42, 0.41700000000000004, 0.414, 0.41200000000000003, 0.409, 0.406, 0.40299999999999997, 0.401], [0.429, 0.426, 0.423, 0.42100000000000004, 0.418, 0.41600000000000004, 0.413, 0.41100000000000003, 0.408, 0.406, 0.40399999999999997], [0.429, 0.426, 0.424, 0.42200000000000004, 0.42, 0.418, 0.41600000000000004, 0.414, 0.41200000000000003, 0.41, 0.408]]}, {\"annotations[0].text\": \"Revenue neutral tax rates in Massachusetts\", \"annotations[1].text\": \"Gini index in Massachusetts\"}], \"label\": \"Massachusetts\", \"method\": \"update\"}, {\"args\": [{\"y\": [[0.0, 0.5, 1.1, 1.6, 2.1, 2.7, 3.2, 3.7, 4.3, 4.8, 5.3], [0.0, 0.5, 1.1, 1.6, 2.1, 2.7, 3.2, 3.7, 4.3, 4.8, 5.3], [0.426, 0.42200000000000004, 0.418, 0.414, 0.41, 0.406, 0.402, 0.39899999999999997, 0.395, 0.391, 0.38799999999999996], [0.426, 0.42200000000000004, 0.418, 0.414, 0.41, 0.406, 0.40299999999999997, 0.39899999999999997, 0.395, 0.391, 0.38799999999999996], [0.426, 0.42200000000000004, 0.419, 0.41600000000000004, 0.413, 0.41, 0.40700000000000003, 0.40399999999999997, 0.401, 0.39799999999999996, 0.396]]}, {\"annotations[0].text\": \"Revenue neutral tax rates in Michigan\", \"annotations[1].text\": \"Gini index in Michigan\"}], \"label\": \"Michigan\", \"method\": \"update\"}, {\"args\": [{\"y\": [[0.0, 0.5, 1.0, 1.5, 2.0, 2.5, 2.9, 3.4, 3.9, 4.4, 4.9], [0.0, 0.5, 1.1, 1.6, 2.1, 2.7, 3.2, 3.7, 4.3, 4.8, 5.3], [0.39299999999999996, 0.389, 0.385, 0.381, 0.37799999999999995, 0.374, 0.37, 0.36700000000000005, 0.363, 0.359, 0.35600000000000004], [0.39299999999999996, 0.389, 0.385, 0.381, 0.37799999999999995, 0.374, 0.371, 0.36700000000000005, 0.363, 0.36, 0.35700000000000004], [0.39299999999999996, 0.389, 0.386, 0.38299999999999995, 0.38, 0.377, 0.374, 0.37200000000000005, 0.369, 0.366, 0.364]]}, {\"annotations[0].text\": \"Revenue neutral tax rates in Minnesota\", \"annotations[1].text\": \"Gini index in Minnesota\"}], \"label\": \"Minnesota\", \"method\": \"update\"}, {\"args\": [{\"y\": [[0.0, 1.0, 1.9, 2.9, 3.8, 4.8, 5.7, 6.7, 7.6, 8.6, 9.6], [0.0, 0.5, 1.1, 1.6, 2.1, 2.7, 3.2, 3.7, 4.3, 4.8, 5.3], [0.439, 0.433, 0.428, 0.42200000000000004, 0.41700000000000004, 0.41200000000000003, 0.406, 0.401, 0.396, 0.391, 0.387], [0.439, 0.433, 0.42700000000000005, 0.42, 0.414, 0.408, 0.402, 0.396, 0.39, 0.384, 0.37799999999999995], [0.439, 0.434, 0.43, 0.425, 0.42, 0.41600000000000004, 0.41200000000000003, 0.408, 0.40399999999999997, 0.4, 0.396]]}, {\"annotations[0].text\": \"Revenue neutral tax rates in Mississippi\", \"annotations[1].text\": \"Gini index in Mississippi\"}], \"label\": \"Mississippi\", \"method\": \"update\"}, {\"args\": [{\"y\": [[0.0, 0.6, 1.2, 1.8, 2.3, 2.9, 3.5, 4.1, 4.7, 5.3, 5.8], [0.0, 0.5, 1.1, 1.6, 2.1, 2.7, 3.2, 3.7, 4.3, 4.8, 5.3], [0.425, 0.42100000000000004, 0.41600000000000004, 0.41200000000000003, 0.408, 0.40399999999999997, 0.4, 0.396, 0.392, 0.38799999999999996, 0.384], [0.425, 0.42, 0.41600000000000004, 0.41200000000000003, 0.408, 0.40299999999999997, 0.39899999999999997, 0.395, 0.391, 0.387, 0.38299999999999995], [0.425, 0.42100000000000004, 0.418, 0.414, 0.41100000000000003, 0.40700000000000003, 0.40399999999999997, 0.401, 0.39799999999999996, 0.39399999999999996, 0.391]]}, {\"annotations[0].text\": \"Revenue neutral tax rates in Missouri\", \"annotations[1].text\": \"Gini index in Missouri\"}], \"label\": \"Missouri\", \"method\": \"update\"}, {\"args\": [{\"y\": [[0.0, 0.6, 1.2, 1.8, 2.4, 3.0, 3.6, 4.2, 4.8, 5.4, 6.0], [0.0, 0.5, 1.1, 1.6, 2.1, 2.7, 3.2, 3.7, 4.3, 4.8, 5.3], [0.41200000000000003, 0.408, 0.40399999999999997, 0.39899999999999997, 0.395, 0.391, 0.387, 0.38299999999999995, 0.379, 0.375, 0.37200000000000005], [0.41200000000000003, 0.408, 0.40299999999999997, 0.39899999999999997, 0.395, 0.391, 0.387, 0.382, 0.37799999999999995, 0.374, 0.37], [0.41200000000000003, 0.408, 0.405, 0.401, 0.39799999999999996, 0.395, 0.392, 0.389, 0.386, 0.38299999999999995, 0.38]]}, {\"annotations[0].text\": \"Revenue neutral tax rates in Montana\", \"annotations[1].text\": \"Gini index in Montana\"}], \"label\": \"Montana\", \"method\": \"update\"}, {\"args\": [{\"y\": [[0.0, 0.6, 1.3, 1.9, 2.6, 3.2, 3.8, 4.5, 5.1, 5.7, 6.4], [0.0, 0.5, 1.1, 1.6, 2.1, 2.7, 3.2, 3.7, 4.3, 4.8, 5.3], [0.42, 0.415, 0.41100000000000003, 0.406, 0.402, 0.397, 0.39299999999999996, 0.38799999999999996, 0.384, 0.38, 0.376], [0.42, 0.415, 0.41100000000000003, 0.406, 0.401, 0.397, 0.392, 0.387, 0.38299999999999995, 0.37799999999999995, 0.374], [0.42, 0.41600000000000004, 0.41200000000000003, 0.408, 0.40399999999999997, 0.401, 0.397, 0.39399999999999996, 0.39, 0.387, 0.38299999999999995]]}, {\"annotations[0].text\": \"Revenue neutral tax rates in Nebraska\", \"annotations[1].text\": \"Gini index in Nebraska\"}], \"label\": \"Nebraska\", \"method\": \"update\"}, {\"args\": [{\"y\": [[0.0, 0.6, 1.2, 1.8, 2.4, 3.0, 3.6, 4.2, 4.7, 5.3, 5.9], [0.0, 0.5, 1.1, 1.6, 2.1, 2.7, 3.2, 3.7, 4.3, 4.8, 5.3], [0.456, 0.452, 0.447, 0.44299999999999995, 0.439, 0.435, 0.431, 0.42700000000000005, 0.423, 0.419, 0.415], [0.456, 0.451, 0.447, 0.44299999999999995, 0.439, 0.434, 0.43, 0.426, 0.42200000000000004, 0.418, 0.414], [0.456, 0.452, 0.449, 0.445, 0.442, 0.43799999999999994, 0.435, 0.43200000000000005, 0.429, 0.426, 0.423]]}, {\"annotations[0].text\": \"Revenue neutral tax rates in Nevada\", \"annotations[1].text\": \"Gini index in Nevada\"}], \"label\": \"Nevada\", \"method\": \"update\"}, {\"args\": [{\"y\": [[0.0, 0.4, 0.7, 1.1, 1.5, 1.9, 2.2, 2.6, 3.0, 3.4, 3.7], [0.0, 0.5, 1.1, 1.6, 2.1, 2.7, 3.2, 3.7, 4.3, 4.8, 5.3], [0.396, 0.39299999999999996, 0.39, 0.387, 0.385, 0.382, 0.379, 0.376, 0.373, 0.371, 0.368], [0.396, 0.39299999999999996, 0.391, 0.38799999999999996, 0.385, 0.38299999999999995, 0.38, 0.37799999999999995, 0.375, 0.373, 0.37], [0.396, 0.39399999999999996, 0.392, 0.389, 0.387, 0.385, 0.38299999999999995, 0.381, 0.379, 0.377, 0.375]]}, {\"annotations[0].text\": \"Revenue neutral tax rates in New Hampshire\", \"annotations[1].text\": \"Gini index in New Hampshire\"}], \"label\": \"New Hampshire\", \"method\": \"update\"}, {\"args\": [{\"y\": [[0.0, 0.4, 0.9, 1.3, 1.7, 2.1, 2.6, 3.0, 3.4, 3.9, 4.3], [0.0, 0.5, 1.1, 1.6, 2.1, 2.7, 3.2, 3.7, 4.3, 4.8, 5.3], [0.429, 0.426, 0.423, 0.419, 0.41600000000000004, 0.413, 0.41, 0.40700000000000003, 0.40399999999999997, 0.4, 0.397], [0.429, 0.426, 0.423, 0.42, 0.41700000000000004, 0.414, 0.41100000000000003, 0.408, 0.405, 0.402, 0.39899999999999997], [0.429, 0.42700000000000005, 0.424, 0.42200000000000004, 0.419, 0.41700000000000004, 0.415, 0.41200000000000003, 0.41, 0.408, 0.406]]}, {\"annotations[0].text\": \"Revenue neutral tax rates in New Jersey\", \"annotations[1].text\": \"Gini index in New Jersey\"}], \"label\": \"New Jersey\", \"method\": \"update\"}, {\"args\": [{\"y\": [[0.0, 0.7, 1.5, 2.2, 2.9, 3.7, 4.4, 5.2, 5.9, 6.6, 7.4], [0.0, 0.5, 1.1, 1.6, 2.1, 2.7, 3.2, 3.7, 4.3, 4.8, 5.3], [0.45799999999999996, 0.45299999999999996, 0.44799999999999995, 0.44299999999999995, 0.43799999999999994, 0.433, 0.428, 0.423, 0.418, 0.414, 0.409], [0.45799999999999996, 0.45299999999999996, 0.447, 0.442, 0.436, 0.431, 0.426, 0.42, 0.415, 0.41, 0.405], [0.45799999999999996, 0.45399999999999996, 0.45, 0.446, 0.442, 0.43799999999999994, 0.434, 0.43, 0.42700000000000005, 0.423, 0.42]]}, {\"annotations[0].text\": \"Revenue neutral tax rates in New Mexico\", \"annotations[1].text\": \"Gini index in New Mexico\"}], \"label\": \"New Mexico\", \"method\": \"update\"}, {\"args\": [{\"y\": [[0.0, 0.4, 0.9, 1.3, 1.7, 2.1, 2.6, 3.0, 3.4, 3.9, 4.3], [0.0, 0.5, 1.1, 1.6, 2.1, 2.7, 3.2, 3.7, 4.3, 4.8, 5.3], [0.46399999999999997, 0.46, 0.457, 0.45299999999999996, 0.449, 0.445, 0.442, 0.43799999999999994, 0.435, 0.431, 0.42700000000000005], [0.46399999999999997, 0.46, 0.457, 0.45299999999999996, 0.45, 0.446, 0.44299999999999995, 0.439, 0.436, 0.433, 0.429], [0.46399999999999997, 0.461, 0.45799999999999996, 0.455, 0.45299999999999996, 0.45, 0.447, 0.445, 0.442, 0.439, 0.43700000000000006]]}, {\"annotations[0].text\": \"Revenue neutral tax rates in New York\", \"annotations[1].text\": \"Gini index in New York\"}], \"label\": \"New York\", \"method\": \"update\"}, {\"args\": [{\"y\": [[0.0, 0.6, 1.2, 1.8, 2.4, 3.0, 3.6, 4.2, 4.8, 5.4, 5.9], [0.0, 0.5, 1.1, 1.6, 2.1, 2.7, 3.2, 3.7, 4.3, 4.8, 5.3], [0.449, 0.445, 0.44, 0.436, 0.43200000000000005, 0.42700000000000005, 0.423, 0.419, 0.415, 0.41100000000000003, 0.40700000000000003], [0.449, 0.445, 0.44, 0.436, 0.431, 0.42700000000000005, 0.423, 0.418, 0.414, 0.41, 0.406], [0.449, 0.445, 0.442, 0.43799999999999994, 0.435, 0.431, 0.428, 0.425, 0.42200000000000004, 0.419, 0.41600000000000004]]}, {\"annotations[0].text\": \"Revenue neutral tax rates in North Carolina\", \"annotations[1].text\": \"Gini index in North Carolina\"}], \"label\": \"North Carolina\", \"method\": \"update\"}, {\"args\": [{\"y\": [[0.0, 0.6, 1.2, 1.7, 2.3, 2.9, 3.5, 4.1, 4.6, 5.2, 5.8], [0.0, 0.5, 1.1, 1.6, 2.1, 2.7, 3.2, 3.7, 4.3, 4.8, 5.3], [0.41700000000000004, 0.413, 0.409, 0.405, 0.401, 0.397, 0.39299999999999996, 0.389, 0.385, 0.382, 0.37799999999999995], [0.41700000000000004, 0.413, 0.409, 0.405, 0.401, 0.397, 0.39299999999999996, 0.389, 0.385, 0.381, 0.377], [0.41700000000000004, 0.414, 0.41, 0.40700000000000003, 0.40399999999999997, 0.4, 0.397, 0.39399999999999996, 0.391, 0.38799999999999996, 0.385]]}, {\"annotations[0].text\": \"Revenue neutral tax rates in North Dakota\", \"annotations[1].text\": \"Gini index in North Dakota\"}], \"label\": \"North Dakota\", \"method\": \"update\"}, {\"args\": [{\"y\": [[0.0, 0.6, 1.1, 1.7, 2.3, 2.9, 3.4, 4.0, 4.6, 5.2, 5.7], [0.0, 0.5, 1.1, 1.6, 2.1, 2.7, 3.2, 3.7, 4.3, 4.8, 5.3], [0.426, 0.42200000000000004, 0.41700000000000004, 0.413, 0.409, 0.405, 0.401, 0.397, 0.39299999999999996, 0.389, 0.385], [0.426, 0.42200000000000004, 0.41700000000000004, 0.413, 0.409, 0.405, 0.401, 0.397, 0.39299999999999996, 0.389, 0.385], [0.426, 0.42200000000000004, 0.419, 0.41600000000000004, 0.41200000000000003, 0.409, 0.406, 0.40299999999999997, 0.4, 0.397, 0.39399999999999996]]}, {\"annotations[0].text\": \"Revenue neutral tax rates in Ohio\", \"annotations[1].text\": \"Gini index in Ohio\"}], \"label\": \"Ohio\", \"method\": \"update\"}, {\"args\": [{\"y\": [[0.0, 0.7, 1.5, 2.2, 2.9, 3.7, 4.4, 5.1, 5.9, 6.6, 7.3], [0.0, 0.5, 1.1, 1.6, 2.1, 2.7, 3.2, 3.7, 4.3, 4.8, 5.3], [0.431, 0.426, 0.42100000000000004, 0.41600000000000004, 0.41100000000000003, 0.406, 0.402, 0.397, 0.39299999999999996, 0.38799999999999996, 0.384], [0.431, 0.426, 0.42, 0.415, 0.41, 0.405, 0.4, 0.395, 0.39, 0.385, 0.38], [0.431, 0.42700000000000005, 0.42200000000000004, 0.418, 0.414, 0.41, 0.40700000000000003, 0.40299999999999997, 0.39899999999999997, 0.396, 0.392]]}, {\"annotations[0].text\": \"Revenue neutral tax rates in Oklahoma\", \"annotations[1].text\": \"Gini index in Oklahoma\"}], \"label\": \"Oklahoma\", \"method\": \"update\"}, {\"args\": [{\"y\": [[0.0, 0.5, 0.9, 1.4, 1.9, 2.3, 2.8, 3.3, 3.7, 4.2, 4.7], [0.0, 0.5, 1.1, 1.6, 2.1, 2.7, 3.2, 3.7, 4.3, 4.8, 5.3], [0.43700000000000006, 0.433, 0.429, 0.426, 0.42200000000000004, 0.418, 0.414, 0.41, 0.40700000000000003, 0.40299999999999997, 0.39899999999999997], [0.43700000000000006, 0.433, 0.43, 0.426, 0.42200000000000004, 0.418, 0.415, 0.41100000000000003, 0.408, 0.40399999999999997, 0.401], [0.43700000000000006, 0.434, 0.431, 0.428, 0.425, 0.42200000000000004, 0.419, 0.41600000000000004, 0.413, 0.41, 0.408]]}, {\"annotations[0].text\": \"Revenue neutral tax rates in Oregon\", \"annotations[1].text\": \"Gini index in Oregon\"}], \"label\": \"Oregon\", \"method\": \"update\"}, {\"args\": [{\"y\": [[0.0, 0.5, 0.9, 1.4, 1.9, 2.3, 2.8, 3.3, 3.7, 4.2, 4.7], [0.0, 0.5, 1.1, 1.6, 2.1, 2.7, 3.2, 3.7, 4.3, 4.8, 5.3], [0.44299999999999995, 0.44, 0.436, 0.43200000000000005, 0.428, 0.425, 0.42100000000000004, 0.41700000000000004, 0.414, 0.41, 0.406], [0.44299999999999995, 0.44, 0.436, 0.43200000000000005, 0.429, 0.425, 0.42200000000000004, 0.418, 0.414, 0.41100000000000003, 0.408], [0.44299999999999995, 0.44, 0.43700000000000006, 0.434, 0.431, 0.428, 0.426, 0.423, 0.42, 0.41700000000000004, 0.415]]}, {\"annotations[0].text\": \"Revenue neutral tax rates in Pennsylvania\", \"annotations[1].text\": \"Gini index in Pennsylvania\"}], \"label\": \"Pennsylvania\", \"method\": \"update\"}, {\"args\": [{\"y\": [[0.0, 0.4, 0.8, 1.2, 1.7, 2.1, 2.5, 2.9, 3.3, 3.7, 4.1], [0.0, 0.5, 1.1, 1.6, 2.1, 2.7, 3.2, 3.7, 4.3, 4.8, 5.3], [0.419, 0.41600000000000004, 0.41200000000000003, 0.409, 0.405, 0.402, 0.39799999999999996, 0.395, 0.391, 0.38799999999999996, 0.385], [0.419, 0.41600000000000004, 0.413, 0.409, 0.406, 0.40299999999999997, 0.39899999999999997, 0.396, 0.39299999999999996, 0.39, 0.387], [0.419, 0.41700000000000004, 0.414, 0.41100000000000003, 0.408, 0.406, 0.40299999999999997, 0.401, 0.39799999999999996, 0.396, 0.39399999999999996]]}, {\"annotations[0].text\": \"Revenue neutral tax rates in Rhode Island\", \"annotations[1].text\": \"Gini index in Rhode Island\"}], \"label\": \"Rhode Island\", \"method\": \"update\"}, {\"args\": [{\"y\": [[0.0, 0.6, 1.2, 1.8, 2.3, 2.9, 3.5, 4.1, 4.7, 5.3, 5.8], [0.0, 0.5, 1.1, 1.6, 2.1, 2.7, 3.2, 3.7, 4.3, 4.8, 5.3], [0.452, 0.447, 0.44299999999999995, 0.43799999999999994, 0.434, 0.43, 0.426, 0.42100000000000004, 0.41700000000000004, 0.413, 0.409], [0.452, 0.447, 0.44299999999999995, 0.43799999999999994, 0.434, 0.429, 0.425, 0.42100000000000004, 0.41700000000000004, 0.41200000000000003, 0.408], [0.452, 0.44799999999999995, 0.444, 0.441, 0.43700000000000006, 0.434, 0.431, 0.42700000000000005, 0.424, 0.42100000000000004, 0.418]]}, {\"annotations[0].text\": \"Revenue neutral tax rates in South Carolina\", \"annotations[1].text\": \"Gini index in South Carolina\"}], \"label\": \"South Carolina\", \"method\": \"update\"}, {\"args\": [{\"y\": [[0.0, 0.7, 1.3, 2.0, 2.6, 3.3, 3.9, 4.6, 5.2, 5.9, 6.5], [0.0, 0.5, 1.1, 1.6, 2.1, 2.7, 3.2, 3.7, 4.3, 4.8, 5.3], [0.43799999999999994, 0.434, 0.429, 0.425, 0.42, 0.41600000000000004, 0.41100000000000003, 0.40700000000000003, 0.40299999999999997, 0.39799999999999996, 0.39399999999999996], [0.43799999999999994, 0.434, 0.429, 0.424, 0.42, 0.415, 0.41, 0.406, 0.401, 0.397, 0.392], [0.43799999999999994, 0.434, 0.43, 0.426, 0.423, 0.419, 0.415, 0.41200000000000003, 0.408, 0.405, 0.402]]}, {\"annotations[0].text\": \"Revenue neutral tax rates in South Dakota\", \"annotations[1].text\": \"Gini index in South Dakota\"}], \"label\": \"South Dakota\", \"method\": \"update\"}, {\"args\": [{\"y\": [[0.0, 0.6, 1.2, 1.8, 2.4, 3.0, 3.6, 4.2, 4.8, 5.4, 6.0], [0.0, 0.5, 1.1, 1.6, 2.1, 2.7, 3.2, 3.7, 4.3, 4.8, 5.3], [0.452, 0.44799999999999995, 0.444, 0.439, 0.435, 0.431, 0.42700000000000005, 0.423, 0.419, 0.415, 0.41100000000000003], [0.452, 0.44799999999999995, 0.44299999999999995, 0.439, 0.435, 0.431, 0.426, 0.42200000000000004, 0.418, 0.414, 0.41], [0.452, 0.449, 0.445, 0.442, 0.439, 0.435, 0.43200000000000005, 0.429, 0.426, 0.423, 0.42]]}, {\"annotations[0].text\": \"Revenue neutral tax rates in Tennessee\", \"annotations[1].text\": \"Gini index in Tennessee\"}], \"label\": \"Tennessee\", \"method\": \"update\"}, {\"args\": [{\"y\": [[0.0, 0.7, 1.4, 2.0, 2.7, 3.4, 4.1, 4.8, 5.4, 6.1, 6.8], [0.0, 0.5, 1.1, 1.6, 2.1, 2.7, 3.2, 3.7, 4.3, 4.8, 5.3], [0.467, 0.462, 0.457, 0.452, 0.44799999999999995, 0.44299999999999995, 0.439, 0.434, 0.43, 0.425, 0.42100000000000004], [0.467, 0.462, 0.457, 0.452, 0.447, 0.442, 0.43700000000000006, 0.43200000000000005, 0.428, 0.423, 0.418], [0.467, 0.462, 0.45799999999999996, 0.455, 0.451, 0.447, 0.44299999999999995, 0.44, 0.436, 0.433, 0.43]]}, {\"annotations[0].text\": \"Revenue neutral tax rates in Texas\", \"annotations[1].text\": \"Gini index in Texas\"}], \"label\": \"Texas\", \"method\": \"update\"}, {\"args\": [{\"y\": [[0.0, 0.7, 1.5, 2.2, 3.0, 3.7, 4.5, 5.2, 6.0, 6.7, 7.5], [0.0, 0.5, 1.1, 1.6, 2.1, 2.7, 3.2, 3.7, 4.3, 4.8, 5.3], [0.42100000000000004, 0.41600000000000004, 0.41100000000000003, 0.406, 0.4, 0.395, 0.39, 0.385, 0.38, 0.376, 0.371], [0.42100000000000004, 0.41600000000000004, 0.41, 0.405, 0.39899999999999997, 0.39399999999999996, 0.38799999999999996, 0.38299999999999995, 0.37799999999999995, 0.37200000000000005, 0.36700000000000005], [0.42100000000000004, 0.41700000000000004, 0.41200000000000003, 0.408, 0.40299999999999997, 0.39899999999999997, 0.395, 0.391, 0.387, 0.38299999999999995, 0.379]]}, {\"annotations[0].text\": \"Revenue neutral tax rates in Utah\", \"annotations[1].text\": \"Gini index in Utah\"}], \"label\": \"Utah\", \"method\": \"update\"}, {\"args\": [{\"y\": [[0.0, 0.4, 0.9, 1.3, 1.7, 2.2, 2.6, 3.0, 3.5, 3.9, 4.3], [0.0, 0.5, 1.1, 1.6, 2.1, 2.7, 3.2, 3.7, 4.3, 4.8, 5.3], [0.408, 0.405, 0.401, 0.39799999999999996, 0.395, 0.391, 0.38799999999999996, 0.385, 0.382, 0.37799999999999995, 0.375], [0.408, 0.405, 0.402, 0.39799999999999996, 0.395, 0.392, 0.389, 0.386, 0.38299999999999995, 0.38, 0.377], [0.408, 0.405, 0.40299999999999997, 0.4, 0.39799999999999996, 0.395, 0.39299999999999996, 0.39, 0.38799999999999996, 0.385, 0.38299999999999995]]}, {\"annotations[0].text\": \"Revenue neutral tax rates in Vermont\", \"annotations[1].text\": \"Gini index in Vermont\"}], \"label\": \"Vermont\", \"method\": \"update\"}, {\"args\": [{\"y\": [[0.0, 0.4, 0.9, 1.3, 1.7, 2.2, 2.6, 3.0, 3.5, 3.9, 4.3], [0.0, 0.5, 1.1, 1.6, 2.1, 2.7, 3.2, 3.7, 4.3, 4.8, 5.3], [0.445, 0.441, 0.43799999999999994, 0.434, 0.43, 0.42700000000000005, 0.423, 0.42, 0.41600000000000004, 0.413, 0.409], [0.445, 0.442, 0.43799999999999994, 0.434, 0.431, 0.428, 0.424, 0.42100000000000004, 0.41700000000000004, 0.414, 0.41100000000000003], [0.445, 0.442, 0.439, 0.436, 0.433, 0.431, 0.428, 0.425, 0.423, 0.42, 0.418]]}, {\"annotations[0].text\": \"Revenue neutral tax rates in Virginia\", \"annotations[1].text\": \"Gini index in Virginia\"}], \"label\": \"Virginia\", \"method\": \"update\"}, {\"args\": [{\"y\": [[0.0, 0.4, 0.9, 1.3, 1.8, 2.2, 2.6, 3.1, 3.5, 4.0, 4.4], [0.0, 0.5, 1.1, 1.6, 2.1, 2.7, 3.2, 3.7, 4.3, 4.8, 5.3], [0.433, 0.43, 0.42700000000000005, 0.423, 0.42, 0.41700000000000004, 0.413, 0.41, 0.40700000000000003, 0.40399999999999997, 0.4], [0.433, 0.43, 0.42700000000000005, 0.424, 0.42, 0.41700000000000004, 0.414, 0.41100000000000003, 0.408, 0.405, 0.402], [0.433, 0.431, 0.428, 0.425, 0.42200000000000004, 0.42, 0.41700000000000004, 0.415, 0.41200000000000003, 0.41, 0.40700000000000003]]}, {\"annotations[0].text\": \"Revenue neutral tax rates in Washington\", \"annotations[1].text\": \"Gini index in Washington\"}], \"label\": \"Washington\", \"method\": \"update\"}, {\"args\": [{\"y\": [[0.0, 0.7, 1.4, 2.1, 2.8, 3.5, 4.3, 5.0, 5.7, 6.4, 7.1], [0.0, 0.5, 1.1, 1.6, 2.1, 2.7, 3.2, 3.7, 4.3, 4.8, 5.3], [0.41700000000000004, 0.41200000000000003, 0.408, 0.40299999999999997, 0.39899999999999997, 0.395, 0.39, 0.386, 0.382, 0.37799999999999995, 0.374], [0.41700000000000004, 0.41200000000000003, 0.40700000000000003, 0.402, 0.39799999999999996, 0.39299999999999996, 0.389, 0.384, 0.38, 0.375, 0.371], [0.41700000000000004, 0.413, 0.409, 0.406, 0.402, 0.39899999999999997, 0.396, 0.39299999999999996, 0.389, 0.386, 0.384]]}, {\"annotations[0].text\": \"Revenue neutral tax rates in West Virginia\", \"annotations[1].text\": \"Gini index in West Virginia\"}], \"label\": \"West Virginia\", \"method\": \"update\"}, {\"args\": [{\"y\": [[0.0, 0.6, 1.1, 1.7, 2.3, 2.8, 3.4, 4.0, 4.5, 5.1, 5.7], [0.0, 0.5, 1.1, 1.6, 2.1, 2.7, 3.2, 3.7, 4.3, 4.8, 5.3], [0.39299999999999996, 0.389, 0.385, 0.38, 0.376, 0.37200000000000005, 0.368, 0.364, 0.36, 0.35600000000000004, 0.35200000000000004], [0.39299999999999996, 0.389, 0.384, 0.38, 0.376, 0.37200000000000005, 0.368, 0.364, 0.36, 0.35600000000000004, 0.35200000000000004], [0.39299999999999996, 0.389, 0.386, 0.382, 0.379, 0.376, 0.37200000000000005, 0.369, 0.366, 0.363, 0.36]]}, {\"annotations[0].text\": \"Revenue neutral tax rates in Wisconsin\", \"annotations[1].text\": \"Gini index in Wisconsin\"}], \"label\": \"Wisconsin\", \"method\": \"update\"}, {\"args\": [{\"y\": [[0.0, 0.6, 1.3, 1.9, 2.5, 3.1, 3.8, 4.4, 5.0, 5.6, 6.3], [0.0, 0.5, 1.1, 1.6, 2.1, 2.7, 3.2, 3.7, 4.3, 4.8, 5.3], [0.43, 0.426, 0.42100000000000004, 0.41700000000000004, 0.41200000000000003, 0.408, 0.40399999999999997, 0.39899999999999997, 0.395, 0.391, 0.387], [0.43, 0.425, 0.42100000000000004, 0.41600000000000004, 0.41200000000000003, 0.40700000000000003, 0.40299999999999997, 0.39799999999999996, 0.39399999999999996, 0.39, 0.385], [0.43, 0.426, 0.42200000000000004, 0.419, 0.415, 0.41100000000000003, 0.408, 0.40399999999999997, 0.401, 0.39799999999999996, 0.39399999999999996]]}, {\"annotations[0].text\": \"Revenue neutral tax rates in Wyoming\", \"annotations[1].text\": \"Gini index in Wyoming\"}], \"label\": \"Wyoming\", \"method\": \"update\"}, {\"args\": [{\"y\": [[0.0, 0.2, 0.5, 0.7, 0.9, 1.2, 1.4, 1.6, 1.9, 2.1, 2.3], [0.0, 0.5, 1.1, 1.6, 2.1, 2.7, 3.2, 3.7, 4.3, 4.8, 5.3], [0.475, 0.47200000000000003, 0.47, 0.467, 0.465, 0.462, 0.45899999999999996, 0.457, 0.45399999999999996, 0.452, 0.449], [0.475, 0.47200000000000003, 0.47, 0.46799999999999997, 0.466, 0.46399999999999997, 0.462, 0.46, 0.45799999999999996, 0.456, 0.45399999999999996], [0.475, 0.473, 0.47100000000000003, 0.469, 0.467, 0.466, 0.46399999999999997, 0.462, 0.46, 0.45899999999999996, 0.457]]}, {\"annotations[0].text\": \"Revenue neutral tax rates in District of Columbia\", \"annotations[1].text\": \"Gini index in District of Columbia\"}], \"label\": \"District of Columbia\", \"method\": \"update\"}, {\"args\": [{\"y\": [[0.0, 0.5, 1.1, 1.6, 2.1, 2.7, 3.2, 3.8, 4.3, 4.8, 5.4], [0.0, 0.5, 1.1, 1.6, 2.1, 2.7, 3.2, 3.7, 4.3, 4.8, 5.3], [0.446, 0.442, 0.43799999999999994, 0.434, 0.43, 0.426, 0.42200000000000004, 0.418, 0.414, 0.41, 0.406], [0.446, 0.442, 0.43799999999999994, 0.434, 0.43, 0.426, 0.42200000000000004, 0.418, 0.414, 0.41100000000000003, 0.40700000000000003], [0.446, 0.44299999999999995, 0.439, 0.436, 0.433, 0.43, 0.42700000000000005, 0.424, 0.42100000000000004, 0.418, 0.415]]}, {\"annotations[0].text\": \"Revenue neutral tax rates in US\", \"annotations[1].text\": \"Gini index in US\"}], \"label\": \"US\", \"method\": \"update\"}], \"direction\": \"down\", \"pad\": {\"r\": 50}, \"showactive\": true}], \"xaxis\": {\"anchor\": \"y\", \"domain\": [0.0, 1.0], \"tickprefix\": \"$\", \"ticksuffix\": \"\", \"title\": {\"text\": \"Monthly child allowance\"}}, \"xaxis2\": {\"anchor\": \"y2\", \"domain\": [0.0, 1.0], \"title\": {\"text\": \"Monthly child allowance\"}}, \"yaxis\": {\"anchor\": \"x\", \"domain\": [0.625, 1.0], \"ticksuffix\": \"%\", \"title\": {\"text\": \"Tax rate on taxable income\"}}, \"yaxis2\": {\"anchor\": \"x2\", \"domain\": [0.0, 0.375], \"title\": {\"text\": \"Gini index\"}}},\n",
       "                        {\"responsive\": true}\n",
       "                    ).then(function(){\n",
       "                            \n",
       "var gd = document.getElementById('90075eb9-60b0-4119-a118-6b1a29c250f8');\n",
       "var x = new MutationObserver(function (mutations, observer) {{\n",
       "        var display = window.getComputedStyle(gd).display;\n",
       "        if (!display || display === 'none') {{\n",
       "            console.log([gd, 'removed!']);\n",
       "            Plotly.purge(gd);\n",
       "            observer.disconnect();\n",
       "        }}\n",
       "}});\n",
       "\n",
       "// Listen for the removal of the full notebook cells\n",
       "var notebookContainer = gd.closest('#notebook-container');\n",
       "if (notebookContainer) {{\n",
       "    x.observe(notebookContainer, {childList: true});\n",
       "}}\n",
       "\n",
       "// Listen for the clearing of the current output cell\n",
       "var outputEl = gd.closest('.output');\n",
       "if (outputEl) {{\n",
       "    x.observe(outputEl, {childList: true});\n",
       "}}\n",
       "\n",
       "                        })\n",
       "                };\n",
       "                });\n",
       "            </script>\n",
       "        </div>"
      ]
     },
     "metadata": {},
     "output_type": "display_data"
    }
   ],
   "source": [
    "# TODO:\n",
    "# Separate tax reform and Gini charts\n",
    "# Change labels\n",
    "# Add poverty maps\n",
    "\n",
    "\n",
    "import pandas as pd\n",
    "import plotly.express as px\n",
    "import plotly.graph_objects as go\n",
    "from plotly.subplots import make_subplots\n",
    "\n",
    "summary = pd.read_csv('https://github.com/ngpsu22/Child_Allowance_States/raw/main/poverty_gini_tax_child_allowance')\n",
    "summary.drop('Unnamed: 0', 1, inplace = True)\n",
    "\n",
    "tax = summary[(summary.race == 'All') & (summary.age_group == 'all')]\n",
    "\n",
    "x = tax.child_allowance.unique()\n",
    "state_names = tax.state.unique()\n",
    "default_state = state_names[0]\n",
    "\n",
    "REFORM = {'state_tax_rate': 'State tax rate', \n",
    "          'fed_tax_rate': 'Federal tax rate'}\n",
    "GINI = {'fed_gini': 'Gini index - federal tax',\n",
    "        'state_gini': 'Gini index - state tax',\n",
    "        'non_funded_gini': 'Gini index - deficit funded'}\n",
    "\n",
    "data_list = []\n",
    "for state in state_names:\n",
    "    state_data = tax[tax.state == state]\n",
    "    state_list = []\n",
    "    for reform in REFORM:\n",
    "        state_list.append(state_data[reform])\n",
    "    for gini in GINI:\n",
    "        state_list.append(state_data[gini])\n",
    "    data_list.append(state_list)\n",
    "\n",
    "data_columns = list(REFORM.keys()) + list(GINI.keys())\n",
    "data = pd.DataFrame(data_list, columns = data_columns)\n",
    "data['State'] = state_names\n",
    "data = data.set_index('State')\n",
    "\n",
    "def getDataList(state):\n",
    "    data_list = []\n",
    "    for dc in data_columns:\n",
    "        data_list.append(data.loc[state][dc])\n",
    "    return data_list\n",
    "\n",
    "fig = make_subplots(rows=2, cols=1, \n",
    "                    subplot_titles=(\n",
    "                        'Revenue neutral tax rates in ' + default_state,\n",
    "                        'Gini index in' + default_state))\n",
    "\n",
    "for reform in REFORM:\n",
    "    fig.add_trace(go.Scatter(\n",
    "        x=x, \n",
    "        y=tax[tax.state == default_state][reform],\n",
    "        name=REFORM[reform]),\n",
    "        row = 1, col = 1\n",
    "    )\n",
    "for gini in GINI:\n",
    "    fig.add_trace(go.Scatter(\n",
    "        x=x, \n",
    "        y=tax[tax.state == default_state][gini],\n",
    "        name=GINI[gini]),\n",
    "        row = 2, col = 1\n",
    "    )\n",
    "    \n",
    "buttons = []\n",
    "for state in state_names:\n",
    "    new_button = {'method': 'update',\n",
    "                  'label': state,\n",
    "                  'args': [{'y': getDataList(state)},\n",
    "                           {'annotations[0].text':\n",
    "                            'Revenue neutral tax rates in ' + state,\n",
    "                            'annotations[1].text':\n",
    "                            'Gini index in ' + state}\n",
    "                          ]}\n",
    "    buttons.append(new_button)\n",
    "    \n",
    "# construct menus\n",
    "updatemenus = [{'buttons': buttons,\n",
    "                'direction': 'down',\n",
    "                'showactive': True,\n",
    "                'pad':{\"r\": 50},\n",
    "               }]\n",
    "\n",
    "# update layout with buttons, and show the figure\n",
    "fig.update_layout(updatemenus=updatemenus)\n",
    "\n",
    "fig.update_xaxes(title_text='Monthly child allowance', row=1, col=1)\n",
    "fig.update_xaxes(title_text='Monthly child allowance', row=2, col=1)\n",
    "fig.update_yaxes(title_text='Tax rate on taxable income', row=1, col=1)\n",
    "fig.update_yaxes(title_text='Gini index', row=2, col=1)\n",
    "\n",
    "fig.update_layout(yaxis_ticksuffix='%',\n",
    "                  font=dict(family='Roboto'),\n",
    "                  hovermode='x', \n",
    "                  xaxis_tickprefix='$',\n",
    "                  xaxis_ticksuffix='',\n",
    "                  plot_bgcolor='white',\n",
    "                  legend_title_text='')\n",
    "\n",
    "fig.update_traces(mode='markers+lines', hovertemplate=None)\n",
    "\n",
    "fig.update_layout(height=600, margin=dict(l=0, r=0, t=100, b=0),\n",
    "                  title_text=\"Tax reform and Gini index\")\n",
    "fig"
   ]
  },
  {
   "cell_type": "markdown",
   "metadata": {},
   "source": [
    "While the new tax would hit most Americans, save the very poorest who earn less than the standard deduction, the overall distributional consequences would be positive.  For instance, the bottom decile would see their average resources rise by ________ per person with a federal $300 per month child allowance while the top 10 percent would see their average resources per person fall by "
   ]
  },
  {
   "cell_type": "code",
   "execution_count": 2,
   "metadata": {
    "tags": [
     "hide-input"
    ]
   },
   "outputs": [
    {
     "data": {
      "application/vnd.plotly.v1+json": {
       "config": {
        "displayModeBar": false,
        "plotlyServerURL": "https://plot.ly"
       },
       "data": [
        {
         "alignmentgroup": "True",
         "legendgroup": "",
         "marker": {
          "color": "#636efa"
         },
         "name": "",
         "offsetgroup": "",
         "orientation": "v",
         "showlegend": false,
         "textposition": "auto",
         "type": "bar",
         "x": [
          1,
          2,
          3,
          4,
          5,
          6,
          7,
          8,
          9,
          10
         ],
         "xaxis": "x",
         "y": [
          0,
          0,
          0,
          0,
          0,
          0,
          0,
          0,
          0,
          0
         ],
         "yaxis": "y"
        }
       ],
       "frames": [
        {
         "data": [
          {
           "alignmentgroup": "True",
           "hovertemplate": "Monthly child allowance=0<br>spm_resources_pp_decile=%{x}<br>net_chg=%{y}<extra></extra>",
           "legendgroup": "",
           "marker": {
            "color": "#636efa"
           },
           "name": "",
           "offsetgroup": "",
           "orientation": "v",
           "showlegend": false,
           "textposition": "auto",
           "type": "bar",
           "x": [
            1,
            2,
            3,
            4,
            5,
            6,
            7,
            8,
            9,
            10
           ],
           "xaxis": "x",
           "y": [
            0,
            0,
            0,
            0,
            0,
            0,
            0,
            0,
            0,
            0
           ],
           "yaxis": "y"
          }
         ],
         "name": "0"
        },
        {
         "data": [
          {
           "alignmentgroup": "True",
           "hovertemplate": "Monthly child allowance=25<br>spm_resources_pp_decile=%{x}<br>net_chg=%{y}<extra></extra>",
           "legendgroup": "",
           "marker": {
            "color": "#636efa"
           },
           "name": "",
           "offsetgroup": "",
           "orientation": "v",
           "showlegend": false,
           "textposition": "auto",
           "type": "bar",
           "x": [
            1,
            2,
            3,
            4,
            5,
            6,
            7,
            8,
            9,
            10
           ],
           "xaxis": "x",
           "y": [
            256,
            301,
            181,
            122,
            68,
            7,
            -59,
            -127,
            -214,
            -535
           ],
           "yaxis": "y"
          }
         ],
         "name": "25"
        },
        {
         "data": [
          {
           "alignmentgroup": "True",
           "hovertemplate": "Monthly child allowance=50<br>spm_resources_pp_decile=%{x}<br>net_chg=%{y}<extra></extra>",
           "legendgroup": "",
           "marker": {
            "color": "#636efa"
           },
           "name": "",
           "offsetgroup": "",
           "orientation": "v",
           "showlegend": false,
           "textposition": "auto",
           "type": "bar",
           "x": [
            1,
            2,
            3,
            4,
            5,
            6,
            7,
            8,
            9,
            10
           ],
           "xaxis": "x",
           "y": [
            512,
            602,
            361,
            245,
            137,
            14,
            -119,
            -254,
            -428,
            -1070
           ],
           "yaxis": "y"
          }
         ],
         "name": "50"
        },
        {
         "data": [
          {
           "alignmentgroup": "True",
           "hovertemplate": "Monthly child allowance=75<br>spm_resources_pp_decile=%{x}<br>net_chg=%{y}<extra></extra>",
           "legendgroup": "",
           "marker": {
            "color": "#636efa"
           },
           "name": "",
           "offsetgroup": "",
           "orientation": "v",
           "showlegend": false,
           "textposition": "auto",
           "type": "bar",
           "x": [
            1,
            2,
            3,
            4,
            5,
            6,
            7,
            8,
            9,
            10
           ],
           "xaxis": "x",
           "y": [
            767,
            903,
            542,
            367,
            205,
            21,
            -178,
            -381,
            -642,
            -1604
           ],
           "yaxis": "y"
          }
         ],
         "name": "75"
        },
        {
         "data": [
          {
           "alignmentgroup": "True",
           "hovertemplate": "Monthly child allowance=100<br>spm_resources_pp_decile=%{x}<br>net_chg=%{y}<extra></extra>",
           "legendgroup": "",
           "marker": {
            "color": "#636efa"
           },
           "name": "",
           "offsetgroup": "",
           "orientation": "v",
           "showlegend": false,
           "textposition": "auto",
           "type": "bar",
           "x": [
            1,
            2,
            3,
            4,
            5,
            6,
            7,
            8,
            9,
            10
           ],
           "xaxis": "x",
           "y": [
            1023,
            1205,
            723,
            489,
            274,
            28,
            -238,
            -508,
            -857,
            -2139
           ],
           "yaxis": "y"
          }
         ],
         "name": "100"
        },
        {
         "data": [
          {
           "alignmentgroup": "True",
           "hovertemplate": "Monthly child allowance=125<br>spm_resources_pp_decile=%{x}<br>net_chg=%{y}<extra></extra>",
           "legendgroup": "",
           "marker": {
            "color": "#636efa"
           },
           "name": "",
           "offsetgroup": "",
           "orientation": "v",
           "showlegend": false,
           "textposition": "auto",
           "type": "bar",
           "x": [
            1,
            2,
            3,
            4,
            5,
            6,
            7,
            8,
            9,
            10
           ],
           "xaxis": "x",
           "y": [
            1279,
            1506,
            903,
            611,
            342,
            35,
            -297,
            -635,
            -1071,
            -2674
           ],
           "yaxis": "y"
          }
         ],
         "name": "125"
        },
        {
         "data": [
          {
           "alignmentgroup": "True",
           "hovertemplate": "Monthly child allowance=150<br>spm_resources_pp_decile=%{x}<br>net_chg=%{y}<extra></extra>",
           "legendgroup": "",
           "marker": {
            "color": "#636efa"
           },
           "name": "",
           "offsetgroup": "",
           "orientation": "v",
           "showlegend": false,
           "textposition": "auto",
           "type": "bar",
           "x": [
            1,
            2,
            3,
            4,
            5,
            6,
            7,
            8,
            9,
            10
           ],
           "xaxis": "x",
           "y": [
            1535,
            1807,
            1084,
            734,
            410,
            42,
            -356,
            -762,
            -1285,
            -3209
           ],
           "yaxis": "y"
          }
         ],
         "name": "150"
        },
        {
         "data": [
          {
           "alignmentgroup": "True",
           "hovertemplate": "Monthly child allowance=175<br>spm_resources_pp_decile=%{x}<br>net_chg=%{y}<extra></extra>",
           "legendgroup": "",
           "marker": {
            "color": "#636efa"
           },
           "name": "",
           "offsetgroup": "",
           "orientation": "v",
           "showlegend": false,
           "textposition": "auto",
           "type": "bar",
           "x": [
            1,
            2,
            3,
            4,
            5,
            6,
            7,
            8,
            9,
            10
           ],
           "xaxis": "x",
           "y": [
            1791,
            2108,
            1265,
            856,
            479,
            49,
            -416,
            -889,
            -1499,
            -3743
           ],
           "yaxis": "y"
          }
         ],
         "name": "175"
        },
        {
         "data": [
          {
           "alignmentgroup": "True",
           "hovertemplate": "Monthly child allowance=200<br>spm_resources_pp_decile=%{x}<br>net_chg=%{y}<extra></extra>",
           "legendgroup": "",
           "marker": {
            "color": "#636efa"
           },
           "name": "",
           "offsetgroup": "",
           "orientation": "v",
           "showlegend": false,
           "textposition": "auto",
           "type": "bar",
           "x": [
            1,
            2,
            3,
            4,
            5,
            6,
            7,
            8,
            9,
            10
           ],
           "xaxis": "x",
           "y": [
            2047,
            2409,
            1446,
            978,
            547,
            56,
            -475,
            -1016,
            -1713,
            -4278
           ],
           "yaxis": "y"
          }
         ],
         "name": "200"
        },
        {
         "data": [
          {
           "alignmentgroup": "True",
           "hovertemplate": "Monthly child allowance=225<br>spm_resources_pp_decile=%{x}<br>net_chg=%{y}<extra></extra>",
           "legendgroup": "",
           "marker": {
            "color": "#636efa"
           },
           "name": "",
           "offsetgroup": "",
           "orientation": "v",
           "showlegend": false,
           "textposition": "auto",
           "type": "bar",
           "x": [
            1,
            2,
            3,
            4,
            5,
            6,
            7,
            8,
            9,
            10
           ],
           "xaxis": "x",
           "y": [
            2302,
            2710,
            1626,
            1100,
            616,
            63,
            -535,
            -1143,
            -1927,
            -4813
           ],
           "yaxis": "y"
          }
         ],
         "name": "225"
        },
        {
         "data": [
          {
           "alignmentgroup": "True",
           "hovertemplate": "Monthly child allowance=250<br>spm_resources_pp_decile=%{x}<br>net_chg=%{y}<extra></extra>",
           "legendgroup": "",
           "marker": {
            "color": "#636efa"
           },
           "name": "",
           "offsetgroup": "",
           "orientation": "v",
           "showlegend": false,
           "textposition": "auto",
           "type": "bar",
           "x": [
            1,
            2,
            3,
            4,
            5,
            6,
            7,
            8,
            9,
            10
           ],
           "xaxis": "x",
           "y": [
            2558,
            3011,
            1807,
            1223,
            684,
            70,
            -594,
            -1270,
            -2141,
            -5348
           ],
           "yaxis": "y"
          }
         ],
         "name": "250"
        },
        {
         "data": [
          {
           "alignmentgroup": "True",
           "hovertemplate": "Monthly child allowance=275<br>spm_resources_pp_decile=%{x}<br>net_chg=%{y}<extra></extra>",
           "legendgroup": "",
           "marker": {
            "color": "#636efa"
           },
           "name": "",
           "offsetgroup": "",
           "orientation": "v",
           "showlegend": false,
           "textposition": "auto",
           "type": "bar",
           "x": [
            1,
            2,
            3,
            4,
            5,
            6,
            7,
            8,
            9,
            10
           ],
           "xaxis": "x",
           "y": [
            2814,
            3313,
            1988,
            1345,
            752,
            77,
            -653,
            -1397,
            -2356,
            -5883
           ],
           "yaxis": "y"
          }
         ],
         "name": "275"
        },
        {
         "data": [
          {
           "alignmentgroup": "True",
           "hovertemplate": "Monthly child allowance=300<br>spm_resources_pp_decile=%{x}<br>net_chg=%{y}<extra></extra>",
           "legendgroup": "",
           "marker": {
            "color": "#636efa"
           },
           "name": "",
           "offsetgroup": "",
           "orientation": "v",
           "showlegend": false,
           "textposition": "auto",
           "type": "bar",
           "x": [
            1,
            2,
            3,
            4,
            5,
            6,
            7,
            8,
            9,
            10
           ],
           "xaxis": "x",
           "y": [
            3070,
            3614,
            2168,
            1467,
            821,
            84,
            -713,
            -1524,
            -2570,
            -6417
           ],
           "yaxis": "y"
          }
         ],
         "name": "300"
        },
        {
         "data": [
          {
           "alignmentgroup": "True",
           "hovertemplate": "Monthly child allowance=325<br>spm_resources_pp_decile=%{x}<br>net_chg=%{y}<extra></extra>",
           "legendgroup": "",
           "marker": {
            "color": "#636efa"
           },
           "name": "",
           "offsetgroup": "",
           "orientation": "v",
           "showlegend": false,
           "textposition": "auto",
           "type": "bar",
           "x": [
            1,
            2,
            3,
            4,
            5,
            6,
            7,
            8,
            9,
            10
           ],
           "xaxis": "x",
           "y": [
            3326,
            3915,
            2349,
            1589,
            889,
            91,
            -772,
            -1651,
            -2784,
            -6952
           ],
           "yaxis": "y"
          }
         ],
         "name": "325"
        },
        {
         "data": [
          {
           "alignmentgroup": "True",
           "hovertemplate": "Monthly child allowance=350<br>spm_resources_pp_decile=%{x}<br>net_chg=%{y}<extra></extra>",
           "legendgroup": "",
           "marker": {
            "color": "#636efa"
           },
           "name": "",
           "offsetgroup": "",
           "orientation": "v",
           "showlegend": false,
           "textposition": "auto",
           "type": "bar",
           "x": [
            1,
            2,
            3,
            4,
            5,
            6,
            7,
            8,
            9,
            10
           ],
           "xaxis": "x",
           "y": [
            3581,
            4216,
            2530,
            1712,
            958,
            98,
            -832,
            -1778,
            -2998,
            -7487
           ],
           "yaxis": "y"
          }
         ],
         "name": "350"
        },
        {
         "data": [
          {
           "alignmentgroup": "True",
           "hovertemplate": "Monthly child allowance=375<br>spm_resources_pp_decile=%{x}<br>net_chg=%{y}<extra></extra>",
           "legendgroup": "",
           "marker": {
            "color": "#636efa"
           },
           "name": "",
           "offsetgroup": "",
           "orientation": "v",
           "showlegend": false,
           "textposition": "auto",
           "type": "bar",
           "x": [
            1,
            2,
            3,
            4,
            5,
            6,
            7,
            8,
            9,
            10
           ],
           "xaxis": "x",
           "y": [
            3837,
            4517,
            2710,
            1834,
            1026,
            105,
            -891,
            -1905,
            -3212,
            -8022
           ],
           "yaxis": "y"
          }
         ],
         "name": "375"
        },
        {
         "data": [
          {
           "alignmentgroup": "True",
           "hovertemplate": "Monthly child allowance=400<br>spm_resources_pp_decile=%{x}<br>net_chg=%{y}<extra></extra>",
           "legendgroup": "",
           "marker": {
            "color": "#636efa"
           },
           "name": "",
           "offsetgroup": "",
           "orientation": "v",
           "showlegend": false,
           "textposition": "auto",
           "type": "bar",
           "x": [
            1,
            2,
            3,
            4,
            5,
            6,
            7,
            8,
            9,
            10
           ],
           "xaxis": "x",
           "y": [
            4093,
            4818,
            2891,
            1956,
            1095,
            112,
            -950,
            -2032,
            -3426,
            -8556
           ],
           "yaxis": "y"
          }
         ],
         "name": "400"
        },
        {
         "data": [
          {
           "alignmentgroup": "True",
           "hovertemplate": "Monthly child allowance=425<br>spm_resources_pp_decile=%{x}<br>net_chg=%{y}<extra></extra>",
           "legendgroup": "",
           "marker": {
            "color": "#636efa"
           },
           "name": "",
           "offsetgroup": "",
           "orientation": "v",
           "showlegend": false,
           "textposition": "auto",
           "type": "bar",
           "x": [
            1,
            2,
            3,
            4,
            5,
            6,
            7,
            8,
            9,
            10
           ],
           "xaxis": "x",
           "y": [
            4349,
            5119,
            3072,
            2078,
            1163,
            119,
            -1010,
            -2158,
            -3640,
            -9091
           ],
           "yaxis": "y"
          }
         ],
         "name": "425"
        },
        {
         "data": [
          {
           "alignmentgroup": "True",
           "hovertemplate": "Monthly child allowance=450<br>spm_resources_pp_decile=%{x}<br>net_chg=%{y}<extra></extra>",
           "legendgroup": "",
           "marker": {
            "color": "#636efa"
           },
           "name": "",
           "offsetgroup": "",
           "orientation": "v",
           "showlegend": false,
           "textposition": "auto",
           "type": "bar",
           "x": [
            1,
            2,
            3,
            4,
            5,
            6,
            7,
            8,
            9,
            10
           ],
           "xaxis": "x",
           "y": [
            4605,
            5421,
            3252,
            2201,
            1231,
            126,
            -1069,
            -2285,
            -3855,
            -9626
           ],
           "yaxis": "y"
          }
         ],
         "name": "450"
        },
        {
         "data": [
          {
           "alignmentgroup": "True",
           "hovertemplate": "Monthly child allowance=475<br>spm_resources_pp_decile=%{x}<br>net_chg=%{y}<extra></extra>",
           "legendgroup": "",
           "marker": {
            "color": "#636efa"
           },
           "name": "",
           "offsetgroup": "",
           "orientation": "v",
           "showlegend": false,
           "textposition": "auto",
           "type": "bar",
           "x": [
            1,
            2,
            3,
            4,
            5,
            6,
            7,
            8,
            9,
            10
           ],
           "xaxis": "x",
           "y": [
            4861,
            5722,
            3433,
            2323,
            1300,
            133,
            -1129,
            -2412,
            -4069,
            -10161
           ],
           "yaxis": "y"
          }
         ],
         "name": "475"
        },
        {
         "data": [
          {
           "alignmentgroup": "True",
           "hovertemplate": "Monthly child allowance=500<br>spm_resources_pp_decile=%{x}<br>net_chg=%{y}<extra></extra>",
           "legendgroup": "",
           "marker": {
            "color": "#636efa"
           },
           "name": "",
           "offsetgroup": "",
           "orientation": "v",
           "showlegend": false,
           "textposition": "auto",
           "type": "bar",
           "x": [
            1,
            2,
            3,
            4,
            5,
            6,
            7,
            8,
            9,
            10
           ],
           "xaxis": "x",
           "y": [
            5116,
            6023,
            3614,
            2445,
            1368,
            140,
            -1188,
            -2539,
            -4283,
            -10696
           ],
           "yaxis": "y"
          }
         ],
         "name": "500"
        }
       ],
       "layout": {
        "barmode": "relative",
        "font": {
         "family": "Roboto"
        },
        "legend": {
         "tracegroupgap": 0
        },
        "margin": {
         "t": 60
        },
        "plot_bgcolor": "white",
        "sliders": [
         {
          "active": 0,
          "currentvalue": {
           "prefix": "Monthly child allowance="
          },
          "len": 0.9,
          "pad": {
           "b": 10,
           "t": 60
          },
          "steps": [
           {
            "args": [
             [
              "0"
             ],
             {
              "frame": {
               "duration": 0,
               "redraw": true
              },
              "fromcurrent": true,
              "mode": "immediate",
              "transition": {
               "duration": 0,
               "easing": "linear"
              }
             }
            ],
            "label": "0",
            "method": "animate"
           },
           {
            "args": [
             [
              "25"
             ],
             {
              "frame": {
               "duration": 0,
               "redraw": true
              },
              "fromcurrent": true,
              "mode": "immediate",
              "transition": {
               "duration": 0,
               "easing": "linear"
              }
             }
            ],
            "label": "25",
            "method": "animate"
           },
           {
            "args": [
             [
              "50"
             ],
             {
              "frame": {
               "duration": 0,
               "redraw": true
              },
              "fromcurrent": true,
              "mode": "immediate",
              "transition": {
               "duration": 0,
               "easing": "linear"
              }
             }
            ],
            "label": "50",
            "method": "animate"
           },
           {
            "args": [
             [
              "75"
             ],
             {
              "frame": {
               "duration": 0,
               "redraw": true
              },
              "fromcurrent": true,
              "mode": "immediate",
              "transition": {
               "duration": 0,
               "easing": "linear"
              }
             }
            ],
            "label": "75",
            "method": "animate"
           },
           {
            "args": [
             [
              "100"
             ],
             {
              "frame": {
               "duration": 0,
               "redraw": true
              },
              "fromcurrent": true,
              "mode": "immediate",
              "transition": {
               "duration": 0,
               "easing": "linear"
              }
             }
            ],
            "label": "100",
            "method": "animate"
           },
           {
            "args": [
             [
              "125"
             ],
             {
              "frame": {
               "duration": 0,
               "redraw": true
              },
              "fromcurrent": true,
              "mode": "immediate",
              "transition": {
               "duration": 0,
               "easing": "linear"
              }
             }
            ],
            "label": "125",
            "method": "animate"
           },
           {
            "args": [
             [
              "150"
             ],
             {
              "frame": {
               "duration": 0,
               "redraw": true
              },
              "fromcurrent": true,
              "mode": "immediate",
              "transition": {
               "duration": 0,
               "easing": "linear"
              }
             }
            ],
            "label": "150",
            "method": "animate"
           },
           {
            "args": [
             [
              "175"
             ],
             {
              "frame": {
               "duration": 0,
               "redraw": true
              },
              "fromcurrent": true,
              "mode": "immediate",
              "transition": {
               "duration": 0,
               "easing": "linear"
              }
             }
            ],
            "label": "175",
            "method": "animate"
           },
           {
            "args": [
             [
              "200"
             ],
             {
              "frame": {
               "duration": 0,
               "redraw": true
              },
              "fromcurrent": true,
              "mode": "immediate",
              "transition": {
               "duration": 0,
               "easing": "linear"
              }
             }
            ],
            "label": "200",
            "method": "animate"
           },
           {
            "args": [
             [
              "225"
             ],
             {
              "frame": {
               "duration": 0,
               "redraw": true
              },
              "fromcurrent": true,
              "mode": "immediate",
              "transition": {
               "duration": 0,
               "easing": "linear"
              }
             }
            ],
            "label": "225",
            "method": "animate"
           },
           {
            "args": [
             [
              "250"
             ],
             {
              "frame": {
               "duration": 0,
               "redraw": true
              },
              "fromcurrent": true,
              "mode": "immediate",
              "transition": {
               "duration": 0,
               "easing": "linear"
              }
             }
            ],
            "label": "250",
            "method": "animate"
           },
           {
            "args": [
             [
              "275"
             ],
             {
              "frame": {
               "duration": 0,
               "redraw": true
              },
              "fromcurrent": true,
              "mode": "immediate",
              "transition": {
               "duration": 0,
               "easing": "linear"
              }
             }
            ],
            "label": "275",
            "method": "animate"
           },
           {
            "args": [
             [
              "300"
             ],
             {
              "frame": {
               "duration": 0,
               "redraw": true
              },
              "fromcurrent": true,
              "mode": "immediate",
              "transition": {
               "duration": 0,
               "easing": "linear"
              }
             }
            ],
            "label": "300",
            "method": "animate"
           },
           {
            "args": [
             [
              "325"
             ],
             {
              "frame": {
               "duration": 0,
               "redraw": true
              },
              "fromcurrent": true,
              "mode": "immediate",
              "transition": {
               "duration": 0,
               "easing": "linear"
              }
             }
            ],
            "label": "325",
            "method": "animate"
           },
           {
            "args": [
             [
              "350"
             ],
             {
              "frame": {
               "duration": 0,
               "redraw": true
              },
              "fromcurrent": true,
              "mode": "immediate",
              "transition": {
               "duration": 0,
               "easing": "linear"
              }
             }
            ],
            "label": "350",
            "method": "animate"
           },
           {
            "args": [
             [
              "375"
             ],
             {
              "frame": {
               "duration": 0,
               "redraw": true
              },
              "fromcurrent": true,
              "mode": "immediate",
              "transition": {
               "duration": 0,
               "easing": "linear"
              }
             }
            ],
            "label": "375",
            "method": "animate"
           },
           {
            "args": [
             [
              "400"
             ],
             {
              "frame": {
               "duration": 0,
               "redraw": true
              },
              "fromcurrent": true,
              "mode": "immediate",
              "transition": {
               "duration": 0,
               "easing": "linear"
              }
             }
            ],
            "label": "400",
            "method": "animate"
           },
           {
            "args": [
             [
              "425"
             ],
             {
              "frame": {
               "duration": 0,
               "redraw": true
              },
              "fromcurrent": true,
              "mode": "immediate",
              "transition": {
               "duration": 0,
               "easing": "linear"
              }
             }
            ],
            "label": "425",
            "method": "animate"
           },
           {
            "args": [
             [
              "450"
             ],
             {
              "frame": {
               "duration": 0,
               "redraw": true
              },
              "fromcurrent": true,
              "mode": "immediate",
              "transition": {
               "duration": 0,
               "easing": "linear"
              }
             }
            ],
            "label": "450",
            "method": "animate"
           },
           {
            "args": [
             [
              "475"
             ],
             {
              "frame": {
               "duration": 0,
               "redraw": true
              },
              "fromcurrent": true,
              "mode": "immediate",
              "transition": {
               "duration": 0,
               "easing": "linear"
              }
             }
            ],
            "label": "475",
            "method": "animate"
           },
           {
            "args": [
             [
              "500"
             ],
             {
              "frame": {
               "duration": 0,
               "redraw": true
              },
              "fromcurrent": true,
              "mode": "immediate",
              "transition": {
               "duration": 0,
               "easing": "linear"
              }
             }
            ],
            "label": "500",
            "method": "animate"
           }
          ],
          "x": 0.1,
          "xanchor": "left",
          "y": 0,
          "yanchor": "top"
         }
        ],
        "template": {
         "data": {
          "bar": [
           {
            "error_x": {
             "color": "#2a3f5f"
            },
            "error_y": {
             "color": "#2a3f5f"
            },
            "marker": {
             "line": {
              "color": "#E5ECF6",
              "width": 0.5
             }
            },
            "type": "bar"
           }
          ],
          "barpolar": [
           {
            "marker": {
             "line": {
              "color": "#E5ECF6",
              "width": 0.5
             }
            },
            "type": "barpolar"
           }
          ],
          "carpet": [
           {
            "aaxis": {
             "endlinecolor": "#2a3f5f",
             "gridcolor": "white",
             "linecolor": "white",
             "minorgridcolor": "white",
             "startlinecolor": "#2a3f5f"
            },
            "baxis": {
             "endlinecolor": "#2a3f5f",
             "gridcolor": "white",
             "linecolor": "white",
             "minorgridcolor": "white",
             "startlinecolor": "#2a3f5f"
            },
            "type": "carpet"
           }
          ],
          "choropleth": [
           {
            "colorbar": {
             "outlinewidth": 0,
             "ticks": ""
            },
            "type": "choropleth"
           }
          ],
          "contour": [
           {
            "colorbar": {
             "outlinewidth": 0,
             "ticks": ""
            },
            "colorscale": [
             [
              0,
              "#0d0887"
             ],
             [
              0.1111111111111111,
              "#46039f"
             ],
             [
              0.2222222222222222,
              "#7201a8"
             ],
             [
              0.3333333333333333,
              "#9c179e"
             ],
             [
              0.4444444444444444,
              "#bd3786"
             ],
             [
              0.5555555555555556,
              "#d8576b"
             ],
             [
              0.6666666666666666,
              "#ed7953"
             ],
             [
              0.7777777777777778,
              "#fb9f3a"
             ],
             [
              0.8888888888888888,
              "#fdca26"
             ],
             [
              1,
              "#f0f921"
             ]
            ],
            "type": "contour"
           }
          ],
          "contourcarpet": [
           {
            "colorbar": {
             "outlinewidth": 0,
             "ticks": ""
            },
            "type": "contourcarpet"
           }
          ],
          "heatmap": [
           {
            "colorbar": {
             "outlinewidth": 0,
             "ticks": ""
            },
            "colorscale": [
             [
              0,
              "#0d0887"
             ],
             [
              0.1111111111111111,
              "#46039f"
             ],
             [
              0.2222222222222222,
              "#7201a8"
             ],
             [
              0.3333333333333333,
              "#9c179e"
             ],
             [
              0.4444444444444444,
              "#bd3786"
             ],
             [
              0.5555555555555556,
              "#d8576b"
             ],
             [
              0.6666666666666666,
              "#ed7953"
             ],
             [
              0.7777777777777778,
              "#fb9f3a"
             ],
             [
              0.8888888888888888,
              "#fdca26"
             ],
             [
              1,
              "#f0f921"
             ]
            ],
            "type": "heatmap"
           }
          ],
          "heatmapgl": [
           {
            "colorbar": {
             "outlinewidth": 0,
             "ticks": ""
            },
            "colorscale": [
             [
              0,
              "#0d0887"
             ],
             [
              0.1111111111111111,
              "#46039f"
             ],
             [
              0.2222222222222222,
              "#7201a8"
             ],
             [
              0.3333333333333333,
              "#9c179e"
             ],
             [
              0.4444444444444444,
              "#bd3786"
             ],
             [
              0.5555555555555556,
              "#d8576b"
             ],
             [
              0.6666666666666666,
              "#ed7953"
             ],
             [
              0.7777777777777778,
              "#fb9f3a"
             ],
             [
              0.8888888888888888,
              "#fdca26"
             ],
             [
              1,
              "#f0f921"
             ]
            ],
            "type": "heatmapgl"
           }
          ],
          "histogram": [
           {
            "marker": {
             "colorbar": {
              "outlinewidth": 0,
              "ticks": ""
             }
            },
            "type": "histogram"
           }
          ],
          "histogram2d": [
           {
            "colorbar": {
             "outlinewidth": 0,
             "ticks": ""
            },
            "colorscale": [
             [
              0,
              "#0d0887"
             ],
             [
              0.1111111111111111,
              "#46039f"
             ],
             [
              0.2222222222222222,
              "#7201a8"
             ],
             [
              0.3333333333333333,
              "#9c179e"
             ],
             [
              0.4444444444444444,
              "#bd3786"
             ],
             [
              0.5555555555555556,
              "#d8576b"
             ],
             [
              0.6666666666666666,
              "#ed7953"
             ],
             [
              0.7777777777777778,
              "#fb9f3a"
             ],
             [
              0.8888888888888888,
              "#fdca26"
             ],
             [
              1,
              "#f0f921"
             ]
            ],
            "type": "histogram2d"
           }
          ],
          "histogram2dcontour": [
           {
            "colorbar": {
             "outlinewidth": 0,
             "ticks": ""
            },
            "colorscale": [
             [
              0,
              "#0d0887"
             ],
             [
              0.1111111111111111,
              "#46039f"
             ],
             [
              0.2222222222222222,
              "#7201a8"
             ],
             [
              0.3333333333333333,
              "#9c179e"
             ],
             [
              0.4444444444444444,
              "#bd3786"
             ],
             [
              0.5555555555555556,
              "#d8576b"
             ],
             [
              0.6666666666666666,
              "#ed7953"
             ],
             [
              0.7777777777777778,
              "#fb9f3a"
             ],
             [
              0.8888888888888888,
              "#fdca26"
             ],
             [
              1,
              "#f0f921"
             ]
            ],
            "type": "histogram2dcontour"
           }
          ],
          "mesh3d": [
           {
            "colorbar": {
             "outlinewidth": 0,
             "ticks": ""
            },
            "type": "mesh3d"
           }
          ],
          "parcoords": [
           {
            "line": {
             "colorbar": {
              "outlinewidth": 0,
              "ticks": ""
             }
            },
            "type": "parcoords"
           }
          ],
          "pie": [
           {
            "automargin": true,
            "type": "pie"
           }
          ],
          "scatter": [
           {
            "marker": {
             "colorbar": {
              "outlinewidth": 0,
              "ticks": ""
             }
            },
            "type": "scatter"
           }
          ],
          "scatter3d": [
           {
            "line": {
             "colorbar": {
              "outlinewidth": 0,
              "ticks": ""
             }
            },
            "marker": {
             "colorbar": {
              "outlinewidth": 0,
              "ticks": ""
             }
            },
            "type": "scatter3d"
           }
          ],
          "scattercarpet": [
           {
            "marker": {
             "colorbar": {
              "outlinewidth": 0,
              "ticks": ""
             }
            },
            "type": "scattercarpet"
           }
          ],
          "scattergeo": [
           {
            "marker": {
             "colorbar": {
              "outlinewidth": 0,
              "ticks": ""
             }
            },
            "type": "scattergeo"
           }
          ],
          "scattergl": [
           {
            "marker": {
             "colorbar": {
              "outlinewidth": 0,
              "ticks": ""
             }
            },
            "type": "scattergl"
           }
          ],
          "scattermapbox": [
           {
            "marker": {
             "colorbar": {
              "outlinewidth": 0,
              "ticks": ""
             }
            },
            "type": "scattermapbox"
           }
          ],
          "scatterpolar": [
           {
            "marker": {
             "colorbar": {
              "outlinewidth": 0,
              "ticks": ""
             }
            },
            "type": "scatterpolar"
           }
          ],
          "scatterpolargl": [
           {
            "marker": {
             "colorbar": {
              "outlinewidth": 0,
              "ticks": ""
             }
            },
            "type": "scatterpolargl"
           }
          ],
          "scatterternary": [
           {
            "marker": {
             "colorbar": {
              "outlinewidth": 0,
              "ticks": ""
             }
            },
            "type": "scatterternary"
           }
          ],
          "surface": [
           {
            "colorbar": {
             "outlinewidth": 0,
             "ticks": ""
            },
            "colorscale": [
             [
              0,
              "#0d0887"
             ],
             [
              0.1111111111111111,
              "#46039f"
             ],
             [
              0.2222222222222222,
              "#7201a8"
             ],
             [
              0.3333333333333333,
              "#9c179e"
             ],
             [
              0.4444444444444444,
              "#bd3786"
             ],
             [
              0.5555555555555556,
              "#d8576b"
             ],
             [
              0.6666666666666666,
              "#ed7953"
             ],
             [
              0.7777777777777778,
              "#fb9f3a"
             ],
             [
              0.8888888888888888,
              "#fdca26"
             ],
             [
              1,
              "#f0f921"
             ]
            ],
            "type": "surface"
           }
          ],
          "table": [
           {
            "cells": {
             "fill": {
              "color": "#EBF0F8"
             },
             "line": {
              "color": "white"
             }
            },
            "header": {
             "fill": {
              "color": "#C8D4E3"
             },
             "line": {
              "color": "white"
             }
            },
            "type": "table"
           }
          ]
         },
         "layout": {
          "annotationdefaults": {
           "arrowcolor": "#2a3f5f",
           "arrowhead": 0,
           "arrowwidth": 1
          },
          "coloraxis": {
           "colorbar": {
            "outlinewidth": 0,
            "ticks": ""
           }
          },
          "colorscale": {
           "diverging": [
            [
             0,
             "#8e0152"
            ],
            [
             0.1,
             "#c51b7d"
            ],
            [
             0.2,
             "#de77ae"
            ],
            [
             0.3,
             "#f1b6da"
            ],
            [
             0.4,
             "#fde0ef"
            ],
            [
             0.5,
             "#f7f7f7"
            ],
            [
             0.6,
             "#e6f5d0"
            ],
            [
             0.7,
             "#b8e186"
            ],
            [
             0.8,
             "#7fbc41"
            ],
            [
             0.9,
             "#4d9221"
            ],
            [
             1,
             "#276419"
            ]
           ],
           "sequential": [
            [
             0,
             "#0d0887"
            ],
            [
             0.1111111111111111,
             "#46039f"
            ],
            [
             0.2222222222222222,
             "#7201a8"
            ],
            [
             0.3333333333333333,
             "#9c179e"
            ],
            [
             0.4444444444444444,
             "#bd3786"
            ],
            [
             0.5555555555555556,
             "#d8576b"
            ],
            [
             0.6666666666666666,
             "#ed7953"
            ],
            [
             0.7777777777777778,
             "#fb9f3a"
            ],
            [
             0.8888888888888888,
             "#fdca26"
            ],
            [
             1,
             "#f0f921"
            ]
           ],
           "sequentialminus": [
            [
             0,
             "#0d0887"
            ],
            [
             0.1111111111111111,
             "#46039f"
            ],
            [
             0.2222222222222222,
             "#7201a8"
            ],
            [
             0.3333333333333333,
             "#9c179e"
            ],
            [
             0.4444444444444444,
             "#bd3786"
            ],
            [
             0.5555555555555556,
             "#d8576b"
            ],
            [
             0.6666666666666666,
             "#ed7953"
            ],
            [
             0.7777777777777778,
             "#fb9f3a"
            ],
            [
             0.8888888888888888,
             "#fdca26"
            ],
            [
             1,
             "#f0f921"
            ]
           ]
          },
          "colorway": [
           "#636efa",
           "#EF553B",
           "#00cc96",
           "#ab63fa",
           "#FFA15A",
           "#19d3f3",
           "#FF6692",
           "#B6E880",
           "#FF97FF",
           "#FECB52"
          ],
          "font": {
           "color": "#2a3f5f"
          },
          "geo": {
           "bgcolor": "white",
           "lakecolor": "white",
           "landcolor": "#E5ECF6",
           "showlakes": true,
           "showland": true,
           "subunitcolor": "white"
          },
          "hoverlabel": {
           "align": "left"
          },
          "hovermode": "closest",
          "mapbox": {
           "style": "light"
          },
          "paper_bgcolor": "white",
          "plot_bgcolor": "#E5ECF6",
          "polar": {
           "angularaxis": {
            "gridcolor": "white",
            "linecolor": "white",
            "ticks": ""
           },
           "bgcolor": "#E5ECF6",
           "radialaxis": {
            "gridcolor": "white",
            "linecolor": "white",
            "ticks": ""
           }
          },
          "scene": {
           "xaxis": {
            "backgroundcolor": "#E5ECF6",
            "gridcolor": "white",
            "gridwidth": 2,
            "linecolor": "white",
            "showbackground": true,
            "ticks": "",
            "zerolinecolor": "white"
           },
           "yaxis": {
            "backgroundcolor": "#E5ECF6",
            "gridcolor": "white",
            "gridwidth": 2,
            "linecolor": "white",
            "showbackground": true,
            "ticks": "",
            "zerolinecolor": "white"
           },
           "zaxis": {
            "backgroundcolor": "#E5ECF6",
            "gridcolor": "white",
            "gridwidth": 2,
            "linecolor": "white",
            "showbackground": true,
            "ticks": "",
            "zerolinecolor": "white"
           }
          },
          "shapedefaults": {
           "line": {
            "color": "#2a3f5f"
           }
          },
          "ternary": {
           "aaxis": {
            "gridcolor": "white",
            "linecolor": "white",
            "ticks": ""
           },
           "baxis": {
            "gridcolor": "white",
            "linecolor": "white",
            "ticks": ""
           },
           "bgcolor": "#E5ECF6",
           "caxis": {
            "gridcolor": "white",
            "linecolor": "white",
            "ticks": ""
           }
          },
          "title": {
           "x": 0.05
          },
          "xaxis": {
           "automargin": true,
           "gridcolor": "white",
           "linecolor": "white",
           "ticks": "",
           "title": {
            "standoff": 15
           },
           "zerolinecolor": "white",
           "zerolinewidth": 2
          },
          "yaxis": {
           "automargin": true,
           "gridcolor": "white",
           "linecolor": "white",
           "ticks": "",
           "title": {
            "standoff": 15
           },
           "zerolinecolor": "white",
           "zerolinewidth": 2
          }
         }
        },
        "title": {
         "text": "Average net change per dollar child allowance by decile"
        },
        "updatemenus": [
         {
          "buttons": [
           {
            "args": [
             null,
             {
              "frame": {
               "duration": 500,
               "redraw": true
              },
              "fromcurrent": true,
              "mode": "immediate",
              "transition": {
               "duration": 500,
               "easing": "linear"
              }
             }
            ],
            "label": "&#9654;",
            "method": "animate"
           },
           {
            "args": [
             [
              null
             ],
             {
              "frame": {
               "duration": 0,
               "redraw": true
              },
              "fromcurrent": true,
              "mode": "immediate",
              "transition": {
               "duration": 0,
               "easing": "linear"
              }
             }
            ],
            "label": "&#9724;",
            "method": "animate"
           }
          ],
          "direction": "left",
          "pad": {
           "r": 10,
           "t": 70
          },
          "showactive": false,
          "type": "buttons",
          "x": 0.1,
          "xanchor": "right",
          "y": 0,
          "yanchor": "top"
         }
        ],
        "xaxis": {
         "anchor": "y",
         "domain": [
          0,
          1
         ],
         "title": {
          "text": "Decile of resources per person"
         }
        },
        "yaxis": {
         "anchor": "x",
         "domain": [
          0,
          1
         ],
         "range": [
          -15547.993036205718,
          15547.993036205718
         ],
         "tickprefix": "$",
         "title": {
          "text": "Average annual net change per dollar child allowance"
         }
        }
       }
      },
      "text/html": [
       "<div>\n",
       "        \n",
       "        \n",
       "            <div id=\"4103a528-97d3-476a-b617-3c6c4bc84be3\" class=\"plotly-graph-div\" style=\"height:525px; width:100%;\"></div>\n",
       "            <script type=\"text/javascript\">\n",
       "                require([\"plotly\"], function(Plotly) {\n",
       "                    window.PLOTLYENV=window.PLOTLYENV || {};\n",
       "                    \n",
       "                if (document.getElementById(\"4103a528-97d3-476a-b617-3c6c4bc84be3\")) {\n",
       "                    Plotly.newPlot(\n",
       "                        '4103a528-97d3-476a-b617-3c6c4bc84be3',\n",
       "                        [{\"alignmentgroup\": \"True\", \"legendgroup\": \"\", \"marker\": {\"color\": \"#636efa\"}, \"name\": \"\", \"offsetgroup\": \"\", \"orientation\": \"v\", \"showlegend\": false, \"textposition\": \"auto\", \"type\": \"bar\", \"x\": [1, 2, 3, 4, 5, 6, 7, 8, 9, 10], \"xaxis\": \"x\", \"y\": [0.0, 0.0, 0.0, 0.0, 0.0, 0.0, -0.0, -0.0, -0.0, -0.0], \"yaxis\": \"y\"}],\n",
       "                        {\"barmode\": \"relative\", \"font\": {\"family\": \"Roboto\"}, \"legend\": {\"tracegroupgap\": 0}, \"margin\": {\"t\": 60}, \"plot_bgcolor\": \"white\", \"sliders\": [{\"active\": 0, \"currentvalue\": {\"prefix\": \"Monthly child allowance=\"}, \"len\": 0.9, \"pad\": {\"b\": 10, \"t\": 60}, \"steps\": [{\"args\": [[\"0\"], {\"frame\": {\"duration\": 0, \"redraw\": true}, \"fromcurrent\": true, \"mode\": \"immediate\", \"transition\": {\"duration\": 0, \"easing\": \"linear\"}}], \"label\": \"0\", \"method\": \"animate\"}, {\"args\": [[\"25\"], {\"frame\": {\"duration\": 0, \"redraw\": true}, \"fromcurrent\": true, \"mode\": \"immediate\", \"transition\": {\"duration\": 0, \"easing\": \"linear\"}}], \"label\": \"25\", \"method\": \"animate\"}, {\"args\": [[\"50\"], {\"frame\": {\"duration\": 0, \"redraw\": true}, \"fromcurrent\": true, \"mode\": \"immediate\", \"transition\": {\"duration\": 0, \"easing\": \"linear\"}}], \"label\": \"50\", \"method\": \"animate\"}, {\"args\": [[\"75\"], {\"frame\": {\"duration\": 0, \"redraw\": true}, \"fromcurrent\": true, \"mode\": \"immediate\", \"transition\": {\"duration\": 0, \"easing\": \"linear\"}}], \"label\": \"75\", \"method\": \"animate\"}, {\"args\": [[\"100\"], {\"frame\": {\"duration\": 0, \"redraw\": true}, \"fromcurrent\": true, \"mode\": \"immediate\", \"transition\": {\"duration\": 0, \"easing\": \"linear\"}}], \"label\": \"100\", \"method\": \"animate\"}, {\"args\": [[\"125\"], {\"frame\": {\"duration\": 0, \"redraw\": true}, \"fromcurrent\": true, \"mode\": \"immediate\", \"transition\": {\"duration\": 0, \"easing\": \"linear\"}}], \"label\": \"125\", \"method\": \"animate\"}, {\"args\": [[\"150\"], {\"frame\": {\"duration\": 0, \"redraw\": true}, \"fromcurrent\": true, \"mode\": \"immediate\", \"transition\": {\"duration\": 0, \"easing\": \"linear\"}}], \"label\": \"150\", \"method\": \"animate\"}, {\"args\": [[\"175\"], {\"frame\": {\"duration\": 0, \"redraw\": true}, \"fromcurrent\": true, \"mode\": \"immediate\", \"transition\": {\"duration\": 0, \"easing\": \"linear\"}}], \"label\": \"175\", \"method\": \"animate\"}, {\"args\": [[\"200\"], {\"frame\": {\"duration\": 0, \"redraw\": true}, \"fromcurrent\": true, \"mode\": \"immediate\", \"transition\": {\"duration\": 0, \"easing\": \"linear\"}}], \"label\": \"200\", \"method\": \"animate\"}, {\"args\": [[\"225\"], {\"frame\": {\"duration\": 0, \"redraw\": true}, \"fromcurrent\": true, \"mode\": \"immediate\", \"transition\": {\"duration\": 0, \"easing\": \"linear\"}}], \"label\": \"225\", \"method\": \"animate\"}, {\"args\": [[\"250\"], {\"frame\": {\"duration\": 0, \"redraw\": true}, \"fromcurrent\": true, \"mode\": \"immediate\", \"transition\": {\"duration\": 0, \"easing\": \"linear\"}}], \"label\": \"250\", \"method\": \"animate\"}, {\"args\": [[\"275\"], {\"frame\": {\"duration\": 0, \"redraw\": true}, \"fromcurrent\": true, \"mode\": \"immediate\", \"transition\": {\"duration\": 0, \"easing\": \"linear\"}}], \"label\": \"275\", \"method\": \"animate\"}, {\"args\": [[\"300\"], {\"frame\": {\"duration\": 0, \"redraw\": true}, \"fromcurrent\": true, \"mode\": \"immediate\", \"transition\": {\"duration\": 0, \"easing\": \"linear\"}}], \"label\": \"300\", \"method\": \"animate\"}, {\"args\": [[\"325\"], {\"frame\": {\"duration\": 0, \"redraw\": true}, \"fromcurrent\": true, \"mode\": \"immediate\", \"transition\": {\"duration\": 0, \"easing\": \"linear\"}}], \"label\": \"325\", \"method\": \"animate\"}, {\"args\": [[\"350\"], {\"frame\": {\"duration\": 0, \"redraw\": true}, \"fromcurrent\": true, \"mode\": \"immediate\", \"transition\": {\"duration\": 0, \"easing\": \"linear\"}}], \"label\": \"350\", \"method\": \"animate\"}, {\"args\": [[\"375\"], {\"frame\": {\"duration\": 0, \"redraw\": true}, \"fromcurrent\": true, \"mode\": \"immediate\", \"transition\": {\"duration\": 0, \"easing\": \"linear\"}}], \"label\": \"375\", \"method\": \"animate\"}, {\"args\": [[\"400\"], {\"frame\": {\"duration\": 0, \"redraw\": true}, \"fromcurrent\": true, \"mode\": \"immediate\", \"transition\": {\"duration\": 0, \"easing\": \"linear\"}}], \"label\": \"400\", \"method\": \"animate\"}, {\"args\": [[\"425\"], {\"frame\": {\"duration\": 0, \"redraw\": true}, \"fromcurrent\": true, \"mode\": \"immediate\", \"transition\": {\"duration\": 0, \"easing\": \"linear\"}}], \"label\": \"425\", \"method\": \"animate\"}, {\"args\": [[\"450\"], {\"frame\": {\"duration\": 0, \"redraw\": true}, \"fromcurrent\": true, \"mode\": \"immediate\", \"transition\": {\"duration\": 0, \"easing\": \"linear\"}}], \"label\": \"450\", \"method\": \"animate\"}, {\"args\": [[\"475\"], {\"frame\": {\"duration\": 0, \"redraw\": true}, \"fromcurrent\": true, \"mode\": \"immediate\", \"transition\": {\"duration\": 0, \"easing\": \"linear\"}}], \"label\": \"475\", \"method\": \"animate\"}, {\"args\": [[\"500\"], {\"frame\": {\"duration\": 0, \"redraw\": true}, \"fromcurrent\": true, \"mode\": \"immediate\", \"transition\": {\"duration\": 0, \"easing\": \"linear\"}}], \"label\": \"500\", \"method\": \"animate\"}], \"x\": 0.1, \"xanchor\": \"left\", \"y\": 0, \"yanchor\": \"top\"}], \"template\": {\"data\": {\"bar\": [{\"error_x\": {\"color\": \"#2a3f5f\"}, \"error_y\": {\"color\": \"#2a3f5f\"}, \"marker\": {\"line\": {\"color\": \"#E5ECF6\", \"width\": 0.5}}, \"type\": \"bar\"}], \"barpolar\": [{\"marker\": {\"line\": {\"color\": \"#E5ECF6\", \"width\": 0.5}}, \"type\": \"barpolar\"}], \"carpet\": [{\"aaxis\": {\"endlinecolor\": \"#2a3f5f\", \"gridcolor\": \"white\", \"linecolor\": \"white\", \"minorgridcolor\": \"white\", \"startlinecolor\": \"#2a3f5f\"}, \"baxis\": {\"endlinecolor\": \"#2a3f5f\", \"gridcolor\": \"white\", \"linecolor\": \"white\", \"minorgridcolor\": \"white\", \"startlinecolor\": \"#2a3f5f\"}, \"type\": \"carpet\"}], \"choropleth\": [{\"colorbar\": {\"outlinewidth\": 0, \"ticks\": \"\"}, \"type\": \"choropleth\"}], \"contour\": [{\"colorbar\": {\"outlinewidth\": 0, \"ticks\": \"\"}, \"colorscale\": [[0.0, \"#0d0887\"], [0.1111111111111111, \"#46039f\"], [0.2222222222222222, \"#7201a8\"], [0.3333333333333333, \"#9c179e\"], [0.4444444444444444, \"#bd3786\"], [0.5555555555555556, \"#d8576b\"], [0.6666666666666666, \"#ed7953\"], [0.7777777777777778, \"#fb9f3a\"], [0.8888888888888888, \"#fdca26\"], [1.0, \"#f0f921\"]], \"type\": \"contour\"}], \"contourcarpet\": [{\"colorbar\": {\"outlinewidth\": 0, \"ticks\": \"\"}, \"type\": \"contourcarpet\"}], \"heatmap\": [{\"colorbar\": {\"outlinewidth\": 0, \"ticks\": \"\"}, \"colorscale\": [[0.0, \"#0d0887\"], [0.1111111111111111, \"#46039f\"], [0.2222222222222222, \"#7201a8\"], [0.3333333333333333, \"#9c179e\"], [0.4444444444444444, \"#bd3786\"], [0.5555555555555556, \"#d8576b\"], [0.6666666666666666, \"#ed7953\"], [0.7777777777777778, \"#fb9f3a\"], [0.8888888888888888, \"#fdca26\"], [1.0, \"#f0f921\"]], \"type\": \"heatmap\"}], \"heatmapgl\": [{\"colorbar\": {\"outlinewidth\": 0, \"ticks\": \"\"}, \"colorscale\": [[0.0, \"#0d0887\"], [0.1111111111111111, \"#46039f\"], [0.2222222222222222, \"#7201a8\"], [0.3333333333333333, \"#9c179e\"], [0.4444444444444444, \"#bd3786\"], [0.5555555555555556, \"#d8576b\"], [0.6666666666666666, \"#ed7953\"], [0.7777777777777778, \"#fb9f3a\"], [0.8888888888888888, \"#fdca26\"], [1.0, \"#f0f921\"]], \"type\": \"heatmapgl\"}], \"histogram\": [{\"marker\": {\"colorbar\": {\"outlinewidth\": 0, \"ticks\": \"\"}}, \"type\": \"histogram\"}], \"histogram2d\": [{\"colorbar\": {\"outlinewidth\": 0, \"ticks\": \"\"}, \"colorscale\": [[0.0, \"#0d0887\"], [0.1111111111111111, \"#46039f\"], [0.2222222222222222, \"#7201a8\"], [0.3333333333333333, \"#9c179e\"], [0.4444444444444444, \"#bd3786\"], [0.5555555555555556, \"#d8576b\"], [0.6666666666666666, \"#ed7953\"], [0.7777777777777778, \"#fb9f3a\"], [0.8888888888888888, \"#fdca26\"], [1.0, \"#f0f921\"]], \"type\": \"histogram2d\"}], \"histogram2dcontour\": [{\"colorbar\": {\"outlinewidth\": 0, \"ticks\": \"\"}, \"colorscale\": [[0.0, \"#0d0887\"], [0.1111111111111111, \"#46039f\"], [0.2222222222222222, \"#7201a8\"], [0.3333333333333333, \"#9c179e\"], [0.4444444444444444, \"#bd3786\"], [0.5555555555555556, \"#d8576b\"], [0.6666666666666666, \"#ed7953\"], [0.7777777777777778, \"#fb9f3a\"], [0.8888888888888888, \"#fdca26\"], [1.0, \"#f0f921\"]], \"type\": \"histogram2dcontour\"}], \"mesh3d\": [{\"colorbar\": {\"outlinewidth\": 0, \"ticks\": \"\"}, \"type\": \"mesh3d\"}], \"parcoords\": [{\"line\": {\"colorbar\": {\"outlinewidth\": 0, \"ticks\": \"\"}}, \"type\": \"parcoords\"}], \"pie\": [{\"automargin\": true, \"type\": \"pie\"}], \"scatter\": [{\"marker\": {\"colorbar\": {\"outlinewidth\": 0, \"ticks\": \"\"}}, \"type\": \"scatter\"}], \"scatter3d\": [{\"line\": {\"colorbar\": {\"outlinewidth\": 0, \"ticks\": \"\"}}, \"marker\": {\"colorbar\": {\"outlinewidth\": 0, \"ticks\": \"\"}}, \"type\": \"scatter3d\"}], \"scattercarpet\": [{\"marker\": {\"colorbar\": {\"outlinewidth\": 0, \"ticks\": \"\"}}, \"type\": \"scattercarpet\"}], \"scattergeo\": [{\"marker\": {\"colorbar\": {\"outlinewidth\": 0, \"ticks\": \"\"}}, \"type\": \"scattergeo\"}], \"scattergl\": [{\"marker\": {\"colorbar\": {\"outlinewidth\": 0, \"ticks\": \"\"}}, \"type\": \"scattergl\"}], \"scattermapbox\": [{\"marker\": {\"colorbar\": {\"outlinewidth\": 0, \"ticks\": \"\"}}, \"type\": \"scattermapbox\"}], \"scatterpolar\": [{\"marker\": {\"colorbar\": {\"outlinewidth\": 0, \"ticks\": \"\"}}, \"type\": \"scatterpolar\"}], \"scatterpolargl\": [{\"marker\": {\"colorbar\": {\"outlinewidth\": 0, \"ticks\": \"\"}}, \"type\": \"scatterpolargl\"}], \"scatterternary\": [{\"marker\": {\"colorbar\": {\"outlinewidth\": 0, \"ticks\": \"\"}}, \"type\": \"scatterternary\"}], \"surface\": [{\"colorbar\": {\"outlinewidth\": 0, \"ticks\": \"\"}, \"colorscale\": [[0.0, \"#0d0887\"], [0.1111111111111111, \"#46039f\"], [0.2222222222222222, \"#7201a8\"], [0.3333333333333333, \"#9c179e\"], [0.4444444444444444, \"#bd3786\"], [0.5555555555555556, \"#d8576b\"], [0.6666666666666666, \"#ed7953\"], [0.7777777777777778, \"#fb9f3a\"], [0.8888888888888888, \"#fdca26\"], [1.0, \"#f0f921\"]], \"type\": \"surface\"}], \"table\": [{\"cells\": {\"fill\": {\"color\": \"#EBF0F8\"}, \"line\": {\"color\": \"white\"}}, \"header\": {\"fill\": {\"color\": \"#C8D4E3\"}, \"line\": {\"color\": \"white\"}}, \"type\": \"table\"}]}, \"layout\": {\"annotationdefaults\": {\"arrowcolor\": \"#2a3f5f\", \"arrowhead\": 0, \"arrowwidth\": 1}, \"coloraxis\": {\"colorbar\": {\"outlinewidth\": 0, \"ticks\": \"\"}}, \"colorscale\": {\"diverging\": [[0, \"#8e0152\"], [0.1, \"#c51b7d\"], [0.2, \"#de77ae\"], [0.3, \"#f1b6da\"], [0.4, \"#fde0ef\"], [0.5, \"#f7f7f7\"], [0.6, \"#e6f5d0\"], [0.7, \"#b8e186\"], [0.8, \"#7fbc41\"], [0.9, \"#4d9221\"], [1, \"#276419\"]], \"sequential\": [[0.0, \"#0d0887\"], [0.1111111111111111, \"#46039f\"], [0.2222222222222222, \"#7201a8\"], [0.3333333333333333, \"#9c179e\"], [0.4444444444444444, \"#bd3786\"], [0.5555555555555556, \"#d8576b\"], [0.6666666666666666, \"#ed7953\"], [0.7777777777777778, \"#fb9f3a\"], [0.8888888888888888, \"#fdca26\"], [1.0, \"#f0f921\"]], \"sequentialminus\": [[0.0, \"#0d0887\"], [0.1111111111111111, \"#46039f\"], [0.2222222222222222, \"#7201a8\"], [0.3333333333333333, \"#9c179e\"], [0.4444444444444444, \"#bd3786\"], [0.5555555555555556, \"#d8576b\"], [0.6666666666666666, \"#ed7953\"], [0.7777777777777778, \"#fb9f3a\"], [0.8888888888888888, \"#fdca26\"], [1.0, \"#f0f921\"]]}, \"colorway\": [\"#636efa\", \"#EF553B\", \"#00cc96\", \"#ab63fa\", \"#FFA15A\", \"#19d3f3\", \"#FF6692\", \"#B6E880\", \"#FF97FF\", \"#FECB52\"], \"font\": {\"color\": \"#2a3f5f\"}, \"geo\": {\"bgcolor\": \"white\", \"lakecolor\": \"white\", \"landcolor\": \"#E5ECF6\", \"showlakes\": true, \"showland\": true, \"subunitcolor\": \"white\"}, \"hoverlabel\": {\"align\": \"left\"}, \"hovermode\": \"closest\", \"mapbox\": {\"style\": \"light\"}, \"paper_bgcolor\": \"white\", \"plot_bgcolor\": \"#E5ECF6\", \"polar\": {\"angularaxis\": {\"gridcolor\": \"white\", \"linecolor\": \"white\", \"ticks\": \"\"}, \"bgcolor\": \"#E5ECF6\", \"radialaxis\": {\"gridcolor\": \"white\", \"linecolor\": \"white\", \"ticks\": \"\"}}, \"scene\": {\"xaxis\": {\"backgroundcolor\": \"#E5ECF6\", \"gridcolor\": \"white\", \"gridwidth\": 2, \"linecolor\": \"white\", \"showbackground\": true, \"ticks\": \"\", \"zerolinecolor\": \"white\"}, \"yaxis\": {\"backgroundcolor\": \"#E5ECF6\", \"gridcolor\": \"white\", \"gridwidth\": 2, \"linecolor\": \"white\", \"showbackground\": true, \"ticks\": \"\", \"zerolinecolor\": \"white\"}, \"zaxis\": {\"backgroundcolor\": \"#E5ECF6\", \"gridcolor\": \"white\", \"gridwidth\": 2, \"linecolor\": \"white\", \"showbackground\": true, \"ticks\": \"\", \"zerolinecolor\": \"white\"}}, \"shapedefaults\": {\"line\": {\"color\": \"#2a3f5f\"}}, \"ternary\": {\"aaxis\": {\"gridcolor\": \"white\", \"linecolor\": \"white\", \"ticks\": \"\"}, \"baxis\": {\"gridcolor\": \"white\", \"linecolor\": \"white\", \"ticks\": \"\"}, \"bgcolor\": \"#E5ECF6\", \"caxis\": {\"gridcolor\": \"white\", \"linecolor\": \"white\", \"ticks\": \"\"}}, \"title\": {\"x\": 0.05}, \"xaxis\": {\"automargin\": true, \"gridcolor\": \"white\", \"linecolor\": \"white\", \"ticks\": \"\", \"title\": {\"standoff\": 15}, \"zerolinecolor\": \"white\", \"zerolinewidth\": 2}, \"yaxis\": {\"automargin\": true, \"gridcolor\": \"white\", \"linecolor\": \"white\", \"ticks\": \"\", \"title\": {\"standoff\": 15}, \"zerolinecolor\": \"white\", \"zerolinewidth\": 2}}}, \"title\": {\"text\": \"Average net change per dollar child allowance by decile\"}, \"updatemenus\": [{\"buttons\": [{\"args\": [null, {\"frame\": {\"duration\": 500, \"redraw\": true}, \"fromcurrent\": true, \"mode\": \"immediate\", \"transition\": {\"duration\": 500, \"easing\": \"linear\"}}], \"label\": \"&#9654;\", \"method\": \"animate\"}, {\"args\": [[null], {\"frame\": {\"duration\": 0, \"redraw\": true}, \"fromcurrent\": true, \"mode\": \"immediate\", \"transition\": {\"duration\": 0, \"easing\": \"linear\"}}], \"label\": \"&#9724;\", \"method\": \"animate\"}], \"direction\": \"left\", \"pad\": {\"r\": 10, \"t\": 70}, \"showactive\": false, \"type\": \"buttons\", \"x\": 0.1, \"xanchor\": \"right\", \"y\": 0, \"yanchor\": \"top\"}], \"xaxis\": {\"anchor\": \"y\", \"domain\": [0.0, 1.0], \"title\": {\"text\": \"Decile of resources per person\"}}, \"yaxis\": {\"anchor\": \"x\", \"domain\": [0.0, 1.0], \"range\": [-15547.993036205718, 15547.993036205718], \"tickprefix\": \"$\", \"title\": {\"text\": \"Average annual net change per dollar child allowance\"}}},\n",
       "                        {\"displayModeBar\": false, \"responsive\": true}\n",
       "                    ).then(function(){\n",
       "                            Plotly.addFrames('4103a528-97d3-476a-b617-3c6c4bc84be3', [{\"data\": [{\"alignmentgroup\": \"True\", \"hovertemplate\": \"Monthly child allowance=0<br>spm_resources_pp_decile=%{x}<br>net_chg=%{y}<extra></extra>\", \"legendgroup\": \"\", \"marker\": {\"color\": \"#636efa\"}, \"name\": \"\", \"offsetgroup\": \"\", \"orientation\": \"v\", \"showlegend\": false, \"textposition\": \"auto\", \"x\": [1, 2, 3, 4, 5, 6, 7, 8, 9, 10], \"xaxis\": \"x\", \"y\": [0.0, 0.0, 0.0, 0.0, 0.0, 0.0, -0.0, -0.0, -0.0, -0.0], \"yaxis\": \"y\", \"type\": \"bar\"}], \"name\": \"0\"}, {\"data\": [{\"alignmentgroup\": \"True\", \"hovertemplate\": \"Monthly child allowance=25<br>spm_resources_pp_decile=%{x}<br>net_chg=%{y}<extra></extra>\", \"legendgroup\": \"\", \"marker\": {\"color\": \"#636efa\"}, \"name\": \"\", \"offsetgroup\": \"\", \"orientation\": \"v\", \"showlegend\": false, \"textposition\": \"auto\", \"x\": [1, 2, 3, 4, 5, 6, 7, 8, 9, 10], \"xaxis\": \"x\", \"y\": [256.0, 301.0, 181.0, 122.0, 68.0, 7.0, -59.0, -127.0, -214.0, -535.0], \"yaxis\": \"y\", \"type\": \"bar\"}], \"name\": \"25\"}, {\"data\": [{\"alignmentgroup\": \"True\", \"hovertemplate\": \"Monthly child allowance=50<br>spm_resources_pp_decile=%{x}<br>net_chg=%{y}<extra></extra>\", \"legendgroup\": \"\", \"marker\": {\"color\": \"#636efa\"}, \"name\": \"\", \"offsetgroup\": \"\", \"orientation\": \"v\", \"showlegend\": false, \"textposition\": \"auto\", \"x\": [1, 2, 3, 4, 5, 6, 7, 8, 9, 10], \"xaxis\": \"x\", \"y\": [512.0, 602.0, 361.0, 245.0, 137.0, 14.0, -119.0, -254.0, -428.0, -1070.0], \"yaxis\": \"y\", \"type\": \"bar\"}], \"name\": \"50\"}, {\"data\": [{\"alignmentgroup\": \"True\", \"hovertemplate\": \"Monthly child allowance=75<br>spm_resources_pp_decile=%{x}<br>net_chg=%{y}<extra></extra>\", \"legendgroup\": \"\", \"marker\": {\"color\": \"#636efa\"}, \"name\": \"\", \"offsetgroup\": \"\", \"orientation\": \"v\", \"showlegend\": false, \"textposition\": \"auto\", \"x\": [1, 2, 3, 4, 5, 6, 7, 8, 9, 10], \"xaxis\": \"x\", \"y\": [767.0, 903.0, 542.0, 367.0, 205.0, 21.0, -178.0, -381.0, -642.0, -1604.0], \"yaxis\": \"y\", \"type\": \"bar\"}], \"name\": \"75\"}, {\"data\": [{\"alignmentgroup\": \"True\", \"hovertemplate\": \"Monthly child allowance=100<br>spm_resources_pp_decile=%{x}<br>net_chg=%{y}<extra></extra>\", \"legendgroup\": \"\", \"marker\": {\"color\": \"#636efa\"}, \"name\": \"\", \"offsetgroup\": \"\", \"orientation\": \"v\", \"showlegend\": false, \"textposition\": \"auto\", \"x\": [1, 2, 3, 4, 5, 6, 7, 8, 9, 10], \"xaxis\": \"x\", \"y\": [1023.0, 1205.0, 723.0, 489.0, 274.0, 28.0, -238.0, -508.0, -857.0, -2139.0], \"yaxis\": \"y\", \"type\": \"bar\"}], \"name\": \"100\"}, {\"data\": [{\"alignmentgroup\": \"True\", \"hovertemplate\": \"Monthly child allowance=125<br>spm_resources_pp_decile=%{x}<br>net_chg=%{y}<extra></extra>\", \"legendgroup\": \"\", \"marker\": {\"color\": \"#636efa\"}, \"name\": \"\", \"offsetgroup\": \"\", \"orientation\": \"v\", \"showlegend\": false, \"textposition\": \"auto\", \"x\": [1, 2, 3, 4, 5, 6, 7, 8, 9, 10], \"xaxis\": \"x\", \"y\": [1279.0, 1506.0, 903.0, 611.0, 342.0, 35.0, -297.0, -635.0, -1071.0, -2674.0], \"yaxis\": \"y\", \"type\": \"bar\"}], \"name\": \"125\"}, {\"data\": [{\"alignmentgroup\": \"True\", \"hovertemplate\": \"Monthly child allowance=150<br>spm_resources_pp_decile=%{x}<br>net_chg=%{y}<extra></extra>\", \"legendgroup\": \"\", \"marker\": {\"color\": \"#636efa\"}, \"name\": \"\", \"offsetgroup\": \"\", \"orientation\": \"v\", \"showlegend\": false, \"textposition\": \"auto\", \"x\": [1, 2, 3, 4, 5, 6, 7, 8, 9, 10], \"xaxis\": \"x\", \"y\": [1535.0, 1807.0, 1084.0, 734.0, 410.0, 42.0, -356.0, -762.0, -1285.0, -3209.0], \"yaxis\": \"y\", \"type\": \"bar\"}], \"name\": \"150\"}, {\"data\": [{\"alignmentgroup\": \"True\", \"hovertemplate\": \"Monthly child allowance=175<br>spm_resources_pp_decile=%{x}<br>net_chg=%{y}<extra></extra>\", \"legendgroup\": \"\", \"marker\": {\"color\": \"#636efa\"}, \"name\": \"\", \"offsetgroup\": \"\", \"orientation\": \"v\", \"showlegend\": false, \"textposition\": \"auto\", \"x\": [1, 2, 3, 4, 5, 6, 7, 8, 9, 10], \"xaxis\": \"x\", \"y\": [1791.0, 2108.0, 1265.0, 856.0, 479.0, 49.0, -416.0, -889.0, -1499.0, -3743.0], \"yaxis\": \"y\", \"type\": \"bar\"}], \"name\": \"175\"}, {\"data\": [{\"alignmentgroup\": \"True\", \"hovertemplate\": \"Monthly child allowance=200<br>spm_resources_pp_decile=%{x}<br>net_chg=%{y}<extra></extra>\", \"legendgroup\": \"\", \"marker\": {\"color\": \"#636efa\"}, \"name\": \"\", \"offsetgroup\": \"\", \"orientation\": \"v\", \"showlegend\": false, \"textposition\": \"auto\", \"x\": [1, 2, 3, 4, 5, 6, 7, 8, 9, 10], \"xaxis\": \"x\", \"y\": [2047.0, 2409.0, 1446.0, 978.0, 547.0, 56.0, -475.0, -1016.0, -1713.0, -4278.0], \"yaxis\": \"y\", \"type\": \"bar\"}], \"name\": \"200\"}, {\"data\": [{\"alignmentgroup\": \"True\", \"hovertemplate\": \"Monthly child allowance=225<br>spm_resources_pp_decile=%{x}<br>net_chg=%{y}<extra></extra>\", \"legendgroup\": \"\", \"marker\": {\"color\": \"#636efa\"}, \"name\": \"\", \"offsetgroup\": \"\", \"orientation\": \"v\", \"showlegend\": false, \"textposition\": \"auto\", \"x\": [1, 2, 3, 4, 5, 6, 7, 8, 9, 10], \"xaxis\": \"x\", \"y\": [2302.0, 2710.0, 1626.0, 1100.0, 616.0, 63.0, -535.0, -1143.0, -1927.0, -4813.0], \"yaxis\": \"y\", \"type\": \"bar\"}], \"name\": \"225\"}, {\"data\": [{\"alignmentgroup\": \"True\", \"hovertemplate\": \"Monthly child allowance=250<br>spm_resources_pp_decile=%{x}<br>net_chg=%{y}<extra></extra>\", \"legendgroup\": \"\", \"marker\": {\"color\": \"#636efa\"}, \"name\": \"\", \"offsetgroup\": \"\", \"orientation\": \"v\", \"showlegend\": false, \"textposition\": \"auto\", \"x\": [1, 2, 3, 4, 5, 6, 7, 8, 9, 10], \"xaxis\": \"x\", \"y\": [2558.0, 3011.0, 1807.0, 1223.0, 684.0, 70.0, -594.0, -1270.0, -2141.0, -5348.0], \"yaxis\": \"y\", \"type\": \"bar\"}], \"name\": \"250\"}, {\"data\": [{\"alignmentgroup\": \"True\", \"hovertemplate\": \"Monthly child allowance=275<br>spm_resources_pp_decile=%{x}<br>net_chg=%{y}<extra></extra>\", \"legendgroup\": \"\", \"marker\": {\"color\": \"#636efa\"}, \"name\": \"\", \"offsetgroup\": \"\", \"orientation\": \"v\", \"showlegend\": false, \"textposition\": \"auto\", \"x\": [1, 2, 3, 4, 5, 6, 7, 8, 9, 10], \"xaxis\": \"x\", \"y\": [2814.0, 3313.0, 1988.0, 1345.0, 752.0, 77.0, -653.0, -1397.0, -2356.0, -5883.0], \"yaxis\": \"y\", \"type\": \"bar\"}], \"name\": \"275\"}, {\"data\": [{\"alignmentgroup\": \"True\", \"hovertemplate\": \"Monthly child allowance=300<br>spm_resources_pp_decile=%{x}<br>net_chg=%{y}<extra></extra>\", \"legendgroup\": \"\", \"marker\": {\"color\": \"#636efa\"}, \"name\": \"\", \"offsetgroup\": \"\", \"orientation\": \"v\", \"showlegend\": false, \"textposition\": \"auto\", \"x\": [1, 2, 3, 4, 5, 6, 7, 8, 9, 10], \"xaxis\": \"x\", \"y\": [3070.0, 3614.0, 2168.0, 1467.0, 821.0, 84.0, -713.0, -1524.0, -2570.0, -6417.0], \"yaxis\": \"y\", \"type\": \"bar\"}], \"name\": \"300\"}, {\"data\": [{\"alignmentgroup\": \"True\", \"hovertemplate\": \"Monthly child allowance=325<br>spm_resources_pp_decile=%{x}<br>net_chg=%{y}<extra></extra>\", \"legendgroup\": \"\", \"marker\": {\"color\": \"#636efa\"}, \"name\": \"\", \"offsetgroup\": \"\", \"orientation\": \"v\", \"showlegend\": false, \"textposition\": \"auto\", \"x\": [1, 2, 3, 4, 5, 6, 7, 8, 9, 10], \"xaxis\": \"x\", \"y\": [3326.0, 3915.0, 2349.0, 1589.0, 889.0, 91.0, -772.0, -1651.0, -2784.0, -6952.0], \"yaxis\": \"y\", \"type\": \"bar\"}], \"name\": \"325\"}, {\"data\": [{\"alignmentgroup\": \"True\", \"hovertemplate\": \"Monthly child allowance=350<br>spm_resources_pp_decile=%{x}<br>net_chg=%{y}<extra></extra>\", \"legendgroup\": \"\", \"marker\": {\"color\": \"#636efa\"}, \"name\": \"\", \"offsetgroup\": \"\", \"orientation\": \"v\", \"showlegend\": false, \"textposition\": \"auto\", \"x\": [1, 2, 3, 4, 5, 6, 7, 8, 9, 10], \"xaxis\": \"x\", \"y\": [3581.0, 4216.0, 2530.0, 1712.0, 958.0, 98.0, -832.0, -1778.0, -2998.0, -7487.0], \"yaxis\": \"y\", \"type\": \"bar\"}], \"name\": \"350\"}, {\"data\": [{\"alignmentgroup\": \"True\", \"hovertemplate\": \"Monthly child allowance=375<br>spm_resources_pp_decile=%{x}<br>net_chg=%{y}<extra></extra>\", \"legendgroup\": \"\", \"marker\": {\"color\": \"#636efa\"}, \"name\": \"\", \"offsetgroup\": \"\", \"orientation\": \"v\", \"showlegend\": false, \"textposition\": \"auto\", \"x\": [1, 2, 3, 4, 5, 6, 7, 8, 9, 10], \"xaxis\": \"x\", \"y\": [3837.0, 4517.0, 2710.0, 1834.0, 1026.0, 105.0, -891.0, -1905.0, -3212.0, -8022.0], \"yaxis\": \"y\", \"type\": \"bar\"}], \"name\": \"375\"}, {\"data\": [{\"alignmentgroup\": \"True\", \"hovertemplate\": \"Monthly child allowance=400<br>spm_resources_pp_decile=%{x}<br>net_chg=%{y}<extra></extra>\", \"legendgroup\": \"\", \"marker\": {\"color\": \"#636efa\"}, \"name\": \"\", \"offsetgroup\": \"\", \"orientation\": \"v\", \"showlegend\": false, \"textposition\": \"auto\", \"x\": [1, 2, 3, 4, 5, 6, 7, 8, 9, 10], \"xaxis\": \"x\", \"y\": [4093.0, 4818.0, 2891.0, 1956.0, 1095.0, 112.0, -950.0, -2032.0, -3426.0, -8556.0], \"yaxis\": \"y\", \"type\": \"bar\"}], \"name\": \"400\"}, {\"data\": [{\"alignmentgroup\": \"True\", \"hovertemplate\": \"Monthly child allowance=425<br>spm_resources_pp_decile=%{x}<br>net_chg=%{y}<extra></extra>\", \"legendgroup\": \"\", \"marker\": {\"color\": \"#636efa\"}, \"name\": \"\", \"offsetgroup\": \"\", \"orientation\": \"v\", \"showlegend\": false, \"textposition\": \"auto\", \"x\": [1, 2, 3, 4, 5, 6, 7, 8, 9, 10], \"xaxis\": \"x\", \"y\": [4349.0, 5119.0, 3072.0, 2078.0, 1163.0, 119.0, -1010.0, -2158.0, -3640.0, -9091.0], \"yaxis\": \"y\", \"type\": \"bar\"}], \"name\": \"425\"}, {\"data\": [{\"alignmentgroup\": \"True\", \"hovertemplate\": \"Monthly child allowance=450<br>spm_resources_pp_decile=%{x}<br>net_chg=%{y}<extra></extra>\", \"legendgroup\": \"\", \"marker\": {\"color\": \"#636efa\"}, \"name\": \"\", \"offsetgroup\": \"\", \"orientation\": \"v\", \"showlegend\": false, \"textposition\": \"auto\", \"x\": [1, 2, 3, 4, 5, 6, 7, 8, 9, 10], \"xaxis\": \"x\", \"y\": [4605.0, 5421.0, 3252.0, 2201.0, 1231.0, 126.0, -1069.0, -2285.0, -3855.0, -9626.0], \"yaxis\": \"y\", \"type\": \"bar\"}], \"name\": \"450\"}, {\"data\": [{\"alignmentgroup\": \"True\", \"hovertemplate\": \"Monthly child allowance=475<br>spm_resources_pp_decile=%{x}<br>net_chg=%{y}<extra></extra>\", \"legendgroup\": \"\", \"marker\": {\"color\": \"#636efa\"}, \"name\": \"\", \"offsetgroup\": \"\", \"orientation\": \"v\", \"showlegend\": false, \"textposition\": \"auto\", \"x\": [1, 2, 3, 4, 5, 6, 7, 8, 9, 10], \"xaxis\": \"x\", \"y\": [4861.0, 5722.0, 3433.0, 2323.0, 1300.0, 133.0, -1129.0, -2412.0, -4069.0, -10161.0], \"yaxis\": \"y\", \"type\": \"bar\"}], \"name\": \"475\"}, {\"data\": [{\"alignmentgroup\": \"True\", \"hovertemplate\": \"Monthly child allowance=500<br>spm_resources_pp_decile=%{x}<br>net_chg=%{y}<extra></extra>\", \"legendgroup\": \"\", \"marker\": {\"color\": \"#636efa\"}, \"name\": \"\", \"offsetgroup\": \"\", \"orientation\": \"v\", \"showlegend\": false, \"textposition\": \"auto\", \"x\": [1, 2, 3, 4, 5, 6, 7, 8, 9, 10], \"xaxis\": \"x\", \"y\": [5116.0, 6023.0, 3614.0, 2445.0, 1368.0, 140.0, -1188.0, -2539.0, -4283.0, -10696.0], \"yaxis\": \"y\", \"type\": \"bar\"}], \"name\": \"500\"}]);\n",
       "                        }).then(function(){\n",
       "                            \n",
       "var gd = document.getElementById('4103a528-97d3-476a-b617-3c6c4bc84be3');\n",
       "var x = new MutationObserver(function (mutations, observer) {{\n",
       "        var display = window.getComputedStyle(gd).display;\n",
       "        if (!display || display === 'none') {{\n",
       "            console.log([gd, 'removed!']);\n",
       "            Plotly.purge(gd);\n",
       "            observer.disconnect();\n",
       "        }}\n",
       "}});\n",
       "\n",
       "// Listen for the removal of the full notebook cells\n",
       "var notebookContainer = gd.closest('#notebook-container');\n",
       "if (notebookContainer) {{\n",
       "    x.observe(notebookContainer, {childList: true});\n",
       "}}\n",
       "\n",
       "// Listen for the clearing of the current output cell\n",
       "var outputEl = gd.closest('.output');\n",
       "if (outputEl) {{\n",
       "    x.observe(outputEl, {childList: true});\n",
       "}}\n",
       "\n",
       "                        })\n",
       "                };\n",
       "                });\n",
       "            </script>\n",
       "        </div>"
      ]
     },
     "metadata": {},
     "output_type": "display_data"
    }
   ],
   "source": [
    "deciles = pd.read_csv('data/deciles.csv')\n",
    "\n",
    "# Make chart symmetric with boundary at the maximum.\n",
    "boundary = deciles.net_chg.agg([min, max]).abs().max()\n",
    "\n",
    "# TODO: Make this work for all selections with a drop-down.\n",
    "\n",
    "test = deciles.query('state == \"US\" & funding == \"federal\"').round()\n",
    "\n",
    "fig = px.bar(test, x='spm_resources_pp_decile',\n",
    "             y='net_chg',\n",
    "             animation_frame='monthly_ca',\n",
    "             labels={'monthly_ca': 'Monthly child allowance'})\n",
    "fig.update_layout(\n",
    "    title='Average net change per dollar child allowance by decile',\n",
    "    xaxis_title='Decile of resources per person',\n",
    "    yaxis_title='Average annual net change per dollar child allowance',\n",
    "    yaxis_tickprefix='$',\n",
    "    plot_bgcolor='white',\n",
    "    font=dict(family='Roboto')\n",
    ")\n",
    "fig.update_yaxes(range=[-boundary, boundary])\n",
    "fig.update_traces(hovertemplate=None)\n",
    "fig.show(config={'displayModeBar': False})"
   ]
  },
  {
   "cell_type": "code",
   "execution_count": null,
   "metadata": {},
   "outputs": [],
   "source": [
    "# Make chart symmetric with boundary at the maximum.\n",
    "pct_boundary = deciles.pct_chg.agg([min, max]).abs().max()\n",
    "\n",
    "# TODO: Make this work for all selections with a drop-down.\n",
    "\n",
    "test = deciles.query('state == \"US\" & funding == \"federal\"').round()\n",
    "\n",
    "fig = px.bar(test, x='spm_resources_pp_decile',\n",
    "             y='net_chg',\n",
    "             animation_frame='monthly_ca',\n",
    "             labels={'monthly_ca': 'Monthly child allowance'})\n",
    "fig.update_layout(\n",
    "    title='Average net change per dollar child allowance by decile',\n",
    "    xaxis_title='Decile of resources per person',\n",
    "    yaxis_title='Average annual net change per dollar child allowance',\n",
    "    yaxis_tickprefix='$',\n",
    "    plot_bgcolor='white',\n",
    "    font=dict(family='Roboto')\n",
    ")\n",
    "fig.update_yaxes(range=[-boundary, boundary])\n",
    "fig.update_traces(hovertemplate=None)\n",
    "fig.show(config={'displayModeBar': False})"
   ]
  },
  {
   "cell_type": "markdown",
   "metadata": {},
   "source": [
    "The Gini coefficient is another tool to calculate a policy reform’s impact on inequality.  It lies between 0 and 1, with 0 indicating that everyone has the exact same income, and 1 indicating that one person possesses all the income.  \n",
    "\n",
    "Across funding strategies, child allowances reduce inequality as measured by the Gini coefficient, with larger child allowances producing larger inequality reductions. Nationally, a \\$500 monthly child allowance shrinks the Gini coefficient nine percent, from 0.446 to 0.406.  At the state level, current Gini coefficients vary, but a \\$200 monthly child allowance tends to cut inequality between 4 and 5 percent."
   ]
  },
  {
   "cell_type": "code",
   "execution_count": 3,
   "metadata": {
    "tags": [
     "hide-input"
    ]
   },
   "outputs": [],
   "source": [
    "# TODO: Insert Gini chart, separated from the prior."
   ]
  },
  {
   "cell_type": "markdown",
   "metadata": {},
   "source": [
    "A child allowance can also substantially cut poverty.  In this example, a person is said to be in poverty if their household’s total post tax and transfer income is less than their poverty threshold.  Poverty thresholds are determined by the Census Bureau’s Supplemental Poverty Measure (SPM), which considers a medley of factors including household size, housing status, and local cost of living."
   ]
  },
  {
   "cell_type": "code",
   "execution_count": 4,
   "metadata": {
    "tags": [
     "hide-input"
    ]
   },
   "outputs": [
    {
     "data": {
      "application/vnd.plotly.v1+json": {
       "config": {
        "displayModeBar": false,
        "plotlyServerURL": "https://plot.ly"
       },
       "data": [
        {
         "coloraxis": "coloraxis",
         "geo": "geo",
         "hovertemplate": "Child Allowance=0<br>State=%{location}<br>Child poverty rate=%{z}<extra></extra>",
         "locationmode": "USA-states",
         "locations": [
          "AL",
          "AL",
          "AL",
          "AK",
          "AK",
          "AK",
          "AZ",
          "AZ",
          "AZ",
          "AR",
          "AR",
          "AR",
          "CA",
          "CA",
          "CA",
          "CO",
          "CO",
          "CO",
          "CT",
          "CT",
          "CT",
          "DE",
          "DE",
          "DE",
          "FL",
          "FL",
          "FL",
          "GA",
          "GA",
          "GA",
          "HI",
          "HI",
          "HI",
          "ID",
          "ID",
          "ID",
          "IL",
          "IL",
          "IL",
          "IN",
          "IN",
          "IN",
          "IA",
          "IA",
          "IA",
          "KS",
          "KS",
          "KS",
          "KY",
          "KY",
          "KY",
          "LA",
          "LA",
          "LA",
          "ME",
          "ME",
          "ME",
          "MD",
          "MD",
          "MD",
          "MA",
          "MA",
          "MA",
          "MI",
          "MI",
          "MI",
          "MN",
          "MN",
          "MN",
          "MS",
          "MS",
          "MS",
          "MO",
          "MO",
          "MO",
          "MT",
          "MT",
          "MT",
          "NE",
          "NE",
          "NE",
          "NV",
          "NV",
          "NV",
          "NH",
          "NH",
          "NH",
          "NJ",
          "NJ",
          "NJ",
          "NM",
          "NM",
          "NM",
          "NY",
          "NY",
          "NY",
          "NC",
          "NC",
          "NC",
          "ND",
          "ND",
          "ND",
          "OH",
          "OH",
          "OH",
          "OK",
          "OK",
          "OK",
          "OR",
          "OR",
          "OR",
          "PA",
          "PA",
          "PA",
          "RI",
          "RI",
          "RI",
          "SC",
          "SC",
          "SC",
          "SD",
          "SD",
          "SD",
          "TN",
          "TN",
          "TN",
          "TX",
          "TX",
          "TX",
          "UT",
          "UT",
          "UT",
          "VT",
          "VT",
          "VT",
          "VA",
          "VA",
          "VA",
          "WA",
          "WA",
          "WA",
          "WV",
          "WV",
          "WV",
          "WI",
          "WI",
          "WI",
          "WY",
          "WY",
          "WY",
          "DC",
          "DC",
          "DC",
          "US",
          "US",
          "US"
         ],
         "name": "",
         "type": "choropleth",
         "z": [
          14.8,
          12.1,
          12.7,
          14.3,
          12.9,
          13.3,
          13,
          11.7,
          12,
          12.5,
          13.3,
          13.1,
          19.6,
          16.8,
          17.4,
          11.4,
          11.8,
          11.7,
          13.6,
          10.7,
          11.3,
          10.4,
          10.6,
          10.6,
          18.4,
          15.3,
          16,
          15.5,
          13.1,
          13.7,
          15.6,
          13.3,
          13.8,
          7.1,
          8.7,
          8.3,
          12.5,
          11.1,
          11.4,
          12.6,
          9.7,
          10.4,
          8.1,
          7.3,
          7.5,
          7.3,
          7.6,
          7.5,
          10.3,
          11.5,
          11.2,
          19.5,
          15.6,
          16.6,
          9.6,
          9.4,
          9.4,
          11.2,
          12.8,
          12.5,
          10.7,
          11.7,
          11.5,
          10.5,
          9.9,
          10.1,
          5.3,
          6.9,
          6.6,
          17,
          14.9,
          15.4,
          8.8,
          8.9,
          8.9,
          8,
          9.3,
          9,
          9.7,
          8.9,
          9.1,
          13.7,
          13.5,
          13.5,
          8.1,
          8.6,
          8.5,
          13.8,
          12.8,
          13,
          13.9,
          13.5,
          13.6,
          17.2,
          14.6,
          15.2,
          14.9,
          13.2,
          13.6,
          9.8,
          9.5,
          9.6,
          11.3,
          10.1,
          10.3,
          10.1,
          10.9,
          10.7,
          10.3,
          11.5,
          11.3,
          13,
          10.7,
          11.1,
          10.1,
          7.6,
          8.1,
          15.1,
          12.8,
          13.3,
          9.1,
          9,
          9.1,
          12.1,
          10.9,
          11.2,
          15.3,
          13.6,
          14.1,
          7.6,
          8.5,
          8.2,
          12.4,
          10.1,
          10.6,
          13.4,
          11.3,
          11.8,
          8.8,
          8.2,
          8.4,
          13.4,
          12.3,
          12.5,
          8.2,
          7.8,
          7.9,
          9.3,
          10.2,
          10,
          17.3,
          16.9,
          17,
          13.9,
          12.5,
          12.8
         ]
        }
       ],
       "frames": [
        {
         "data": [
          {
           "coloraxis": "coloraxis",
           "geo": "geo",
           "hovertemplate": "Child Allowance=0<br>State=%{location}<br>Child poverty rate=%{z}<extra></extra>",
           "locationmode": "USA-states",
           "locations": [
            "AL",
            "AL",
            "AL",
            "AK",
            "AK",
            "AK",
            "AZ",
            "AZ",
            "AZ",
            "AR",
            "AR",
            "AR",
            "CA",
            "CA",
            "CA",
            "CO",
            "CO",
            "CO",
            "CT",
            "CT",
            "CT",
            "DE",
            "DE",
            "DE",
            "FL",
            "FL",
            "FL",
            "GA",
            "GA",
            "GA",
            "HI",
            "HI",
            "HI",
            "ID",
            "ID",
            "ID",
            "IL",
            "IL",
            "IL",
            "IN",
            "IN",
            "IN",
            "IA",
            "IA",
            "IA",
            "KS",
            "KS",
            "KS",
            "KY",
            "KY",
            "KY",
            "LA",
            "LA",
            "LA",
            "ME",
            "ME",
            "ME",
            "MD",
            "MD",
            "MD",
            "MA",
            "MA",
            "MA",
            "MI",
            "MI",
            "MI",
            "MN",
            "MN",
            "MN",
            "MS",
            "MS",
            "MS",
            "MO",
            "MO",
            "MO",
            "MT",
            "MT",
            "MT",
            "NE",
            "NE",
            "NE",
            "NV",
            "NV",
            "NV",
            "NH",
            "NH",
            "NH",
            "NJ",
            "NJ",
            "NJ",
            "NM",
            "NM",
            "NM",
            "NY",
            "NY",
            "NY",
            "NC",
            "NC",
            "NC",
            "ND",
            "ND",
            "ND",
            "OH",
            "OH",
            "OH",
            "OK",
            "OK",
            "OK",
            "OR",
            "OR",
            "OR",
            "PA",
            "PA",
            "PA",
            "RI",
            "RI",
            "RI",
            "SC",
            "SC",
            "SC",
            "SD",
            "SD",
            "SD",
            "TN",
            "TN",
            "TN",
            "TX",
            "TX",
            "TX",
            "UT",
            "UT",
            "UT",
            "VT",
            "VT",
            "VT",
            "VA",
            "VA",
            "VA",
            "WA",
            "WA",
            "WA",
            "WV",
            "WV",
            "WV",
            "WI",
            "WI",
            "WI",
            "WY",
            "WY",
            "WY",
            "DC",
            "DC",
            "DC",
            "US",
            "US",
            "US"
           ],
           "name": "",
           "type": "choropleth",
           "z": [
            14.8,
            12.1,
            12.7,
            14.3,
            12.9,
            13.3,
            13,
            11.7,
            12,
            12.5,
            13.3,
            13.1,
            19.6,
            16.8,
            17.4,
            11.4,
            11.8,
            11.7,
            13.6,
            10.7,
            11.3,
            10.4,
            10.6,
            10.6,
            18.4,
            15.3,
            16,
            15.5,
            13.1,
            13.7,
            15.6,
            13.3,
            13.8,
            7.1,
            8.7,
            8.3,
            12.5,
            11.1,
            11.4,
            12.6,
            9.7,
            10.4,
            8.1,
            7.3,
            7.5,
            7.3,
            7.6,
            7.5,
            10.3,
            11.5,
            11.2,
            19.5,
            15.6,
            16.6,
            9.6,
            9.4,
            9.4,
            11.2,
            12.8,
            12.5,
            10.7,
            11.7,
            11.5,
            10.5,
            9.9,
            10.1,
            5.3,
            6.9,
            6.6,
            17,
            14.9,
            15.4,
            8.8,
            8.9,
            8.9,
            8,
            9.3,
            9,
            9.7,
            8.9,
            9.1,
            13.7,
            13.5,
            13.5,
            8.1,
            8.6,
            8.5,
            13.8,
            12.8,
            13,
            13.9,
            13.5,
            13.6,
            17.2,
            14.6,
            15.2,
            14.9,
            13.2,
            13.6,
            9.8,
            9.5,
            9.6,
            11.3,
            10.1,
            10.3,
            10.1,
            10.9,
            10.7,
            10.3,
            11.5,
            11.3,
            13,
            10.7,
            11.1,
            10.1,
            7.6,
            8.1,
            15.1,
            12.8,
            13.3,
            9.1,
            9,
            9.1,
            12.1,
            10.9,
            11.2,
            15.3,
            13.6,
            14.1,
            7.6,
            8.5,
            8.2,
            12.4,
            10.1,
            10.6,
            13.4,
            11.3,
            11.8,
            8.8,
            8.2,
            8.4,
            13.4,
            12.3,
            12.5,
            8.2,
            7.8,
            7.9,
            9.3,
            10.2,
            10,
            17.3,
            16.9,
            17,
            13.9,
            12.5,
            12.8
           ]
          }
         ],
         "name": "0"
        },
        {
         "data": [
          {
           "coloraxis": "coloraxis",
           "geo": "geo",
           "hovertemplate": "Child Allowance=50<br>State=%{location}<br>Child poverty rate=%{z}<extra></extra>",
           "locationmode": "USA-states",
           "locations": [
            "AL",
            "AL",
            "AL",
            "AK",
            "AK",
            "AK",
            "AZ",
            "AZ",
            "AZ",
            "AR",
            "AR",
            "AR",
            "CA",
            "CA",
            "CA",
            "CO",
            "CO",
            "CO",
            "CT",
            "CT",
            "CT",
            "DE",
            "DE",
            "DE",
            "FL",
            "FL",
            "FL",
            "GA",
            "GA",
            "GA",
            "HI",
            "HI",
            "HI",
            "ID",
            "ID",
            "ID",
            "IL",
            "IL",
            "IL",
            "IN",
            "IN",
            "IN",
            "IA",
            "IA",
            "IA",
            "KS",
            "KS",
            "KS",
            "KY",
            "KY",
            "KY",
            "LA",
            "LA",
            "LA",
            "ME",
            "ME",
            "ME",
            "MD",
            "MD",
            "MD",
            "MA",
            "MA",
            "MA",
            "MI",
            "MI",
            "MI",
            "MN",
            "MN",
            "MN",
            "MS",
            "MS",
            "MS",
            "MO",
            "MO",
            "MO",
            "MT",
            "MT",
            "MT",
            "NE",
            "NE",
            "NE",
            "NV",
            "NV",
            "NV",
            "NH",
            "NH",
            "NH",
            "NJ",
            "NJ",
            "NJ",
            "NM",
            "NM",
            "NM",
            "NY",
            "NY",
            "NY",
            "NC",
            "NC",
            "NC",
            "ND",
            "ND",
            "ND",
            "OH",
            "OH",
            "OH",
            "OK",
            "OK",
            "OK",
            "OR",
            "OR",
            "OR",
            "PA",
            "PA",
            "PA",
            "RI",
            "RI",
            "RI",
            "SC",
            "SC",
            "SC",
            "SD",
            "SD",
            "SD",
            "TN",
            "TN",
            "TN",
            "TX",
            "TX",
            "TX",
            "UT",
            "UT",
            "UT",
            "VT",
            "VT",
            "VT",
            "VA",
            "VA",
            "VA",
            "WA",
            "WA",
            "WA",
            "WV",
            "WV",
            "WV",
            "WI",
            "WI",
            "WI",
            "WY",
            "WY",
            "WY",
            "DC",
            "DC",
            "DC",
            "US",
            "US",
            "US"
           ],
           "name": "",
           "type": "choropleth",
           "z": [
            13.7,
            11.8,
            12.2,
            12.8,
            12.6,
            12.7,
            10.4,
            11.1,
            11,
            10.4,
            12.8,
            12.2,
            17.8,
            16.2,
            16.6,
            10,
            11.4,
            11.1,
            13,
            10.6,
            11.1,
            9.5,
            10.3,
            10.2,
            16.2,
            14.9,
            15.1,
            14.7,
            12.8,
            13.3,
            13.8,
            12.8,
            13,
            6.1,
            8.6,
            7.9,
            11.3,
            10.8,
            10.9,
            11.8,
            9.5,
            10.1,
            7.4,
            7,
            7.1,
            5.5,
            7.2,
            6.8,
            9.5,
            11.3,
            10.9,
            17.6,
            15.3,
            15.8,
            7.9,
            9.2,
            8.9,
            10.2,
            12.7,
            12.1,
            9.4,
            11.5,
            11.1,
            9.4,
            9.7,
            9.6,
            4.5,
            6.8,
            6.2,
            14.9,
            14.6,
            14.6,
            7.1,
            8.6,
            8.3,
            7.4,
            9.1,
            8.8,
            8.4,
            8.6,
            8.6,
            10.5,
            12.8,
            12.3,
            7.1,
            8.4,
            8.1,
            12.9,
            12.6,
            12.6,
            12,
            13,
            12.8,
            15.6,
            14.3,
            14.6,
            12.8,
            12.8,
            12.8,
            8.2,
            9.3,
            9,
            10.1,
            9.8,
            9.9,
            9,
            10.5,
            10.1,
            9,
            11.3,
            10.8,
            11.5,
            10.3,
            10.6,
            9.5,
            7.4,
            7.8,
            13.1,
            12.5,
            12.7,
            8.1,
            8.9,
            8.7,
            10.3,
            10.6,
            10.5,
            13.4,
            13.2,
            13.2,
            6.7,
            8.2,
            7.7,
            10.8,
            10,
            10.1,
            12.4,
            11.1,
            11.4,
            7.7,
            8,
            7.9,
            12.2,
            12,
            12.1,
            6.8,
            7.5,
            7.4,
            7.5,
            10,
            9.4,
            15.3,
            16.6,
            16.3,
            12.4,
            12.1,
            12.2
           ]
          }
         ],
         "name": "50"
        },
        {
         "data": [
          {
           "coloraxis": "coloraxis",
           "geo": "geo",
           "hovertemplate": "Child Allowance=100<br>State=%{location}<br>Child poverty rate=%{z}<extra></extra>",
           "locationmode": "USA-states",
           "locations": [
            "AL",
            "AL",
            "AL",
            "AK",
            "AK",
            "AK",
            "AZ",
            "AZ",
            "AZ",
            "AR",
            "AR",
            "AR",
            "CA",
            "CA",
            "CA",
            "CO",
            "CO",
            "CO",
            "CT",
            "CT",
            "CT",
            "DE",
            "DE",
            "DE",
            "FL",
            "FL",
            "FL",
            "GA",
            "GA",
            "GA",
            "HI",
            "HI",
            "HI",
            "ID",
            "ID",
            "ID",
            "IL",
            "IL",
            "IL",
            "IN",
            "IN",
            "IN",
            "IA",
            "IA",
            "IA",
            "KS",
            "KS",
            "KS",
            "KY",
            "KY",
            "KY",
            "LA",
            "LA",
            "LA",
            "ME",
            "ME",
            "ME",
            "MD",
            "MD",
            "MD",
            "MA",
            "MA",
            "MA",
            "MI",
            "MI",
            "MI",
            "MN",
            "MN",
            "MN",
            "MS",
            "MS",
            "MS",
            "MO",
            "MO",
            "MO",
            "MT",
            "MT",
            "MT",
            "NE",
            "NE",
            "NE",
            "NV",
            "NV",
            "NV",
            "NH",
            "NH",
            "NH",
            "NJ",
            "NJ",
            "NJ",
            "NM",
            "NM",
            "NM",
            "NY",
            "NY",
            "NY",
            "NC",
            "NC",
            "NC",
            "ND",
            "ND",
            "ND",
            "OH",
            "OH",
            "OH",
            "OK",
            "OK",
            "OK",
            "OR",
            "OR",
            "OR",
            "PA",
            "PA",
            "PA",
            "RI",
            "RI",
            "RI",
            "SC",
            "SC",
            "SC",
            "SD",
            "SD",
            "SD",
            "TN",
            "TN",
            "TN",
            "TX",
            "TX",
            "TX",
            "UT",
            "UT",
            "UT",
            "VT",
            "VT",
            "VT",
            "VA",
            "VA",
            "VA",
            "WA",
            "WA",
            "WA",
            "WV",
            "WV",
            "WV",
            "WI",
            "WI",
            "WI",
            "WY",
            "WY",
            "WY",
            "DC",
            "DC",
            "DC",
            "US",
            "US",
            "US"
           ],
           "name": "",
           "type": "choropleth",
           "z": [
            12,
            11.5,
            11.6,
            11.7,
            12.3,
            12.1,
            9.1,
            10.8,
            10.4,
            9,
            12.5,
            11.7,
            16.3,
            15.9,
            16,
            8.8,
            11.1,
            10.6,
            12.9,
            10.5,
            11,
            8.6,
            10.1,
            9.8,
            13.4,
            14.4,
            14.2,
            12.9,
            12.4,
            12.6,
            12.1,
            12.5,
            12.4,
            4.7,
            8.2,
            7.4,
            9.4,
            10.3,
            10.1,
            10.1,
            9.2,
            9.4,
            6.3,
            6.8,
            6.7,
            5.1,
            7,
            6.6,
            8.3,
            11.1,
            10.5,
            15.6,
            14.8,
            15,
            7,
            9,
            8.6,
            8.2,
            12.3,
            11.4,
            8.5,
            11.3,
            10.8,
            8.1,
            9.3,
            9.1,
            3.7,
            6.7,
            6,
            13,
            14.1,
            13.9,
            6.7,
            8.5,
            8.1,
            6.9,
            9,
            8.6,
            7.6,
            8.3,
            8.2,
            9.8,
            12.7,
            12,
            6.4,
            8.2,
            7.8,
            11.7,
            12.3,
            12.2,
            10.8,
            12.7,
            12.2,
            14.1,
            13.9,
            13.9,
            9.9,
            12.2,
            11.7,
            7.5,
            9.1,
            8.7,
            8.2,
            9.5,
            9.2,
            7.7,
            10.2,
            9.6,
            7.6,
            10.9,
            10.2,
            10.4,
            10.1,
            10.2,
            8.4,
            7.2,
            7.5,
            11.2,
            12.2,
            12,
            6.7,
            8.5,
            8,
            9.1,
            10.3,
            10,
            11.8,
            12.8,
            12.6,
            5.7,
            7.9,
            7.3,
            9.3,
            9.7,
            9.7,
            11,
            10.8,
            10.8,
            6.7,
            7.8,
            7.6,
            10,
            11.6,
            11.2,
            5.7,
            7.3,
            7,
            6.6,
            9.8,
            9,
            14.4,
            16.4,
            16.1,
            10.8,
            11.8,
            11.6
           ]
          }
         ],
         "name": "100"
        },
        {
         "data": [
          {
           "coloraxis": "coloraxis",
           "geo": "geo",
           "hovertemplate": "Child Allowance=150<br>State=%{location}<br>Child poverty rate=%{z}<extra></extra>",
           "locationmode": "USA-states",
           "locations": [
            "AL",
            "AL",
            "AL",
            "AK",
            "AK",
            "AK",
            "AZ",
            "AZ",
            "AZ",
            "AR",
            "AR",
            "AR",
            "CA",
            "CA",
            "CA",
            "CO",
            "CO",
            "CO",
            "CT",
            "CT",
            "CT",
            "DE",
            "DE",
            "DE",
            "FL",
            "FL",
            "FL",
            "GA",
            "GA",
            "GA",
            "HI",
            "HI",
            "HI",
            "ID",
            "ID",
            "ID",
            "IL",
            "IL",
            "IL",
            "IN",
            "IN",
            "IN",
            "IA",
            "IA",
            "IA",
            "KS",
            "KS",
            "KS",
            "KY",
            "KY",
            "KY",
            "LA",
            "LA",
            "LA",
            "ME",
            "ME",
            "ME",
            "MD",
            "MD",
            "MD",
            "MA",
            "MA",
            "MA",
            "MI",
            "MI",
            "MI",
            "MN",
            "MN",
            "MN",
            "MS",
            "MS",
            "MS",
            "MO",
            "MO",
            "MO",
            "MT",
            "MT",
            "MT",
            "NE",
            "NE",
            "NE",
            "NV",
            "NV",
            "NV",
            "NH",
            "NH",
            "NH",
            "NJ",
            "NJ",
            "NJ",
            "NM",
            "NM",
            "NM",
            "NY",
            "NY",
            "NY",
            "NC",
            "NC",
            "NC",
            "ND",
            "ND",
            "ND",
            "OH",
            "OH",
            "OH",
            "OK",
            "OK",
            "OK",
            "OR",
            "OR",
            "OR",
            "PA",
            "PA",
            "PA",
            "RI",
            "RI",
            "RI",
            "SC",
            "SC",
            "SC",
            "SD",
            "SD",
            "SD",
            "TN",
            "TN",
            "TN",
            "TX",
            "TX",
            "TX",
            "UT",
            "UT",
            "UT",
            "VT",
            "VT",
            "VT",
            "VA",
            "VA",
            "VA",
            "WA",
            "WA",
            "WA",
            "WV",
            "WV",
            "WV",
            "WI",
            "WI",
            "WI",
            "WY",
            "WY",
            "WY",
            "DC",
            "DC",
            "DC",
            "US",
            "US",
            "US"
           ],
           "name": "",
           "type": "choropleth",
           "z": [
            10.2,
            11.1,
            10.9,
            11.3,
            12.2,
            11.9,
            7.3,
            10.4,
            9.7,
            8.1,
            12.3,
            11.3,
            14.7,
            15.5,
            15.3,
            6.7,
            10.7,
            9.8,
            11.2,
            10.1,
            10.3,
            7.6,
            9.9,
            9.4,
            12,
            14.1,
            13.6,
            11,
            12,
            11.8,
            10.6,
            12.1,
            11.8,
            4.4,
            8.1,
            7.2,
            8.3,
            10.1,
            9.7,
            9.2,
            9,
            9,
            5.5,
            6.7,
            6.5,
            4.4,
            6.9,
            6.3,
            7.8,
            11,
            10.3,
            13.4,
            14.4,
            14.1,
            5.6,
            8.7,
            8.1,
            7.2,
            12,
            11,
            7.6,
            11,
            10.4,
            7.1,
            9.2,
            8.7,
            3.4,
            6.6,
            5.9,
            10.3,
            13.6,
            12.8,
            6.2,
            8.4,
            7.9,
            5.8,
            8.8,
            8.1,
            6.5,
            8,
            7.6,
            9,
            12.4,
            11.6,
            5.5,
            8,
            7.5,
            10.6,
            12,
            11.7,
            9.2,
            12.2,
            11.5,
            12.9,
            13.6,
            13.5,
            8.2,
            11.8,
            11,
            6.6,
            9,
            8.4,
            7.4,
            9.3,
            8.9,
            6.6,
            10,
            9.1,
            6.6,
            10.7,
            9.8,
            9.1,
            9.8,
            9.7,
            7.5,
            7,
            7.1,
            9.8,
            12,
            11.6,
            6.4,
            8.4,
            7.9,
            8.1,
            10.2,
            9.7,
            10.6,
            12.5,
            12,
            5.2,
            7.7,
            7,
            8.3,
            9.6,
            9.3,
            10,
            10.5,
            10.4,
            6.1,
            7.6,
            7.3,
            8.4,
            11.2,
            10.6,
            5,
            7.2,
            6.7,
            5.2,
            9.5,
            8.5,
            13.2,
            16.3,
            15.7,
            9.6,
            11.5,
            11.1
           ]
          }
         ],
         "name": "150"
        },
        {
         "data": [
          {
           "coloraxis": "coloraxis",
           "geo": "geo",
           "hovertemplate": "Child Allowance=200<br>State=%{location}<br>Child poverty rate=%{z}<extra></extra>",
           "locationmode": "USA-states",
           "locations": [
            "AL",
            "AL",
            "AL",
            "AK",
            "AK",
            "AK",
            "AZ",
            "AZ",
            "AZ",
            "AR",
            "AR",
            "AR",
            "CA",
            "CA",
            "CA",
            "CO",
            "CO",
            "CO",
            "CT",
            "CT",
            "CT",
            "DE",
            "DE",
            "DE",
            "FL",
            "FL",
            "FL",
            "GA",
            "GA",
            "GA",
            "HI",
            "HI",
            "HI",
            "ID",
            "ID",
            "ID",
            "IL",
            "IL",
            "IL",
            "IN",
            "IN",
            "IN",
            "IA",
            "IA",
            "IA",
            "KS",
            "KS",
            "KS",
            "KY",
            "KY",
            "KY",
            "LA",
            "LA",
            "LA",
            "ME",
            "ME",
            "ME",
            "MD",
            "MD",
            "MD",
            "MA",
            "MA",
            "MA",
            "MI",
            "MI",
            "MI",
            "MN",
            "MN",
            "MN",
            "MS",
            "MS",
            "MS",
            "MO",
            "MO",
            "MO",
            "MT",
            "MT",
            "MT",
            "NE",
            "NE",
            "NE",
            "NV",
            "NV",
            "NV",
            "NH",
            "NH",
            "NH",
            "NJ",
            "NJ",
            "NJ",
            "NM",
            "NM",
            "NM",
            "NY",
            "NY",
            "NY",
            "NC",
            "NC",
            "NC",
            "ND",
            "ND",
            "ND",
            "OH",
            "OH",
            "OH",
            "OK",
            "OK",
            "OK",
            "OR",
            "OR",
            "OR",
            "PA",
            "PA",
            "PA",
            "RI",
            "RI",
            "RI",
            "SC",
            "SC",
            "SC",
            "SD",
            "SD",
            "SD",
            "TN",
            "TN",
            "TN",
            "TX",
            "TX",
            "TX",
            "UT",
            "UT",
            "UT",
            "VT",
            "VT",
            "VT",
            "VA",
            "VA",
            "VA",
            "WA",
            "WA",
            "WA",
            "WV",
            "WV",
            "WV",
            "WI",
            "WI",
            "WI",
            "WY",
            "WY",
            "WY",
            "DC",
            "DC",
            "DC",
            "US",
            "US",
            "US"
           ],
           "name": "",
           "type": "choropleth",
           "z": [
            9.3,
            10.9,
            10.5,
            10.4,
            11.8,
            11.4,
            5.8,
            10,
            9,
            7.3,
            12.2,
            11,
            12.8,
            15,
            14.5,
            6.5,
            10.7,
            9.7,
            10.6,
            9.9,
            10,
            7.1,
            9.8,
            9.3,
            10.8,
            13.8,
            13.2,
            10,
            11.8,
            11.3,
            8.1,
            11.7,
            10.9,
            3.6,
            7.9,
            6.8,
            7.1,
            9.8,
            9.2,
            8,
            8.7,
            8.5,
            4.7,
            6.6,
            6.1,
            4.3,
            6.8,
            6.2,
            7.2,
            10.8,
            10,
            11.1,
            13.9,
            13.2,
            5.5,
            8.6,
            8,
            6.9,
            12,
            10.8,
            6.7,
            10.8,
            10,
            6.3,
            9,
            8.4,
            3,
            6.5,
            5.7,
            8.7,
            13.2,
            12.1,
            5.1,
            8.2,
            7.5,
            5.2,
            8.7,
            7.9,
            6.2,
            7.9,
            7.4,
            7.6,
            12.1,
            11.1,
            5,
            7.8,
            7.3,
            9.1,
            11.6,
            11,
            8.2,
            11.9,
            11,
            10.8,
            13.2,
            12.7,
            7.2,
            11.5,
            10.6,
            5.4,
            8.6,
            7.8,
            6.5,
            9.1,
            8.5,
            5.7,
            9.8,
            8.8,
            5.9,
            10.6,
            9.6,
            8.1,
            9.6,
            9.3,
            6.7,
            6.8,
            6.7,
            8.8,
            11.9,
            11.2,
            5.1,
            8.2,
            7.4,
            7.8,
            10,
            9.5,
            9.1,
            12.1,
            11.3,
            4.7,
            7.6,
            6.7,
            7.7,
            9.4,
            9.1,
            9.2,
            10.2,
            10,
            5.5,
            7.4,
            7,
            7.7,
            11,
            10.3,
            4,
            7,
            6.3,
            4.4,
            9.3,
            8.1,
            12.1,
            16.1,
            15.4,
            8.4,
            11.2,
            10.6
           ]
          }
         ],
         "name": "200"
        },
        {
         "data": [
          {
           "coloraxis": "coloraxis",
           "geo": "geo",
           "hovertemplate": "Child Allowance=250<br>State=%{location}<br>Child poverty rate=%{z}<extra></extra>",
           "locationmode": "USA-states",
           "locations": [
            "AL",
            "AL",
            "AL",
            "AK",
            "AK",
            "AK",
            "AZ",
            "AZ",
            "AZ",
            "AR",
            "AR",
            "AR",
            "CA",
            "CA",
            "CA",
            "CO",
            "CO",
            "CO",
            "CT",
            "CT",
            "CT",
            "DE",
            "DE",
            "DE",
            "FL",
            "FL",
            "FL",
            "GA",
            "GA",
            "GA",
            "HI",
            "HI",
            "HI",
            "ID",
            "ID",
            "ID",
            "IL",
            "IL",
            "IL",
            "IN",
            "IN",
            "IN",
            "IA",
            "IA",
            "IA",
            "KS",
            "KS",
            "KS",
            "KY",
            "KY",
            "KY",
            "LA",
            "LA",
            "LA",
            "ME",
            "ME",
            "ME",
            "MD",
            "MD",
            "MD",
            "MA",
            "MA",
            "MA",
            "MI",
            "MI",
            "MI",
            "MN",
            "MN",
            "MN",
            "MS",
            "MS",
            "MS",
            "MO",
            "MO",
            "MO",
            "MT",
            "MT",
            "MT",
            "NE",
            "NE",
            "NE",
            "NV",
            "NV",
            "NV",
            "NH",
            "NH",
            "NH",
            "NJ",
            "NJ",
            "NJ",
            "NM",
            "NM",
            "NM",
            "NY",
            "NY",
            "NY",
            "NC",
            "NC",
            "NC",
            "ND",
            "ND",
            "ND",
            "OH",
            "OH",
            "OH",
            "OK",
            "OK",
            "OK",
            "OR",
            "OR",
            "OR",
            "PA",
            "PA",
            "PA",
            "RI",
            "RI",
            "RI",
            "SC",
            "SC",
            "SC",
            "SD",
            "SD",
            "SD",
            "TN",
            "TN",
            "TN",
            "TX",
            "TX",
            "TX",
            "UT",
            "UT",
            "UT",
            "VT",
            "VT",
            "VT",
            "VA",
            "VA",
            "VA",
            "WA",
            "WA",
            "WA",
            "WV",
            "WV",
            "WV",
            "WI",
            "WI",
            "WI",
            "WY",
            "WY",
            "WY",
            "DC",
            "DC",
            "DC",
            "US",
            "US",
            "US"
           ],
           "name": "",
           "type": "choropleth",
           "z": [
            7.8,
            10.6,
            10,
            9.2,
            11.4,
            10.8,
            5.2,
            9.8,
            8.8,
            6.7,
            12.1,
            10.8,
            11.3,
            14.6,
            13.8,
            5.8,
            10.4,
            9.4,
            9.8,
            9.7,
            9.7,
            5.9,
            9.5,
            8.8,
            9.8,
            13.6,
            12.9,
            8.8,
            11.4,
            10.8,
            7.4,
            11.4,
            10.5,
            2.4,
            7.6,
            6.3,
            6.2,
            9.6,
            8.8,
            6.6,
            8.4,
            7.9,
            4.3,
            6.5,
            6,
            3.9,
            6.7,
            6,
            6.4,
            10.8,
            9.8,
            9.5,
            13.6,
            12.6,
            5.4,
            8.6,
            8,
            6.5,
            11.8,
            10.6,
            5.8,
            10.7,
            9.7,
            5.5,
            8.8,
            8.1,
            2.8,
            6.5,
            5.6,
            7.4,
            13,
            11.7,
            4.1,
            7.9,
            7,
            4.3,
            8.5,
            7.6,
            5.6,
            7.8,
            7.2,
            6.9,
            11.8,
            10.7,
            4,
            7.7,
            7,
            8.6,
            11.4,
            10.8,
            7.3,
            11.6,
            10.6,
            9.9,
            13,
            12.3,
            6.4,
            11.3,
            10.2,
            4.6,
            8.5,
            7.5,
            5.2,
            8.7,
            7.9,
            5.1,
            9.6,
            8.5,
            5.4,
            10.4,
            9.4,
            7.7,
            9.5,
            9.1,
            6.5,
            6.7,
            6.7,
            7.9,
            11.6,
            10.8,
            5,
            8.1,
            7.3,
            6.3,
            9.8,
            9,
            8.1,
            11.8,
            10.8,
            4.6,
            7.5,
            6.7,
            7,
            9.3,
            8.8,
            8.3,
            10,
            9.6,
            5,
            7.3,
            6.8,
            6.2,
            10.7,
            9.8,
            3.6,
            6.9,
            6.1,
            4.1,
            9.2,
            8,
            9.9,
            15.7,
            14.6,
            7.5,
            11,
            10.2
           ]
          }
         ],
         "name": "250"
        },
        {
         "data": [
          {
           "coloraxis": "coloraxis",
           "geo": "geo",
           "hovertemplate": "Child Allowance=300<br>State=%{location}<br>Child poverty rate=%{z}<extra></extra>",
           "locationmode": "USA-states",
           "locations": [
            "AL",
            "AL",
            "AL",
            "AK",
            "AK",
            "AK",
            "AZ",
            "AZ",
            "AZ",
            "AR",
            "AR",
            "AR",
            "CA",
            "CA",
            "CA",
            "CO",
            "CO",
            "CO",
            "CT",
            "CT",
            "CT",
            "DE",
            "DE",
            "DE",
            "FL",
            "FL",
            "FL",
            "GA",
            "GA",
            "GA",
            "HI",
            "HI",
            "HI",
            "ID",
            "ID",
            "ID",
            "IL",
            "IL",
            "IL",
            "IN",
            "IN",
            "IN",
            "IA",
            "IA",
            "IA",
            "KS",
            "KS",
            "KS",
            "KY",
            "KY",
            "KY",
            "LA",
            "LA",
            "LA",
            "ME",
            "ME",
            "ME",
            "MD",
            "MD",
            "MD",
            "MA",
            "MA",
            "MA",
            "MI",
            "MI",
            "MI",
            "MN",
            "MN",
            "MN",
            "MS",
            "MS",
            "MS",
            "MO",
            "MO",
            "MO",
            "MT",
            "MT",
            "MT",
            "NE",
            "NE",
            "NE",
            "NV",
            "NV",
            "NV",
            "NH",
            "NH",
            "NH",
            "NJ",
            "NJ",
            "NJ",
            "NM",
            "NM",
            "NM",
            "NY",
            "NY",
            "NY",
            "NC",
            "NC",
            "NC",
            "ND",
            "ND",
            "ND",
            "OH",
            "OH",
            "OH",
            "OK",
            "OK",
            "OK",
            "OR",
            "OR",
            "OR",
            "PA",
            "PA",
            "PA",
            "RI",
            "RI",
            "RI",
            "SC",
            "SC",
            "SC",
            "SD",
            "SD",
            "SD",
            "TN",
            "TN",
            "TN",
            "TX",
            "TX",
            "TX",
            "UT",
            "UT",
            "UT",
            "VT",
            "VT",
            "VT",
            "VA",
            "VA",
            "VA",
            "WA",
            "WA",
            "WA",
            "WV",
            "WV",
            "WV",
            "WI",
            "WI",
            "WI",
            "WY",
            "WY",
            "WY",
            "DC",
            "DC",
            "DC",
            "US",
            "US",
            "US"
           ],
           "name": "",
           "type": "choropleth",
           "z": [
            7.2,
            10.5,
            9.7,
            8.3,
            11.1,
            10.4,
            4.7,
            9.7,
            8.5,
            5.5,
            11.8,
            10.3,
            9.9,
            14.3,
            13.3,
            5.4,
            10.2,
            9.1,
            8.1,
            9.4,
            9.1,
            5.1,
            9.1,
            8.3,
            8.8,
            13.4,
            12.5,
            7.8,
            11.1,
            10.3,
            5.9,
            11.1,
            10,
            2.3,
            7.5,
            6.2,
            5.6,
            9.4,
            8.5,
            5.8,
            8.1,
            7.6,
            3.4,
            6.3,
            5.6,
            3.5,
            6.7,
            5.9,
            5.3,
            10.4,
            9.3,
            7.9,
            13,
            11.8,
            4.9,
            8.5,
            7.8,
            6,
            11.7,
            10.4,
            5.2,
            10.4,
            9.4,
            5.1,
            8.7,
            7.9,
            2.2,
            6.4,
            5.4,
            7,
            12.9,
            11.4,
            3.1,
            7.8,
            6.7,
            4.1,
            8.5,
            7.5,
            4.7,
            7.5,
            6.8,
            6.2,
            11.7,
            10.5,
            3.4,
            7.6,
            6.8,
            7.7,
            11.2,
            10.4,
            5.4,
            11.3,
            9.9,
            9.2,
            12.8,
            12,
            5.5,
            11.1,
            9.9,
            4.4,
            8.4,
            7.5,
            4.4,
            8.5,
            7.6,
            4.8,
            9.5,
            8.4,
            4.7,
            10.2,
            9.1,
            7.4,
            9.4,
            9,
            5.4,
            6.5,
            6.3,
            6.8,
            11.3,
            10.3,
            4,
            7.9,
            6.9,
            5.7,
            9.7,
            8.8,
            7.1,
            11.6,
            10.4,
            3.6,
            7.2,
            6.2,
            6.5,
            9.2,
            8.7,
            7.3,
            9.8,
            9.2,
            4.6,
            7.2,
            6.6,
            5.2,
            10.4,
            9.3,
            3.4,
            6.8,
            6.1,
            3.8,
            9.1,
            7.8,
            9,
            15.5,
            14.3,
            6.6,
            10.8,
            9.8
           ]
          }
         ],
         "name": "300"
        },
        {
         "data": [
          {
           "coloraxis": "coloraxis",
           "geo": "geo",
           "hovertemplate": "Child Allowance=350<br>State=%{location}<br>Child poverty rate=%{z}<extra></extra>",
           "locationmode": "USA-states",
           "locations": [
            "AL",
            "AL",
            "AL",
            "AK",
            "AK",
            "AK",
            "AZ",
            "AZ",
            "AZ",
            "AR",
            "AR",
            "AR",
            "CA",
            "CA",
            "CA",
            "CO",
            "CO",
            "CO",
            "CT",
            "CT",
            "CT",
            "DE",
            "DE",
            "DE",
            "FL",
            "FL",
            "FL",
            "GA",
            "GA",
            "GA",
            "HI",
            "HI",
            "HI",
            "ID",
            "ID",
            "ID",
            "IL",
            "IL",
            "IL",
            "IN",
            "IN",
            "IN",
            "IA",
            "IA",
            "IA",
            "KS",
            "KS",
            "KS",
            "KY",
            "KY",
            "KY",
            "LA",
            "LA",
            "LA",
            "ME",
            "ME",
            "ME",
            "MD",
            "MD",
            "MD",
            "MA",
            "MA",
            "MA",
            "MI",
            "MI",
            "MI",
            "MN",
            "MN",
            "MN",
            "MS",
            "MS",
            "MS",
            "MO",
            "MO",
            "MO",
            "MT",
            "MT",
            "MT",
            "NE",
            "NE",
            "NE",
            "NV",
            "NV",
            "NV",
            "NH",
            "NH",
            "NH",
            "NJ",
            "NJ",
            "NJ",
            "NM",
            "NM",
            "NM",
            "NY",
            "NY",
            "NY",
            "NC",
            "NC",
            "NC",
            "ND",
            "ND",
            "ND",
            "OH",
            "OH",
            "OH",
            "OK",
            "OK",
            "OK",
            "OR",
            "OR",
            "OR",
            "PA",
            "PA",
            "PA",
            "RI",
            "RI",
            "RI",
            "SC",
            "SC",
            "SC",
            "SD",
            "SD",
            "SD",
            "TN",
            "TN",
            "TN",
            "TX",
            "TX",
            "TX",
            "UT",
            "UT",
            "UT",
            "VT",
            "VT",
            "VT",
            "VA",
            "VA",
            "VA",
            "WA",
            "WA",
            "WA",
            "WV",
            "WV",
            "WV",
            "WI",
            "WI",
            "WI",
            "WY",
            "WY",
            "WY",
            "DC",
            "DC",
            "DC",
            "US",
            "US",
            "US"
           ],
           "name": "",
           "type": "choropleth",
           "z": [
            6.4,
            10.4,
            9.5,
            7.9,
            10.9,
            10.1,
            4.2,
            9.5,
            8.3,
            5,
            11.7,
            10,
            9,
            14,
            12.9,
            5.1,
            10.2,
            9,
            7.6,
            9.2,
            8.9,
            4.6,
            9.1,
            8.1,
            8,
            13.2,
            12.2,
            6.9,
            10.9,
            9.9,
            5.6,
            11,
            9.8,
            2.2,
            7.5,
            6.1,
            5.1,
            9.3,
            8.3,
            5.3,
            7.9,
            7.3,
            2.8,
            6.2,
            5.4,
            3.5,
            6.6,
            5.9,
            4.3,
            10.2,
            8.8,
            7.3,
            12.9,
            11.5,
            4.7,
            8.4,
            7.7,
            5.2,
            11.5,
            10.1,
            4.6,
            10.3,
            9.2,
            4.5,
            8.6,
            7.7,
            1.9,
            6.2,
            5.2,
            5.9,
            12.6,
            10.9,
            2.6,
            7.6,
            6.4,
            4,
            8.5,
            7.5,
            4,
            7.3,
            6.4,
            5.8,
            11.6,
            10.3,
            3.1,
            7.5,
            6.7,
            6.8,
            11,
            10.1,
            4.7,
            11,
            9.6,
            8.5,
            12.7,
            11.8,
            4.9,
            10.9,
            9.6,
            3.9,
            8.3,
            7.2,
            3.5,
            8.3,
            7.2,
            4.4,
            9.3,
            8.1,
            4.2,
            10.1,
            8.9,
            6.4,
            9.2,
            8.6,
            4.7,
            6.4,
            6,
            6.3,
            11.2,
            10.1,
            3.6,
            7.7,
            6.7,
            5.2,
            9.5,
            8.6,
            6.1,
            11.3,
            10,
            3.3,
            7.1,
            6,
            5.6,
            9.1,
            8.5,
            6.7,
            9.5,
            8.9,
            3.3,
            7,
            6.2,
            4.3,
            10.2,
            9,
            2.7,
            6.6,
            5.7,
            3.3,
            8.9,
            7.6,
            7.8,
            15.3,
            13.9,
            5.9,
            10.6,
            9.5
           ]
          }
         ],
         "name": "350"
        },
        {
         "data": [
          {
           "coloraxis": "coloraxis",
           "geo": "geo",
           "hovertemplate": "Child Allowance=400<br>State=%{location}<br>Child poverty rate=%{z}<extra></extra>",
           "locationmode": "USA-states",
           "locations": [
            "AL",
            "AL",
            "AL",
            "AK",
            "AK",
            "AK",
            "AZ",
            "AZ",
            "AZ",
            "AR",
            "AR",
            "AR",
            "CA",
            "CA",
            "CA",
            "CO",
            "CO",
            "CO",
            "CT",
            "CT",
            "CT",
            "DE",
            "DE",
            "DE",
            "FL",
            "FL",
            "FL",
            "GA",
            "GA",
            "GA",
            "HI",
            "HI",
            "HI",
            "ID",
            "ID",
            "ID",
            "IL",
            "IL",
            "IL",
            "IN",
            "IN",
            "IN",
            "IA",
            "IA",
            "IA",
            "KS",
            "KS",
            "KS",
            "KY",
            "KY",
            "KY",
            "LA",
            "LA",
            "LA",
            "ME",
            "ME",
            "ME",
            "MD",
            "MD",
            "MD",
            "MA",
            "MA",
            "MA",
            "MI",
            "MI",
            "MI",
            "MN",
            "MN",
            "MN",
            "MS",
            "MS",
            "MS",
            "MO",
            "MO",
            "MO",
            "MT",
            "MT",
            "MT",
            "NE",
            "NE",
            "NE",
            "NV",
            "NV",
            "NV",
            "NH",
            "NH",
            "NH",
            "NJ",
            "NJ",
            "NJ",
            "NM",
            "NM",
            "NM",
            "NY",
            "NY",
            "NY",
            "NC",
            "NC",
            "NC",
            "ND",
            "ND",
            "ND",
            "OH",
            "OH",
            "OH",
            "OK",
            "OK",
            "OK",
            "OR",
            "OR",
            "OR",
            "PA",
            "PA",
            "PA",
            "RI",
            "RI",
            "RI",
            "SC",
            "SC",
            "SC",
            "SD",
            "SD",
            "SD",
            "TN",
            "TN",
            "TN",
            "TX",
            "TX",
            "TX",
            "UT",
            "UT",
            "UT",
            "VT",
            "VT",
            "VT",
            "VA",
            "VA",
            "VA",
            "WA",
            "WA",
            "WA",
            "WV",
            "WV",
            "WV",
            "WI",
            "WI",
            "WI",
            "WY",
            "WY",
            "WY",
            "DC",
            "DC",
            "DC",
            "US",
            "US",
            "US"
           ],
           "name": "",
           "type": "choropleth",
           "z": [
            5.7,
            10.3,
            9.2,
            7.5,
            10.8,
            9.9,
            3.7,
            9.4,
            8,
            4.5,
            11.6,
            9.9,
            8,
            13.7,
            12.4,
            4.8,
            10.1,
            8.9,
            7.1,
            9.1,
            8.6,
            4.1,
            9,
            8,
            7.2,
            13.1,
            11.9,
            6.4,
            10.8,
            9.7,
            5,
            10.9,
            9.6,
            1.9,
            7.4,
            6,
            4.3,
            9.1,
            8,
            4.3,
            7.7,
            6.9,
            2.7,
            6.1,
            5.3,
            3.1,
            6.6,
            5.7,
            3.6,
            10,
            8.5,
            6.2,
            12.7,
            11.1,
            4.2,
            8.3,
            7.5,
            4.8,
            11.4,
            10,
            4.3,
            10.2,
            9.1,
            4.1,
            8.5,
            7.5,
            1.8,
            6.2,
            5.2,
            5.5,
            12.5,
            10.8,
            2.5,
            7.6,
            6.4,
            3.6,
            8.4,
            7.3,
            3.9,
            7.2,
            6.4,
            5.2,
            11.5,
            10.1,
            3.1,
            7.5,
            6.6,
            6.4,
            10.9,
            9.9,
            4.3,
            10.9,
            9.4,
            7.8,
            12.4,
            11.4,
            4.2,
            10.6,
            9.2,
            3.2,
            8.2,
            6.9,
            3,
            8.1,
            7,
            3.9,
            9.2,
            7.9,
            3.6,
            10,
            8.6,
            5.7,
            9,
            8.3,
            4.4,
            6.3,
            5.9,
            5.5,
            11.1,
            9.8,
            3.3,
            7.6,
            6.5,
            4.5,
            9.4,
            8.3,
            5.5,
            11.1,
            9.6,
            3.2,
            7.1,
            5.9,
            5.4,
            9.1,
            8.4,
            5.1,
            9.2,
            8.3,
            3.3,
            7,
            6.2,
            3.7,
            10,
            8.7,
            2.5,
            6.6,
            5.7,
            2.8,
            8.8,
            7.4,
            7.4,
            15.1,
            13.7,
            5.3,
            10.4,
            9.2
           ]
          }
         ],
         "name": "400"
        },
        {
         "data": [
          {
           "coloraxis": "coloraxis",
           "geo": "geo",
           "hovertemplate": "Child Allowance=450<br>State=%{location}<br>Child poverty rate=%{z}<extra></extra>",
           "locationmode": "USA-states",
           "locations": [
            "AL",
            "AL",
            "AL",
            "AK",
            "AK",
            "AK",
            "AZ",
            "AZ",
            "AZ",
            "AR",
            "AR",
            "AR",
            "CA",
            "CA",
            "CA",
            "CO",
            "CO",
            "CO",
            "CT",
            "CT",
            "CT",
            "DE",
            "DE",
            "DE",
            "FL",
            "FL",
            "FL",
            "GA",
            "GA",
            "GA",
            "HI",
            "HI",
            "HI",
            "ID",
            "ID",
            "ID",
            "IL",
            "IL",
            "IL",
            "IN",
            "IN",
            "IN",
            "IA",
            "IA",
            "IA",
            "KS",
            "KS",
            "KS",
            "KY",
            "KY",
            "KY",
            "LA",
            "LA",
            "LA",
            "ME",
            "ME",
            "ME",
            "MD",
            "MD",
            "MD",
            "MA",
            "MA",
            "MA",
            "MI",
            "MI",
            "MI",
            "MN",
            "MN",
            "MN",
            "MS",
            "MS",
            "MS",
            "MO",
            "MO",
            "MO",
            "MT",
            "MT",
            "MT",
            "NE",
            "NE",
            "NE",
            "NV",
            "NV",
            "NV",
            "NH",
            "NH",
            "NH",
            "NJ",
            "NJ",
            "NJ",
            "NM",
            "NM",
            "NM",
            "NY",
            "NY",
            "NY",
            "NC",
            "NC",
            "NC",
            "ND",
            "ND",
            "ND",
            "OH",
            "OH",
            "OH",
            "OK",
            "OK",
            "OK",
            "OR",
            "OR",
            "OR",
            "PA",
            "PA",
            "PA",
            "RI",
            "RI",
            "RI",
            "SC",
            "SC",
            "SC",
            "SD",
            "SD",
            "SD",
            "TN",
            "TN",
            "TN",
            "TX",
            "TX",
            "TX",
            "UT",
            "UT",
            "UT",
            "VT",
            "VT",
            "VT",
            "VA",
            "VA",
            "VA",
            "WA",
            "WA",
            "WA",
            "WV",
            "WV",
            "WV",
            "WI",
            "WI",
            "WI",
            "WY",
            "WY",
            "WY",
            "DC",
            "DC",
            "DC",
            "US",
            "US",
            "US"
           ],
           "name": "",
           "type": "choropleth",
           "z": [
            5,
            10.1,
            8.9,
            7.1,
            10.6,
            9.7,
            3.3,
            9.2,
            7.8,
            3.9,
            11.4,
            9.6,
            7.2,
            13.5,
            12,
            4,
            9.9,
            8.6,
            5.9,
            8.8,
            8.2,
            4,
            8.9,
            7.9,
            6.6,
            12.9,
            11.6,
            5.4,
            10.6,
            9.3,
            4.6,
            10.8,
            9.5,
            1.9,
            7.4,
            6,
            3.7,
            9,
            7.8,
            3.7,
            7.6,
            6.6,
            1.9,
            6,
            5,
            2.2,
            6.4,
            5.4,
            3,
            9.8,
            8.2,
            5.3,
            12.3,
            10.6,
            3.9,
            8.2,
            7.4,
            4.2,
            11.3,
            9.8,
            3.6,
            9.9,
            8.7,
            3.7,
            8.4,
            7.4,
            1.7,
            6.1,
            5.1,
            5.1,
            12.3,
            10.5,
            2.3,
            7.5,
            6.3,
            3.3,
            8.3,
            7.2,
            3.5,
            7.1,
            6.2,
            4.4,
            11.3,
            9.8,
            2.7,
            7.4,
            6.5,
            5.3,
            10.7,
            9.5,
            3.8,
            10.7,
            9.1,
            7,
            12.2,
            11.1,
            3.8,
            10.5,
            9,
            2.5,
            8,
            6.6,
            2.8,
            8.1,
            6.9,
            3.1,
            9,
            7.5,
            3.6,
            10,
            8.6,
            4.9,
            8.8,
            8,
            3.8,
            6.2,
            5.7,
            5.1,
            11,
            9.7,
            2.5,
            7.5,
            6.2,
            4,
            9.2,
            8.1,
            4.8,
            10.8,
            9.2,
            3,
            7,
            5.8,
            4.9,
            9,
            8.2,
            4.5,
            9,
            8,
            2.7,
            6.9,
            6,
            3.1,
            9.9,
            8.5,
            2.3,
            6.5,
            5.6,
            2.7,
            8.7,
            7.3,
            6.7,
            15,
            13.4,
            4.7,
            10.2,
            9
           ]
          }
         ],
         "name": "450"
        },
        {
         "data": [
          {
           "coloraxis": "coloraxis",
           "geo": "geo",
           "hovertemplate": "Child Allowance=500<br>State=%{location}<br>Child poverty rate=%{z}<extra></extra>",
           "locationmode": "USA-states",
           "locations": [
            "AL",
            "AL",
            "AL",
            "AK",
            "AK",
            "AK",
            "AZ",
            "AZ",
            "AZ",
            "AR",
            "AR",
            "AR",
            "CA",
            "CA",
            "CA",
            "CO",
            "CO",
            "CO",
            "CT",
            "CT",
            "CT",
            "DE",
            "DE",
            "DE",
            "FL",
            "FL",
            "FL",
            "GA",
            "GA",
            "GA",
            "HI",
            "HI",
            "HI",
            "ID",
            "ID",
            "ID",
            "IL",
            "IL",
            "IL",
            "IN",
            "IN",
            "IN",
            "IA",
            "IA",
            "IA",
            "KS",
            "KS",
            "KS",
            "KY",
            "KY",
            "KY",
            "LA",
            "LA",
            "LA",
            "ME",
            "ME",
            "ME",
            "MD",
            "MD",
            "MD",
            "MA",
            "MA",
            "MA",
            "MI",
            "MI",
            "MI",
            "MN",
            "MN",
            "MN",
            "MS",
            "MS",
            "MS",
            "MO",
            "MO",
            "MO",
            "MT",
            "MT",
            "MT",
            "NE",
            "NE",
            "NE",
            "NV",
            "NV",
            "NV",
            "NH",
            "NH",
            "NH",
            "NJ",
            "NJ",
            "NJ",
            "NM",
            "NM",
            "NM",
            "NY",
            "NY",
            "NY",
            "NC",
            "NC",
            "NC",
            "ND",
            "ND",
            "ND",
            "OH",
            "OH",
            "OH",
            "OK",
            "OK",
            "OK",
            "OR",
            "OR",
            "OR",
            "PA",
            "PA",
            "PA",
            "RI",
            "RI",
            "RI",
            "SC",
            "SC",
            "SC",
            "SD",
            "SD",
            "SD",
            "TN",
            "TN",
            "TN",
            "TX",
            "TX",
            "TX",
            "UT",
            "UT",
            "UT",
            "VT",
            "VT",
            "VT",
            "VA",
            "VA",
            "VA",
            "WA",
            "WA",
            "WA",
            "WV",
            "WV",
            "WV",
            "WI",
            "WI",
            "WI",
            "WY",
            "WY",
            "WY",
            "DC",
            "DC",
            "DC",
            "US",
            "US",
            "US"
           ],
           "name": "",
           "type": "choropleth",
           "z": [
            4.8,
            10,
            8.8,
            6.7,
            10.4,
            9.5,
            3.1,
            9.2,
            7.8,
            3.1,
            11.3,
            9.3,
            6.5,
            13.3,
            11.7,
            3.8,
            9.9,
            8.5,
            5.4,
            8.6,
            7.9,
            3.7,
            8.7,
            7.7,
            6,
            12.7,
            11.3,
            4.6,
            10.4,
            9,
            3.5,
            10.5,
            9,
            1.8,
            7.3,
            5.9,
            3.4,
            9,
            7.7,
            3.2,
            7.4,
            6.4,
            1.9,
            6,
            5,
            2.1,
            6.4,
            5.3,
            2.8,
            9.7,
            8.2,
            4.6,
            12.2,
            10.3,
            3.7,
            8.2,
            7.3,
            4,
            11.2,
            9.6,
            3.1,
            9.8,
            8.5,
            3.6,
            8.3,
            7.3,
            1.2,
            6,
            4.9,
            4.4,
            12.1,
            10.2,
            2.1,
            7.4,
            6.2,
            2.6,
            8.2,
            7,
            3.2,
            7,
            6,
            4.2,
            11.3,
            9.7,
            2.1,
            7.2,
            6.2,
            4.6,
            10.4,
            9.1,
            3.2,
            10.5,
            8.8,
            6,
            12,
            10.7,
            3.4,
            10.3,
            8.8,
            2.5,
            8,
            6.6,
            2.5,
            8,
            6.7,
            2.8,
            8.9,
            7.4,
            2.9,
            9.8,
            8.3,
            4.2,
            8.7,
            7.7,
            2.7,
            6.1,
            5.4,
            4.8,
            10.9,
            9.5,
            2.1,
            7.3,
            6,
            3.9,
            9.2,
            8,
            4.2,
            10.7,
            9,
            2.9,
            7,
            5.8,
            4.4,
            8.8,
            8,
            4.1,
            8.9,
            7.8,
            2.6,
            6.9,
            5.9,
            2.6,
            9.8,
            8.3,
            2.2,
            6.5,
            5.5,
            2.2,
            8.5,
            7.1,
            5.5,
            14.6,
            12.9,
            4.2,
            10.1,
            8.8
           ]
          }
         ],
         "name": "500"
        }
       ],
       "layout": {
        "coloraxis": {
         "cmax": 22,
         "cmin": 0,
         "colorbar": {
          "title": {
           "text": "Child poverty rate"
          }
         },
         "colorscale": [
          [
           0,
           "rgb(255,245,240)"
          ],
          [
           0.125,
           "rgb(254,224,210)"
          ],
          [
           0.25,
           "rgb(252,187,161)"
          ],
          [
           0.375,
           "rgb(252,146,114)"
          ],
          [
           0.5,
           "rgb(251,106,74)"
          ],
          [
           0.625,
           "rgb(239,59,44)"
          ],
          [
           0.75,
           "rgb(203,24,29)"
          ],
          [
           0.875,
           "rgb(165,15,21)"
          ],
          [
           1,
           "rgb(103,0,13)"
          ]
         ],
         "showscale": false
        },
        "font": {
         "family": "Roboto"
        },
        "geo": {
         "center": {},
         "domain": {
          "x": [
           0,
           1
          ],
          "y": [
           0,
           1
          ]
         },
         "scope": "usa"
        },
        "height": 600,
        "legend": {
         "tracegroupgap": 0
        },
        "sliders": [
         {
          "active": 0,
          "currentvalue": {
           "prefix": "Child Allowance="
          },
          "len": 0.9,
          "pad": {
           "b": 10,
           "t": 60
          },
          "steps": [
           {
            "args": [
             [
              "0"
             ],
             {
              "frame": {
               "duration": 0,
               "redraw": true
              },
              "fromcurrent": true,
              "mode": "immediate",
              "transition": {
               "duration": 0,
               "easing": "linear"
              }
             }
            ],
            "label": "0",
            "method": "animate"
           },
           {
            "args": [
             [
              "50"
             ],
             {
              "frame": {
               "duration": 0,
               "redraw": true
              },
              "fromcurrent": true,
              "mode": "immediate",
              "transition": {
               "duration": 0,
               "easing": "linear"
              }
             }
            ],
            "label": "50",
            "method": "animate"
           },
           {
            "args": [
             [
              "100"
             ],
             {
              "frame": {
               "duration": 0,
               "redraw": true
              },
              "fromcurrent": true,
              "mode": "immediate",
              "transition": {
               "duration": 0,
               "easing": "linear"
              }
             }
            ],
            "label": "100",
            "method": "animate"
           },
           {
            "args": [
             [
              "150"
             ],
             {
              "frame": {
               "duration": 0,
               "redraw": true
              },
              "fromcurrent": true,
              "mode": "immediate",
              "transition": {
               "duration": 0,
               "easing": "linear"
              }
             }
            ],
            "label": "150",
            "method": "animate"
           },
           {
            "args": [
             [
              "200"
             ],
             {
              "frame": {
               "duration": 0,
               "redraw": true
              },
              "fromcurrent": true,
              "mode": "immediate",
              "transition": {
               "duration": 0,
               "easing": "linear"
              }
             }
            ],
            "label": "200",
            "method": "animate"
           },
           {
            "args": [
             [
              "250"
             ],
             {
              "frame": {
               "duration": 0,
               "redraw": true
              },
              "fromcurrent": true,
              "mode": "immediate",
              "transition": {
               "duration": 0,
               "easing": "linear"
              }
             }
            ],
            "label": "250",
            "method": "animate"
           },
           {
            "args": [
             [
              "300"
             ],
             {
              "frame": {
               "duration": 0,
               "redraw": true
              },
              "fromcurrent": true,
              "mode": "immediate",
              "transition": {
               "duration": 0,
               "easing": "linear"
              }
             }
            ],
            "label": "300",
            "method": "animate"
           },
           {
            "args": [
             [
              "350"
             ],
             {
              "frame": {
               "duration": 0,
               "redraw": true
              },
              "fromcurrent": true,
              "mode": "immediate",
              "transition": {
               "duration": 0,
               "easing": "linear"
              }
             }
            ],
            "label": "350",
            "method": "animate"
           },
           {
            "args": [
             [
              "400"
             ],
             {
              "frame": {
               "duration": 0,
               "redraw": true
              },
              "fromcurrent": true,
              "mode": "immediate",
              "transition": {
               "duration": 0,
               "easing": "linear"
              }
             }
            ],
            "label": "400",
            "method": "animate"
           },
           {
            "args": [
             [
              "450"
             ],
             {
              "frame": {
               "duration": 0,
               "redraw": true
              },
              "fromcurrent": true,
              "mode": "immediate",
              "transition": {
               "duration": 0,
               "easing": "linear"
              }
             }
            ],
            "label": "450",
            "method": "animate"
           },
           {
            "args": [
             [
              "500"
             ],
             {
              "frame": {
               "duration": 0,
               "redraw": true
              },
              "fromcurrent": true,
              "mode": "immediate",
              "transition": {
               "duration": 0,
               "easing": "linear"
              }
             }
            ],
            "label": "500",
            "method": "animate"
           }
          ],
          "x": 0.1,
          "xanchor": "left",
          "y": 0,
          "yanchor": "top"
         }
        ],
        "template": {
         "data": {
          "bar": [
           {
            "error_x": {
             "color": "#2a3f5f"
            },
            "error_y": {
             "color": "#2a3f5f"
            },
            "marker": {
             "line": {
              "color": "#E5ECF6",
              "width": 0.5
             }
            },
            "type": "bar"
           }
          ],
          "barpolar": [
           {
            "marker": {
             "line": {
              "color": "#E5ECF6",
              "width": 0.5
             }
            },
            "type": "barpolar"
           }
          ],
          "carpet": [
           {
            "aaxis": {
             "endlinecolor": "#2a3f5f",
             "gridcolor": "white",
             "linecolor": "white",
             "minorgridcolor": "white",
             "startlinecolor": "#2a3f5f"
            },
            "baxis": {
             "endlinecolor": "#2a3f5f",
             "gridcolor": "white",
             "linecolor": "white",
             "minorgridcolor": "white",
             "startlinecolor": "#2a3f5f"
            },
            "type": "carpet"
           }
          ],
          "choropleth": [
           {
            "colorbar": {
             "outlinewidth": 0,
             "ticks": ""
            },
            "type": "choropleth"
           }
          ],
          "contour": [
           {
            "colorbar": {
             "outlinewidth": 0,
             "ticks": ""
            },
            "colorscale": [
             [
              0,
              "#0d0887"
             ],
             [
              0.1111111111111111,
              "#46039f"
             ],
             [
              0.2222222222222222,
              "#7201a8"
             ],
             [
              0.3333333333333333,
              "#9c179e"
             ],
             [
              0.4444444444444444,
              "#bd3786"
             ],
             [
              0.5555555555555556,
              "#d8576b"
             ],
             [
              0.6666666666666666,
              "#ed7953"
             ],
             [
              0.7777777777777778,
              "#fb9f3a"
             ],
             [
              0.8888888888888888,
              "#fdca26"
             ],
             [
              1,
              "#f0f921"
             ]
            ],
            "type": "contour"
           }
          ],
          "contourcarpet": [
           {
            "colorbar": {
             "outlinewidth": 0,
             "ticks": ""
            },
            "type": "contourcarpet"
           }
          ],
          "heatmap": [
           {
            "colorbar": {
             "outlinewidth": 0,
             "ticks": ""
            },
            "colorscale": [
             [
              0,
              "#0d0887"
             ],
             [
              0.1111111111111111,
              "#46039f"
             ],
             [
              0.2222222222222222,
              "#7201a8"
             ],
             [
              0.3333333333333333,
              "#9c179e"
             ],
             [
              0.4444444444444444,
              "#bd3786"
             ],
             [
              0.5555555555555556,
              "#d8576b"
             ],
             [
              0.6666666666666666,
              "#ed7953"
             ],
             [
              0.7777777777777778,
              "#fb9f3a"
             ],
             [
              0.8888888888888888,
              "#fdca26"
             ],
             [
              1,
              "#f0f921"
             ]
            ],
            "type": "heatmap"
           }
          ],
          "heatmapgl": [
           {
            "colorbar": {
             "outlinewidth": 0,
             "ticks": ""
            },
            "colorscale": [
             [
              0,
              "#0d0887"
             ],
             [
              0.1111111111111111,
              "#46039f"
             ],
             [
              0.2222222222222222,
              "#7201a8"
             ],
             [
              0.3333333333333333,
              "#9c179e"
             ],
             [
              0.4444444444444444,
              "#bd3786"
             ],
             [
              0.5555555555555556,
              "#d8576b"
             ],
             [
              0.6666666666666666,
              "#ed7953"
             ],
             [
              0.7777777777777778,
              "#fb9f3a"
             ],
             [
              0.8888888888888888,
              "#fdca26"
             ],
             [
              1,
              "#f0f921"
             ]
            ],
            "type": "heatmapgl"
           }
          ],
          "histogram": [
           {
            "marker": {
             "colorbar": {
              "outlinewidth": 0,
              "ticks": ""
             }
            },
            "type": "histogram"
           }
          ],
          "histogram2d": [
           {
            "colorbar": {
             "outlinewidth": 0,
             "ticks": ""
            },
            "colorscale": [
             [
              0,
              "#0d0887"
             ],
             [
              0.1111111111111111,
              "#46039f"
             ],
             [
              0.2222222222222222,
              "#7201a8"
             ],
             [
              0.3333333333333333,
              "#9c179e"
             ],
             [
              0.4444444444444444,
              "#bd3786"
             ],
             [
              0.5555555555555556,
              "#d8576b"
             ],
             [
              0.6666666666666666,
              "#ed7953"
             ],
             [
              0.7777777777777778,
              "#fb9f3a"
             ],
             [
              0.8888888888888888,
              "#fdca26"
             ],
             [
              1,
              "#f0f921"
             ]
            ],
            "type": "histogram2d"
           }
          ],
          "histogram2dcontour": [
           {
            "colorbar": {
             "outlinewidth": 0,
             "ticks": ""
            },
            "colorscale": [
             [
              0,
              "#0d0887"
             ],
             [
              0.1111111111111111,
              "#46039f"
             ],
             [
              0.2222222222222222,
              "#7201a8"
             ],
             [
              0.3333333333333333,
              "#9c179e"
             ],
             [
              0.4444444444444444,
              "#bd3786"
             ],
             [
              0.5555555555555556,
              "#d8576b"
             ],
             [
              0.6666666666666666,
              "#ed7953"
             ],
             [
              0.7777777777777778,
              "#fb9f3a"
             ],
             [
              0.8888888888888888,
              "#fdca26"
             ],
             [
              1,
              "#f0f921"
             ]
            ],
            "type": "histogram2dcontour"
           }
          ],
          "mesh3d": [
           {
            "colorbar": {
             "outlinewidth": 0,
             "ticks": ""
            },
            "type": "mesh3d"
           }
          ],
          "parcoords": [
           {
            "line": {
             "colorbar": {
              "outlinewidth": 0,
              "ticks": ""
             }
            },
            "type": "parcoords"
           }
          ],
          "pie": [
           {
            "automargin": true,
            "type": "pie"
           }
          ],
          "scatter": [
           {
            "marker": {
             "colorbar": {
              "outlinewidth": 0,
              "ticks": ""
             }
            },
            "type": "scatter"
           }
          ],
          "scatter3d": [
           {
            "line": {
             "colorbar": {
              "outlinewidth": 0,
              "ticks": ""
             }
            },
            "marker": {
             "colorbar": {
              "outlinewidth": 0,
              "ticks": ""
             }
            },
            "type": "scatter3d"
           }
          ],
          "scattercarpet": [
           {
            "marker": {
             "colorbar": {
              "outlinewidth": 0,
              "ticks": ""
             }
            },
            "type": "scattercarpet"
           }
          ],
          "scattergeo": [
           {
            "marker": {
             "colorbar": {
              "outlinewidth": 0,
              "ticks": ""
             }
            },
            "type": "scattergeo"
           }
          ],
          "scattergl": [
           {
            "marker": {
             "colorbar": {
              "outlinewidth": 0,
              "ticks": ""
             }
            },
            "type": "scattergl"
           }
          ],
          "scattermapbox": [
           {
            "marker": {
             "colorbar": {
              "outlinewidth": 0,
              "ticks": ""
             }
            },
            "type": "scattermapbox"
           }
          ],
          "scatterpolar": [
           {
            "marker": {
             "colorbar": {
              "outlinewidth": 0,
              "ticks": ""
             }
            },
            "type": "scatterpolar"
           }
          ],
          "scatterpolargl": [
           {
            "marker": {
             "colorbar": {
              "outlinewidth": 0,
              "ticks": ""
             }
            },
            "type": "scatterpolargl"
           }
          ],
          "scatterternary": [
           {
            "marker": {
             "colorbar": {
              "outlinewidth": 0,
              "ticks": ""
             }
            },
            "type": "scatterternary"
           }
          ],
          "surface": [
           {
            "colorbar": {
             "outlinewidth": 0,
             "ticks": ""
            },
            "colorscale": [
             [
              0,
              "#0d0887"
             ],
             [
              0.1111111111111111,
              "#46039f"
             ],
             [
              0.2222222222222222,
              "#7201a8"
             ],
             [
              0.3333333333333333,
              "#9c179e"
             ],
             [
              0.4444444444444444,
              "#bd3786"
             ],
             [
              0.5555555555555556,
              "#d8576b"
             ],
             [
              0.6666666666666666,
              "#ed7953"
             ],
             [
              0.7777777777777778,
              "#fb9f3a"
             ],
             [
              0.8888888888888888,
              "#fdca26"
             ],
             [
              1,
              "#f0f921"
             ]
            ],
            "type": "surface"
           }
          ],
          "table": [
           {
            "cells": {
             "fill": {
              "color": "#EBF0F8"
             },
             "line": {
              "color": "white"
             }
            },
            "header": {
             "fill": {
              "color": "#C8D4E3"
             },
             "line": {
              "color": "white"
             }
            },
            "type": "table"
           }
          ]
         },
         "layout": {
          "annotationdefaults": {
           "arrowcolor": "#2a3f5f",
           "arrowhead": 0,
           "arrowwidth": 1
          },
          "coloraxis": {
           "colorbar": {
            "outlinewidth": 0,
            "ticks": ""
           }
          },
          "colorscale": {
           "diverging": [
            [
             0,
             "#8e0152"
            ],
            [
             0.1,
             "#c51b7d"
            ],
            [
             0.2,
             "#de77ae"
            ],
            [
             0.3,
             "#f1b6da"
            ],
            [
             0.4,
             "#fde0ef"
            ],
            [
             0.5,
             "#f7f7f7"
            ],
            [
             0.6,
             "#e6f5d0"
            ],
            [
             0.7,
             "#b8e186"
            ],
            [
             0.8,
             "#7fbc41"
            ],
            [
             0.9,
             "#4d9221"
            ],
            [
             1,
             "#276419"
            ]
           ],
           "sequential": [
            [
             0,
             "#0d0887"
            ],
            [
             0.1111111111111111,
             "#46039f"
            ],
            [
             0.2222222222222222,
             "#7201a8"
            ],
            [
             0.3333333333333333,
             "#9c179e"
            ],
            [
             0.4444444444444444,
             "#bd3786"
            ],
            [
             0.5555555555555556,
             "#d8576b"
            ],
            [
             0.6666666666666666,
             "#ed7953"
            ],
            [
             0.7777777777777778,
             "#fb9f3a"
            ],
            [
             0.8888888888888888,
             "#fdca26"
            ],
            [
             1,
             "#f0f921"
            ]
           ],
           "sequentialminus": [
            [
             0,
             "#0d0887"
            ],
            [
             0.1111111111111111,
             "#46039f"
            ],
            [
             0.2222222222222222,
             "#7201a8"
            ],
            [
             0.3333333333333333,
             "#9c179e"
            ],
            [
             0.4444444444444444,
             "#bd3786"
            ],
            [
             0.5555555555555556,
             "#d8576b"
            ],
            [
             0.6666666666666666,
             "#ed7953"
            ],
            [
             0.7777777777777778,
             "#fb9f3a"
            ],
            [
             0.8888888888888888,
             "#fdca26"
            ],
            [
             1,
             "#f0f921"
            ]
           ]
          },
          "colorway": [
           "#636efa",
           "#EF553B",
           "#00cc96",
           "#ab63fa",
           "#FFA15A",
           "#19d3f3",
           "#FF6692",
           "#B6E880",
           "#FF97FF",
           "#FECB52"
          ],
          "font": {
           "color": "#2a3f5f"
          },
          "geo": {
           "bgcolor": "white",
           "lakecolor": "white",
           "landcolor": "#E5ECF6",
           "showlakes": true,
           "showland": true,
           "subunitcolor": "white"
          },
          "hoverlabel": {
           "align": "left"
          },
          "hovermode": "closest",
          "mapbox": {
           "style": "light"
          },
          "paper_bgcolor": "white",
          "plot_bgcolor": "#E5ECF6",
          "polar": {
           "angularaxis": {
            "gridcolor": "white",
            "linecolor": "white",
            "ticks": ""
           },
           "bgcolor": "#E5ECF6",
           "radialaxis": {
            "gridcolor": "white",
            "linecolor": "white",
            "ticks": ""
           }
          },
          "scene": {
           "xaxis": {
            "backgroundcolor": "#E5ECF6",
            "gridcolor": "white",
            "gridwidth": 2,
            "linecolor": "white",
            "showbackground": true,
            "ticks": "",
            "zerolinecolor": "white"
           },
           "yaxis": {
            "backgroundcolor": "#E5ECF6",
            "gridcolor": "white",
            "gridwidth": 2,
            "linecolor": "white",
            "showbackground": true,
            "ticks": "",
            "zerolinecolor": "white"
           },
           "zaxis": {
            "backgroundcolor": "#E5ECF6",
            "gridcolor": "white",
            "gridwidth": 2,
            "linecolor": "white",
            "showbackground": true,
            "ticks": "",
            "zerolinecolor": "white"
           }
          },
          "shapedefaults": {
           "line": {
            "color": "#2a3f5f"
           }
          },
          "ternary": {
           "aaxis": {
            "gridcolor": "white",
            "linecolor": "white",
            "ticks": ""
           },
           "baxis": {
            "gridcolor": "white",
            "linecolor": "white",
            "ticks": ""
           },
           "bgcolor": "#E5ECF6",
           "caxis": {
            "gridcolor": "white",
            "linecolor": "white",
            "ticks": ""
           }
          },
          "title": {
           "x": 0.05
          },
          "xaxis": {
           "automargin": true,
           "gridcolor": "white",
           "linecolor": "white",
           "ticks": "",
           "title": {
            "standoff": 15
           },
           "zerolinecolor": "white",
           "zerolinewidth": 2
          },
          "yaxis": {
           "automargin": true,
           "gridcolor": "white",
           "linecolor": "white",
           "ticks": "",
           "title": {
            "standoff": 15
           },
           "zerolinecolor": "white",
           "zerolinewidth": 2
          }
         }
        },
        "title": {
         "text": "Child poverty with with no tax reform"
        },
        "updatemenus": [
         {
          "buttons": [
           {
            "args": [
             null,
             {
              "frame": {
               "duration": 500,
               "redraw": true
              },
              "fromcurrent": true,
              "mode": "immediate",
              "transition": {
               "duration": 500,
               "easing": "linear"
              }
             }
            ],
            "label": "&#9654;",
            "method": "animate"
           },
           {
            "args": [
             [
              null
             ],
             {
              "frame": {
               "duration": 0,
               "redraw": true
              },
              "fromcurrent": true,
              "mode": "immediate",
              "transition": {
               "duration": 0,
               "easing": "linear"
              }
             }
            ],
            "label": "&#9724;",
            "method": "animate"
           }
          ],
          "direction": "left",
          "pad": {
           "r": 10,
           "t": 70
          },
          "showactive": false,
          "type": "buttons",
          "x": 0.1,
          "xanchor": "right",
          "y": 0,
          "yanchor": "top"
         }
        ]
       }
      },
      "text/html": [
       "<div>\n",
       "        \n",
       "        \n",
       "            <div id=\"d3ac13de-5a3c-45d4-9ddd-391c96c8ef39\" class=\"plotly-graph-div\" style=\"height:600px; width:100%;\"></div>\n",
       "            <script type=\"text/javascript\">\n",
       "                require([\"plotly\"], function(Plotly) {\n",
       "                    window.PLOTLYENV=window.PLOTLYENV || {};\n",
       "                    \n",
       "                if (document.getElementById(\"d3ac13de-5a3c-45d4-9ddd-391c96c8ef39\")) {\n",
       "                    Plotly.newPlot(\n",
       "                        'd3ac13de-5a3c-45d4-9ddd-391c96c8ef39',\n",
       "                        [{\"coloraxis\": \"coloraxis\", \"geo\": \"geo\", \"hovertemplate\": \"Child Allowance=0<br>State=%{location}<br>Child poverty rate=%{z}<extra></extra>\", \"locationmode\": \"USA-states\", \"locations\": [\"AL\", \"AL\", \"AL\", \"AK\", \"AK\", \"AK\", \"AZ\", \"AZ\", \"AZ\", \"AR\", \"AR\", \"AR\", \"CA\", \"CA\", \"CA\", \"CO\", \"CO\", \"CO\", \"CT\", \"CT\", \"CT\", \"DE\", \"DE\", \"DE\", \"FL\", \"FL\", \"FL\", \"GA\", \"GA\", \"GA\", \"HI\", \"HI\", \"HI\", \"ID\", \"ID\", \"ID\", \"IL\", \"IL\", \"IL\", \"IN\", \"IN\", \"IN\", \"IA\", \"IA\", \"IA\", \"KS\", \"KS\", \"KS\", \"KY\", \"KY\", \"KY\", \"LA\", \"LA\", \"LA\", \"ME\", \"ME\", \"ME\", \"MD\", \"MD\", \"MD\", \"MA\", \"MA\", \"MA\", \"MI\", \"MI\", \"MI\", \"MN\", \"MN\", \"MN\", \"MS\", \"MS\", \"MS\", \"MO\", \"MO\", \"MO\", \"MT\", \"MT\", \"MT\", \"NE\", \"NE\", \"NE\", \"NV\", \"NV\", \"NV\", \"NH\", \"NH\", \"NH\", \"NJ\", \"NJ\", \"NJ\", \"NM\", \"NM\", \"NM\", \"NY\", \"NY\", \"NY\", \"NC\", \"NC\", \"NC\", \"ND\", \"ND\", \"ND\", \"OH\", \"OH\", \"OH\", \"OK\", \"OK\", \"OK\", \"OR\", \"OR\", \"OR\", \"PA\", \"PA\", \"PA\", \"RI\", \"RI\", \"RI\", \"SC\", \"SC\", \"SC\", \"SD\", \"SD\", \"SD\", \"TN\", \"TN\", \"TN\", \"TX\", \"TX\", \"TX\", \"UT\", \"UT\", \"UT\", \"VT\", \"VT\", \"VT\", \"VA\", \"VA\", \"VA\", \"WA\", \"WA\", \"WA\", \"WV\", \"WV\", \"WV\", \"WI\", \"WI\", \"WI\", \"WY\", \"WY\", \"WY\", \"DC\", \"DC\", \"DC\", \"US\", \"US\", \"US\"], \"name\": \"\", \"type\": \"choropleth\", \"z\": [14.8, 12.1, 12.7, 14.3, 12.9, 13.3, 13.0, 11.7, 12.0, 12.5, 13.3, 13.1, 19.6, 16.8, 17.4, 11.4, 11.8, 11.7, 13.6, 10.7, 11.3, 10.4, 10.6, 10.6, 18.4, 15.3, 16.0, 15.5, 13.1, 13.7, 15.6, 13.3, 13.8, 7.1, 8.7, 8.3, 12.5, 11.1, 11.4, 12.6, 9.7, 10.4, 8.1, 7.3, 7.5, 7.3, 7.6, 7.5, 10.3, 11.5, 11.2, 19.5, 15.6, 16.6, 9.6, 9.4, 9.4, 11.2, 12.8, 12.5, 10.7, 11.7, 11.5, 10.5, 9.9, 10.1, 5.3, 6.9, 6.6, 17.0, 14.9, 15.4, 8.8, 8.9, 8.9, 8.0, 9.3, 9.0, 9.7, 8.9, 9.1, 13.7, 13.5, 13.5, 8.1, 8.6, 8.5, 13.8, 12.8, 13.0, 13.9, 13.5, 13.6, 17.2, 14.6, 15.2, 14.9, 13.2, 13.6, 9.8, 9.5, 9.6, 11.3, 10.1, 10.3, 10.1, 10.9, 10.7, 10.3, 11.5, 11.3, 13.0, 10.7, 11.1, 10.1, 7.6, 8.1, 15.1, 12.8, 13.3, 9.1, 9.0, 9.1, 12.1, 10.9, 11.2, 15.3, 13.6, 14.1, 7.6, 8.5, 8.2, 12.4, 10.1, 10.6, 13.4, 11.3, 11.8, 8.8, 8.2, 8.4, 13.4, 12.3, 12.5, 8.2, 7.8, 7.9, 9.3, 10.2, 10.0, 17.3, 16.9, 17.0, 13.9, 12.5, 12.8]}],\n",
       "                        {\"coloraxis\": {\"cmax\": 22, \"cmin\": 0, \"colorbar\": {\"title\": {\"text\": \"Child poverty rate\"}}, \"colorscale\": [[0.0, \"rgb(255,245,240)\"], [0.125, \"rgb(254,224,210)\"], [0.25, \"rgb(252,187,161)\"], [0.375, \"rgb(252,146,114)\"], [0.5, \"rgb(251,106,74)\"], [0.625, \"rgb(239,59,44)\"], [0.75, \"rgb(203,24,29)\"], [0.875, \"rgb(165,15,21)\"], [1.0, \"rgb(103,0,13)\"]], \"showscale\": false}, \"font\": {\"family\": \"Roboto\"}, \"geo\": {\"center\": {}, \"domain\": {\"x\": [0.0, 1.0], \"y\": [0.0, 1.0]}, \"scope\": \"usa\"}, \"height\": 600, \"legend\": {\"tracegroupgap\": 0}, \"sliders\": [{\"active\": 0, \"currentvalue\": {\"prefix\": \"Child Allowance=\"}, \"len\": 0.9, \"pad\": {\"b\": 10, \"t\": 60}, \"steps\": [{\"args\": [[\"0\"], {\"frame\": {\"duration\": 0, \"redraw\": true}, \"fromcurrent\": true, \"mode\": \"immediate\", \"transition\": {\"duration\": 0, \"easing\": \"linear\"}}], \"label\": \"0\", \"method\": \"animate\"}, {\"args\": [[\"50\"], {\"frame\": {\"duration\": 0, \"redraw\": true}, \"fromcurrent\": true, \"mode\": \"immediate\", \"transition\": {\"duration\": 0, \"easing\": \"linear\"}}], \"label\": \"50\", \"method\": \"animate\"}, {\"args\": [[\"100\"], {\"frame\": {\"duration\": 0, \"redraw\": true}, \"fromcurrent\": true, \"mode\": \"immediate\", \"transition\": {\"duration\": 0, \"easing\": \"linear\"}}], \"label\": \"100\", \"method\": \"animate\"}, {\"args\": [[\"150\"], {\"frame\": {\"duration\": 0, \"redraw\": true}, \"fromcurrent\": true, \"mode\": \"immediate\", \"transition\": {\"duration\": 0, \"easing\": \"linear\"}}], \"label\": \"150\", \"method\": \"animate\"}, {\"args\": [[\"200\"], {\"frame\": {\"duration\": 0, \"redraw\": true}, \"fromcurrent\": true, \"mode\": \"immediate\", \"transition\": {\"duration\": 0, \"easing\": \"linear\"}}], \"label\": \"200\", \"method\": \"animate\"}, {\"args\": [[\"250\"], {\"frame\": {\"duration\": 0, \"redraw\": true}, \"fromcurrent\": true, \"mode\": \"immediate\", \"transition\": {\"duration\": 0, \"easing\": \"linear\"}}], \"label\": \"250\", \"method\": \"animate\"}, {\"args\": [[\"300\"], {\"frame\": {\"duration\": 0, \"redraw\": true}, \"fromcurrent\": true, \"mode\": \"immediate\", \"transition\": {\"duration\": 0, \"easing\": \"linear\"}}], \"label\": \"300\", \"method\": \"animate\"}, {\"args\": [[\"350\"], {\"frame\": {\"duration\": 0, \"redraw\": true}, \"fromcurrent\": true, \"mode\": \"immediate\", \"transition\": {\"duration\": 0, \"easing\": \"linear\"}}], \"label\": \"350\", \"method\": \"animate\"}, {\"args\": [[\"400\"], {\"frame\": {\"duration\": 0, \"redraw\": true}, \"fromcurrent\": true, \"mode\": \"immediate\", \"transition\": {\"duration\": 0, \"easing\": \"linear\"}}], \"label\": \"400\", \"method\": \"animate\"}, {\"args\": [[\"450\"], {\"frame\": {\"duration\": 0, \"redraw\": true}, \"fromcurrent\": true, \"mode\": \"immediate\", \"transition\": {\"duration\": 0, \"easing\": \"linear\"}}], \"label\": \"450\", \"method\": \"animate\"}, {\"args\": [[\"500\"], {\"frame\": {\"duration\": 0, \"redraw\": true}, \"fromcurrent\": true, \"mode\": \"immediate\", \"transition\": {\"duration\": 0, \"easing\": \"linear\"}}], \"label\": \"500\", \"method\": \"animate\"}], \"x\": 0.1, \"xanchor\": \"left\", \"y\": 0, \"yanchor\": \"top\"}], \"template\": {\"data\": {\"bar\": [{\"error_x\": {\"color\": \"#2a3f5f\"}, \"error_y\": {\"color\": \"#2a3f5f\"}, \"marker\": {\"line\": {\"color\": \"#E5ECF6\", \"width\": 0.5}}, \"type\": \"bar\"}], \"barpolar\": [{\"marker\": {\"line\": {\"color\": \"#E5ECF6\", \"width\": 0.5}}, \"type\": \"barpolar\"}], \"carpet\": [{\"aaxis\": {\"endlinecolor\": \"#2a3f5f\", \"gridcolor\": \"white\", \"linecolor\": \"white\", \"minorgridcolor\": \"white\", \"startlinecolor\": \"#2a3f5f\"}, \"baxis\": {\"endlinecolor\": \"#2a3f5f\", \"gridcolor\": \"white\", \"linecolor\": \"white\", \"minorgridcolor\": \"white\", \"startlinecolor\": \"#2a3f5f\"}, \"type\": \"carpet\"}], \"choropleth\": [{\"colorbar\": {\"outlinewidth\": 0, \"ticks\": \"\"}, \"type\": \"choropleth\"}], \"contour\": [{\"colorbar\": {\"outlinewidth\": 0, \"ticks\": \"\"}, \"colorscale\": [[0.0, \"#0d0887\"], [0.1111111111111111, \"#46039f\"], [0.2222222222222222, \"#7201a8\"], [0.3333333333333333, \"#9c179e\"], [0.4444444444444444, \"#bd3786\"], [0.5555555555555556, \"#d8576b\"], [0.6666666666666666, \"#ed7953\"], [0.7777777777777778, \"#fb9f3a\"], [0.8888888888888888, \"#fdca26\"], [1.0, \"#f0f921\"]], \"type\": \"contour\"}], \"contourcarpet\": [{\"colorbar\": {\"outlinewidth\": 0, \"ticks\": \"\"}, \"type\": \"contourcarpet\"}], \"heatmap\": [{\"colorbar\": {\"outlinewidth\": 0, \"ticks\": \"\"}, \"colorscale\": [[0.0, \"#0d0887\"], [0.1111111111111111, \"#46039f\"], [0.2222222222222222, \"#7201a8\"], [0.3333333333333333, \"#9c179e\"], [0.4444444444444444, \"#bd3786\"], [0.5555555555555556, \"#d8576b\"], [0.6666666666666666, \"#ed7953\"], [0.7777777777777778, \"#fb9f3a\"], [0.8888888888888888, \"#fdca26\"], [1.0, \"#f0f921\"]], \"type\": \"heatmap\"}], \"heatmapgl\": [{\"colorbar\": {\"outlinewidth\": 0, \"ticks\": \"\"}, \"colorscale\": [[0.0, \"#0d0887\"], [0.1111111111111111, \"#46039f\"], [0.2222222222222222, \"#7201a8\"], [0.3333333333333333, \"#9c179e\"], [0.4444444444444444, \"#bd3786\"], [0.5555555555555556, \"#d8576b\"], [0.6666666666666666, \"#ed7953\"], [0.7777777777777778, \"#fb9f3a\"], [0.8888888888888888, \"#fdca26\"], [1.0, \"#f0f921\"]], \"type\": \"heatmapgl\"}], \"histogram\": [{\"marker\": {\"colorbar\": {\"outlinewidth\": 0, \"ticks\": \"\"}}, \"type\": \"histogram\"}], \"histogram2d\": [{\"colorbar\": {\"outlinewidth\": 0, \"ticks\": \"\"}, \"colorscale\": [[0.0, \"#0d0887\"], [0.1111111111111111, \"#46039f\"], [0.2222222222222222, \"#7201a8\"], [0.3333333333333333, \"#9c179e\"], [0.4444444444444444, \"#bd3786\"], [0.5555555555555556, \"#d8576b\"], [0.6666666666666666, \"#ed7953\"], [0.7777777777777778, \"#fb9f3a\"], [0.8888888888888888, \"#fdca26\"], [1.0, \"#f0f921\"]], \"type\": \"histogram2d\"}], \"histogram2dcontour\": [{\"colorbar\": {\"outlinewidth\": 0, \"ticks\": \"\"}, \"colorscale\": [[0.0, \"#0d0887\"], [0.1111111111111111, \"#46039f\"], [0.2222222222222222, \"#7201a8\"], [0.3333333333333333, \"#9c179e\"], [0.4444444444444444, \"#bd3786\"], [0.5555555555555556, \"#d8576b\"], [0.6666666666666666, \"#ed7953\"], [0.7777777777777778, \"#fb9f3a\"], [0.8888888888888888, \"#fdca26\"], [1.0, \"#f0f921\"]], \"type\": \"histogram2dcontour\"}], \"mesh3d\": [{\"colorbar\": {\"outlinewidth\": 0, \"ticks\": \"\"}, \"type\": \"mesh3d\"}], \"parcoords\": [{\"line\": {\"colorbar\": {\"outlinewidth\": 0, \"ticks\": \"\"}}, \"type\": \"parcoords\"}], \"pie\": [{\"automargin\": true, \"type\": \"pie\"}], \"scatter\": [{\"marker\": {\"colorbar\": {\"outlinewidth\": 0, \"ticks\": \"\"}}, \"type\": \"scatter\"}], \"scatter3d\": [{\"line\": {\"colorbar\": {\"outlinewidth\": 0, \"ticks\": \"\"}}, \"marker\": {\"colorbar\": {\"outlinewidth\": 0, \"ticks\": \"\"}}, \"type\": \"scatter3d\"}], \"scattercarpet\": [{\"marker\": {\"colorbar\": {\"outlinewidth\": 0, \"ticks\": \"\"}}, \"type\": \"scattercarpet\"}], \"scattergeo\": [{\"marker\": {\"colorbar\": {\"outlinewidth\": 0, \"ticks\": \"\"}}, \"type\": \"scattergeo\"}], \"scattergl\": [{\"marker\": {\"colorbar\": {\"outlinewidth\": 0, \"ticks\": \"\"}}, \"type\": \"scattergl\"}], \"scattermapbox\": [{\"marker\": {\"colorbar\": {\"outlinewidth\": 0, \"ticks\": \"\"}}, \"type\": \"scattermapbox\"}], \"scatterpolar\": [{\"marker\": {\"colorbar\": {\"outlinewidth\": 0, \"ticks\": \"\"}}, \"type\": \"scatterpolar\"}], \"scatterpolargl\": [{\"marker\": {\"colorbar\": {\"outlinewidth\": 0, \"ticks\": \"\"}}, \"type\": \"scatterpolargl\"}], \"scatterternary\": [{\"marker\": {\"colorbar\": {\"outlinewidth\": 0, \"ticks\": \"\"}}, \"type\": \"scatterternary\"}], \"surface\": [{\"colorbar\": {\"outlinewidth\": 0, \"ticks\": \"\"}, \"colorscale\": [[0.0, \"#0d0887\"], [0.1111111111111111, \"#46039f\"], [0.2222222222222222, \"#7201a8\"], [0.3333333333333333, \"#9c179e\"], [0.4444444444444444, \"#bd3786\"], [0.5555555555555556, \"#d8576b\"], [0.6666666666666666, \"#ed7953\"], [0.7777777777777778, \"#fb9f3a\"], [0.8888888888888888, \"#fdca26\"], [1.0, \"#f0f921\"]], \"type\": \"surface\"}], \"table\": [{\"cells\": {\"fill\": {\"color\": \"#EBF0F8\"}, \"line\": {\"color\": \"white\"}}, \"header\": {\"fill\": {\"color\": \"#C8D4E3\"}, \"line\": {\"color\": \"white\"}}, \"type\": \"table\"}]}, \"layout\": {\"annotationdefaults\": {\"arrowcolor\": \"#2a3f5f\", \"arrowhead\": 0, \"arrowwidth\": 1}, \"coloraxis\": {\"colorbar\": {\"outlinewidth\": 0, \"ticks\": \"\"}}, \"colorscale\": {\"diverging\": [[0, \"#8e0152\"], [0.1, \"#c51b7d\"], [0.2, \"#de77ae\"], [0.3, \"#f1b6da\"], [0.4, \"#fde0ef\"], [0.5, \"#f7f7f7\"], [0.6, \"#e6f5d0\"], [0.7, \"#b8e186\"], [0.8, \"#7fbc41\"], [0.9, \"#4d9221\"], [1, \"#276419\"]], \"sequential\": [[0.0, \"#0d0887\"], [0.1111111111111111, \"#46039f\"], [0.2222222222222222, \"#7201a8\"], [0.3333333333333333, \"#9c179e\"], [0.4444444444444444, \"#bd3786\"], [0.5555555555555556, \"#d8576b\"], [0.6666666666666666, \"#ed7953\"], [0.7777777777777778, \"#fb9f3a\"], [0.8888888888888888, \"#fdca26\"], [1.0, \"#f0f921\"]], \"sequentialminus\": [[0.0, \"#0d0887\"], [0.1111111111111111, \"#46039f\"], [0.2222222222222222, \"#7201a8\"], [0.3333333333333333, \"#9c179e\"], [0.4444444444444444, \"#bd3786\"], [0.5555555555555556, \"#d8576b\"], [0.6666666666666666, \"#ed7953\"], [0.7777777777777778, \"#fb9f3a\"], [0.8888888888888888, \"#fdca26\"], [1.0, \"#f0f921\"]]}, \"colorway\": [\"#636efa\", \"#EF553B\", \"#00cc96\", \"#ab63fa\", \"#FFA15A\", \"#19d3f3\", \"#FF6692\", \"#B6E880\", \"#FF97FF\", \"#FECB52\"], \"font\": {\"color\": \"#2a3f5f\"}, \"geo\": {\"bgcolor\": \"white\", \"lakecolor\": \"white\", \"landcolor\": \"#E5ECF6\", \"showlakes\": true, \"showland\": true, \"subunitcolor\": \"white\"}, \"hoverlabel\": {\"align\": \"left\"}, \"hovermode\": \"closest\", \"mapbox\": {\"style\": \"light\"}, \"paper_bgcolor\": \"white\", \"plot_bgcolor\": \"#E5ECF6\", \"polar\": {\"angularaxis\": {\"gridcolor\": \"white\", \"linecolor\": \"white\", \"ticks\": \"\"}, \"bgcolor\": \"#E5ECF6\", \"radialaxis\": {\"gridcolor\": \"white\", \"linecolor\": \"white\", \"ticks\": \"\"}}, \"scene\": {\"xaxis\": {\"backgroundcolor\": \"#E5ECF6\", \"gridcolor\": \"white\", \"gridwidth\": 2, \"linecolor\": \"white\", \"showbackground\": true, \"ticks\": \"\", \"zerolinecolor\": \"white\"}, \"yaxis\": {\"backgroundcolor\": \"#E5ECF6\", \"gridcolor\": \"white\", \"gridwidth\": 2, \"linecolor\": \"white\", \"showbackground\": true, \"ticks\": \"\", \"zerolinecolor\": \"white\"}, \"zaxis\": {\"backgroundcolor\": \"#E5ECF6\", \"gridcolor\": \"white\", \"gridwidth\": 2, \"linecolor\": \"white\", \"showbackground\": true, \"ticks\": \"\", \"zerolinecolor\": \"white\"}}, \"shapedefaults\": {\"line\": {\"color\": \"#2a3f5f\"}}, \"ternary\": {\"aaxis\": {\"gridcolor\": \"white\", \"linecolor\": \"white\", \"ticks\": \"\"}, \"baxis\": {\"gridcolor\": \"white\", \"linecolor\": \"white\", \"ticks\": \"\"}, \"bgcolor\": \"#E5ECF6\", \"caxis\": {\"gridcolor\": \"white\", \"linecolor\": \"white\", \"ticks\": \"\"}}, \"title\": {\"x\": 0.05}, \"xaxis\": {\"automargin\": true, \"gridcolor\": \"white\", \"linecolor\": \"white\", \"ticks\": \"\", \"title\": {\"standoff\": 15}, \"zerolinecolor\": \"white\", \"zerolinewidth\": 2}, \"yaxis\": {\"automargin\": true, \"gridcolor\": \"white\", \"linecolor\": \"white\", \"ticks\": \"\", \"title\": {\"standoff\": 15}, \"zerolinecolor\": \"white\", \"zerolinewidth\": 2}}}, \"title\": {\"text\": \"Child poverty with with no tax reform\"}, \"updatemenus\": [{\"buttons\": [{\"args\": [null, {\"frame\": {\"duration\": 500, \"redraw\": true}, \"fromcurrent\": true, \"mode\": \"immediate\", \"transition\": {\"duration\": 500, \"easing\": \"linear\"}}], \"label\": \"&#9654;\", \"method\": \"animate\"}, {\"args\": [[null], {\"frame\": {\"duration\": 0, \"redraw\": true}, \"fromcurrent\": true, \"mode\": \"immediate\", \"transition\": {\"duration\": 0, \"easing\": \"linear\"}}], \"label\": \"&#9724;\", \"method\": \"animate\"}], \"direction\": \"left\", \"pad\": {\"r\": 10, \"t\": 70}, \"showactive\": false, \"type\": \"buttons\", \"x\": 0.1, \"xanchor\": \"right\", \"y\": 0, \"yanchor\": \"top\"}]},\n",
       "                        {\"displayModeBar\": false, \"responsive\": true}\n",
       "                    ).then(function(){\n",
       "                            Plotly.addFrames('d3ac13de-5a3c-45d4-9ddd-391c96c8ef39', [{\"data\": [{\"coloraxis\": \"coloraxis\", \"geo\": \"geo\", \"hovertemplate\": \"Child Allowance=0<br>State=%{location}<br>Child poverty rate=%{z}<extra></extra>\", \"locationmode\": \"USA-states\", \"locations\": [\"AL\", \"AL\", \"AL\", \"AK\", \"AK\", \"AK\", \"AZ\", \"AZ\", \"AZ\", \"AR\", \"AR\", \"AR\", \"CA\", \"CA\", \"CA\", \"CO\", \"CO\", \"CO\", \"CT\", \"CT\", \"CT\", \"DE\", \"DE\", \"DE\", \"FL\", \"FL\", \"FL\", \"GA\", \"GA\", \"GA\", \"HI\", \"HI\", \"HI\", \"ID\", \"ID\", \"ID\", \"IL\", \"IL\", \"IL\", \"IN\", \"IN\", \"IN\", \"IA\", \"IA\", \"IA\", \"KS\", \"KS\", \"KS\", \"KY\", \"KY\", \"KY\", \"LA\", \"LA\", \"LA\", \"ME\", \"ME\", \"ME\", \"MD\", \"MD\", \"MD\", \"MA\", \"MA\", \"MA\", \"MI\", \"MI\", \"MI\", \"MN\", \"MN\", \"MN\", \"MS\", \"MS\", \"MS\", \"MO\", \"MO\", \"MO\", \"MT\", \"MT\", \"MT\", \"NE\", \"NE\", \"NE\", \"NV\", \"NV\", \"NV\", \"NH\", \"NH\", \"NH\", \"NJ\", \"NJ\", \"NJ\", \"NM\", \"NM\", \"NM\", \"NY\", \"NY\", \"NY\", \"NC\", \"NC\", \"NC\", \"ND\", \"ND\", \"ND\", \"OH\", \"OH\", \"OH\", \"OK\", \"OK\", \"OK\", \"OR\", \"OR\", \"OR\", \"PA\", \"PA\", \"PA\", \"RI\", \"RI\", \"RI\", \"SC\", \"SC\", \"SC\", \"SD\", \"SD\", \"SD\", \"TN\", \"TN\", \"TN\", \"TX\", \"TX\", \"TX\", \"UT\", \"UT\", \"UT\", \"VT\", \"VT\", \"VT\", \"VA\", \"VA\", \"VA\", \"WA\", \"WA\", \"WA\", \"WV\", \"WV\", \"WV\", \"WI\", \"WI\", \"WI\", \"WY\", \"WY\", \"WY\", \"DC\", \"DC\", \"DC\", \"US\", \"US\", \"US\"], \"name\": \"\", \"z\": [14.8, 12.1, 12.7, 14.3, 12.9, 13.3, 13.0, 11.7, 12.0, 12.5, 13.3, 13.1, 19.6, 16.8, 17.4, 11.4, 11.8, 11.7, 13.6, 10.7, 11.3, 10.4, 10.6, 10.6, 18.4, 15.3, 16.0, 15.5, 13.1, 13.7, 15.6, 13.3, 13.8, 7.1, 8.7, 8.3, 12.5, 11.1, 11.4, 12.6, 9.7, 10.4, 8.1, 7.3, 7.5, 7.3, 7.6, 7.5, 10.3, 11.5, 11.2, 19.5, 15.6, 16.6, 9.6, 9.4, 9.4, 11.2, 12.8, 12.5, 10.7, 11.7, 11.5, 10.5, 9.9, 10.1, 5.3, 6.9, 6.6, 17.0, 14.9, 15.4, 8.8, 8.9, 8.9, 8.0, 9.3, 9.0, 9.7, 8.9, 9.1, 13.7, 13.5, 13.5, 8.1, 8.6, 8.5, 13.8, 12.8, 13.0, 13.9, 13.5, 13.6, 17.2, 14.6, 15.2, 14.9, 13.2, 13.6, 9.8, 9.5, 9.6, 11.3, 10.1, 10.3, 10.1, 10.9, 10.7, 10.3, 11.5, 11.3, 13.0, 10.7, 11.1, 10.1, 7.6, 8.1, 15.1, 12.8, 13.3, 9.1, 9.0, 9.1, 12.1, 10.9, 11.2, 15.3, 13.6, 14.1, 7.6, 8.5, 8.2, 12.4, 10.1, 10.6, 13.4, 11.3, 11.8, 8.8, 8.2, 8.4, 13.4, 12.3, 12.5, 8.2, 7.8, 7.9, 9.3, 10.2, 10.0, 17.3, 16.9, 17.0, 13.9, 12.5, 12.8], \"type\": \"choropleth\"}], \"name\": \"0\"}, {\"data\": [{\"coloraxis\": \"coloraxis\", \"geo\": \"geo\", \"hovertemplate\": \"Child Allowance=50<br>State=%{location}<br>Child poverty rate=%{z}<extra></extra>\", \"locationmode\": \"USA-states\", \"locations\": [\"AL\", \"AL\", \"AL\", \"AK\", \"AK\", \"AK\", \"AZ\", \"AZ\", \"AZ\", \"AR\", \"AR\", \"AR\", \"CA\", \"CA\", \"CA\", \"CO\", \"CO\", \"CO\", \"CT\", \"CT\", \"CT\", \"DE\", \"DE\", \"DE\", \"FL\", \"FL\", \"FL\", \"GA\", \"GA\", \"GA\", \"HI\", \"HI\", \"HI\", \"ID\", \"ID\", \"ID\", \"IL\", \"IL\", \"IL\", \"IN\", \"IN\", \"IN\", \"IA\", \"IA\", \"IA\", \"KS\", \"KS\", \"KS\", \"KY\", \"KY\", \"KY\", \"LA\", \"LA\", \"LA\", \"ME\", \"ME\", \"ME\", \"MD\", \"MD\", \"MD\", \"MA\", \"MA\", \"MA\", \"MI\", \"MI\", \"MI\", \"MN\", \"MN\", \"MN\", \"MS\", \"MS\", \"MS\", \"MO\", \"MO\", \"MO\", \"MT\", \"MT\", \"MT\", \"NE\", \"NE\", \"NE\", \"NV\", \"NV\", \"NV\", \"NH\", \"NH\", \"NH\", \"NJ\", \"NJ\", \"NJ\", \"NM\", \"NM\", \"NM\", \"NY\", \"NY\", \"NY\", \"NC\", \"NC\", \"NC\", \"ND\", \"ND\", \"ND\", \"OH\", \"OH\", \"OH\", \"OK\", \"OK\", \"OK\", \"OR\", \"OR\", \"OR\", \"PA\", \"PA\", \"PA\", \"RI\", \"RI\", \"RI\", \"SC\", \"SC\", \"SC\", \"SD\", \"SD\", \"SD\", \"TN\", \"TN\", \"TN\", \"TX\", \"TX\", \"TX\", \"UT\", \"UT\", \"UT\", \"VT\", \"VT\", \"VT\", \"VA\", \"VA\", \"VA\", \"WA\", \"WA\", \"WA\", \"WV\", \"WV\", \"WV\", \"WI\", \"WI\", \"WI\", \"WY\", \"WY\", \"WY\", \"DC\", \"DC\", \"DC\", \"US\", \"US\", \"US\"], \"name\": \"\", \"z\": [13.7, 11.8, 12.2, 12.8, 12.6, 12.7, 10.4, 11.1, 11.0, 10.4, 12.8, 12.2, 17.8, 16.2, 16.6, 10.0, 11.4, 11.1, 13.0, 10.6, 11.1, 9.5, 10.3, 10.2, 16.2, 14.9, 15.1, 14.7, 12.8, 13.3, 13.8, 12.8, 13.0, 6.1, 8.6, 7.9, 11.3, 10.8, 10.9, 11.8, 9.5, 10.1, 7.4, 7.0, 7.1, 5.5, 7.2, 6.8, 9.5, 11.3, 10.9, 17.6, 15.3, 15.8, 7.9, 9.2, 8.9, 10.2, 12.7, 12.1, 9.4, 11.5, 11.1, 9.4, 9.7, 9.6, 4.5, 6.8, 6.2, 14.9, 14.6, 14.6, 7.1, 8.6, 8.3, 7.4, 9.1, 8.8, 8.4, 8.6, 8.6, 10.5, 12.8, 12.3, 7.1, 8.4, 8.1, 12.9, 12.6, 12.6, 12.0, 13.0, 12.8, 15.6, 14.3, 14.6, 12.8, 12.8, 12.8, 8.2, 9.3, 9.0, 10.1, 9.8, 9.9, 9.0, 10.5, 10.1, 9.0, 11.3, 10.8, 11.5, 10.3, 10.6, 9.5, 7.4, 7.8, 13.1, 12.5, 12.7, 8.1, 8.9, 8.7, 10.3, 10.6, 10.5, 13.4, 13.2, 13.2, 6.7, 8.2, 7.7, 10.8, 10.0, 10.1, 12.4, 11.1, 11.4, 7.7, 8.0, 7.9, 12.2, 12.0, 12.1, 6.8, 7.5, 7.4, 7.5, 10.0, 9.4, 15.3, 16.6, 16.3, 12.4, 12.1, 12.2], \"type\": \"choropleth\"}], \"name\": \"50\"}, {\"data\": [{\"coloraxis\": \"coloraxis\", \"geo\": \"geo\", \"hovertemplate\": \"Child Allowance=100<br>State=%{location}<br>Child poverty rate=%{z}<extra></extra>\", \"locationmode\": \"USA-states\", \"locations\": [\"AL\", \"AL\", \"AL\", \"AK\", \"AK\", \"AK\", \"AZ\", \"AZ\", \"AZ\", \"AR\", \"AR\", \"AR\", \"CA\", \"CA\", \"CA\", \"CO\", \"CO\", \"CO\", \"CT\", \"CT\", \"CT\", \"DE\", \"DE\", \"DE\", \"FL\", \"FL\", \"FL\", \"GA\", \"GA\", \"GA\", \"HI\", \"HI\", \"HI\", \"ID\", \"ID\", \"ID\", \"IL\", \"IL\", \"IL\", \"IN\", \"IN\", \"IN\", \"IA\", \"IA\", \"IA\", \"KS\", \"KS\", \"KS\", \"KY\", \"KY\", \"KY\", \"LA\", \"LA\", \"LA\", \"ME\", \"ME\", \"ME\", \"MD\", \"MD\", \"MD\", \"MA\", \"MA\", \"MA\", \"MI\", \"MI\", \"MI\", \"MN\", \"MN\", \"MN\", \"MS\", \"MS\", \"MS\", \"MO\", \"MO\", \"MO\", \"MT\", \"MT\", \"MT\", \"NE\", \"NE\", \"NE\", \"NV\", \"NV\", \"NV\", \"NH\", \"NH\", \"NH\", \"NJ\", \"NJ\", \"NJ\", \"NM\", \"NM\", \"NM\", \"NY\", \"NY\", \"NY\", \"NC\", \"NC\", \"NC\", \"ND\", \"ND\", \"ND\", \"OH\", \"OH\", \"OH\", \"OK\", \"OK\", \"OK\", \"OR\", \"OR\", \"OR\", \"PA\", \"PA\", \"PA\", \"RI\", \"RI\", \"RI\", \"SC\", \"SC\", \"SC\", \"SD\", \"SD\", \"SD\", \"TN\", \"TN\", \"TN\", \"TX\", \"TX\", \"TX\", \"UT\", \"UT\", \"UT\", \"VT\", \"VT\", \"VT\", \"VA\", \"VA\", \"VA\", \"WA\", \"WA\", \"WA\", \"WV\", \"WV\", \"WV\", \"WI\", \"WI\", \"WI\", \"WY\", \"WY\", \"WY\", \"DC\", \"DC\", \"DC\", \"US\", \"US\", \"US\"], \"name\": \"\", \"z\": [12.0, 11.5, 11.6, 11.7, 12.3, 12.1, 9.1, 10.8, 10.4, 9.0, 12.5, 11.7, 16.3, 15.9, 16.0, 8.8, 11.1, 10.6, 12.9, 10.5, 11.0, 8.6, 10.1, 9.8, 13.4, 14.4, 14.2, 12.9, 12.4, 12.6, 12.1, 12.5, 12.4, 4.7, 8.2, 7.4, 9.4, 10.3, 10.1, 10.1, 9.2, 9.4, 6.3, 6.8, 6.7, 5.1, 7.0, 6.6, 8.3, 11.1, 10.5, 15.6, 14.8, 15.0, 7.0, 9.0, 8.6, 8.2, 12.3, 11.4, 8.5, 11.3, 10.8, 8.1, 9.3, 9.1, 3.7, 6.7, 6.0, 13.0, 14.1, 13.9, 6.7, 8.5, 8.1, 6.9, 9.0, 8.6, 7.6, 8.3, 8.2, 9.8, 12.7, 12.0, 6.4, 8.2, 7.8, 11.7, 12.3, 12.2, 10.8, 12.7, 12.2, 14.1, 13.9, 13.9, 9.9, 12.2, 11.7, 7.5, 9.1, 8.7, 8.2, 9.5, 9.2, 7.7, 10.2, 9.6, 7.6, 10.9, 10.2, 10.4, 10.1, 10.2, 8.4, 7.2, 7.5, 11.2, 12.2, 12.0, 6.7, 8.5, 8.0, 9.1, 10.3, 10.0, 11.8, 12.8, 12.6, 5.7, 7.9, 7.3, 9.3, 9.7, 9.7, 11.0, 10.8, 10.8, 6.7, 7.8, 7.6, 10.0, 11.6, 11.2, 5.7, 7.3, 7.0, 6.6, 9.8, 9.0, 14.4, 16.4, 16.1, 10.8, 11.8, 11.6], \"type\": \"choropleth\"}], \"name\": \"100\"}, {\"data\": [{\"coloraxis\": \"coloraxis\", \"geo\": \"geo\", \"hovertemplate\": \"Child Allowance=150<br>State=%{location}<br>Child poverty rate=%{z}<extra></extra>\", \"locationmode\": \"USA-states\", \"locations\": [\"AL\", \"AL\", \"AL\", \"AK\", \"AK\", \"AK\", \"AZ\", \"AZ\", \"AZ\", \"AR\", \"AR\", \"AR\", \"CA\", \"CA\", \"CA\", \"CO\", \"CO\", \"CO\", \"CT\", \"CT\", \"CT\", \"DE\", \"DE\", \"DE\", \"FL\", \"FL\", \"FL\", \"GA\", \"GA\", \"GA\", \"HI\", \"HI\", \"HI\", \"ID\", \"ID\", \"ID\", \"IL\", \"IL\", \"IL\", \"IN\", \"IN\", \"IN\", \"IA\", \"IA\", \"IA\", \"KS\", \"KS\", \"KS\", \"KY\", \"KY\", \"KY\", \"LA\", \"LA\", \"LA\", \"ME\", \"ME\", \"ME\", \"MD\", \"MD\", \"MD\", \"MA\", \"MA\", \"MA\", \"MI\", \"MI\", \"MI\", \"MN\", \"MN\", \"MN\", \"MS\", \"MS\", \"MS\", \"MO\", \"MO\", \"MO\", \"MT\", \"MT\", \"MT\", \"NE\", \"NE\", \"NE\", \"NV\", \"NV\", \"NV\", \"NH\", \"NH\", \"NH\", \"NJ\", \"NJ\", \"NJ\", \"NM\", \"NM\", \"NM\", \"NY\", \"NY\", \"NY\", \"NC\", \"NC\", \"NC\", \"ND\", \"ND\", \"ND\", \"OH\", \"OH\", \"OH\", \"OK\", \"OK\", \"OK\", \"OR\", \"OR\", \"OR\", \"PA\", \"PA\", \"PA\", \"RI\", \"RI\", \"RI\", \"SC\", \"SC\", \"SC\", \"SD\", \"SD\", \"SD\", \"TN\", \"TN\", \"TN\", \"TX\", \"TX\", \"TX\", \"UT\", \"UT\", \"UT\", \"VT\", \"VT\", \"VT\", \"VA\", \"VA\", \"VA\", \"WA\", \"WA\", \"WA\", \"WV\", \"WV\", \"WV\", \"WI\", \"WI\", \"WI\", \"WY\", \"WY\", \"WY\", \"DC\", \"DC\", \"DC\", \"US\", \"US\", \"US\"], \"name\": \"\", \"z\": [10.2, 11.1, 10.9, 11.3, 12.2, 11.9, 7.3, 10.4, 9.7, 8.1, 12.3, 11.3, 14.7, 15.5, 15.3, 6.7, 10.7, 9.8, 11.2, 10.1, 10.3, 7.6, 9.9, 9.4, 12.0, 14.1, 13.6, 11.0, 12.0, 11.8, 10.6, 12.1, 11.8, 4.4, 8.1, 7.2, 8.3, 10.1, 9.7, 9.2, 9.0, 9.0, 5.5, 6.7, 6.5, 4.4, 6.9, 6.3, 7.8, 11.0, 10.3, 13.4, 14.4, 14.1, 5.6, 8.7, 8.1, 7.2, 12.0, 11.0, 7.6, 11.0, 10.4, 7.1, 9.2, 8.7, 3.4, 6.6, 5.9, 10.3, 13.6, 12.8, 6.2, 8.4, 7.9, 5.8, 8.8, 8.1, 6.5, 8.0, 7.6, 9.0, 12.4, 11.6, 5.5, 8.0, 7.5, 10.6, 12.0, 11.7, 9.2, 12.2, 11.5, 12.9, 13.6, 13.5, 8.2, 11.8, 11.0, 6.6, 9.0, 8.4, 7.4, 9.3, 8.9, 6.6, 10.0, 9.1, 6.6, 10.7, 9.8, 9.1, 9.8, 9.7, 7.5, 7.0, 7.1, 9.8, 12.0, 11.6, 6.4, 8.4, 7.9, 8.1, 10.2, 9.7, 10.6, 12.5, 12.0, 5.2, 7.7, 7.0, 8.3, 9.6, 9.3, 10.0, 10.5, 10.4, 6.1, 7.6, 7.3, 8.4, 11.2, 10.6, 5.0, 7.2, 6.7, 5.2, 9.5, 8.5, 13.2, 16.3, 15.7, 9.6, 11.5, 11.1], \"type\": \"choropleth\"}], \"name\": \"150\"}, {\"data\": [{\"coloraxis\": \"coloraxis\", \"geo\": \"geo\", \"hovertemplate\": \"Child Allowance=200<br>State=%{location}<br>Child poverty rate=%{z}<extra></extra>\", \"locationmode\": \"USA-states\", \"locations\": [\"AL\", \"AL\", \"AL\", \"AK\", \"AK\", \"AK\", \"AZ\", \"AZ\", \"AZ\", \"AR\", \"AR\", \"AR\", \"CA\", \"CA\", \"CA\", \"CO\", \"CO\", \"CO\", \"CT\", \"CT\", \"CT\", \"DE\", \"DE\", \"DE\", \"FL\", \"FL\", \"FL\", \"GA\", \"GA\", \"GA\", \"HI\", \"HI\", \"HI\", \"ID\", \"ID\", \"ID\", \"IL\", \"IL\", \"IL\", \"IN\", \"IN\", \"IN\", \"IA\", \"IA\", \"IA\", \"KS\", \"KS\", \"KS\", \"KY\", \"KY\", \"KY\", \"LA\", \"LA\", \"LA\", \"ME\", \"ME\", \"ME\", \"MD\", \"MD\", \"MD\", \"MA\", \"MA\", \"MA\", \"MI\", \"MI\", \"MI\", \"MN\", \"MN\", \"MN\", \"MS\", \"MS\", \"MS\", \"MO\", \"MO\", \"MO\", \"MT\", \"MT\", \"MT\", \"NE\", \"NE\", \"NE\", \"NV\", \"NV\", \"NV\", \"NH\", \"NH\", \"NH\", \"NJ\", \"NJ\", \"NJ\", \"NM\", \"NM\", \"NM\", \"NY\", \"NY\", \"NY\", \"NC\", \"NC\", \"NC\", \"ND\", \"ND\", \"ND\", \"OH\", \"OH\", \"OH\", \"OK\", \"OK\", \"OK\", \"OR\", \"OR\", \"OR\", \"PA\", \"PA\", \"PA\", \"RI\", \"RI\", \"RI\", \"SC\", \"SC\", \"SC\", \"SD\", \"SD\", \"SD\", \"TN\", \"TN\", \"TN\", \"TX\", \"TX\", \"TX\", \"UT\", \"UT\", \"UT\", \"VT\", \"VT\", \"VT\", \"VA\", \"VA\", \"VA\", \"WA\", \"WA\", \"WA\", \"WV\", \"WV\", \"WV\", \"WI\", \"WI\", \"WI\", \"WY\", \"WY\", \"WY\", \"DC\", \"DC\", \"DC\", \"US\", \"US\", \"US\"], \"name\": \"\", \"z\": [9.3, 10.9, 10.5, 10.4, 11.8, 11.4, 5.8, 10.0, 9.0, 7.3, 12.2, 11.0, 12.8, 15.0, 14.5, 6.5, 10.7, 9.7, 10.6, 9.9, 10.0, 7.1, 9.8, 9.3, 10.8, 13.8, 13.2, 10.0, 11.8, 11.3, 8.1, 11.7, 10.9, 3.6, 7.9, 6.8, 7.1, 9.8, 9.2, 8.0, 8.7, 8.5, 4.7, 6.6, 6.1, 4.3, 6.8, 6.2, 7.2, 10.8, 10.0, 11.1, 13.9, 13.2, 5.5, 8.6, 8.0, 6.9, 12.0, 10.8, 6.7, 10.8, 10.0, 6.3, 9.0, 8.4, 3.0, 6.5, 5.7, 8.7, 13.2, 12.1, 5.1, 8.2, 7.5, 5.2, 8.7, 7.9, 6.2, 7.9, 7.4, 7.6, 12.1, 11.1, 5.0, 7.8, 7.3, 9.1, 11.6, 11.0, 8.2, 11.9, 11.0, 10.8, 13.2, 12.7, 7.2, 11.5, 10.6, 5.4, 8.6, 7.8, 6.5, 9.1, 8.5, 5.7, 9.8, 8.8, 5.9, 10.6, 9.6, 8.1, 9.6, 9.3, 6.7, 6.8, 6.7, 8.8, 11.9, 11.2, 5.1, 8.2, 7.4, 7.8, 10.0, 9.5, 9.1, 12.1, 11.3, 4.7, 7.6, 6.7, 7.7, 9.4, 9.1, 9.2, 10.2, 10.0, 5.5, 7.4, 7.0, 7.7, 11.0, 10.3, 4.0, 7.0, 6.3, 4.4, 9.3, 8.1, 12.1, 16.1, 15.4, 8.4, 11.2, 10.6], \"type\": \"choropleth\"}], \"name\": \"200\"}, {\"data\": [{\"coloraxis\": \"coloraxis\", \"geo\": \"geo\", \"hovertemplate\": \"Child Allowance=250<br>State=%{location}<br>Child poverty rate=%{z}<extra></extra>\", \"locationmode\": \"USA-states\", \"locations\": [\"AL\", \"AL\", \"AL\", \"AK\", \"AK\", \"AK\", \"AZ\", \"AZ\", \"AZ\", \"AR\", \"AR\", \"AR\", \"CA\", \"CA\", \"CA\", \"CO\", \"CO\", \"CO\", \"CT\", \"CT\", \"CT\", \"DE\", \"DE\", \"DE\", \"FL\", \"FL\", \"FL\", \"GA\", \"GA\", \"GA\", \"HI\", \"HI\", \"HI\", \"ID\", \"ID\", \"ID\", \"IL\", \"IL\", \"IL\", \"IN\", \"IN\", \"IN\", \"IA\", \"IA\", \"IA\", \"KS\", \"KS\", \"KS\", \"KY\", \"KY\", \"KY\", \"LA\", \"LA\", \"LA\", \"ME\", \"ME\", \"ME\", \"MD\", \"MD\", \"MD\", \"MA\", \"MA\", \"MA\", \"MI\", \"MI\", \"MI\", \"MN\", \"MN\", \"MN\", \"MS\", \"MS\", \"MS\", \"MO\", \"MO\", \"MO\", \"MT\", \"MT\", \"MT\", \"NE\", \"NE\", \"NE\", \"NV\", \"NV\", \"NV\", \"NH\", \"NH\", \"NH\", \"NJ\", \"NJ\", \"NJ\", \"NM\", \"NM\", \"NM\", \"NY\", \"NY\", \"NY\", \"NC\", \"NC\", \"NC\", \"ND\", \"ND\", \"ND\", \"OH\", \"OH\", \"OH\", \"OK\", \"OK\", \"OK\", \"OR\", \"OR\", \"OR\", \"PA\", \"PA\", \"PA\", \"RI\", \"RI\", \"RI\", \"SC\", \"SC\", \"SC\", \"SD\", \"SD\", \"SD\", \"TN\", \"TN\", \"TN\", \"TX\", \"TX\", \"TX\", \"UT\", \"UT\", \"UT\", \"VT\", \"VT\", \"VT\", \"VA\", \"VA\", \"VA\", \"WA\", \"WA\", \"WA\", \"WV\", \"WV\", \"WV\", \"WI\", \"WI\", \"WI\", \"WY\", \"WY\", \"WY\", \"DC\", \"DC\", \"DC\", \"US\", \"US\", \"US\"], \"name\": \"\", \"z\": [7.8, 10.6, 10.0, 9.2, 11.4, 10.8, 5.2, 9.8, 8.8, 6.7, 12.1, 10.8, 11.3, 14.6, 13.8, 5.8, 10.4, 9.4, 9.8, 9.7, 9.7, 5.9, 9.5, 8.8, 9.8, 13.6, 12.9, 8.8, 11.4, 10.8, 7.4, 11.4, 10.5, 2.4, 7.6, 6.3, 6.2, 9.6, 8.8, 6.6, 8.4, 7.9, 4.3, 6.5, 6.0, 3.9, 6.7, 6.0, 6.4, 10.8, 9.8, 9.5, 13.6, 12.6, 5.4, 8.6, 8.0, 6.5, 11.8, 10.6, 5.8, 10.7, 9.7, 5.5, 8.8, 8.1, 2.8, 6.5, 5.6, 7.4, 13.0, 11.7, 4.1, 7.9, 7.0, 4.3, 8.5, 7.6, 5.6, 7.8, 7.2, 6.9, 11.8, 10.7, 4.0, 7.7, 7.0, 8.6, 11.4, 10.8, 7.3, 11.6, 10.6, 9.9, 13.0, 12.3, 6.4, 11.3, 10.2, 4.6, 8.5, 7.5, 5.2, 8.7, 7.9, 5.1, 9.6, 8.5, 5.4, 10.4, 9.4, 7.7, 9.5, 9.1, 6.5, 6.7, 6.7, 7.9, 11.6, 10.8, 5.0, 8.1, 7.3, 6.3, 9.8, 9.0, 8.1, 11.8, 10.8, 4.6, 7.5, 6.7, 7.0, 9.3, 8.8, 8.3, 10.0, 9.6, 5.0, 7.3, 6.8, 6.2, 10.7, 9.8, 3.6, 6.9, 6.1, 4.1, 9.2, 8.0, 9.9, 15.7, 14.6, 7.5, 11.0, 10.2], \"type\": \"choropleth\"}], \"name\": \"250\"}, {\"data\": [{\"coloraxis\": \"coloraxis\", \"geo\": \"geo\", \"hovertemplate\": \"Child Allowance=300<br>State=%{location}<br>Child poverty rate=%{z}<extra></extra>\", \"locationmode\": \"USA-states\", \"locations\": [\"AL\", \"AL\", \"AL\", \"AK\", \"AK\", \"AK\", \"AZ\", \"AZ\", \"AZ\", \"AR\", \"AR\", \"AR\", \"CA\", \"CA\", \"CA\", \"CO\", \"CO\", \"CO\", \"CT\", \"CT\", \"CT\", \"DE\", \"DE\", \"DE\", \"FL\", \"FL\", \"FL\", \"GA\", \"GA\", \"GA\", \"HI\", \"HI\", \"HI\", \"ID\", \"ID\", \"ID\", \"IL\", \"IL\", \"IL\", \"IN\", \"IN\", \"IN\", \"IA\", \"IA\", \"IA\", \"KS\", \"KS\", \"KS\", \"KY\", \"KY\", \"KY\", \"LA\", \"LA\", \"LA\", \"ME\", \"ME\", \"ME\", \"MD\", \"MD\", \"MD\", \"MA\", \"MA\", \"MA\", \"MI\", \"MI\", \"MI\", \"MN\", \"MN\", \"MN\", \"MS\", \"MS\", \"MS\", \"MO\", \"MO\", \"MO\", \"MT\", \"MT\", \"MT\", \"NE\", \"NE\", \"NE\", \"NV\", \"NV\", \"NV\", \"NH\", \"NH\", \"NH\", \"NJ\", \"NJ\", \"NJ\", \"NM\", \"NM\", \"NM\", \"NY\", \"NY\", \"NY\", \"NC\", \"NC\", \"NC\", \"ND\", \"ND\", \"ND\", \"OH\", \"OH\", \"OH\", \"OK\", \"OK\", \"OK\", \"OR\", \"OR\", \"OR\", \"PA\", \"PA\", \"PA\", \"RI\", \"RI\", \"RI\", \"SC\", \"SC\", \"SC\", \"SD\", \"SD\", \"SD\", \"TN\", \"TN\", \"TN\", \"TX\", \"TX\", \"TX\", \"UT\", \"UT\", \"UT\", \"VT\", \"VT\", \"VT\", \"VA\", \"VA\", \"VA\", \"WA\", \"WA\", \"WA\", \"WV\", \"WV\", \"WV\", \"WI\", \"WI\", \"WI\", \"WY\", \"WY\", \"WY\", \"DC\", \"DC\", \"DC\", \"US\", \"US\", \"US\"], \"name\": \"\", \"z\": [7.2, 10.5, 9.7, 8.3, 11.1, 10.4, 4.7, 9.7, 8.5, 5.5, 11.8, 10.3, 9.9, 14.3, 13.3, 5.4, 10.2, 9.1, 8.1, 9.4, 9.1, 5.1, 9.1, 8.3, 8.8, 13.4, 12.5, 7.8, 11.1, 10.3, 5.9, 11.1, 10.0, 2.3, 7.5, 6.2, 5.6, 9.4, 8.5, 5.8, 8.1, 7.6, 3.4, 6.3, 5.6, 3.5, 6.7, 5.9, 5.3, 10.4, 9.3, 7.9, 13.0, 11.8, 4.9, 8.5, 7.8, 6.0, 11.7, 10.4, 5.2, 10.4, 9.4, 5.1, 8.7, 7.9, 2.2, 6.4, 5.4, 7.0, 12.9, 11.4, 3.1, 7.8, 6.7, 4.1, 8.5, 7.5, 4.7, 7.5, 6.8, 6.2, 11.7, 10.5, 3.4, 7.6, 6.8, 7.7, 11.2, 10.4, 5.4, 11.3, 9.9, 9.2, 12.8, 12.0, 5.5, 11.1, 9.9, 4.4, 8.4, 7.5, 4.4, 8.5, 7.6, 4.8, 9.5, 8.4, 4.7, 10.2, 9.1, 7.4, 9.4, 9.0, 5.4, 6.5, 6.3, 6.8, 11.3, 10.3, 4.0, 7.9, 6.9, 5.7, 9.7, 8.8, 7.1, 11.6, 10.4, 3.6, 7.2, 6.2, 6.5, 9.2, 8.7, 7.3, 9.8, 9.2, 4.6, 7.2, 6.6, 5.2, 10.4, 9.3, 3.4, 6.8, 6.1, 3.8, 9.1, 7.8, 9.0, 15.5, 14.3, 6.6, 10.8, 9.8], \"type\": \"choropleth\"}], \"name\": \"300\"}, {\"data\": [{\"coloraxis\": \"coloraxis\", \"geo\": \"geo\", \"hovertemplate\": \"Child Allowance=350<br>State=%{location}<br>Child poverty rate=%{z}<extra></extra>\", \"locationmode\": \"USA-states\", \"locations\": [\"AL\", \"AL\", \"AL\", \"AK\", \"AK\", \"AK\", \"AZ\", \"AZ\", \"AZ\", \"AR\", \"AR\", \"AR\", \"CA\", \"CA\", \"CA\", \"CO\", \"CO\", \"CO\", \"CT\", \"CT\", \"CT\", \"DE\", \"DE\", \"DE\", \"FL\", \"FL\", \"FL\", \"GA\", \"GA\", \"GA\", \"HI\", \"HI\", \"HI\", \"ID\", \"ID\", \"ID\", \"IL\", \"IL\", \"IL\", \"IN\", \"IN\", \"IN\", \"IA\", \"IA\", \"IA\", \"KS\", \"KS\", \"KS\", \"KY\", \"KY\", \"KY\", \"LA\", \"LA\", \"LA\", \"ME\", \"ME\", \"ME\", \"MD\", \"MD\", \"MD\", \"MA\", \"MA\", \"MA\", \"MI\", \"MI\", \"MI\", \"MN\", \"MN\", \"MN\", \"MS\", \"MS\", \"MS\", \"MO\", \"MO\", \"MO\", \"MT\", \"MT\", \"MT\", \"NE\", \"NE\", \"NE\", \"NV\", \"NV\", \"NV\", \"NH\", \"NH\", \"NH\", \"NJ\", \"NJ\", \"NJ\", \"NM\", \"NM\", \"NM\", \"NY\", \"NY\", \"NY\", \"NC\", \"NC\", \"NC\", \"ND\", \"ND\", \"ND\", \"OH\", \"OH\", \"OH\", \"OK\", \"OK\", \"OK\", \"OR\", \"OR\", \"OR\", \"PA\", \"PA\", \"PA\", \"RI\", \"RI\", \"RI\", \"SC\", \"SC\", \"SC\", \"SD\", \"SD\", \"SD\", \"TN\", \"TN\", \"TN\", \"TX\", \"TX\", \"TX\", \"UT\", \"UT\", \"UT\", \"VT\", \"VT\", \"VT\", \"VA\", \"VA\", \"VA\", \"WA\", \"WA\", \"WA\", \"WV\", \"WV\", \"WV\", \"WI\", \"WI\", \"WI\", \"WY\", \"WY\", \"WY\", \"DC\", \"DC\", \"DC\", \"US\", \"US\", \"US\"], \"name\": \"\", \"z\": [6.4, 10.4, 9.5, 7.9, 10.9, 10.1, 4.2, 9.5, 8.3, 5.0, 11.7, 10.0, 9.0, 14.0, 12.9, 5.1, 10.2, 9.0, 7.6, 9.2, 8.9, 4.6, 9.1, 8.1, 8.0, 13.2, 12.2, 6.9, 10.9, 9.9, 5.6, 11.0, 9.8, 2.2, 7.5, 6.1, 5.1, 9.3, 8.3, 5.3, 7.9, 7.3, 2.8, 6.2, 5.4, 3.5, 6.6, 5.9, 4.3, 10.2, 8.8, 7.3, 12.9, 11.5, 4.7, 8.4, 7.7, 5.2, 11.5, 10.1, 4.6, 10.3, 9.2, 4.5, 8.6, 7.7, 1.9, 6.2, 5.2, 5.9, 12.6, 10.9, 2.6, 7.6, 6.4, 4.0, 8.5, 7.5, 4.0, 7.3, 6.4, 5.8, 11.6, 10.3, 3.1, 7.5, 6.7, 6.8, 11.0, 10.1, 4.7, 11.0, 9.6, 8.5, 12.7, 11.8, 4.9, 10.9, 9.6, 3.9, 8.3, 7.2, 3.5, 8.3, 7.2, 4.4, 9.3, 8.1, 4.2, 10.1, 8.9, 6.4, 9.2, 8.6, 4.7, 6.4, 6.0, 6.3, 11.2, 10.1, 3.6, 7.7, 6.7, 5.2, 9.5, 8.6, 6.1, 11.3, 10.0, 3.3, 7.1, 6.0, 5.6, 9.1, 8.5, 6.7, 9.5, 8.9, 3.3, 7.0, 6.2, 4.3, 10.2, 9.0, 2.7, 6.6, 5.7, 3.3, 8.9, 7.6, 7.8, 15.3, 13.9, 5.9, 10.6, 9.5], \"type\": \"choropleth\"}], \"name\": \"350\"}, {\"data\": [{\"coloraxis\": \"coloraxis\", \"geo\": \"geo\", \"hovertemplate\": \"Child Allowance=400<br>State=%{location}<br>Child poverty rate=%{z}<extra></extra>\", \"locationmode\": \"USA-states\", \"locations\": [\"AL\", \"AL\", \"AL\", \"AK\", \"AK\", \"AK\", \"AZ\", \"AZ\", \"AZ\", \"AR\", \"AR\", \"AR\", \"CA\", \"CA\", \"CA\", \"CO\", \"CO\", \"CO\", \"CT\", \"CT\", \"CT\", \"DE\", \"DE\", \"DE\", \"FL\", \"FL\", \"FL\", \"GA\", \"GA\", \"GA\", \"HI\", \"HI\", \"HI\", \"ID\", \"ID\", \"ID\", \"IL\", \"IL\", \"IL\", \"IN\", \"IN\", \"IN\", \"IA\", \"IA\", \"IA\", \"KS\", \"KS\", \"KS\", \"KY\", \"KY\", \"KY\", \"LA\", \"LA\", \"LA\", \"ME\", \"ME\", \"ME\", \"MD\", \"MD\", \"MD\", \"MA\", \"MA\", \"MA\", \"MI\", \"MI\", \"MI\", \"MN\", \"MN\", \"MN\", \"MS\", \"MS\", \"MS\", \"MO\", \"MO\", \"MO\", \"MT\", \"MT\", \"MT\", \"NE\", \"NE\", \"NE\", \"NV\", \"NV\", \"NV\", \"NH\", \"NH\", \"NH\", \"NJ\", \"NJ\", \"NJ\", \"NM\", \"NM\", \"NM\", \"NY\", \"NY\", \"NY\", \"NC\", \"NC\", \"NC\", \"ND\", \"ND\", \"ND\", \"OH\", \"OH\", \"OH\", \"OK\", \"OK\", \"OK\", \"OR\", \"OR\", \"OR\", \"PA\", \"PA\", \"PA\", \"RI\", \"RI\", \"RI\", \"SC\", \"SC\", \"SC\", \"SD\", \"SD\", \"SD\", \"TN\", \"TN\", \"TN\", \"TX\", \"TX\", \"TX\", \"UT\", \"UT\", \"UT\", \"VT\", \"VT\", \"VT\", \"VA\", \"VA\", \"VA\", \"WA\", \"WA\", \"WA\", \"WV\", \"WV\", \"WV\", \"WI\", \"WI\", \"WI\", \"WY\", \"WY\", \"WY\", \"DC\", \"DC\", \"DC\", \"US\", \"US\", \"US\"], \"name\": \"\", \"z\": [5.7, 10.3, 9.2, 7.5, 10.8, 9.9, 3.7, 9.4, 8.0, 4.5, 11.6, 9.9, 8.0, 13.7, 12.4, 4.8, 10.1, 8.9, 7.1, 9.1, 8.6, 4.1, 9.0, 8.0, 7.2, 13.1, 11.9, 6.4, 10.8, 9.7, 5.0, 10.9, 9.6, 1.9, 7.4, 6.0, 4.3, 9.1, 8.0, 4.3, 7.7, 6.9, 2.7, 6.1, 5.3, 3.1, 6.6, 5.7, 3.6, 10.0, 8.5, 6.2, 12.7, 11.1, 4.2, 8.3, 7.5, 4.8, 11.4, 10.0, 4.3, 10.2, 9.1, 4.1, 8.5, 7.5, 1.8, 6.2, 5.2, 5.5, 12.5, 10.8, 2.5, 7.6, 6.4, 3.6, 8.4, 7.3, 3.9, 7.2, 6.4, 5.2, 11.5, 10.1, 3.1, 7.5, 6.6, 6.4, 10.9, 9.9, 4.3, 10.9, 9.4, 7.8, 12.4, 11.4, 4.2, 10.6, 9.2, 3.2, 8.2, 6.9, 3.0, 8.1, 7.0, 3.9, 9.2, 7.9, 3.6, 10.0, 8.6, 5.7, 9.0, 8.3, 4.4, 6.3, 5.9, 5.5, 11.1, 9.8, 3.3, 7.6, 6.5, 4.5, 9.4, 8.3, 5.5, 11.1, 9.6, 3.2, 7.1, 5.9, 5.4, 9.1, 8.4, 5.1, 9.2, 8.3, 3.3, 7.0, 6.2, 3.7, 10.0, 8.7, 2.5, 6.6, 5.7, 2.8, 8.8, 7.4, 7.4, 15.1, 13.7, 5.3, 10.4, 9.2], \"type\": \"choropleth\"}], \"name\": \"400\"}, {\"data\": [{\"coloraxis\": \"coloraxis\", \"geo\": \"geo\", \"hovertemplate\": \"Child Allowance=450<br>State=%{location}<br>Child poverty rate=%{z}<extra></extra>\", \"locationmode\": \"USA-states\", \"locations\": [\"AL\", \"AL\", \"AL\", \"AK\", \"AK\", \"AK\", \"AZ\", \"AZ\", \"AZ\", \"AR\", \"AR\", \"AR\", \"CA\", \"CA\", \"CA\", \"CO\", \"CO\", \"CO\", \"CT\", \"CT\", \"CT\", \"DE\", \"DE\", \"DE\", \"FL\", \"FL\", \"FL\", \"GA\", \"GA\", \"GA\", \"HI\", \"HI\", \"HI\", \"ID\", \"ID\", \"ID\", \"IL\", \"IL\", \"IL\", \"IN\", \"IN\", \"IN\", \"IA\", \"IA\", \"IA\", \"KS\", \"KS\", \"KS\", \"KY\", \"KY\", \"KY\", \"LA\", \"LA\", \"LA\", \"ME\", \"ME\", \"ME\", \"MD\", \"MD\", \"MD\", \"MA\", \"MA\", \"MA\", \"MI\", \"MI\", \"MI\", \"MN\", \"MN\", \"MN\", \"MS\", \"MS\", \"MS\", \"MO\", \"MO\", \"MO\", \"MT\", \"MT\", \"MT\", \"NE\", \"NE\", \"NE\", \"NV\", \"NV\", \"NV\", \"NH\", \"NH\", \"NH\", \"NJ\", \"NJ\", \"NJ\", \"NM\", \"NM\", \"NM\", \"NY\", \"NY\", \"NY\", \"NC\", \"NC\", \"NC\", \"ND\", \"ND\", \"ND\", \"OH\", \"OH\", \"OH\", \"OK\", \"OK\", \"OK\", \"OR\", \"OR\", \"OR\", \"PA\", \"PA\", \"PA\", \"RI\", \"RI\", \"RI\", \"SC\", \"SC\", \"SC\", \"SD\", \"SD\", \"SD\", \"TN\", \"TN\", \"TN\", \"TX\", \"TX\", \"TX\", \"UT\", \"UT\", \"UT\", \"VT\", \"VT\", \"VT\", \"VA\", \"VA\", \"VA\", \"WA\", \"WA\", \"WA\", \"WV\", \"WV\", \"WV\", \"WI\", \"WI\", \"WI\", \"WY\", \"WY\", \"WY\", \"DC\", \"DC\", \"DC\", \"US\", \"US\", \"US\"], \"name\": \"\", \"z\": [5.0, 10.1, 8.9, 7.1, 10.6, 9.7, 3.3, 9.2, 7.8, 3.9, 11.4, 9.6, 7.2, 13.5, 12.0, 4.0, 9.9, 8.6, 5.9, 8.8, 8.2, 4.0, 8.9, 7.9, 6.6, 12.9, 11.6, 5.4, 10.6, 9.3, 4.6, 10.8, 9.5, 1.9, 7.4, 6.0, 3.7, 9.0, 7.8, 3.7, 7.6, 6.6, 1.9, 6.0, 5.0, 2.2, 6.4, 5.4, 3.0, 9.8, 8.2, 5.3, 12.3, 10.6, 3.9, 8.2, 7.4, 4.2, 11.3, 9.8, 3.6, 9.9, 8.7, 3.7, 8.4, 7.4, 1.7, 6.1, 5.1, 5.1, 12.3, 10.5, 2.3, 7.5, 6.3, 3.3, 8.3, 7.2, 3.5, 7.1, 6.2, 4.4, 11.3, 9.8, 2.7, 7.4, 6.5, 5.3, 10.7, 9.5, 3.8, 10.7, 9.1, 7.0, 12.2, 11.1, 3.8, 10.5, 9.0, 2.5, 8.0, 6.6, 2.8, 8.1, 6.9, 3.1, 9.0, 7.5, 3.6, 10.0, 8.6, 4.9, 8.8, 8.0, 3.8, 6.2, 5.7, 5.1, 11.0, 9.7, 2.5, 7.5, 6.2, 4.0, 9.2, 8.1, 4.8, 10.8, 9.2, 3.0, 7.0, 5.8, 4.9, 9.0, 8.2, 4.5, 9.0, 8.0, 2.7, 6.9, 6.0, 3.1, 9.9, 8.5, 2.3, 6.5, 5.6, 2.7, 8.7, 7.3, 6.7, 15.0, 13.4, 4.7, 10.2, 9.0], \"type\": \"choropleth\"}], \"name\": \"450\"}, {\"data\": [{\"coloraxis\": \"coloraxis\", \"geo\": \"geo\", \"hovertemplate\": \"Child Allowance=500<br>State=%{location}<br>Child poverty rate=%{z}<extra></extra>\", \"locationmode\": \"USA-states\", \"locations\": [\"AL\", \"AL\", \"AL\", \"AK\", \"AK\", \"AK\", \"AZ\", \"AZ\", \"AZ\", \"AR\", \"AR\", \"AR\", \"CA\", \"CA\", \"CA\", \"CO\", \"CO\", \"CO\", \"CT\", \"CT\", \"CT\", \"DE\", \"DE\", \"DE\", \"FL\", \"FL\", \"FL\", \"GA\", \"GA\", \"GA\", \"HI\", \"HI\", \"HI\", \"ID\", \"ID\", \"ID\", \"IL\", \"IL\", \"IL\", \"IN\", \"IN\", \"IN\", \"IA\", \"IA\", \"IA\", \"KS\", \"KS\", \"KS\", \"KY\", \"KY\", \"KY\", \"LA\", \"LA\", \"LA\", \"ME\", \"ME\", \"ME\", \"MD\", \"MD\", \"MD\", \"MA\", \"MA\", \"MA\", \"MI\", \"MI\", \"MI\", \"MN\", \"MN\", \"MN\", \"MS\", \"MS\", \"MS\", \"MO\", \"MO\", \"MO\", \"MT\", \"MT\", \"MT\", \"NE\", \"NE\", \"NE\", \"NV\", \"NV\", \"NV\", \"NH\", \"NH\", \"NH\", \"NJ\", \"NJ\", \"NJ\", \"NM\", \"NM\", \"NM\", \"NY\", \"NY\", \"NY\", \"NC\", \"NC\", \"NC\", \"ND\", \"ND\", \"ND\", \"OH\", \"OH\", \"OH\", \"OK\", \"OK\", \"OK\", \"OR\", \"OR\", \"OR\", \"PA\", \"PA\", \"PA\", \"RI\", \"RI\", \"RI\", \"SC\", \"SC\", \"SC\", \"SD\", \"SD\", \"SD\", \"TN\", \"TN\", \"TN\", \"TX\", \"TX\", \"TX\", \"UT\", \"UT\", \"UT\", \"VT\", \"VT\", \"VT\", \"VA\", \"VA\", \"VA\", \"WA\", \"WA\", \"WA\", \"WV\", \"WV\", \"WV\", \"WI\", \"WI\", \"WI\", \"WY\", \"WY\", \"WY\", \"DC\", \"DC\", \"DC\", \"US\", \"US\", \"US\"], \"name\": \"\", \"z\": [4.8, 10.0, 8.8, 6.7, 10.4, 9.5, 3.1, 9.2, 7.8, 3.1, 11.3, 9.3, 6.5, 13.3, 11.7, 3.8, 9.9, 8.5, 5.4, 8.6, 7.9, 3.7, 8.7, 7.7, 6.0, 12.7, 11.3, 4.6, 10.4, 9.0, 3.5, 10.5, 9.0, 1.8, 7.3, 5.9, 3.4, 9.0, 7.7, 3.2, 7.4, 6.4, 1.9, 6.0, 5.0, 2.1, 6.4, 5.3, 2.8, 9.7, 8.2, 4.6, 12.2, 10.3, 3.7, 8.2, 7.3, 4.0, 11.2, 9.6, 3.1, 9.8, 8.5, 3.6, 8.3, 7.3, 1.2, 6.0, 4.9, 4.4, 12.1, 10.2, 2.1, 7.4, 6.2, 2.6, 8.2, 7.0, 3.2, 7.0, 6.0, 4.2, 11.3, 9.7, 2.1, 7.2, 6.2, 4.6, 10.4, 9.1, 3.2, 10.5, 8.8, 6.0, 12.0, 10.7, 3.4, 10.3, 8.8, 2.5, 8.0, 6.6, 2.5, 8.0, 6.7, 2.8, 8.9, 7.4, 2.9, 9.8, 8.3, 4.2, 8.7, 7.7, 2.7, 6.1, 5.4, 4.8, 10.9, 9.5, 2.1, 7.3, 6.0, 3.9, 9.2, 8.0, 4.2, 10.7, 9.0, 2.9, 7.0, 5.8, 4.4, 8.8, 8.0, 4.1, 8.9, 7.8, 2.6, 6.9, 5.9, 2.6, 9.8, 8.3, 2.2, 6.5, 5.5, 2.2, 8.5, 7.1, 5.5, 14.6, 12.9, 4.2, 10.1, 8.8], \"type\": \"choropleth\"}], \"name\": \"500\"}]);\n",
       "                        }).then(function(){\n",
       "                            \n",
       "var gd = document.getElementById('d3ac13de-5a3c-45d4-9ddd-391c96c8ef39');\n",
       "var x = new MutationObserver(function (mutations, observer) {{\n",
       "        var display = window.getComputedStyle(gd).display;\n",
       "        if (!display || display === 'none') {{\n",
       "            console.log([gd, 'removed!']);\n",
       "            Plotly.purge(gd);\n",
       "            observer.disconnect();\n",
       "        }}\n",
       "}});\n",
       "\n",
       "// Listen for the removal of the full notebook cells\n",
       "var notebookContainer = gd.closest('#notebook-container');\n",
       "if (notebookContainer) {{\n",
       "    x.observe(notebookContainer, {childList: true});\n",
       "}}\n",
       "\n",
       "// Listen for the clearing of the current output cell\n",
       "var outputEl = gd.closest('.output');\n",
       "if (outputEl) {{\n",
       "    x.observe(outputEl, {childList: true});\n",
       "}}\n",
       "\n",
       "                        })\n",
       "                };\n",
       "                });\n",
       "            </script>\n",
       "        </div>"
      ]
     },
     "metadata": {},
     "output_type": "display_data"
    }
   ],
   "source": [
    "# TODO: Combine these with a drop-down.\n",
    "\n",
    "no_fund_states = summary[summary['age_group'] == 'child']\n",
    "no_fund_states = summary[summary['race'] == 'All']\n",
    "\n",
    "no_fund_map = px.choropleth(no_fund_states, \n",
    "                       locations='code',\n",
    "                       color='non_funded_poverty_rate', \n",
    "                       animation_frame='child_allowance',\n",
    "                       color_continuous_scale='reds',\n",
    "                       locationmode='USA-states',\n",
    "                       scope='usa',\n",
    "                       range_color=(0, 22),\n",
    "                       title=('Child poverty with with no tax reform'),\n",
    "                       height=600,\n",
    "                       labels={'child_allowance':'Child Allowance',\n",
    "                              'code': 'State',\n",
    "                              'non_funded_poverty_rate': 'Child poverty rate'})\n",
    "\n",
    "no_fund_map.update_layout(coloraxis_showscale=False,\n",
    "                          font=dict(family='Roboto'))\n",
    "no_fund_map.show(config={'displayModeBar': False})"
   ]
  },
  {
   "cell_type": "code",
   "execution_count": 5,
   "metadata": {
    "tags": [
     "hide-input"
    ]
   },
   "outputs": [
    {
     "data": {
      "application/vnd.plotly.v1+json": {
       "config": {
        "displayModeBar": false,
        "plotlyServerURL": "https://plot.ly"
       },
       "data": [
        {
         "coloraxis": "coloraxis",
         "geo": "geo",
         "hovertemplate": "Child allowance=0<br>State=%{location}<br>Child poverty rate=%{z}<extra></extra>",
         "locationmode": "USA-states",
         "locations": [
          "AL",
          "AL",
          "AL",
          "AK",
          "AK",
          "AK",
          "AZ",
          "AZ",
          "AZ",
          "AR",
          "AR",
          "AR",
          "CA",
          "CA",
          "CA",
          "CO",
          "CO",
          "CO",
          "CT",
          "CT",
          "CT",
          "DE",
          "DE",
          "DE",
          "FL",
          "FL",
          "FL",
          "GA",
          "GA",
          "GA",
          "HI",
          "HI",
          "HI",
          "ID",
          "ID",
          "ID",
          "IL",
          "IL",
          "IL",
          "IN",
          "IN",
          "IN",
          "IA",
          "IA",
          "IA",
          "KS",
          "KS",
          "KS",
          "KY",
          "KY",
          "KY",
          "LA",
          "LA",
          "LA",
          "ME",
          "ME",
          "ME",
          "MD",
          "MD",
          "MD",
          "MA",
          "MA",
          "MA",
          "MI",
          "MI",
          "MI",
          "MN",
          "MN",
          "MN",
          "MS",
          "MS",
          "MS",
          "MO",
          "MO",
          "MO",
          "MT",
          "MT",
          "MT",
          "NE",
          "NE",
          "NE",
          "NV",
          "NV",
          "NV",
          "NH",
          "NH",
          "NH",
          "NJ",
          "NJ",
          "NJ",
          "NM",
          "NM",
          "NM",
          "NY",
          "NY",
          "NY",
          "NC",
          "NC",
          "NC",
          "ND",
          "ND",
          "ND",
          "OH",
          "OH",
          "OH",
          "OK",
          "OK",
          "OK",
          "OR",
          "OR",
          "OR",
          "PA",
          "PA",
          "PA",
          "RI",
          "RI",
          "RI",
          "SC",
          "SC",
          "SC",
          "SD",
          "SD",
          "SD",
          "TN",
          "TN",
          "TN",
          "TX",
          "TX",
          "TX",
          "UT",
          "UT",
          "UT",
          "VT",
          "VT",
          "VT",
          "VA",
          "VA",
          "VA",
          "WA",
          "WA",
          "WA",
          "WV",
          "WV",
          "WV",
          "WI",
          "WI",
          "WI",
          "WY",
          "WY",
          "WY",
          "DC",
          "DC",
          "DC",
          "US",
          "US",
          "US"
         ],
         "name": "",
         "type": "choropleth",
         "z": [
          14.8,
          12.1,
          12.7,
          14.3,
          12.9,
          13.3,
          13,
          11.7,
          12,
          12.5,
          13.3,
          13.1,
          19.6,
          16.8,
          17.4,
          11.4,
          11.8,
          11.7,
          13.6,
          10.7,
          11.3,
          10.4,
          10.6,
          10.6,
          18.4,
          15.3,
          16,
          15.5,
          13.1,
          13.7,
          15.6,
          13.3,
          13.8,
          7.1,
          8.7,
          8.3,
          12.5,
          11.1,
          11.4,
          12.6,
          9.7,
          10.4,
          8.1,
          7.3,
          7.5,
          7.3,
          7.6,
          7.5,
          10.3,
          11.5,
          11.2,
          19.5,
          15.6,
          16.6,
          9.6,
          9.4,
          9.4,
          11.2,
          12.8,
          12.5,
          10.7,
          11.7,
          11.5,
          10.5,
          9.9,
          10.1,
          5.3,
          6.9,
          6.6,
          17,
          14.9,
          15.4,
          8.8,
          8.9,
          8.9,
          8,
          9.3,
          9,
          9.7,
          8.9,
          9.1,
          13.7,
          13.5,
          13.5,
          8.1,
          8.6,
          8.5,
          13.8,
          12.8,
          13,
          13.9,
          13.5,
          13.6,
          17.2,
          14.6,
          15.2,
          14.9,
          13.2,
          13.6,
          9.8,
          9.5,
          9.6,
          11.3,
          10.1,
          10.3,
          10.1,
          10.9,
          10.7,
          10.3,
          11.5,
          11.3,
          13,
          10.7,
          11.1,
          10.1,
          7.6,
          8.1,
          15.1,
          12.8,
          13.3,
          9.1,
          9,
          9.1,
          12.1,
          10.9,
          11.2,
          15.3,
          13.6,
          14.1,
          7.6,
          8.5,
          8.2,
          12.4,
          10.1,
          10.6,
          13.4,
          11.3,
          11.8,
          8.8,
          8.2,
          8.4,
          13.4,
          12.3,
          12.5,
          8.2,
          7.8,
          7.9,
          9.3,
          10.2,
          10,
          17.3,
          16.9,
          17,
          13.9,
          12.5,
          12.8
         ]
        }
       ],
       "frames": [
        {
         "data": [
          {
           "coloraxis": "coloraxis",
           "geo": "geo",
           "hovertemplate": "Child allowance=0<br>State=%{location}<br>Child poverty rate=%{z}<extra></extra>",
           "locationmode": "USA-states",
           "locations": [
            "AL",
            "AL",
            "AL",
            "AK",
            "AK",
            "AK",
            "AZ",
            "AZ",
            "AZ",
            "AR",
            "AR",
            "AR",
            "CA",
            "CA",
            "CA",
            "CO",
            "CO",
            "CO",
            "CT",
            "CT",
            "CT",
            "DE",
            "DE",
            "DE",
            "FL",
            "FL",
            "FL",
            "GA",
            "GA",
            "GA",
            "HI",
            "HI",
            "HI",
            "ID",
            "ID",
            "ID",
            "IL",
            "IL",
            "IL",
            "IN",
            "IN",
            "IN",
            "IA",
            "IA",
            "IA",
            "KS",
            "KS",
            "KS",
            "KY",
            "KY",
            "KY",
            "LA",
            "LA",
            "LA",
            "ME",
            "ME",
            "ME",
            "MD",
            "MD",
            "MD",
            "MA",
            "MA",
            "MA",
            "MI",
            "MI",
            "MI",
            "MN",
            "MN",
            "MN",
            "MS",
            "MS",
            "MS",
            "MO",
            "MO",
            "MO",
            "MT",
            "MT",
            "MT",
            "NE",
            "NE",
            "NE",
            "NV",
            "NV",
            "NV",
            "NH",
            "NH",
            "NH",
            "NJ",
            "NJ",
            "NJ",
            "NM",
            "NM",
            "NM",
            "NY",
            "NY",
            "NY",
            "NC",
            "NC",
            "NC",
            "ND",
            "ND",
            "ND",
            "OH",
            "OH",
            "OH",
            "OK",
            "OK",
            "OK",
            "OR",
            "OR",
            "OR",
            "PA",
            "PA",
            "PA",
            "RI",
            "RI",
            "RI",
            "SC",
            "SC",
            "SC",
            "SD",
            "SD",
            "SD",
            "TN",
            "TN",
            "TN",
            "TX",
            "TX",
            "TX",
            "UT",
            "UT",
            "UT",
            "VT",
            "VT",
            "VT",
            "VA",
            "VA",
            "VA",
            "WA",
            "WA",
            "WA",
            "WV",
            "WV",
            "WV",
            "WI",
            "WI",
            "WI",
            "WY",
            "WY",
            "WY",
            "DC",
            "DC",
            "DC",
            "US",
            "US",
            "US"
           ],
           "name": "",
           "type": "choropleth",
           "z": [
            14.8,
            12.1,
            12.7,
            14.3,
            12.9,
            13.3,
            13,
            11.7,
            12,
            12.5,
            13.3,
            13.1,
            19.6,
            16.8,
            17.4,
            11.4,
            11.8,
            11.7,
            13.6,
            10.7,
            11.3,
            10.4,
            10.6,
            10.6,
            18.4,
            15.3,
            16,
            15.5,
            13.1,
            13.7,
            15.6,
            13.3,
            13.8,
            7.1,
            8.7,
            8.3,
            12.5,
            11.1,
            11.4,
            12.6,
            9.7,
            10.4,
            8.1,
            7.3,
            7.5,
            7.3,
            7.6,
            7.5,
            10.3,
            11.5,
            11.2,
            19.5,
            15.6,
            16.6,
            9.6,
            9.4,
            9.4,
            11.2,
            12.8,
            12.5,
            10.7,
            11.7,
            11.5,
            10.5,
            9.9,
            10.1,
            5.3,
            6.9,
            6.6,
            17,
            14.9,
            15.4,
            8.8,
            8.9,
            8.9,
            8,
            9.3,
            9,
            9.7,
            8.9,
            9.1,
            13.7,
            13.5,
            13.5,
            8.1,
            8.6,
            8.5,
            13.8,
            12.8,
            13,
            13.9,
            13.5,
            13.6,
            17.2,
            14.6,
            15.2,
            14.9,
            13.2,
            13.6,
            9.8,
            9.5,
            9.6,
            11.3,
            10.1,
            10.3,
            10.1,
            10.9,
            10.7,
            10.3,
            11.5,
            11.3,
            13,
            10.7,
            11.1,
            10.1,
            7.6,
            8.1,
            15.1,
            12.8,
            13.3,
            9.1,
            9,
            9.1,
            12.1,
            10.9,
            11.2,
            15.3,
            13.6,
            14.1,
            7.6,
            8.5,
            8.2,
            12.4,
            10.1,
            10.6,
            13.4,
            11.3,
            11.8,
            8.8,
            8.2,
            8.4,
            13.4,
            12.3,
            12.5,
            8.2,
            7.8,
            7.9,
            9.3,
            10.2,
            10,
            17.3,
            16.9,
            17,
            13.9,
            12.5,
            12.8
           ]
          }
         ],
         "name": "0"
        },
        {
         "data": [
          {
           "coloraxis": "coloraxis",
           "geo": "geo",
           "hovertemplate": "Child allowance=50<br>State=%{location}<br>Child poverty rate=%{z}<extra></extra>",
           "locationmode": "USA-states",
           "locations": [
            "AL",
            "AL",
            "AL",
            "AK",
            "AK",
            "AK",
            "AZ",
            "AZ",
            "AZ",
            "AR",
            "AR",
            "AR",
            "CA",
            "CA",
            "CA",
            "CO",
            "CO",
            "CO",
            "CT",
            "CT",
            "CT",
            "DE",
            "DE",
            "DE",
            "FL",
            "FL",
            "FL",
            "GA",
            "GA",
            "GA",
            "HI",
            "HI",
            "HI",
            "ID",
            "ID",
            "ID",
            "IL",
            "IL",
            "IL",
            "IN",
            "IN",
            "IN",
            "IA",
            "IA",
            "IA",
            "KS",
            "KS",
            "KS",
            "KY",
            "KY",
            "KY",
            "LA",
            "LA",
            "LA",
            "ME",
            "ME",
            "ME",
            "MD",
            "MD",
            "MD",
            "MA",
            "MA",
            "MA",
            "MI",
            "MI",
            "MI",
            "MN",
            "MN",
            "MN",
            "MS",
            "MS",
            "MS",
            "MO",
            "MO",
            "MO",
            "MT",
            "MT",
            "MT",
            "NE",
            "NE",
            "NE",
            "NV",
            "NV",
            "NV",
            "NH",
            "NH",
            "NH",
            "NJ",
            "NJ",
            "NJ",
            "NM",
            "NM",
            "NM",
            "NY",
            "NY",
            "NY",
            "NC",
            "NC",
            "NC",
            "ND",
            "ND",
            "ND",
            "OH",
            "OH",
            "OH",
            "OK",
            "OK",
            "OK",
            "OR",
            "OR",
            "OR",
            "PA",
            "PA",
            "PA",
            "RI",
            "RI",
            "RI",
            "SC",
            "SC",
            "SC",
            "SD",
            "SD",
            "SD",
            "TN",
            "TN",
            "TN",
            "TX",
            "TX",
            "TX",
            "UT",
            "UT",
            "UT",
            "VT",
            "VT",
            "VT",
            "VA",
            "VA",
            "VA",
            "WA",
            "WA",
            "WA",
            "WV",
            "WV",
            "WV",
            "WI",
            "WI",
            "WI",
            "WY",
            "WY",
            "WY",
            "DC",
            "DC",
            "DC",
            "US",
            "US",
            "US"
           ],
           "name": "",
           "type": "choropleth",
           "z": [
            13.7,
            11.8,
            12.2,
            12.8,
            12.7,
            12.7,
            10.4,
            11.1,
            11,
            10.4,
            12.8,
            12.2,
            17.8,
            16.3,
            16.7,
            10,
            11.4,
            11.1,
            13,
            10.6,
            11.1,
            9.5,
            10.3,
            10.2,
            16.3,
            14.9,
            15.2,
            14.7,
            12.9,
            13.3,
            14,
            12.8,
            13.1,
            6.1,
            8.6,
            7.9,
            11.3,
            10.8,
            10.9,
            11.8,
            9.5,
            10.1,
            7.4,
            7,
            7.1,
            5.5,
            7.2,
            6.8,
            9.5,
            11.4,
            11,
            17.6,
            15.3,
            15.8,
            7.9,
            9.2,
            8.9,
            10.2,
            12.7,
            12.1,
            9.4,
            11.6,
            11.1,
            9.4,
            9.7,
            9.6,
            4.5,
            6.8,
            6.2,
            14.9,
            14.6,
            14.6,
            7.1,
            8.6,
            8.3,
            7.4,
            9.1,
            8.8,
            8.4,
            8.7,
            8.6,
            10.5,
            12.8,
            12.3,
            7.1,
            8.4,
            8.2,
            12.9,
            12.6,
            12.7,
            12,
            13,
            12.8,
            15.7,
            14.3,
            14.6,
            12.8,
            12.8,
            12.8,
            8.2,
            9.3,
            9,
            10.1,
            9.8,
            9.9,
            9,
            10.5,
            10.1,
            9,
            11.3,
            10.8,
            11.6,
            10.3,
            10.6,
            9.5,
            7.4,
            7.8,
            13.1,
            12.5,
            12.7,
            8.1,
            8.9,
            8.7,
            10.3,
            10.6,
            10.5,
            13.4,
            13.2,
            13.3,
            6.7,
            8.2,
            7.7,
            10.8,
            10,
            10.1,
            12.4,
            11.1,
            11.4,
            7.7,
            8,
            7.9,
            12.2,
            12,
            12.1,
            6.8,
            7.6,
            7.4,
            7.5,
            10,
            9.4,
            15.6,
            16.6,
            16.4,
            12.4,
            12.1,
            12.2
           ]
          }
         ],
         "name": "50"
        },
        {
         "data": [
          {
           "coloraxis": "coloraxis",
           "geo": "geo",
           "hovertemplate": "Child allowance=100<br>State=%{location}<br>Child poverty rate=%{z}<extra></extra>",
           "locationmode": "USA-states",
           "locations": [
            "AL",
            "AL",
            "AL",
            "AK",
            "AK",
            "AK",
            "AZ",
            "AZ",
            "AZ",
            "AR",
            "AR",
            "AR",
            "CA",
            "CA",
            "CA",
            "CO",
            "CO",
            "CO",
            "CT",
            "CT",
            "CT",
            "DE",
            "DE",
            "DE",
            "FL",
            "FL",
            "FL",
            "GA",
            "GA",
            "GA",
            "HI",
            "HI",
            "HI",
            "ID",
            "ID",
            "ID",
            "IL",
            "IL",
            "IL",
            "IN",
            "IN",
            "IN",
            "IA",
            "IA",
            "IA",
            "KS",
            "KS",
            "KS",
            "KY",
            "KY",
            "KY",
            "LA",
            "LA",
            "LA",
            "ME",
            "ME",
            "ME",
            "MD",
            "MD",
            "MD",
            "MA",
            "MA",
            "MA",
            "MI",
            "MI",
            "MI",
            "MN",
            "MN",
            "MN",
            "MS",
            "MS",
            "MS",
            "MO",
            "MO",
            "MO",
            "MT",
            "MT",
            "MT",
            "NE",
            "NE",
            "NE",
            "NV",
            "NV",
            "NV",
            "NH",
            "NH",
            "NH",
            "NJ",
            "NJ",
            "NJ",
            "NM",
            "NM",
            "NM",
            "NY",
            "NY",
            "NY",
            "NC",
            "NC",
            "NC",
            "ND",
            "ND",
            "ND",
            "OH",
            "OH",
            "OH",
            "OK",
            "OK",
            "OK",
            "OR",
            "OR",
            "OR",
            "PA",
            "PA",
            "PA",
            "RI",
            "RI",
            "RI",
            "SC",
            "SC",
            "SC",
            "SD",
            "SD",
            "SD",
            "TN",
            "TN",
            "TN",
            "TX",
            "TX",
            "TX",
            "UT",
            "UT",
            "UT",
            "VT",
            "VT",
            "VT",
            "VA",
            "VA",
            "VA",
            "WA",
            "WA",
            "WA",
            "WV",
            "WV",
            "WV",
            "WI",
            "WI",
            "WI",
            "WY",
            "WY",
            "WY",
            "DC",
            "DC",
            "DC",
            "US",
            "US",
            "US"
           ],
           "name": "",
           "type": "choropleth",
           "z": [
            12.1,
            11.5,
            11.6,
            11.9,
            12.4,
            12.3,
            9.1,
            10.8,
            10.4,
            9,
            12.5,
            11.7,
            16.4,
            16,
            16.1,
            8.8,
            11.2,
            10.6,
            12.9,
            10.5,
            11,
            8.6,
            10.1,
            9.8,
            13.6,
            14.5,
            14.3,
            13.1,
            12.5,
            12.7,
            12.7,
            12.6,
            12.6,
            4.8,
            8.3,
            7.4,
            9.5,
            10.4,
            10.2,
            10.3,
            9.2,
            9.5,
            6.3,
            6.8,
            6.7,
            5.1,
            7.1,
            6.6,
            8.3,
            11.2,
            10.5,
            15.6,
            14.8,
            15,
            7,
            9,
            8.6,
            8.5,
            12.4,
            11.5,
            8.6,
            11.4,
            10.9,
            8.1,
            9.4,
            9.1,
            3.7,
            6.7,
            6,
            13,
            14.2,
            13.9,
            6.7,
            8.5,
            8.1,
            6.9,
            9.1,
            8.6,
            7.6,
            8.4,
            8.2,
            9.8,
            12.7,
            12.1,
            6.4,
            8.2,
            7.9,
            11.9,
            12.4,
            12.3,
            10.8,
            12.7,
            12.2,
            14.2,
            14,
            14,
            10,
            12.2,
            11.7,
            7.5,
            9.1,
            8.7,
            8.3,
            9.6,
            9.3,
            7.7,
            10.3,
            9.6,
            7.6,
            10.9,
            10.2,
            10.5,
            10.2,
            10.2,
            8.4,
            7.2,
            7.5,
            11.2,
            12.2,
            12,
            6.7,
            8.5,
            8,
            9.1,
            10.3,
            10,
            11.9,
            12.9,
            12.6,
            5.7,
            7.9,
            7.3,
            9.4,
            9.8,
            9.7,
            11.1,
            10.9,
            10.9,
            6.7,
            7.8,
            7.6,
            10.1,
            11.6,
            11.3,
            5.7,
            7.5,
            7.1,
            6.7,
            9.9,
            9.1,
            14.4,
            16.5,
            16.1,
            10.9,
            11.8,
            11.6
           ]
          }
         ],
         "name": "100"
        },
        {
         "data": [
          {
           "coloraxis": "coloraxis",
           "geo": "geo",
           "hovertemplate": "Child allowance=150<br>State=%{location}<br>Child poverty rate=%{z}<extra></extra>",
           "locationmode": "USA-states",
           "locations": [
            "AL",
            "AL",
            "AL",
            "AK",
            "AK",
            "AK",
            "AZ",
            "AZ",
            "AZ",
            "AR",
            "AR",
            "AR",
            "CA",
            "CA",
            "CA",
            "CO",
            "CO",
            "CO",
            "CT",
            "CT",
            "CT",
            "DE",
            "DE",
            "DE",
            "FL",
            "FL",
            "FL",
            "GA",
            "GA",
            "GA",
            "HI",
            "HI",
            "HI",
            "ID",
            "ID",
            "ID",
            "IL",
            "IL",
            "IL",
            "IN",
            "IN",
            "IN",
            "IA",
            "IA",
            "IA",
            "KS",
            "KS",
            "KS",
            "KY",
            "KY",
            "KY",
            "LA",
            "LA",
            "LA",
            "ME",
            "ME",
            "ME",
            "MD",
            "MD",
            "MD",
            "MA",
            "MA",
            "MA",
            "MI",
            "MI",
            "MI",
            "MN",
            "MN",
            "MN",
            "MS",
            "MS",
            "MS",
            "MO",
            "MO",
            "MO",
            "MT",
            "MT",
            "MT",
            "NE",
            "NE",
            "NE",
            "NV",
            "NV",
            "NV",
            "NH",
            "NH",
            "NH",
            "NJ",
            "NJ",
            "NJ",
            "NM",
            "NM",
            "NM",
            "NY",
            "NY",
            "NY",
            "NC",
            "NC",
            "NC",
            "ND",
            "ND",
            "ND",
            "OH",
            "OH",
            "OH",
            "OK",
            "OK",
            "OK",
            "OR",
            "OR",
            "OR",
            "PA",
            "PA",
            "PA",
            "RI",
            "RI",
            "RI",
            "SC",
            "SC",
            "SC",
            "SD",
            "SD",
            "SD",
            "TN",
            "TN",
            "TN",
            "TX",
            "TX",
            "TX",
            "UT",
            "UT",
            "UT",
            "VT",
            "VT",
            "VT",
            "VA",
            "VA",
            "VA",
            "WA",
            "WA",
            "WA",
            "WV",
            "WV",
            "WV",
            "WI",
            "WI",
            "WI",
            "WY",
            "WY",
            "WY",
            "DC",
            "DC",
            "DC",
            "US",
            "US",
            "US"
           ],
           "name": "",
           "type": "choropleth",
           "z": [
            10.2,
            11.1,
            10.9,
            11.3,
            12.2,
            12,
            7.5,
            10.5,
            9.8,
            8.1,
            12.4,
            11.4,
            14.8,
            15.7,
            15.5,
            6.8,
            10.8,
            9.9,
            11.4,
            10.1,
            10.4,
            7.6,
            9.9,
            9.4,
            12.1,
            14.1,
            13.7,
            11,
            12.1,
            11.8,
            10.9,
            12.3,
            12,
            4.4,
            8.2,
            7.2,
            8.4,
            10.2,
            9.8,
            9.2,
            9,
            9,
            5.5,
            6.8,
            6.5,
            4.4,
            7,
            6.4,
            7.8,
            11.2,
            10.4,
            13.4,
            14.4,
            14.2,
            5.6,
            8.7,
            8.1,
            7.4,
            12.1,
            11.1,
            7.6,
            11.1,
            10.4,
            7.1,
            9.2,
            8.7,
            3.5,
            6.7,
            5.9,
            10.3,
            13.6,
            12.8,
            6.2,
            8.5,
            8,
            5.8,
            8.8,
            8.2,
            6.7,
            8.1,
            7.8,
            9,
            12.5,
            11.7,
            5.9,
            8.1,
            7.7,
            10.9,
            12.2,
            11.9,
            9.2,
            12.2,
            11.5,
            12.9,
            13.7,
            13.5,
            8.4,
            11.8,
            11.1,
            6.6,
            9,
            8.4,
            7.4,
            9.4,
            8.9,
            6.6,
            10,
            9.2,
            6.6,
            10.8,
            9.9,
            9.1,
            9.9,
            9.7,
            7.7,
            7,
            7.2,
            9.8,
            12.1,
            11.6,
            6.4,
            8.5,
            8,
            8.4,
            10.2,
            9.8,
            10.7,
            12.5,
            12.1,
            5.2,
            7.7,
            7,
            8.3,
            9.6,
            9.4,
            10.1,
            10.5,
            10.4,
            6.1,
            7.6,
            7.3,
            8.4,
            11.2,
            10.6,
            5,
            7.3,
            6.8,
            5.4,
            9.7,
            8.7,
            13.2,
            16.3,
            15.7,
            9.7,
            11.6,
            11.1
           ]
          }
         ],
         "name": "150"
        },
        {
         "data": [
          {
           "coloraxis": "coloraxis",
           "geo": "geo",
           "hovertemplate": "Child allowance=200<br>State=%{location}<br>Child poverty rate=%{z}<extra></extra>",
           "locationmode": "USA-states",
           "locations": [
            "AL",
            "AL",
            "AL",
            "AK",
            "AK",
            "AK",
            "AZ",
            "AZ",
            "AZ",
            "AR",
            "AR",
            "AR",
            "CA",
            "CA",
            "CA",
            "CO",
            "CO",
            "CO",
            "CT",
            "CT",
            "CT",
            "DE",
            "DE",
            "DE",
            "FL",
            "FL",
            "FL",
            "GA",
            "GA",
            "GA",
            "HI",
            "HI",
            "HI",
            "ID",
            "ID",
            "ID",
            "IL",
            "IL",
            "IL",
            "IN",
            "IN",
            "IN",
            "IA",
            "IA",
            "IA",
            "KS",
            "KS",
            "KS",
            "KY",
            "KY",
            "KY",
            "LA",
            "LA",
            "LA",
            "ME",
            "ME",
            "ME",
            "MD",
            "MD",
            "MD",
            "MA",
            "MA",
            "MA",
            "MI",
            "MI",
            "MI",
            "MN",
            "MN",
            "MN",
            "MS",
            "MS",
            "MS",
            "MO",
            "MO",
            "MO",
            "MT",
            "MT",
            "MT",
            "NE",
            "NE",
            "NE",
            "NV",
            "NV",
            "NV",
            "NH",
            "NH",
            "NH",
            "NJ",
            "NJ",
            "NJ",
            "NM",
            "NM",
            "NM",
            "NY",
            "NY",
            "NY",
            "NC",
            "NC",
            "NC",
            "ND",
            "ND",
            "ND",
            "OH",
            "OH",
            "OH",
            "OK",
            "OK",
            "OK",
            "OR",
            "OR",
            "OR",
            "PA",
            "PA",
            "PA",
            "RI",
            "RI",
            "RI",
            "SC",
            "SC",
            "SC",
            "SD",
            "SD",
            "SD",
            "TN",
            "TN",
            "TN",
            "TX",
            "TX",
            "TX",
            "UT",
            "UT",
            "UT",
            "VT",
            "VT",
            "VT",
            "VA",
            "VA",
            "VA",
            "WA",
            "WA",
            "WA",
            "WV",
            "WV",
            "WV",
            "WI",
            "WI",
            "WI",
            "WY",
            "WY",
            "WY",
            "DC",
            "DC",
            "DC",
            "US",
            "US",
            "US"
           ],
           "name": "",
           "type": "choropleth",
           "z": [
            9.3,
            10.9,
            10.5,
            10.6,
            12,
            11.6,
            5.8,
            10.1,
            9.1,
            7.5,
            12.4,
            11.2,
            13,
            15.2,
            14.7,
            6.5,
            10.7,
            9.8,
            10.7,
            10,
            10.1,
            7.1,
            9.9,
            9.3,
            10.9,
            14,
            13.3,
            10,
            11.8,
            11.4,
            8.2,
            11.8,
            11,
            3.6,
            8.1,
            7,
            7.2,
            9.9,
            9.3,
            8.1,
            8.7,
            8.6,
            4.7,
            6.6,
            6.1,
            4.3,
            6.9,
            6.3,
            7.2,
            11.1,
            10.2,
            11.1,
            14,
            13.3,
            5.5,
            8.7,
            8,
            6.9,
            12,
            10.9,
            6.9,
            10.9,
            10.1,
            6.3,
            9.1,
            8.5,
            3,
            6.5,
            5.7,
            8.8,
            13.3,
            12.2,
            5.3,
            8.4,
            7.7,
            5.4,
            8.9,
            8.1,
            6.3,
            8,
            7.6,
            7.7,
            12.2,
            11.2,
            5.1,
            8,
            7.4,
            9.3,
            11.7,
            11.2,
            8.2,
            11.9,
            11.1,
            11,
            13.5,
            13,
            7.2,
            11.6,
            10.6,
            5.4,
            8.6,
            7.8,
            6.6,
            9.1,
            8.6,
            5.7,
            9.8,
            8.8,
            6.1,
            10.7,
            9.7,
            8.3,
            9.7,
            9.4,
            7,
            6.9,
            6.9,
            8.8,
            11.9,
            11.2,
            5.1,
            8.4,
            7.6,
            7.8,
            10.1,
            9.6,
            9.2,
            12.2,
            11.4,
            4.7,
            7.6,
            6.7,
            7.7,
            9.4,
            9.1,
            9.2,
            10.2,
            10,
            5.5,
            7.5,
            7,
            7.8,
            11,
            10.3,
            4,
            7.1,
            6.4,
            4.6,
            9.5,
            8.3,
            12.1,
            16.2,
            15.4,
            8.5,
            11.3,
            10.7
           ]
          }
         ],
         "name": "200"
        },
        {
         "data": [
          {
           "coloraxis": "coloraxis",
           "geo": "geo",
           "hovertemplate": "Child allowance=250<br>State=%{location}<br>Child poverty rate=%{z}<extra></extra>",
           "locationmode": "USA-states",
           "locations": [
            "AL",
            "AL",
            "AL",
            "AK",
            "AK",
            "AK",
            "AZ",
            "AZ",
            "AZ",
            "AR",
            "AR",
            "AR",
            "CA",
            "CA",
            "CA",
            "CO",
            "CO",
            "CO",
            "CT",
            "CT",
            "CT",
            "DE",
            "DE",
            "DE",
            "FL",
            "FL",
            "FL",
            "GA",
            "GA",
            "GA",
            "HI",
            "HI",
            "HI",
            "ID",
            "ID",
            "ID",
            "IL",
            "IL",
            "IL",
            "IN",
            "IN",
            "IN",
            "IA",
            "IA",
            "IA",
            "KS",
            "KS",
            "KS",
            "KY",
            "KY",
            "KY",
            "LA",
            "LA",
            "LA",
            "ME",
            "ME",
            "ME",
            "MD",
            "MD",
            "MD",
            "MA",
            "MA",
            "MA",
            "MI",
            "MI",
            "MI",
            "MN",
            "MN",
            "MN",
            "MS",
            "MS",
            "MS",
            "MO",
            "MO",
            "MO",
            "MT",
            "MT",
            "MT",
            "NE",
            "NE",
            "NE",
            "NV",
            "NV",
            "NV",
            "NH",
            "NH",
            "NH",
            "NJ",
            "NJ",
            "NJ",
            "NM",
            "NM",
            "NM",
            "NY",
            "NY",
            "NY",
            "NC",
            "NC",
            "NC",
            "ND",
            "ND",
            "ND",
            "OH",
            "OH",
            "OH",
            "OK",
            "OK",
            "OK",
            "OR",
            "OR",
            "OR",
            "PA",
            "PA",
            "PA",
            "RI",
            "RI",
            "RI",
            "SC",
            "SC",
            "SC",
            "SD",
            "SD",
            "SD",
            "TN",
            "TN",
            "TN",
            "TX",
            "TX",
            "TX",
            "UT",
            "UT",
            "UT",
            "VT",
            "VT",
            "VT",
            "VA",
            "VA",
            "VA",
            "WA",
            "WA",
            "WA",
            "WV",
            "WV",
            "WV",
            "WI",
            "WI",
            "WI",
            "WY",
            "WY",
            "WY",
            "DC",
            "DC",
            "DC",
            "US",
            "US",
            "US"
           ],
           "name": "",
           "type": "choropleth",
           "z": [
            7.8,
            10.6,
            10,
            9.4,
            11.5,
            11,
            5.2,
            9.9,
            8.8,
            6.7,
            12.2,
            10.9,
            11.5,
            14.9,
            14.1,
            6.1,
            10.7,
            9.6,
            9.9,
            9.8,
            9.8,
            5.9,
            9.6,
            8.8,
            9.9,
            13.7,
            13,
            8.9,
            11.6,
            10.9,
            7.5,
            11.7,
            10.8,
            2.4,
            7.8,
            6.4,
            6.2,
            9.7,
            8.9,
            6.6,
            8.4,
            8,
            4.4,
            6.6,
            6,
            4,
            6.9,
            6.2,
            6.4,
            11,
            9.9,
            9.5,
            13.6,
            12.6,
            5.4,
            8.6,
            8,
            6.5,
            11.9,
            10.7,
            6,
            10.8,
            9.9,
            5.5,
            8.9,
            8.2,
            2.8,
            6.5,
            5.7,
            7.5,
            13,
            11.7,
            4.1,
            8,
            7.1,
            4.3,
            8.7,
            7.7,
            5.6,
            7.9,
            7.3,
            6.9,
            12,
            10.8,
            4,
            7.8,
            7.1,
            8.6,
            11.5,
            10.9,
            7.4,
            11.6,
            10.7,
            10.1,
            13.3,
            12.6,
            6.4,
            11.3,
            10.3,
            4.6,
            8.5,
            7.6,
            5.3,
            8.7,
            7.9,
            5.1,
            9.7,
            8.5,
            5.5,
            10.6,
            9.5,
            7.7,
            9.5,
            9.1,
            6.5,
            6.7,
            6.7,
            8,
            11.7,
            10.9,
            5.1,
            8.4,
            7.5,
            6.3,
            9.8,
            9,
            8.2,
            11.9,
            11,
            4.6,
            7.5,
            6.7,
            7,
            9.3,
            8.9,
            8.3,
            10,
            9.6,
            5.1,
            7.4,
            6.9,
            6.4,
            10.8,
            9.9,
            3.6,
            7.1,
            6.3,
            4.1,
            9.4,
            8.1,
            10,
            15.7,
            14.7,
            7.6,
            11.1,
            10.3
           ]
          }
         ],
         "name": "250"
        },
        {
         "data": [
          {
           "coloraxis": "coloraxis",
           "geo": "geo",
           "hovertemplate": "Child allowance=300<br>State=%{location}<br>Child poverty rate=%{z}<extra></extra>",
           "locationmode": "USA-states",
           "locations": [
            "AL",
            "AL",
            "AL",
            "AK",
            "AK",
            "AK",
            "AZ",
            "AZ",
            "AZ",
            "AR",
            "AR",
            "AR",
            "CA",
            "CA",
            "CA",
            "CO",
            "CO",
            "CO",
            "CT",
            "CT",
            "CT",
            "DE",
            "DE",
            "DE",
            "FL",
            "FL",
            "FL",
            "GA",
            "GA",
            "GA",
            "HI",
            "HI",
            "HI",
            "ID",
            "ID",
            "ID",
            "IL",
            "IL",
            "IL",
            "IN",
            "IN",
            "IN",
            "IA",
            "IA",
            "IA",
            "KS",
            "KS",
            "KS",
            "KY",
            "KY",
            "KY",
            "LA",
            "LA",
            "LA",
            "ME",
            "ME",
            "ME",
            "MD",
            "MD",
            "MD",
            "MA",
            "MA",
            "MA",
            "MI",
            "MI",
            "MI",
            "MN",
            "MN",
            "MN",
            "MS",
            "MS",
            "MS",
            "MO",
            "MO",
            "MO",
            "MT",
            "MT",
            "MT",
            "NE",
            "NE",
            "NE",
            "NV",
            "NV",
            "NV",
            "NH",
            "NH",
            "NH",
            "NJ",
            "NJ",
            "NJ",
            "NM",
            "NM",
            "NM",
            "NY",
            "NY",
            "NY",
            "NC",
            "NC",
            "NC",
            "ND",
            "ND",
            "ND",
            "OH",
            "OH",
            "OH",
            "OK",
            "OK",
            "OK",
            "OR",
            "OR",
            "OR",
            "PA",
            "PA",
            "PA",
            "RI",
            "RI",
            "RI",
            "SC",
            "SC",
            "SC",
            "SD",
            "SD",
            "SD",
            "TN",
            "TN",
            "TN",
            "TX",
            "TX",
            "TX",
            "UT",
            "UT",
            "UT",
            "VT",
            "VT",
            "VT",
            "VA",
            "VA",
            "VA",
            "WA",
            "WA",
            "WA",
            "WV",
            "WV",
            "WV",
            "WI",
            "WI",
            "WI",
            "WY",
            "WY",
            "WY",
            "DC",
            "DC",
            "DC",
            "US",
            "US",
            "US"
           ],
           "name": "",
           "type": "choropleth",
           "z": [
            7.2,
            10.5,
            9.8,
            8.4,
            11.3,
            10.6,
            4.8,
            9.7,
            8.6,
            5.6,
            12,
            10.4,
            10.1,
            14.5,
            13.5,
            5.4,
            10.4,
            9.3,
            8.1,
            9.4,
            9.1,
            5.2,
            9.4,
            8.6,
            8.8,
            13.6,
            12.6,
            7.9,
            11.3,
            10.5,
            6.2,
            11.5,
            10.3,
            2.3,
            7.7,
            6.4,
            5.6,
            9.6,
            8.6,
            6.1,
            8.3,
            7.8,
            3.4,
            6.4,
            5.7,
            3.5,
            6.8,
            6,
            5.3,
            10.7,
            9.5,
            8,
            13.2,
            11.9,
            5,
            8.6,
            7.9,
            6.1,
            11.8,
            10.5,
            5.3,
            10.6,
            9.6,
            5.1,
            8.8,
            8,
            2.3,
            6.4,
            5.5,
            7,
            12.9,
            11.5,
            3.1,
            7.9,
            6.8,
            4.1,
            8.6,
            7.7,
            5,
            7.7,
            7,
            6.2,
            11.8,
            10.6,
            3.6,
            7.7,
            6.9,
            7.8,
            11.3,
            10.5,
            5.4,
            11.3,
            10,
            9.4,
            13.1,
            12.4,
            5.6,
            11.1,
            9.9,
            4.5,
            8.4,
            7.5,
            4.4,
            8.5,
            7.6,
            4.8,
            9.6,
            8.4,
            4.7,
            10.4,
            9.2,
            7.4,
            9.4,
            9,
            5.6,
            6.5,
            6.3,
            7,
            11.4,
            10.4,
            4.3,
            8.2,
            7.2,
            5.7,
            9.7,
            8.8,
            7.1,
            11.7,
            10.5,
            3.7,
            7.3,
            6.2,
            6.5,
            9.3,
            8.8,
            7.3,
            9.8,
            9.3,
            4.6,
            7.2,
            6.7,
            5.4,
            10.5,
            9.4,
            3.4,
            7,
            6.2,
            3.8,
            9.3,
            8,
            9,
            15.6,
            14.4,
            6.7,
            10.9,
            10
           ]
          }
         ],
         "name": "300"
        },
        {
         "data": [
          {
           "coloraxis": "coloraxis",
           "geo": "geo",
           "hovertemplate": "Child allowance=350<br>State=%{location}<br>Child poverty rate=%{z}<extra></extra>",
           "locationmode": "USA-states",
           "locations": [
            "AL",
            "AL",
            "AL",
            "AK",
            "AK",
            "AK",
            "AZ",
            "AZ",
            "AZ",
            "AR",
            "AR",
            "AR",
            "CA",
            "CA",
            "CA",
            "CO",
            "CO",
            "CO",
            "CT",
            "CT",
            "CT",
            "DE",
            "DE",
            "DE",
            "FL",
            "FL",
            "FL",
            "GA",
            "GA",
            "GA",
            "HI",
            "HI",
            "HI",
            "ID",
            "ID",
            "ID",
            "IL",
            "IL",
            "IL",
            "IN",
            "IN",
            "IN",
            "IA",
            "IA",
            "IA",
            "KS",
            "KS",
            "KS",
            "KY",
            "KY",
            "KY",
            "LA",
            "LA",
            "LA",
            "ME",
            "ME",
            "ME",
            "MD",
            "MD",
            "MD",
            "MA",
            "MA",
            "MA",
            "MI",
            "MI",
            "MI",
            "MN",
            "MN",
            "MN",
            "MS",
            "MS",
            "MS",
            "MO",
            "MO",
            "MO",
            "MT",
            "MT",
            "MT",
            "NE",
            "NE",
            "NE",
            "NV",
            "NV",
            "NV",
            "NH",
            "NH",
            "NH",
            "NJ",
            "NJ",
            "NJ",
            "NM",
            "NM",
            "NM",
            "NY",
            "NY",
            "NY",
            "NC",
            "NC",
            "NC",
            "ND",
            "ND",
            "ND",
            "OH",
            "OH",
            "OH",
            "OK",
            "OK",
            "OK",
            "OR",
            "OR",
            "OR",
            "PA",
            "PA",
            "PA",
            "RI",
            "RI",
            "RI",
            "SC",
            "SC",
            "SC",
            "SD",
            "SD",
            "SD",
            "TN",
            "TN",
            "TN",
            "TX",
            "TX",
            "TX",
            "UT",
            "UT",
            "UT",
            "VT",
            "VT",
            "VT",
            "VA",
            "VA",
            "VA",
            "WA",
            "WA",
            "WA",
            "WV",
            "WV",
            "WV",
            "WI",
            "WI",
            "WI",
            "WY",
            "WY",
            "WY",
            "DC",
            "DC",
            "DC",
            "US",
            "US",
            "US"
           ],
           "name": "",
           "type": "choropleth",
           "z": [
            6.4,
            10.4,
            9.5,
            7.9,
            11,
            10.2,
            4.3,
            9.6,
            8.3,
            5,
            11.9,
            10.3,
            9.2,
            14.3,
            13.1,
            5.1,
            10.4,
            9.2,
            7.7,
            9.3,
            9,
            4.7,
            9.3,
            8.3,
            8,
            13.4,
            12.3,
            7,
            11.1,
            10.1,
            5.9,
            11.3,
            10.1,
            2.3,
            7.7,
            6.3,
            5.3,
            9.5,
            8.6,
            5.5,
            8.2,
            7.6,
            2.8,
            6.2,
            5.4,
            3.5,
            6.8,
            5.9,
            4.3,
            10.5,
            9.1,
            7.3,
            13,
            11.6,
            4.7,
            8.7,
            8,
            5.4,
            11.6,
            10.2,
            4.7,
            10.5,
            9.3,
            4.6,
            8.7,
            7.8,
            2,
            6.3,
            5.4,
            5.9,
            12.6,
            11,
            2.6,
            7.8,
            6.6,
            4,
            8.7,
            7.7,
            4,
            7.5,
            6.6,
            5.8,
            11.8,
            10.5,
            3.1,
            7.6,
            6.7,
            6.8,
            11.1,
            10.2,
            4.7,
            11.1,
            9.6,
            8.6,
            13,
            12.1,
            5,
            11,
            9.7,
            3.9,
            8.3,
            7.2,
            3.8,
            8.4,
            7.3,
            4.5,
            9.4,
            8.2,
            4.2,
            10.3,
            9,
            6.4,
            9.2,
            8.6,
            4.7,
            6.4,
            6,
            6.3,
            11.2,
            10.2,
            3.6,
            7.9,
            6.8,
            5.2,
            9.6,
            8.6,
            6.3,
            11.5,
            10.1,
            3.4,
            7.1,
            6,
            5.8,
            9.2,
            8.6,
            6.8,
            9.6,
            9,
            3.5,
            7.1,
            6.3,
            4.3,
            10.2,
            9,
            2.7,
            6.8,
            5.9,
            3.3,
            9.1,
            7.8,
            8.1,
            15.5,
            14.1,
            6,
            10.8,
            9.7
           ]
          }
         ],
         "name": "350"
        },
        {
         "data": [
          {
           "coloraxis": "coloraxis",
           "geo": "geo",
           "hovertemplate": "Child allowance=400<br>State=%{location}<br>Child poverty rate=%{z}<extra></extra>",
           "locationmode": "USA-states",
           "locations": [
            "AL",
            "AL",
            "AL",
            "AK",
            "AK",
            "AK",
            "AZ",
            "AZ",
            "AZ",
            "AR",
            "AR",
            "AR",
            "CA",
            "CA",
            "CA",
            "CO",
            "CO",
            "CO",
            "CT",
            "CT",
            "CT",
            "DE",
            "DE",
            "DE",
            "FL",
            "FL",
            "FL",
            "GA",
            "GA",
            "GA",
            "HI",
            "HI",
            "HI",
            "ID",
            "ID",
            "ID",
            "IL",
            "IL",
            "IL",
            "IN",
            "IN",
            "IN",
            "IA",
            "IA",
            "IA",
            "KS",
            "KS",
            "KS",
            "KY",
            "KY",
            "KY",
            "LA",
            "LA",
            "LA",
            "ME",
            "ME",
            "ME",
            "MD",
            "MD",
            "MD",
            "MA",
            "MA",
            "MA",
            "MI",
            "MI",
            "MI",
            "MN",
            "MN",
            "MN",
            "MS",
            "MS",
            "MS",
            "MO",
            "MO",
            "MO",
            "MT",
            "MT",
            "MT",
            "NE",
            "NE",
            "NE",
            "NV",
            "NV",
            "NV",
            "NH",
            "NH",
            "NH",
            "NJ",
            "NJ",
            "NJ",
            "NM",
            "NM",
            "NM",
            "NY",
            "NY",
            "NY",
            "NC",
            "NC",
            "NC",
            "ND",
            "ND",
            "ND",
            "OH",
            "OH",
            "OH",
            "OK",
            "OK",
            "OK",
            "OR",
            "OR",
            "OR",
            "PA",
            "PA",
            "PA",
            "RI",
            "RI",
            "RI",
            "SC",
            "SC",
            "SC",
            "SD",
            "SD",
            "SD",
            "TN",
            "TN",
            "TN",
            "TX",
            "TX",
            "TX",
            "UT",
            "UT",
            "UT",
            "VT",
            "VT",
            "VT",
            "VA",
            "VA",
            "VA",
            "WA",
            "WA",
            "WA",
            "WV",
            "WV",
            "WV",
            "WI",
            "WI",
            "WI",
            "WY",
            "WY",
            "WY",
            "DC",
            "DC",
            "DC",
            "US",
            "US",
            "US"
           ],
           "name": "",
           "type": "choropleth",
           "z": [
            5.7,
            10.3,
            9.3,
            7.5,
            10.8,
            10,
            3.7,
            9.4,
            8.1,
            4.6,
            11.8,
            10.1,
            8.2,
            14,
            12.7,
            4.8,
            10.3,
            9.1,
            7.5,
            9.2,
            8.8,
            4.1,
            9.1,
            8.1,
            7.3,
            13.3,
            12.1,
            6.6,
            11,
            9.9,
            5.5,
            11.2,
            10,
            1.9,
            7.7,
            6.2,
            4.5,
            9.4,
            8.3,
            4.3,
            7.9,
            7,
            2.8,
            6.2,
            5.4,
            3.1,
            6.7,
            5.8,
            3.8,
            10.3,
            8.8,
            6.3,
            12.8,
            11.2,
            4.2,
            8.6,
            7.8,
            4.8,
            11.5,
            10,
            4.4,
            10.4,
            9.2,
            4.2,
            8.6,
            7.6,
            1.8,
            6.3,
            5.2,
            5.5,
            12.5,
            10.8,
            2.6,
            7.8,
            6.6,
            3.6,
            8.6,
            7.5,
            3.9,
            7.4,
            6.5,
            5.2,
            11.7,
            10.2,
            3.1,
            7.5,
            6.7,
            6.5,
            11.1,
            10,
            4.4,
            11,
            9.5,
            8.1,
            12.8,
            11.8,
            4.4,
            10.9,
            9.5,
            3.2,
            8.2,
            6.9,
            3.1,
            8.3,
            7.1,
            3.9,
            9.3,
            8,
            3.7,
            10.2,
            8.8,
            5.9,
            9.2,
            8.5,
            4.4,
            6.3,
            5.9,
            5.5,
            11.1,
            9.9,
            3.3,
            7.8,
            6.7,
            4.5,
            9.5,
            8.4,
            5.6,
            11.3,
            9.8,
            3.2,
            7.1,
            6,
            5.4,
            9.2,
            8.5,
            5.2,
            9.3,
            8.4,
            3.3,
            7.2,
            6.3,
            3.7,
            10.1,
            8.8,
            2.7,
            6.9,
            5.9,
            2.8,
            9,
            7.5,
            7.6,
            15.3,
            13.9,
            5.4,
            10.6,
            9.4
           ]
          }
         ],
         "name": "400"
        },
        {
         "data": [
          {
           "coloraxis": "coloraxis",
           "geo": "geo",
           "hovertemplate": "Child allowance=450<br>State=%{location}<br>Child poverty rate=%{z}<extra></extra>",
           "locationmode": "USA-states",
           "locations": [
            "AL",
            "AL",
            "AL",
            "AK",
            "AK",
            "AK",
            "AZ",
            "AZ",
            "AZ",
            "AR",
            "AR",
            "AR",
            "CA",
            "CA",
            "CA",
            "CO",
            "CO",
            "CO",
            "CT",
            "CT",
            "CT",
            "DE",
            "DE",
            "DE",
            "FL",
            "FL",
            "FL",
            "GA",
            "GA",
            "GA",
            "HI",
            "HI",
            "HI",
            "ID",
            "ID",
            "ID",
            "IL",
            "IL",
            "IL",
            "IN",
            "IN",
            "IN",
            "IA",
            "IA",
            "IA",
            "KS",
            "KS",
            "KS",
            "KY",
            "KY",
            "KY",
            "LA",
            "LA",
            "LA",
            "ME",
            "ME",
            "ME",
            "MD",
            "MD",
            "MD",
            "MA",
            "MA",
            "MA",
            "MI",
            "MI",
            "MI",
            "MN",
            "MN",
            "MN",
            "MS",
            "MS",
            "MS",
            "MO",
            "MO",
            "MO",
            "MT",
            "MT",
            "MT",
            "NE",
            "NE",
            "NE",
            "NV",
            "NV",
            "NV",
            "NH",
            "NH",
            "NH",
            "NJ",
            "NJ",
            "NJ",
            "NM",
            "NM",
            "NM",
            "NY",
            "NY",
            "NY",
            "NC",
            "NC",
            "NC",
            "ND",
            "ND",
            "ND",
            "OH",
            "OH",
            "OH",
            "OK",
            "OK",
            "OK",
            "OR",
            "OR",
            "OR",
            "PA",
            "PA",
            "PA",
            "RI",
            "RI",
            "RI",
            "SC",
            "SC",
            "SC",
            "SD",
            "SD",
            "SD",
            "TN",
            "TN",
            "TN",
            "TX",
            "TX",
            "TX",
            "UT",
            "UT",
            "UT",
            "VT",
            "VT",
            "VT",
            "VA",
            "VA",
            "VA",
            "WA",
            "WA",
            "WA",
            "WV",
            "WV",
            "WV",
            "WI",
            "WI",
            "WI",
            "WY",
            "WY",
            "WY",
            "DC",
            "DC",
            "DC",
            "US",
            "US",
            "US"
           ],
           "name": "",
           "type": "choropleth",
           "z": [
            5,
            10.1,
            9,
            7.4,
            10.8,
            9.9,
            3.3,
            9.3,
            7.9,
            3.9,
            11.7,
            9.8,
            7.3,
            13.8,
            12.3,
            4.1,
            10.2,
            8.8,
            6.1,
            9,
            8.4,
            4,
            9.2,
            8.1,
            6.7,
            13.2,
            11.9,
            5.4,
            10.8,
            9.5,
            4.6,
            11.1,
            9.7,
            1.9,
            7.7,
            6.2,
            3.8,
            9.3,
            8.1,
            3.8,
            7.8,
            6.8,
            2.2,
            6.2,
            5.3,
            2.2,
            6.6,
            5.5,
            3,
            10.1,
            8.5,
            5.4,
            12.5,
            10.8,
            4.1,
            8.6,
            7.7,
            4.3,
            11.4,
            9.9,
            3.7,
            10.2,
            8.9,
            3.8,
            8.5,
            7.5,
            1.8,
            6.3,
            5.2,
            5.1,
            12.3,
            10.6,
            2.3,
            7.6,
            6.4,
            3.3,
            8.5,
            7.4,
            3.6,
            7.3,
            6.4,
            4.4,
            11.5,
            9.9,
            2.8,
            7.5,
            6.6,
            5.6,
            10.9,
            9.7,
            3.8,
            10.8,
            9.2,
            7.2,
            12.6,
            11.5,
            4.1,
            10.8,
            9.3,
            2.5,
            8,
            6.7,
            2.9,
            8.2,
            7,
            3.1,
            9.2,
            7.6,
            3.7,
            10.2,
            8.8,
            5,
            9,
            8.2,
            3.8,
            6.2,
            5.7,
            5.1,
            11,
            9.7,
            2.7,
            7.7,
            6.4,
            4,
            9.4,
            8.2,
            4.9,
            11.1,
            9.5,
            3,
            7.1,
            5.9,
            4.9,
            9.1,
            8.3,
            4.5,
            9.1,
            8.1,
            2.7,
            7.1,
            6.1,
            3.2,
            10,
            8.6,
            2.3,
            6.8,
            5.8,
            2.7,
            8.9,
            7.5,
            6.9,
            15.2,
            13.6,
            4.8,
            10.5,
            9.2
           ]
          }
         ],
         "name": "450"
        },
        {
         "data": [
          {
           "coloraxis": "coloraxis",
           "geo": "geo",
           "hovertemplate": "Child allowance=500<br>State=%{location}<br>Child poverty rate=%{z}<extra></extra>",
           "locationmode": "USA-states",
           "locations": [
            "AL",
            "AL",
            "AL",
            "AK",
            "AK",
            "AK",
            "AZ",
            "AZ",
            "AZ",
            "AR",
            "AR",
            "AR",
            "CA",
            "CA",
            "CA",
            "CO",
            "CO",
            "CO",
            "CT",
            "CT",
            "CT",
            "DE",
            "DE",
            "DE",
            "FL",
            "FL",
            "FL",
            "GA",
            "GA",
            "GA",
            "HI",
            "HI",
            "HI",
            "ID",
            "ID",
            "ID",
            "IL",
            "IL",
            "IL",
            "IN",
            "IN",
            "IN",
            "IA",
            "IA",
            "IA",
            "KS",
            "KS",
            "KS",
            "KY",
            "KY",
            "KY",
            "LA",
            "LA",
            "LA",
            "ME",
            "ME",
            "ME",
            "MD",
            "MD",
            "MD",
            "MA",
            "MA",
            "MA",
            "MI",
            "MI",
            "MI",
            "MN",
            "MN",
            "MN",
            "MS",
            "MS",
            "MS",
            "MO",
            "MO",
            "MO",
            "MT",
            "MT",
            "MT",
            "NE",
            "NE",
            "NE",
            "NV",
            "NV",
            "NV",
            "NH",
            "NH",
            "NH",
            "NJ",
            "NJ",
            "NJ",
            "NM",
            "NM",
            "NM",
            "NY",
            "NY",
            "NY",
            "NC",
            "NC",
            "NC",
            "ND",
            "ND",
            "ND",
            "OH",
            "OH",
            "OH",
            "OK",
            "OK",
            "OK",
            "OR",
            "OR",
            "OR",
            "PA",
            "PA",
            "PA",
            "RI",
            "RI",
            "RI",
            "SC",
            "SC",
            "SC",
            "SD",
            "SD",
            "SD",
            "TN",
            "TN",
            "TN",
            "TX",
            "TX",
            "TX",
            "UT",
            "UT",
            "UT",
            "VT",
            "VT",
            "VT",
            "VA",
            "VA",
            "VA",
            "WA",
            "WA",
            "WA",
            "WV",
            "WV",
            "WV",
            "WI",
            "WI",
            "WI",
            "WY",
            "WY",
            "WY",
            "DC",
            "DC",
            "DC",
            "US",
            "US",
            "US"
           ],
           "name": "",
           "type": "choropleth",
           "z": [
            4.8,
            10.1,
            8.9,
            6.7,
            10.6,
            9.6,
            3.1,
            9.3,
            7.8,
            3.2,
            11.5,
            9.5,
            6.7,
            13.7,
            12.1,
            3.8,
            10.1,
            8.7,
            5.7,
            8.8,
            8.2,
            3.9,
            9.1,
            8,
            6,
            13,
            11.6,
            4.8,
            10.7,
            9.2,
            3.6,
            10.9,
            9.3,
            1.8,
            7.7,
            6.2,
            3.4,
            9.3,
            7.9,
            3.2,
            7.7,
            6.6,
            2,
            6.1,
            5.1,
            2.1,
            6.5,
            5.4,
            2.8,
            10,
            8.4,
            4.6,
            12.3,
            10.4,
            3.8,
            8.6,
            7.7,
            4.1,
            11.4,
            9.8,
            3.3,
            10.1,
            8.7,
            3.6,
            8.5,
            7.4,
            1.2,
            6.2,
            5,
            4.4,
            12.1,
            10.2,
            2.1,
            7.6,
            6.3,
            2.6,
            8.4,
            7.1,
            3.3,
            7.3,
            6.3,
            4.2,
            11.5,
            9.8,
            2.2,
            7.4,
            6.4,
            4.9,
            10.7,
            9.4,
            3.2,
            10.6,
            8.9,
            6.3,
            12.5,
            11.2,
            3.5,
            10.6,
            9,
            2.5,
            8,
            6.7,
            2.6,
            8.1,
            6.9,
            2.8,
            9.1,
            7.5,
            3,
            10.1,
            8.6,
            4.3,
            8.8,
            7.8,
            2.7,
            6.1,
            5.4,
            4.8,
            10.9,
            9.6,
            2.3,
            7.6,
            6.2,
            3.9,
            9.3,
            8.1,
            4.3,
            10.9,
            9.2,
            2.9,
            7.1,
            5.9,
            4.5,
            9.2,
            8.3,
            4.1,
            9.1,
            8,
            2.6,
            7.1,
            6.1,
            2.6,
            9.9,
            8.4,
            2.2,
            6.8,
            5.8,
            2.2,
            8.8,
            7.2,
            5.9,
            15,
            13.3,
            4.3,
            10.4,
            9
           ]
          }
         ],
         "name": "500"
        }
       ],
       "layout": {
        "coloraxis": {
         "cmax": 22,
         "cmin": 0,
         "colorbar": {
          "title": {
           "text": "Child poverty rate"
          }
         },
         "colorscale": [
          [
           0,
           "rgb(255,245,240)"
          ],
          [
           0.125,
           "rgb(254,224,210)"
          ],
          [
           0.25,
           "rgb(252,187,161)"
          ],
          [
           0.375,
           "rgb(252,146,114)"
          ],
          [
           0.5,
           "rgb(251,106,74)"
          ],
          [
           0.625,
           "rgb(239,59,44)"
          ],
          [
           0.75,
           "rgb(203,24,29)"
          ],
          [
           0.875,
           "rgb(165,15,21)"
          ],
          [
           1,
           "rgb(103,0,13)"
          ]
         ],
         "showscale": false
        },
        "font": {
         "family": "Roboto"
        },
        "geo": {
         "center": {},
         "domain": {
          "x": [
           0,
           1
          ],
          "y": [
           0,
           1
          ]
         },
         "scope": "usa"
        },
        "height": 600,
        "legend": {
         "tracegroupgap": 0
        },
        "sliders": [
         {
          "active": 0,
          "currentvalue": {
           "prefix": "Child allowance="
          },
          "len": 0.9,
          "pad": {
           "b": 10,
           "t": 60
          },
          "steps": [
           {
            "args": [
             [
              "0"
             ],
             {
              "frame": {
               "duration": 0,
               "redraw": true
              },
              "fromcurrent": true,
              "mode": "immediate",
              "transition": {
               "duration": 0,
               "easing": "linear"
              }
             }
            ],
            "label": "0",
            "method": "animate"
           },
           {
            "args": [
             [
              "50"
             ],
             {
              "frame": {
               "duration": 0,
               "redraw": true
              },
              "fromcurrent": true,
              "mode": "immediate",
              "transition": {
               "duration": 0,
               "easing": "linear"
              }
             }
            ],
            "label": "50",
            "method": "animate"
           },
           {
            "args": [
             [
              "100"
             ],
             {
              "frame": {
               "duration": 0,
               "redraw": true
              },
              "fromcurrent": true,
              "mode": "immediate",
              "transition": {
               "duration": 0,
               "easing": "linear"
              }
             }
            ],
            "label": "100",
            "method": "animate"
           },
           {
            "args": [
             [
              "150"
             ],
             {
              "frame": {
               "duration": 0,
               "redraw": true
              },
              "fromcurrent": true,
              "mode": "immediate",
              "transition": {
               "duration": 0,
               "easing": "linear"
              }
             }
            ],
            "label": "150",
            "method": "animate"
           },
           {
            "args": [
             [
              "200"
             ],
             {
              "frame": {
               "duration": 0,
               "redraw": true
              },
              "fromcurrent": true,
              "mode": "immediate",
              "transition": {
               "duration": 0,
               "easing": "linear"
              }
             }
            ],
            "label": "200",
            "method": "animate"
           },
           {
            "args": [
             [
              "250"
             ],
             {
              "frame": {
               "duration": 0,
               "redraw": true
              },
              "fromcurrent": true,
              "mode": "immediate",
              "transition": {
               "duration": 0,
               "easing": "linear"
              }
             }
            ],
            "label": "250",
            "method": "animate"
           },
           {
            "args": [
             [
              "300"
             ],
             {
              "frame": {
               "duration": 0,
               "redraw": true
              },
              "fromcurrent": true,
              "mode": "immediate",
              "transition": {
               "duration": 0,
               "easing": "linear"
              }
             }
            ],
            "label": "300",
            "method": "animate"
           },
           {
            "args": [
             [
              "350"
             ],
             {
              "frame": {
               "duration": 0,
               "redraw": true
              },
              "fromcurrent": true,
              "mode": "immediate",
              "transition": {
               "duration": 0,
               "easing": "linear"
              }
             }
            ],
            "label": "350",
            "method": "animate"
           },
           {
            "args": [
             [
              "400"
             ],
             {
              "frame": {
               "duration": 0,
               "redraw": true
              },
              "fromcurrent": true,
              "mode": "immediate",
              "transition": {
               "duration": 0,
               "easing": "linear"
              }
             }
            ],
            "label": "400",
            "method": "animate"
           },
           {
            "args": [
             [
              "450"
             ],
             {
              "frame": {
               "duration": 0,
               "redraw": true
              },
              "fromcurrent": true,
              "mode": "immediate",
              "transition": {
               "duration": 0,
               "easing": "linear"
              }
             }
            ],
            "label": "450",
            "method": "animate"
           },
           {
            "args": [
             [
              "500"
             ],
             {
              "frame": {
               "duration": 0,
               "redraw": true
              },
              "fromcurrent": true,
              "mode": "immediate",
              "transition": {
               "duration": 0,
               "easing": "linear"
              }
             }
            ],
            "label": "500",
            "method": "animate"
           }
          ],
          "x": 0.1,
          "xanchor": "left",
          "y": 0,
          "yanchor": "top"
         }
        ],
        "template": {
         "data": {
          "bar": [
           {
            "error_x": {
             "color": "#2a3f5f"
            },
            "error_y": {
             "color": "#2a3f5f"
            },
            "marker": {
             "line": {
              "color": "#E5ECF6",
              "width": 0.5
             }
            },
            "type": "bar"
           }
          ],
          "barpolar": [
           {
            "marker": {
             "line": {
              "color": "#E5ECF6",
              "width": 0.5
             }
            },
            "type": "barpolar"
           }
          ],
          "carpet": [
           {
            "aaxis": {
             "endlinecolor": "#2a3f5f",
             "gridcolor": "white",
             "linecolor": "white",
             "minorgridcolor": "white",
             "startlinecolor": "#2a3f5f"
            },
            "baxis": {
             "endlinecolor": "#2a3f5f",
             "gridcolor": "white",
             "linecolor": "white",
             "minorgridcolor": "white",
             "startlinecolor": "#2a3f5f"
            },
            "type": "carpet"
           }
          ],
          "choropleth": [
           {
            "colorbar": {
             "outlinewidth": 0,
             "ticks": ""
            },
            "type": "choropleth"
           }
          ],
          "contour": [
           {
            "colorbar": {
             "outlinewidth": 0,
             "ticks": ""
            },
            "colorscale": [
             [
              0,
              "#0d0887"
             ],
             [
              0.1111111111111111,
              "#46039f"
             ],
             [
              0.2222222222222222,
              "#7201a8"
             ],
             [
              0.3333333333333333,
              "#9c179e"
             ],
             [
              0.4444444444444444,
              "#bd3786"
             ],
             [
              0.5555555555555556,
              "#d8576b"
             ],
             [
              0.6666666666666666,
              "#ed7953"
             ],
             [
              0.7777777777777778,
              "#fb9f3a"
             ],
             [
              0.8888888888888888,
              "#fdca26"
             ],
             [
              1,
              "#f0f921"
             ]
            ],
            "type": "contour"
           }
          ],
          "contourcarpet": [
           {
            "colorbar": {
             "outlinewidth": 0,
             "ticks": ""
            },
            "type": "contourcarpet"
           }
          ],
          "heatmap": [
           {
            "colorbar": {
             "outlinewidth": 0,
             "ticks": ""
            },
            "colorscale": [
             [
              0,
              "#0d0887"
             ],
             [
              0.1111111111111111,
              "#46039f"
             ],
             [
              0.2222222222222222,
              "#7201a8"
             ],
             [
              0.3333333333333333,
              "#9c179e"
             ],
             [
              0.4444444444444444,
              "#bd3786"
             ],
             [
              0.5555555555555556,
              "#d8576b"
             ],
             [
              0.6666666666666666,
              "#ed7953"
             ],
             [
              0.7777777777777778,
              "#fb9f3a"
             ],
             [
              0.8888888888888888,
              "#fdca26"
             ],
             [
              1,
              "#f0f921"
             ]
            ],
            "type": "heatmap"
           }
          ],
          "heatmapgl": [
           {
            "colorbar": {
             "outlinewidth": 0,
             "ticks": ""
            },
            "colorscale": [
             [
              0,
              "#0d0887"
             ],
             [
              0.1111111111111111,
              "#46039f"
             ],
             [
              0.2222222222222222,
              "#7201a8"
             ],
             [
              0.3333333333333333,
              "#9c179e"
             ],
             [
              0.4444444444444444,
              "#bd3786"
             ],
             [
              0.5555555555555556,
              "#d8576b"
             ],
             [
              0.6666666666666666,
              "#ed7953"
             ],
             [
              0.7777777777777778,
              "#fb9f3a"
             ],
             [
              0.8888888888888888,
              "#fdca26"
             ],
             [
              1,
              "#f0f921"
             ]
            ],
            "type": "heatmapgl"
           }
          ],
          "histogram": [
           {
            "marker": {
             "colorbar": {
              "outlinewidth": 0,
              "ticks": ""
             }
            },
            "type": "histogram"
           }
          ],
          "histogram2d": [
           {
            "colorbar": {
             "outlinewidth": 0,
             "ticks": ""
            },
            "colorscale": [
             [
              0,
              "#0d0887"
             ],
             [
              0.1111111111111111,
              "#46039f"
             ],
             [
              0.2222222222222222,
              "#7201a8"
             ],
             [
              0.3333333333333333,
              "#9c179e"
             ],
             [
              0.4444444444444444,
              "#bd3786"
             ],
             [
              0.5555555555555556,
              "#d8576b"
             ],
             [
              0.6666666666666666,
              "#ed7953"
             ],
             [
              0.7777777777777778,
              "#fb9f3a"
             ],
             [
              0.8888888888888888,
              "#fdca26"
             ],
             [
              1,
              "#f0f921"
             ]
            ],
            "type": "histogram2d"
           }
          ],
          "histogram2dcontour": [
           {
            "colorbar": {
             "outlinewidth": 0,
             "ticks": ""
            },
            "colorscale": [
             [
              0,
              "#0d0887"
             ],
             [
              0.1111111111111111,
              "#46039f"
             ],
             [
              0.2222222222222222,
              "#7201a8"
             ],
             [
              0.3333333333333333,
              "#9c179e"
             ],
             [
              0.4444444444444444,
              "#bd3786"
             ],
             [
              0.5555555555555556,
              "#d8576b"
             ],
             [
              0.6666666666666666,
              "#ed7953"
             ],
             [
              0.7777777777777778,
              "#fb9f3a"
             ],
             [
              0.8888888888888888,
              "#fdca26"
             ],
             [
              1,
              "#f0f921"
             ]
            ],
            "type": "histogram2dcontour"
           }
          ],
          "mesh3d": [
           {
            "colorbar": {
             "outlinewidth": 0,
             "ticks": ""
            },
            "type": "mesh3d"
           }
          ],
          "parcoords": [
           {
            "line": {
             "colorbar": {
              "outlinewidth": 0,
              "ticks": ""
             }
            },
            "type": "parcoords"
           }
          ],
          "pie": [
           {
            "automargin": true,
            "type": "pie"
           }
          ],
          "scatter": [
           {
            "marker": {
             "colorbar": {
              "outlinewidth": 0,
              "ticks": ""
             }
            },
            "type": "scatter"
           }
          ],
          "scatter3d": [
           {
            "line": {
             "colorbar": {
              "outlinewidth": 0,
              "ticks": ""
             }
            },
            "marker": {
             "colorbar": {
              "outlinewidth": 0,
              "ticks": ""
             }
            },
            "type": "scatter3d"
           }
          ],
          "scattercarpet": [
           {
            "marker": {
             "colorbar": {
              "outlinewidth": 0,
              "ticks": ""
             }
            },
            "type": "scattercarpet"
           }
          ],
          "scattergeo": [
           {
            "marker": {
             "colorbar": {
              "outlinewidth": 0,
              "ticks": ""
             }
            },
            "type": "scattergeo"
           }
          ],
          "scattergl": [
           {
            "marker": {
             "colorbar": {
              "outlinewidth": 0,
              "ticks": ""
             }
            },
            "type": "scattergl"
           }
          ],
          "scattermapbox": [
           {
            "marker": {
             "colorbar": {
              "outlinewidth": 0,
              "ticks": ""
             }
            },
            "type": "scattermapbox"
           }
          ],
          "scatterpolar": [
           {
            "marker": {
             "colorbar": {
              "outlinewidth": 0,
              "ticks": ""
             }
            },
            "type": "scatterpolar"
           }
          ],
          "scatterpolargl": [
           {
            "marker": {
             "colorbar": {
              "outlinewidth": 0,
              "ticks": ""
             }
            },
            "type": "scatterpolargl"
           }
          ],
          "scatterternary": [
           {
            "marker": {
             "colorbar": {
              "outlinewidth": 0,
              "ticks": ""
             }
            },
            "type": "scatterternary"
           }
          ],
          "surface": [
           {
            "colorbar": {
             "outlinewidth": 0,
             "ticks": ""
            },
            "colorscale": [
             [
              0,
              "#0d0887"
             ],
             [
              0.1111111111111111,
              "#46039f"
             ],
             [
              0.2222222222222222,
              "#7201a8"
             ],
             [
              0.3333333333333333,
              "#9c179e"
             ],
             [
              0.4444444444444444,
              "#bd3786"
             ],
             [
              0.5555555555555556,
              "#d8576b"
             ],
             [
              0.6666666666666666,
              "#ed7953"
             ],
             [
              0.7777777777777778,
              "#fb9f3a"
             ],
             [
              0.8888888888888888,
              "#fdca26"
             ],
             [
              1,
              "#f0f921"
             ]
            ],
            "type": "surface"
           }
          ],
          "table": [
           {
            "cells": {
             "fill": {
              "color": "#EBF0F8"
             },
             "line": {
              "color": "white"
             }
            },
            "header": {
             "fill": {
              "color": "#C8D4E3"
             },
             "line": {
              "color": "white"
             }
            },
            "type": "table"
           }
          ]
         },
         "layout": {
          "annotationdefaults": {
           "arrowcolor": "#2a3f5f",
           "arrowhead": 0,
           "arrowwidth": 1
          },
          "coloraxis": {
           "colorbar": {
            "outlinewidth": 0,
            "ticks": ""
           }
          },
          "colorscale": {
           "diverging": [
            [
             0,
             "#8e0152"
            ],
            [
             0.1,
             "#c51b7d"
            ],
            [
             0.2,
             "#de77ae"
            ],
            [
             0.3,
             "#f1b6da"
            ],
            [
             0.4,
             "#fde0ef"
            ],
            [
             0.5,
             "#f7f7f7"
            ],
            [
             0.6,
             "#e6f5d0"
            ],
            [
             0.7,
             "#b8e186"
            ],
            [
             0.8,
             "#7fbc41"
            ],
            [
             0.9,
             "#4d9221"
            ],
            [
             1,
             "#276419"
            ]
           ],
           "sequential": [
            [
             0,
             "#0d0887"
            ],
            [
             0.1111111111111111,
             "#46039f"
            ],
            [
             0.2222222222222222,
             "#7201a8"
            ],
            [
             0.3333333333333333,
             "#9c179e"
            ],
            [
             0.4444444444444444,
             "#bd3786"
            ],
            [
             0.5555555555555556,
             "#d8576b"
            ],
            [
             0.6666666666666666,
             "#ed7953"
            ],
            [
             0.7777777777777778,
             "#fb9f3a"
            ],
            [
             0.8888888888888888,
             "#fdca26"
            ],
            [
             1,
             "#f0f921"
            ]
           ],
           "sequentialminus": [
            [
             0,
             "#0d0887"
            ],
            [
             0.1111111111111111,
             "#46039f"
            ],
            [
             0.2222222222222222,
             "#7201a8"
            ],
            [
             0.3333333333333333,
             "#9c179e"
            ],
            [
             0.4444444444444444,
             "#bd3786"
            ],
            [
             0.5555555555555556,
             "#d8576b"
            ],
            [
             0.6666666666666666,
             "#ed7953"
            ],
            [
             0.7777777777777778,
             "#fb9f3a"
            ],
            [
             0.8888888888888888,
             "#fdca26"
            ],
            [
             1,
             "#f0f921"
            ]
           ]
          },
          "colorway": [
           "#636efa",
           "#EF553B",
           "#00cc96",
           "#ab63fa",
           "#FFA15A",
           "#19d3f3",
           "#FF6692",
           "#B6E880",
           "#FF97FF",
           "#FECB52"
          ],
          "font": {
           "color": "#2a3f5f"
          },
          "geo": {
           "bgcolor": "white",
           "lakecolor": "white",
           "landcolor": "#E5ECF6",
           "showlakes": true,
           "showland": true,
           "subunitcolor": "white"
          },
          "hoverlabel": {
           "align": "left"
          },
          "hovermode": "closest",
          "mapbox": {
           "style": "light"
          },
          "paper_bgcolor": "white",
          "plot_bgcolor": "#E5ECF6",
          "polar": {
           "angularaxis": {
            "gridcolor": "white",
            "linecolor": "white",
            "ticks": ""
           },
           "bgcolor": "#E5ECF6",
           "radialaxis": {
            "gridcolor": "white",
            "linecolor": "white",
            "ticks": ""
           }
          },
          "scene": {
           "xaxis": {
            "backgroundcolor": "#E5ECF6",
            "gridcolor": "white",
            "gridwidth": 2,
            "linecolor": "white",
            "showbackground": true,
            "ticks": "",
            "zerolinecolor": "white"
           },
           "yaxis": {
            "backgroundcolor": "#E5ECF6",
            "gridcolor": "white",
            "gridwidth": 2,
            "linecolor": "white",
            "showbackground": true,
            "ticks": "",
            "zerolinecolor": "white"
           },
           "zaxis": {
            "backgroundcolor": "#E5ECF6",
            "gridcolor": "white",
            "gridwidth": 2,
            "linecolor": "white",
            "showbackground": true,
            "ticks": "",
            "zerolinecolor": "white"
           }
          },
          "shapedefaults": {
           "line": {
            "color": "#2a3f5f"
           }
          },
          "ternary": {
           "aaxis": {
            "gridcolor": "white",
            "linecolor": "white",
            "ticks": ""
           },
           "baxis": {
            "gridcolor": "white",
            "linecolor": "white",
            "ticks": ""
           },
           "bgcolor": "#E5ECF6",
           "caxis": {
            "gridcolor": "white",
            "linecolor": "white",
            "ticks": ""
           }
          },
          "title": {
           "x": 0.05
          },
          "xaxis": {
           "automargin": true,
           "gridcolor": "white",
           "linecolor": "white",
           "ticks": "",
           "title": {
            "standoff": 15
           },
           "zerolinecolor": "white",
           "zerolinewidth": 2
          },
          "yaxis": {
           "automargin": true,
           "gridcolor": "white",
           "linecolor": "white",
           "ticks": "",
           "title": {
            "standoff": 15
           },
           "zerolinecolor": "white",
           "zerolinewidth": 2
          }
         }
        },
        "title": {
         "text": "Child poverty with federally funded tax reform"
        },
        "updatemenus": [
         {
          "buttons": [
           {
            "args": [
             null,
             {
              "frame": {
               "duration": 500,
               "redraw": true
              },
              "fromcurrent": true,
              "mode": "immediate",
              "transition": {
               "duration": 500,
               "easing": "linear"
              }
             }
            ],
            "label": "&#9654;",
            "method": "animate"
           },
           {
            "args": [
             [
              null
             ],
             {
              "frame": {
               "duration": 0,
               "redraw": true
              },
              "fromcurrent": true,
              "mode": "immediate",
              "transition": {
               "duration": 0,
               "easing": "linear"
              }
             }
            ],
            "label": "&#9724;",
            "method": "animate"
           }
          ],
          "direction": "left",
          "pad": {
           "r": 10,
           "t": 70
          },
          "showactive": false,
          "type": "buttons",
          "x": 0.1,
          "xanchor": "right",
          "y": 0,
          "yanchor": "top"
         }
        ]
       }
      },
      "text/html": [
       "<div>\n",
       "        \n",
       "        \n",
       "            <div id=\"1226b139-b894-46ab-80d3-28a6e093743d\" class=\"plotly-graph-div\" style=\"height:600px; width:100%;\"></div>\n",
       "            <script type=\"text/javascript\">\n",
       "                require([\"plotly\"], function(Plotly) {\n",
       "                    window.PLOTLYENV=window.PLOTLYENV || {};\n",
       "                    \n",
       "                if (document.getElementById(\"1226b139-b894-46ab-80d3-28a6e093743d\")) {\n",
       "                    Plotly.newPlot(\n",
       "                        '1226b139-b894-46ab-80d3-28a6e093743d',\n",
       "                        [{\"coloraxis\": \"coloraxis\", \"geo\": \"geo\", \"hovertemplate\": \"Child allowance=0<br>State=%{location}<br>Child poverty rate=%{z}<extra></extra>\", \"locationmode\": \"USA-states\", \"locations\": [\"AL\", \"AL\", \"AL\", \"AK\", \"AK\", \"AK\", \"AZ\", \"AZ\", \"AZ\", \"AR\", \"AR\", \"AR\", \"CA\", \"CA\", \"CA\", \"CO\", \"CO\", \"CO\", \"CT\", \"CT\", \"CT\", \"DE\", \"DE\", \"DE\", \"FL\", \"FL\", \"FL\", \"GA\", \"GA\", \"GA\", \"HI\", \"HI\", \"HI\", \"ID\", \"ID\", \"ID\", \"IL\", \"IL\", \"IL\", \"IN\", \"IN\", \"IN\", \"IA\", \"IA\", \"IA\", \"KS\", \"KS\", \"KS\", \"KY\", \"KY\", \"KY\", \"LA\", \"LA\", \"LA\", \"ME\", \"ME\", \"ME\", \"MD\", \"MD\", \"MD\", \"MA\", \"MA\", \"MA\", \"MI\", \"MI\", \"MI\", \"MN\", \"MN\", \"MN\", \"MS\", \"MS\", \"MS\", \"MO\", \"MO\", \"MO\", \"MT\", \"MT\", \"MT\", \"NE\", \"NE\", \"NE\", \"NV\", \"NV\", \"NV\", \"NH\", \"NH\", \"NH\", \"NJ\", \"NJ\", \"NJ\", \"NM\", \"NM\", \"NM\", \"NY\", \"NY\", \"NY\", \"NC\", \"NC\", \"NC\", \"ND\", \"ND\", \"ND\", \"OH\", \"OH\", \"OH\", \"OK\", \"OK\", \"OK\", \"OR\", \"OR\", \"OR\", \"PA\", \"PA\", \"PA\", \"RI\", \"RI\", \"RI\", \"SC\", \"SC\", \"SC\", \"SD\", \"SD\", \"SD\", \"TN\", \"TN\", \"TN\", \"TX\", \"TX\", \"TX\", \"UT\", \"UT\", \"UT\", \"VT\", \"VT\", \"VT\", \"VA\", \"VA\", \"VA\", \"WA\", \"WA\", \"WA\", \"WV\", \"WV\", \"WV\", \"WI\", \"WI\", \"WI\", \"WY\", \"WY\", \"WY\", \"DC\", \"DC\", \"DC\", \"US\", \"US\", \"US\"], \"name\": \"\", \"type\": \"choropleth\", \"z\": [14.8, 12.1, 12.7, 14.3, 12.9, 13.3, 13.0, 11.7, 12.0, 12.5, 13.3, 13.1, 19.6, 16.8, 17.4, 11.4, 11.8, 11.7, 13.6, 10.7, 11.3, 10.4, 10.6, 10.6, 18.4, 15.3, 16.0, 15.5, 13.1, 13.7, 15.6, 13.3, 13.8, 7.1, 8.7, 8.3, 12.5, 11.1, 11.4, 12.6, 9.7, 10.4, 8.1, 7.3, 7.5, 7.3, 7.6, 7.5, 10.3, 11.5, 11.2, 19.5, 15.6, 16.6, 9.6, 9.4, 9.4, 11.2, 12.8, 12.5, 10.7, 11.7, 11.5, 10.5, 9.9, 10.1, 5.3, 6.9, 6.6, 17.0, 14.9, 15.4, 8.8, 8.9, 8.9, 8.0, 9.3, 9.0, 9.7, 8.9, 9.1, 13.7, 13.5, 13.5, 8.1, 8.6, 8.5, 13.8, 12.8, 13.0, 13.9, 13.5, 13.6, 17.2, 14.6, 15.2, 14.9, 13.2, 13.6, 9.8, 9.5, 9.6, 11.3, 10.1, 10.3, 10.1, 10.9, 10.7, 10.3, 11.5, 11.3, 13.0, 10.7, 11.1, 10.1, 7.6, 8.1, 15.1, 12.8, 13.3, 9.1, 9.0, 9.1, 12.1, 10.9, 11.2, 15.3, 13.6, 14.1, 7.6, 8.5, 8.2, 12.4, 10.1, 10.6, 13.4, 11.3, 11.8, 8.8, 8.2, 8.4, 13.4, 12.3, 12.5, 8.2, 7.8, 7.9, 9.3, 10.2, 10.0, 17.3, 16.9, 17.0, 13.9, 12.5, 12.8]}],\n",
       "                        {\"coloraxis\": {\"cmax\": 22, \"cmin\": 0, \"colorbar\": {\"title\": {\"text\": \"Child poverty rate\"}}, \"colorscale\": [[0.0, \"rgb(255,245,240)\"], [0.125, \"rgb(254,224,210)\"], [0.25, \"rgb(252,187,161)\"], [0.375, \"rgb(252,146,114)\"], [0.5, \"rgb(251,106,74)\"], [0.625, \"rgb(239,59,44)\"], [0.75, \"rgb(203,24,29)\"], [0.875, \"rgb(165,15,21)\"], [1.0, \"rgb(103,0,13)\"]], \"showscale\": false}, \"font\": {\"family\": \"Roboto\"}, \"geo\": {\"center\": {}, \"domain\": {\"x\": [0.0, 1.0], \"y\": [0.0, 1.0]}, \"scope\": \"usa\"}, \"height\": 600, \"legend\": {\"tracegroupgap\": 0}, \"sliders\": [{\"active\": 0, \"currentvalue\": {\"prefix\": \"Child allowance=\"}, \"len\": 0.9, \"pad\": {\"b\": 10, \"t\": 60}, \"steps\": [{\"args\": [[\"0\"], {\"frame\": {\"duration\": 0, \"redraw\": true}, \"fromcurrent\": true, \"mode\": \"immediate\", \"transition\": {\"duration\": 0, \"easing\": \"linear\"}}], \"label\": \"0\", \"method\": \"animate\"}, {\"args\": [[\"50\"], {\"frame\": {\"duration\": 0, \"redraw\": true}, \"fromcurrent\": true, \"mode\": \"immediate\", \"transition\": {\"duration\": 0, \"easing\": \"linear\"}}], \"label\": \"50\", \"method\": \"animate\"}, {\"args\": [[\"100\"], {\"frame\": {\"duration\": 0, \"redraw\": true}, \"fromcurrent\": true, \"mode\": \"immediate\", \"transition\": {\"duration\": 0, \"easing\": \"linear\"}}], \"label\": \"100\", \"method\": \"animate\"}, {\"args\": [[\"150\"], {\"frame\": {\"duration\": 0, \"redraw\": true}, \"fromcurrent\": true, \"mode\": \"immediate\", \"transition\": {\"duration\": 0, \"easing\": \"linear\"}}], \"label\": \"150\", \"method\": \"animate\"}, {\"args\": [[\"200\"], {\"frame\": {\"duration\": 0, \"redraw\": true}, \"fromcurrent\": true, \"mode\": \"immediate\", \"transition\": {\"duration\": 0, \"easing\": \"linear\"}}], \"label\": \"200\", \"method\": \"animate\"}, {\"args\": [[\"250\"], {\"frame\": {\"duration\": 0, \"redraw\": true}, \"fromcurrent\": true, \"mode\": \"immediate\", \"transition\": {\"duration\": 0, \"easing\": \"linear\"}}], \"label\": \"250\", \"method\": \"animate\"}, {\"args\": [[\"300\"], {\"frame\": {\"duration\": 0, \"redraw\": true}, \"fromcurrent\": true, \"mode\": \"immediate\", \"transition\": {\"duration\": 0, \"easing\": \"linear\"}}], \"label\": \"300\", \"method\": \"animate\"}, {\"args\": [[\"350\"], {\"frame\": {\"duration\": 0, \"redraw\": true}, \"fromcurrent\": true, \"mode\": \"immediate\", \"transition\": {\"duration\": 0, \"easing\": \"linear\"}}], \"label\": \"350\", \"method\": \"animate\"}, {\"args\": [[\"400\"], {\"frame\": {\"duration\": 0, \"redraw\": true}, \"fromcurrent\": true, \"mode\": \"immediate\", \"transition\": {\"duration\": 0, \"easing\": \"linear\"}}], \"label\": \"400\", \"method\": \"animate\"}, {\"args\": [[\"450\"], {\"frame\": {\"duration\": 0, \"redraw\": true}, \"fromcurrent\": true, \"mode\": \"immediate\", \"transition\": {\"duration\": 0, \"easing\": \"linear\"}}], \"label\": \"450\", \"method\": \"animate\"}, {\"args\": [[\"500\"], {\"frame\": {\"duration\": 0, \"redraw\": true}, \"fromcurrent\": true, \"mode\": \"immediate\", \"transition\": {\"duration\": 0, \"easing\": \"linear\"}}], \"label\": \"500\", \"method\": \"animate\"}], \"x\": 0.1, \"xanchor\": \"left\", \"y\": 0, \"yanchor\": \"top\"}], \"template\": {\"data\": {\"bar\": [{\"error_x\": {\"color\": \"#2a3f5f\"}, \"error_y\": {\"color\": \"#2a3f5f\"}, \"marker\": {\"line\": {\"color\": \"#E5ECF6\", \"width\": 0.5}}, \"type\": \"bar\"}], \"barpolar\": [{\"marker\": {\"line\": {\"color\": \"#E5ECF6\", \"width\": 0.5}}, \"type\": \"barpolar\"}], \"carpet\": [{\"aaxis\": {\"endlinecolor\": \"#2a3f5f\", \"gridcolor\": \"white\", \"linecolor\": \"white\", \"minorgridcolor\": \"white\", \"startlinecolor\": \"#2a3f5f\"}, \"baxis\": {\"endlinecolor\": \"#2a3f5f\", \"gridcolor\": \"white\", \"linecolor\": \"white\", \"minorgridcolor\": \"white\", \"startlinecolor\": \"#2a3f5f\"}, \"type\": \"carpet\"}], \"choropleth\": [{\"colorbar\": {\"outlinewidth\": 0, \"ticks\": \"\"}, \"type\": \"choropleth\"}], \"contour\": [{\"colorbar\": {\"outlinewidth\": 0, \"ticks\": \"\"}, \"colorscale\": [[0.0, \"#0d0887\"], [0.1111111111111111, \"#46039f\"], [0.2222222222222222, \"#7201a8\"], [0.3333333333333333, \"#9c179e\"], [0.4444444444444444, \"#bd3786\"], [0.5555555555555556, \"#d8576b\"], [0.6666666666666666, \"#ed7953\"], [0.7777777777777778, \"#fb9f3a\"], [0.8888888888888888, \"#fdca26\"], [1.0, \"#f0f921\"]], \"type\": \"contour\"}], \"contourcarpet\": [{\"colorbar\": {\"outlinewidth\": 0, \"ticks\": \"\"}, \"type\": \"contourcarpet\"}], \"heatmap\": [{\"colorbar\": {\"outlinewidth\": 0, \"ticks\": \"\"}, \"colorscale\": [[0.0, \"#0d0887\"], [0.1111111111111111, \"#46039f\"], [0.2222222222222222, \"#7201a8\"], [0.3333333333333333, \"#9c179e\"], [0.4444444444444444, \"#bd3786\"], [0.5555555555555556, \"#d8576b\"], [0.6666666666666666, \"#ed7953\"], [0.7777777777777778, \"#fb9f3a\"], [0.8888888888888888, \"#fdca26\"], [1.0, \"#f0f921\"]], \"type\": \"heatmap\"}], \"heatmapgl\": [{\"colorbar\": {\"outlinewidth\": 0, \"ticks\": \"\"}, \"colorscale\": [[0.0, \"#0d0887\"], [0.1111111111111111, \"#46039f\"], [0.2222222222222222, \"#7201a8\"], [0.3333333333333333, \"#9c179e\"], [0.4444444444444444, \"#bd3786\"], [0.5555555555555556, \"#d8576b\"], [0.6666666666666666, \"#ed7953\"], [0.7777777777777778, \"#fb9f3a\"], [0.8888888888888888, \"#fdca26\"], [1.0, \"#f0f921\"]], \"type\": \"heatmapgl\"}], \"histogram\": [{\"marker\": {\"colorbar\": {\"outlinewidth\": 0, \"ticks\": \"\"}}, \"type\": \"histogram\"}], \"histogram2d\": [{\"colorbar\": {\"outlinewidth\": 0, \"ticks\": \"\"}, \"colorscale\": [[0.0, \"#0d0887\"], [0.1111111111111111, \"#46039f\"], [0.2222222222222222, \"#7201a8\"], [0.3333333333333333, \"#9c179e\"], [0.4444444444444444, \"#bd3786\"], [0.5555555555555556, \"#d8576b\"], [0.6666666666666666, \"#ed7953\"], [0.7777777777777778, \"#fb9f3a\"], [0.8888888888888888, \"#fdca26\"], [1.0, \"#f0f921\"]], \"type\": \"histogram2d\"}], \"histogram2dcontour\": [{\"colorbar\": {\"outlinewidth\": 0, \"ticks\": \"\"}, \"colorscale\": [[0.0, \"#0d0887\"], [0.1111111111111111, \"#46039f\"], [0.2222222222222222, \"#7201a8\"], [0.3333333333333333, \"#9c179e\"], [0.4444444444444444, \"#bd3786\"], [0.5555555555555556, \"#d8576b\"], [0.6666666666666666, \"#ed7953\"], [0.7777777777777778, \"#fb9f3a\"], [0.8888888888888888, \"#fdca26\"], [1.0, \"#f0f921\"]], \"type\": \"histogram2dcontour\"}], \"mesh3d\": [{\"colorbar\": {\"outlinewidth\": 0, \"ticks\": \"\"}, \"type\": \"mesh3d\"}], \"parcoords\": [{\"line\": {\"colorbar\": {\"outlinewidth\": 0, \"ticks\": \"\"}}, \"type\": \"parcoords\"}], \"pie\": [{\"automargin\": true, \"type\": \"pie\"}], \"scatter\": [{\"marker\": {\"colorbar\": {\"outlinewidth\": 0, \"ticks\": \"\"}}, \"type\": \"scatter\"}], \"scatter3d\": [{\"line\": {\"colorbar\": {\"outlinewidth\": 0, \"ticks\": \"\"}}, \"marker\": {\"colorbar\": {\"outlinewidth\": 0, \"ticks\": \"\"}}, \"type\": \"scatter3d\"}], \"scattercarpet\": [{\"marker\": {\"colorbar\": {\"outlinewidth\": 0, \"ticks\": \"\"}}, \"type\": \"scattercarpet\"}], \"scattergeo\": [{\"marker\": {\"colorbar\": {\"outlinewidth\": 0, \"ticks\": \"\"}}, \"type\": \"scattergeo\"}], \"scattergl\": [{\"marker\": {\"colorbar\": {\"outlinewidth\": 0, \"ticks\": \"\"}}, \"type\": \"scattergl\"}], \"scattermapbox\": [{\"marker\": {\"colorbar\": {\"outlinewidth\": 0, \"ticks\": \"\"}}, \"type\": \"scattermapbox\"}], \"scatterpolar\": [{\"marker\": {\"colorbar\": {\"outlinewidth\": 0, \"ticks\": \"\"}}, \"type\": \"scatterpolar\"}], \"scatterpolargl\": [{\"marker\": {\"colorbar\": {\"outlinewidth\": 0, \"ticks\": \"\"}}, \"type\": \"scatterpolargl\"}], \"scatterternary\": [{\"marker\": {\"colorbar\": {\"outlinewidth\": 0, \"ticks\": \"\"}}, \"type\": \"scatterternary\"}], \"surface\": [{\"colorbar\": {\"outlinewidth\": 0, \"ticks\": \"\"}, \"colorscale\": [[0.0, \"#0d0887\"], [0.1111111111111111, \"#46039f\"], [0.2222222222222222, \"#7201a8\"], [0.3333333333333333, \"#9c179e\"], [0.4444444444444444, \"#bd3786\"], [0.5555555555555556, \"#d8576b\"], [0.6666666666666666, \"#ed7953\"], [0.7777777777777778, \"#fb9f3a\"], [0.8888888888888888, \"#fdca26\"], [1.0, \"#f0f921\"]], \"type\": \"surface\"}], \"table\": [{\"cells\": {\"fill\": {\"color\": \"#EBF0F8\"}, \"line\": {\"color\": \"white\"}}, \"header\": {\"fill\": {\"color\": \"#C8D4E3\"}, \"line\": {\"color\": \"white\"}}, \"type\": \"table\"}]}, \"layout\": {\"annotationdefaults\": {\"arrowcolor\": \"#2a3f5f\", \"arrowhead\": 0, \"arrowwidth\": 1}, \"coloraxis\": {\"colorbar\": {\"outlinewidth\": 0, \"ticks\": \"\"}}, \"colorscale\": {\"diverging\": [[0, \"#8e0152\"], [0.1, \"#c51b7d\"], [0.2, \"#de77ae\"], [0.3, \"#f1b6da\"], [0.4, \"#fde0ef\"], [0.5, \"#f7f7f7\"], [0.6, \"#e6f5d0\"], [0.7, \"#b8e186\"], [0.8, \"#7fbc41\"], [0.9, \"#4d9221\"], [1, \"#276419\"]], \"sequential\": [[0.0, \"#0d0887\"], [0.1111111111111111, \"#46039f\"], [0.2222222222222222, \"#7201a8\"], [0.3333333333333333, \"#9c179e\"], [0.4444444444444444, \"#bd3786\"], [0.5555555555555556, \"#d8576b\"], [0.6666666666666666, \"#ed7953\"], [0.7777777777777778, \"#fb9f3a\"], [0.8888888888888888, \"#fdca26\"], [1.0, \"#f0f921\"]], \"sequentialminus\": [[0.0, \"#0d0887\"], [0.1111111111111111, \"#46039f\"], [0.2222222222222222, \"#7201a8\"], [0.3333333333333333, \"#9c179e\"], [0.4444444444444444, \"#bd3786\"], [0.5555555555555556, \"#d8576b\"], [0.6666666666666666, \"#ed7953\"], [0.7777777777777778, \"#fb9f3a\"], [0.8888888888888888, \"#fdca26\"], [1.0, \"#f0f921\"]]}, \"colorway\": [\"#636efa\", \"#EF553B\", \"#00cc96\", \"#ab63fa\", \"#FFA15A\", \"#19d3f3\", \"#FF6692\", \"#B6E880\", \"#FF97FF\", \"#FECB52\"], \"font\": {\"color\": \"#2a3f5f\"}, \"geo\": {\"bgcolor\": \"white\", \"lakecolor\": \"white\", \"landcolor\": \"#E5ECF6\", \"showlakes\": true, \"showland\": true, \"subunitcolor\": \"white\"}, \"hoverlabel\": {\"align\": \"left\"}, \"hovermode\": \"closest\", \"mapbox\": {\"style\": \"light\"}, \"paper_bgcolor\": \"white\", \"plot_bgcolor\": \"#E5ECF6\", \"polar\": {\"angularaxis\": {\"gridcolor\": \"white\", \"linecolor\": \"white\", \"ticks\": \"\"}, \"bgcolor\": \"#E5ECF6\", \"radialaxis\": {\"gridcolor\": \"white\", \"linecolor\": \"white\", \"ticks\": \"\"}}, \"scene\": {\"xaxis\": {\"backgroundcolor\": \"#E5ECF6\", \"gridcolor\": \"white\", \"gridwidth\": 2, \"linecolor\": \"white\", \"showbackground\": true, \"ticks\": \"\", \"zerolinecolor\": \"white\"}, \"yaxis\": {\"backgroundcolor\": \"#E5ECF6\", \"gridcolor\": \"white\", \"gridwidth\": 2, \"linecolor\": \"white\", \"showbackground\": true, \"ticks\": \"\", \"zerolinecolor\": \"white\"}, \"zaxis\": {\"backgroundcolor\": \"#E5ECF6\", \"gridcolor\": \"white\", \"gridwidth\": 2, \"linecolor\": \"white\", \"showbackground\": true, \"ticks\": \"\", \"zerolinecolor\": \"white\"}}, \"shapedefaults\": {\"line\": {\"color\": \"#2a3f5f\"}}, \"ternary\": {\"aaxis\": {\"gridcolor\": \"white\", \"linecolor\": \"white\", \"ticks\": \"\"}, \"baxis\": {\"gridcolor\": \"white\", \"linecolor\": \"white\", \"ticks\": \"\"}, \"bgcolor\": \"#E5ECF6\", \"caxis\": {\"gridcolor\": \"white\", \"linecolor\": \"white\", \"ticks\": \"\"}}, \"title\": {\"x\": 0.05}, \"xaxis\": {\"automargin\": true, \"gridcolor\": \"white\", \"linecolor\": \"white\", \"ticks\": \"\", \"title\": {\"standoff\": 15}, \"zerolinecolor\": \"white\", \"zerolinewidth\": 2}, \"yaxis\": {\"automargin\": true, \"gridcolor\": \"white\", \"linecolor\": \"white\", \"ticks\": \"\", \"title\": {\"standoff\": 15}, \"zerolinecolor\": \"white\", \"zerolinewidth\": 2}}}, \"title\": {\"text\": \"Child poverty with federally funded tax reform\"}, \"updatemenus\": [{\"buttons\": [{\"args\": [null, {\"frame\": {\"duration\": 500, \"redraw\": true}, \"fromcurrent\": true, \"mode\": \"immediate\", \"transition\": {\"duration\": 500, \"easing\": \"linear\"}}], \"label\": \"&#9654;\", \"method\": \"animate\"}, {\"args\": [[null], {\"frame\": {\"duration\": 0, \"redraw\": true}, \"fromcurrent\": true, \"mode\": \"immediate\", \"transition\": {\"duration\": 0, \"easing\": \"linear\"}}], \"label\": \"&#9724;\", \"method\": \"animate\"}], \"direction\": \"left\", \"pad\": {\"r\": 10, \"t\": 70}, \"showactive\": false, \"type\": \"buttons\", \"x\": 0.1, \"xanchor\": \"right\", \"y\": 0, \"yanchor\": \"top\"}]},\n",
       "                        {\"displayModeBar\": false, \"responsive\": true}\n",
       "                    ).then(function(){\n",
       "                            Plotly.addFrames('1226b139-b894-46ab-80d3-28a6e093743d', [{\"data\": [{\"coloraxis\": \"coloraxis\", \"geo\": \"geo\", \"hovertemplate\": \"Child allowance=0<br>State=%{location}<br>Child poverty rate=%{z}<extra></extra>\", \"locationmode\": \"USA-states\", \"locations\": [\"AL\", \"AL\", \"AL\", \"AK\", \"AK\", \"AK\", \"AZ\", \"AZ\", \"AZ\", \"AR\", \"AR\", \"AR\", \"CA\", \"CA\", \"CA\", \"CO\", \"CO\", \"CO\", \"CT\", \"CT\", \"CT\", \"DE\", \"DE\", \"DE\", \"FL\", \"FL\", \"FL\", \"GA\", \"GA\", \"GA\", \"HI\", \"HI\", \"HI\", \"ID\", \"ID\", \"ID\", \"IL\", \"IL\", \"IL\", \"IN\", \"IN\", \"IN\", \"IA\", \"IA\", \"IA\", \"KS\", \"KS\", \"KS\", \"KY\", \"KY\", \"KY\", \"LA\", \"LA\", \"LA\", \"ME\", \"ME\", \"ME\", \"MD\", \"MD\", \"MD\", \"MA\", \"MA\", \"MA\", \"MI\", \"MI\", \"MI\", \"MN\", \"MN\", \"MN\", \"MS\", \"MS\", \"MS\", \"MO\", \"MO\", \"MO\", \"MT\", \"MT\", \"MT\", \"NE\", \"NE\", \"NE\", \"NV\", \"NV\", \"NV\", \"NH\", \"NH\", \"NH\", \"NJ\", \"NJ\", \"NJ\", \"NM\", \"NM\", \"NM\", \"NY\", \"NY\", \"NY\", \"NC\", \"NC\", \"NC\", \"ND\", \"ND\", \"ND\", \"OH\", \"OH\", \"OH\", \"OK\", \"OK\", \"OK\", \"OR\", \"OR\", \"OR\", \"PA\", \"PA\", \"PA\", \"RI\", \"RI\", \"RI\", \"SC\", \"SC\", \"SC\", \"SD\", \"SD\", \"SD\", \"TN\", \"TN\", \"TN\", \"TX\", \"TX\", \"TX\", \"UT\", \"UT\", \"UT\", \"VT\", \"VT\", \"VT\", \"VA\", \"VA\", \"VA\", \"WA\", \"WA\", \"WA\", \"WV\", \"WV\", \"WV\", \"WI\", \"WI\", \"WI\", \"WY\", \"WY\", \"WY\", \"DC\", \"DC\", \"DC\", \"US\", \"US\", \"US\"], \"name\": \"\", \"z\": [14.8, 12.1, 12.7, 14.3, 12.9, 13.3, 13.0, 11.7, 12.0, 12.5, 13.3, 13.1, 19.6, 16.8, 17.4, 11.4, 11.8, 11.7, 13.6, 10.7, 11.3, 10.4, 10.6, 10.6, 18.4, 15.3, 16.0, 15.5, 13.1, 13.7, 15.6, 13.3, 13.8, 7.1, 8.7, 8.3, 12.5, 11.1, 11.4, 12.6, 9.7, 10.4, 8.1, 7.3, 7.5, 7.3, 7.6, 7.5, 10.3, 11.5, 11.2, 19.5, 15.6, 16.6, 9.6, 9.4, 9.4, 11.2, 12.8, 12.5, 10.7, 11.7, 11.5, 10.5, 9.9, 10.1, 5.3, 6.9, 6.6, 17.0, 14.9, 15.4, 8.8, 8.9, 8.9, 8.0, 9.3, 9.0, 9.7, 8.9, 9.1, 13.7, 13.5, 13.5, 8.1, 8.6, 8.5, 13.8, 12.8, 13.0, 13.9, 13.5, 13.6, 17.2, 14.6, 15.2, 14.9, 13.2, 13.6, 9.8, 9.5, 9.6, 11.3, 10.1, 10.3, 10.1, 10.9, 10.7, 10.3, 11.5, 11.3, 13.0, 10.7, 11.1, 10.1, 7.6, 8.1, 15.1, 12.8, 13.3, 9.1, 9.0, 9.1, 12.1, 10.9, 11.2, 15.3, 13.6, 14.1, 7.6, 8.5, 8.2, 12.4, 10.1, 10.6, 13.4, 11.3, 11.8, 8.8, 8.2, 8.4, 13.4, 12.3, 12.5, 8.2, 7.8, 7.9, 9.3, 10.2, 10.0, 17.3, 16.9, 17.0, 13.9, 12.5, 12.8], \"type\": \"choropleth\"}], \"name\": \"0\"}, {\"data\": [{\"coloraxis\": \"coloraxis\", \"geo\": \"geo\", \"hovertemplate\": \"Child allowance=50<br>State=%{location}<br>Child poverty rate=%{z}<extra></extra>\", \"locationmode\": \"USA-states\", \"locations\": [\"AL\", \"AL\", \"AL\", \"AK\", \"AK\", \"AK\", \"AZ\", \"AZ\", \"AZ\", \"AR\", \"AR\", \"AR\", \"CA\", \"CA\", \"CA\", \"CO\", \"CO\", \"CO\", \"CT\", \"CT\", \"CT\", \"DE\", \"DE\", \"DE\", \"FL\", \"FL\", \"FL\", \"GA\", \"GA\", \"GA\", \"HI\", \"HI\", \"HI\", \"ID\", \"ID\", \"ID\", \"IL\", \"IL\", \"IL\", \"IN\", \"IN\", \"IN\", \"IA\", \"IA\", \"IA\", \"KS\", \"KS\", \"KS\", \"KY\", \"KY\", \"KY\", \"LA\", \"LA\", \"LA\", \"ME\", \"ME\", \"ME\", \"MD\", \"MD\", \"MD\", \"MA\", \"MA\", \"MA\", \"MI\", \"MI\", \"MI\", \"MN\", \"MN\", \"MN\", \"MS\", \"MS\", \"MS\", \"MO\", \"MO\", \"MO\", \"MT\", \"MT\", \"MT\", \"NE\", \"NE\", \"NE\", \"NV\", \"NV\", \"NV\", \"NH\", \"NH\", \"NH\", \"NJ\", \"NJ\", \"NJ\", \"NM\", \"NM\", \"NM\", \"NY\", \"NY\", \"NY\", \"NC\", \"NC\", \"NC\", \"ND\", \"ND\", \"ND\", \"OH\", \"OH\", \"OH\", \"OK\", \"OK\", \"OK\", \"OR\", \"OR\", \"OR\", \"PA\", \"PA\", \"PA\", \"RI\", \"RI\", \"RI\", \"SC\", \"SC\", \"SC\", \"SD\", \"SD\", \"SD\", \"TN\", \"TN\", \"TN\", \"TX\", \"TX\", \"TX\", \"UT\", \"UT\", \"UT\", \"VT\", \"VT\", \"VT\", \"VA\", \"VA\", \"VA\", \"WA\", \"WA\", \"WA\", \"WV\", \"WV\", \"WV\", \"WI\", \"WI\", \"WI\", \"WY\", \"WY\", \"WY\", \"DC\", \"DC\", \"DC\", \"US\", \"US\", \"US\"], \"name\": \"\", \"z\": [13.7, 11.8, 12.2, 12.8, 12.7, 12.7, 10.4, 11.1, 11.0, 10.4, 12.8, 12.2, 17.8, 16.3, 16.7, 10.0, 11.4, 11.1, 13.0, 10.6, 11.1, 9.5, 10.3, 10.2, 16.3, 14.9, 15.2, 14.7, 12.9, 13.3, 14.0, 12.8, 13.1, 6.1, 8.6, 7.9, 11.3, 10.8, 10.9, 11.8, 9.5, 10.1, 7.4, 7.0, 7.1, 5.5, 7.2, 6.8, 9.5, 11.4, 11.0, 17.6, 15.3, 15.8, 7.9, 9.2, 8.9, 10.2, 12.7, 12.1, 9.4, 11.6, 11.1, 9.4, 9.7, 9.6, 4.5, 6.8, 6.2, 14.9, 14.6, 14.6, 7.1, 8.6, 8.3, 7.4, 9.1, 8.8, 8.4, 8.7, 8.6, 10.5, 12.8, 12.3, 7.1, 8.4, 8.2, 12.9, 12.6, 12.7, 12.0, 13.0, 12.8, 15.7, 14.3, 14.6, 12.8, 12.8, 12.8, 8.2, 9.3, 9.0, 10.1, 9.8, 9.9, 9.0, 10.5, 10.1, 9.0, 11.3, 10.8, 11.6, 10.3, 10.6, 9.5, 7.4, 7.8, 13.1, 12.5, 12.7, 8.1, 8.9, 8.7, 10.3, 10.6, 10.5, 13.4, 13.2, 13.3, 6.7, 8.2, 7.7, 10.8, 10.0, 10.1, 12.4, 11.1, 11.4, 7.7, 8.0, 7.9, 12.2, 12.0, 12.1, 6.8, 7.6, 7.4, 7.5, 10.0, 9.4, 15.6, 16.6, 16.4, 12.4, 12.1, 12.2], \"type\": \"choropleth\"}], \"name\": \"50\"}, {\"data\": [{\"coloraxis\": \"coloraxis\", \"geo\": \"geo\", \"hovertemplate\": \"Child allowance=100<br>State=%{location}<br>Child poverty rate=%{z}<extra></extra>\", \"locationmode\": \"USA-states\", \"locations\": [\"AL\", \"AL\", \"AL\", \"AK\", \"AK\", \"AK\", \"AZ\", \"AZ\", \"AZ\", \"AR\", \"AR\", \"AR\", \"CA\", \"CA\", \"CA\", \"CO\", \"CO\", \"CO\", \"CT\", \"CT\", \"CT\", \"DE\", \"DE\", \"DE\", \"FL\", \"FL\", \"FL\", \"GA\", \"GA\", \"GA\", \"HI\", \"HI\", \"HI\", \"ID\", \"ID\", \"ID\", \"IL\", \"IL\", \"IL\", \"IN\", \"IN\", \"IN\", \"IA\", \"IA\", \"IA\", \"KS\", \"KS\", \"KS\", \"KY\", \"KY\", \"KY\", \"LA\", \"LA\", \"LA\", \"ME\", \"ME\", \"ME\", \"MD\", \"MD\", \"MD\", \"MA\", \"MA\", \"MA\", \"MI\", \"MI\", \"MI\", \"MN\", \"MN\", \"MN\", \"MS\", \"MS\", \"MS\", \"MO\", \"MO\", \"MO\", \"MT\", \"MT\", \"MT\", \"NE\", \"NE\", \"NE\", \"NV\", \"NV\", \"NV\", \"NH\", \"NH\", \"NH\", \"NJ\", \"NJ\", \"NJ\", \"NM\", \"NM\", \"NM\", \"NY\", \"NY\", \"NY\", \"NC\", \"NC\", \"NC\", \"ND\", \"ND\", \"ND\", \"OH\", \"OH\", \"OH\", \"OK\", \"OK\", \"OK\", \"OR\", \"OR\", \"OR\", \"PA\", \"PA\", \"PA\", \"RI\", \"RI\", \"RI\", \"SC\", \"SC\", \"SC\", \"SD\", \"SD\", \"SD\", \"TN\", \"TN\", \"TN\", \"TX\", \"TX\", \"TX\", \"UT\", \"UT\", \"UT\", \"VT\", \"VT\", \"VT\", \"VA\", \"VA\", \"VA\", \"WA\", \"WA\", \"WA\", \"WV\", \"WV\", \"WV\", \"WI\", \"WI\", \"WI\", \"WY\", \"WY\", \"WY\", \"DC\", \"DC\", \"DC\", \"US\", \"US\", \"US\"], \"name\": \"\", \"z\": [12.1, 11.5, 11.6, 11.9, 12.4, 12.3, 9.1, 10.8, 10.4, 9.0, 12.5, 11.7, 16.4, 16.0, 16.1, 8.8, 11.2, 10.6, 12.9, 10.5, 11.0, 8.6, 10.1, 9.8, 13.6, 14.5, 14.3, 13.1, 12.5, 12.7, 12.7, 12.6, 12.6, 4.8, 8.3, 7.4, 9.5, 10.4, 10.2, 10.3, 9.2, 9.5, 6.3, 6.8, 6.7, 5.1, 7.1, 6.6, 8.3, 11.2, 10.5, 15.6, 14.8, 15.0, 7.0, 9.0, 8.6, 8.5, 12.4, 11.5, 8.6, 11.4, 10.9, 8.1, 9.4, 9.1, 3.7, 6.7, 6.0, 13.0, 14.2, 13.9, 6.7, 8.5, 8.1, 6.9, 9.1, 8.6, 7.6, 8.4, 8.2, 9.8, 12.7, 12.1, 6.4, 8.2, 7.9, 11.9, 12.4, 12.3, 10.8, 12.7, 12.2, 14.2, 14.0, 14.0, 10.0, 12.2, 11.7, 7.5, 9.1, 8.7, 8.3, 9.6, 9.3, 7.7, 10.3, 9.6, 7.6, 10.9, 10.2, 10.5, 10.2, 10.2, 8.4, 7.2, 7.5, 11.2, 12.2, 12.0, 6.7, 8.5, 8.0, 9.1, 10.3, 10.0, 11.9, 12.9, 12.6, 5.7, 7.9, 7.3, 9.4, 9.8, 9.7, 11.1, 10.9, 10.9, 6.7, 7.8, 7.6, 10.1, 11.6, 11.3, 5.7, 7.5, 7.1, 6.7, 9.9, 9.1, 14.4, 16.5, 16.1, 10.9, 11.8, 11.6], \"type\": \"choropleth\"}], \"name\": \"100\"}, {\"data\": [{\"coloraxis\": \"coloraxis\", \"geo\": \"geo\", \"hovertemplate\": \"Child allowance=150<br>State=%{location}<br>Child poverty rate=%{z}<extra></extra>\", \"locationmode\": \"USA-states\", \"locations\": [\"AL\", \"AL\", \"AL\", \"AK\", \"AK\", \"AK\", \"AZ\", \"AZ\", \"AZ\", \"AR\", \"AR\", \"AR\", \"CA\", \"CA\", \"CA\", \"CO\", \"CO\", \"CO\", \"CT\", \"CT\", \"CT\", \"DE\", \"DE\", \"DE\", \"FL\", \"FL\", \"FL\", \"GA\", \"GA\", \"GA\", \"HI\", \"HI\", \"HI\", \"ID\", \"ID\", \"ID\", \"IL\", \"IL\", \"IL\", \"IN\", \"IN\", \"IN\", \"IA\", \"IA\", \"IA\", \"KS\", \"KS\", \"KS\", \"KY\", \"KY\", \"KY\", \"LA\", \"LA\", \"LA\", \"ME\", \"ME\", \"ME\", \"MD\", \"MD\", \"MD\", \"MA\", \"MA\", \"MA\", \"MI\", \"MI\", \"MI\", \"MN\", \"MN\", \"MN\", \"MS\", \"MS\", \"MS\", \"MO\", \"MO\", \"MO\", \"MT\", \"MT\", \"MT\", \"NE\", \"NE\", \"NE\", \"NV\", \"NV\", \"NV\", \"NH\", \"NH\", \"NH\", \"NJ\", \"NJ\", \"NJ\", \"NM\", \"NM\", \"NM\", \"NY\", \"NY\", \"NY\", \"NC\", \"NC\", \"NC\", \"ND\", \"ND\", \"ND\", \"OH\", \"OH\", \"OH\", \"OK\", \"OK\", \"OK\", \"OR\", \"OR\", \"OR\", \"PA\", \"PA\", \"PA\", \"RI\", \"RI\", \"RI\", \"SC\", \"SC\", \"SC\", \"SD\", \"SD\", \"SD\", \"TN\", \"TN\", \"TN\", \"TX\", \"TX\", \"TX\", \"UT\", \"UT\", \"UT\", \"VT\", \"VT\", \"VT\", \"VA\", \"VA\", \"VA\", \"WA\", \"WA\", \"WA\", \"WV\", \"WV\", \"WV\", \"WI\", \"WI\", \"WI\", \"WY\", \"WY\", \"WY\", \"DC\", \"DC\", \"DC\", \"US\", \"US\", \"US\"], \"name\": \"\", \"z\": [10.2, 11.1, 10.9, 11.3, 12.2, 12.0, 7.5, 10.5, 9.8, 8.1, 12.4, 11.4, 14.8, 15.7, 15.5, 6.8, 10.8, 9.9, 11.4, 10.1, 10.4, 7.6, 9.9, 9.4, 12.1, 14.1, 13.7, 11.0, 12.1, 11.8, 10.9, 12.3, 12.0, 4.4, 8.2, 7.2, 8.4, 10.2, 9.8, 9.2, 9.0, 9.0, 5.5, 6.8, 6.5, 4.4, 7.0, 6.4, 7.8, 11.2, 10.4, 13.4, 14.4, 14.2, 5.6, 8.7, 8.1, 7.4, 12.1, 11.1, 7.6, 11.1, 10.4, 7.1, 9.2, 8.7, 3.5, 6.7, 5.9, 10.3, 13.6, 12.8, 6.2, 8.5, 8.0, 5.8, 8.8, 8.2, 6.7, 8.1, 7.8, 9.0, 12.5, 11.7, 5.9, 8.1, 7.7, 10.9, 12.2, 11.9, 9.2, 12.2, 11.5, 12.9, 13.7, 13.5, 8.4, 11.8, 11.1, 6.6, 9.0, 8.4, 7.4, 9.4, 8.9, 6.6, 10.0, 9.2, 6.6, 10.8, 9.9, 9.1, 9.9, 9.7, 7.7, 7.0, 7.2, 9.8, 12.1, 11.6, 6.4, 8.5, 8.0, 8.4, 10.2, 9.8, 10.7, 12.5, 12.1, 5.2, 7.7, 7.0, 8.3, 9.6, 9.4, 10.1, 10.5, 10.4, 6.1, 7.6, 7.3, 8.4, 11.2, 10.6, 5.0, 7.3, 6.8, 5.4, 9.7, 8.7, 13.2, 16.3, 15.7, 9.7, 11.6, 11.1], \"type\": \"choropleth\"}], \"name\": \"150\"}, {\"data\": [{\"coloraxis\": \"coloraxis\", \"geo\": \"geo\", \"hovertemplate\": \"Child allowance=200<br>State=%{location}<br>Child poverty rate=%{z}<extra></extra>\", \"locationmode\": \"USA-states\", \"locations\": [\"AL\", \"AL\", \"AL\", \"AK\", \"AK\", \"AK\", \"AZ\", \"AZ\", \"AZ\", \"AR\", \"AR\", \"AR\", \"CA\", \"CA\", \"CA\", \"CO\", \"CO\", \"CO\", \"CT\", \"CT\", \"CT\", \"DE\", \"DE\", \"DE\", \"FL\", \"FL\", \"FL\", \"GA\", \"GA\", \"GA\", \"HI\", \"HI\", \"HI\", \"ID\", \"ID\", \"ID\", \"IL\", \"IL\", \"IL\", \"IN\", \"IN\", \"IN\", \"IA\", \"IA\", \"IA\", \"KS\", \"KS\", \"KS\", \"KY\", \"KY\", \"KY\", \"LA\", \"LA\", \"LA\", \"ME\", \"ME\", \"ME\", \"MD\", \"MD\", \"MD\", \"MA\", \"MA\", \"MA\", \"MI\", \"MI\", \"MI\", \"MN\", \"MN\", \"MN\", \"MS\", \"MS\", \"MS\", \"MO\", \"MO\", \"MO\", \"MT\", \"MT\", \"MT\", \"NE\", \"NE\", \"NE\", \"NV\", \"NV\", \"NV\", \"NH\", \"NH\", \"NH\", \"NJ\", \"NJ\", \"NJ\", \"NM\", \"NM\", \"NM\", \"NY\", \"NY\", \"NY\", \"NC\", \"NC\", \"NC\", \"ND\", \"ND\", \"ND\", \"OH\", \"OH\", \"OH\", \"OK\", \"OK\", \"OK\", \"OR\", \"OR\", \"OR\", \"PA\", \"PA\", \"PA\", \"RI\", \"RI\", \"RI\", \"SC\", \"SC\", \"SC\", \"SD\", \"SD\", \"SD\", \"TN\", \"TN\", \"TN\", \"TX\", \"TX\", \"TX\", \"UT\", \"UT\", \"UT\", \"VT\", \"VT\", \"VT\", \"VA\", \"VA\", \"VA\", \"WA\", \"WA\", \"WA\", \"WV\", \"WV\", \"WV\", \"WI\", \"WI\", \"WI\", \"WY\", \"WY\", \"WY\", \"DC\", \"DC\", \"DC\", \"US\", \"US\", \"US\"], \"name\": \"\", \"z\": [9.3, 10.9, 10.5, 10.6, 12.0, 11.6, 5.8, 10.1, 9.1, 7.5, 12.4, 11.2, 13.0, 15.2, 14.7, 6.5, 10.7, 9.8, 10.7, 10.0, 10.1, 7.1, 9.9, 9.3, 10.9, 14.0, 13.3, 10.0, 11.8, 11.4, 8.2, 11.8, 11.0, 3.6, 8.1, 7.0, 7.2, 9.9, 9.3, 8.1, 8.7, 8.6, 4.7, 6.6, 6.1, 4.3, 6.9, 6.3, 7.2, 11.1, 10.2, 11.1, 14.0, 13.3, 5.5, 8.7, 8.0, 6.9, 12.0, 10.9, 6.9, 10.9, 10.1, 6.3, 9.1, 8.5, 3.0, 6.5, 5.7, 8.8, 13.3, 12.2, 5.3, 8.4, 7.7, 5.4, 8.9, 8.1, 6.3, 8.0, 7.6, 7.7, 12.2, 11.2, 5.1, 8.0, 7.4, 9.3, 11.7, 11.2, 8.2, 11.9, 11.1, 11.0, 13.5, 13.0, 7.2, 11.6, 10.6, 5.4, 8.6, 7.8, 6.6, 9.1, 8.6, 5.7, 9.8, 8.8, 6.1, 10.7, 9.7, 8.3, 9.7, 9.4, 7.0, 6.9, 6.9, 8.8, 11.9, 11.2, 5.1, 8.4, 7.6, 7.8, 10.1, 9.6, 9.2, 12.2, 11.4, 4.7, 7.6, 6.7, 7.7, 9.4, 9.1, 9.2, 10.2, 10.0, 5.5, 7.5, 7.0, 7.8, 11.0, 10.3, 4.0, 7.1, 6.4, 4.6, 9.5, 8.3, 12.1, 16.2, 15.4, 8.5, 11.3, 10.7], \"type\": \"choropleth\"}], \"name\": \"200\"}, {\"data\": [{\"coloraxis\": \"coloraxis\", \"geo\": \"geo\", \"hovertemplate\": \"Child allowance=250<br>State=%{location}<br>Child poverty rate=%{z}<extra></extra>\", \"locationmode\": \"USA-states\", \"locations\": [\"AL\", \"AL\", \"AL\", \"AK\", \"AK\", \"AK\", \"AZ\", \"AZ\", \"AZ\", \"AR\", \"AR\", \"AR\", \"CA\", \"CA\", \"CA\", \"CO\", \"CO\", \"CO\", \"CT\", \"CT\", \"CT\", \"DE\", \"DE\", \"DE\", \"FL\", \"FL\", \"FL\", \"GA\", \"GA\", \"GA\", \"HI\", \"HI\", \"HI\", \"ID\", \"ID\", \"ID\", \"IL\", \"IL\", \"IL\", \"IN\", \"IN\", \"IN\", \"IA\", \"IA\", \"IA\", \"KS\", \"KS\", \"KS\", \"KY\", \"KY\", \"KY\", \"LA\", \"LA\", \"LA\", \"ME\", \"ME\", \"ME\", \"MD\", \"MD\", \"MD\", \"MA\", \"MA\", \"MA\", \"MI\", \"MI\", \"MI\", \"MN\", \"MN\", \"MN\", \"MS\", \"MS\", \"MS\", \"MO\", \"MO\", \"MO\", \"MT\", \"MT\", \"MT\", \"NE\", \"NE\", \"NE\", \"NV\", \"NV\", \"NV\", \"NH\", \"NH\", \"NH\", \"NJ\", \"NJ\", \"NJ\", \"NM\", \"NM\", \"NM\", \"NY\", \"NY\", \"NY\", \"NC\", \"NC\", \"NC\", \"ND\", \"ND\", \"ND\", \"OH\", \"OH\", \"OH\", \"OK\", \"OK\", \"OK\", \"OR\", \"OR\", \"OR\", \"PA\", \"PA\", \"PA\", \"RI\", \"RI\", \"RI\", \"SC\", \"SC\", \"SC\", \"SD\", \"SD\", \"SD\", \"TN\", \"TN\", \"TN\", \"TX\", \"TX\", \"TX\", \"UT\", \"UT\", \"UT\", \"VT\", \"VT\", \"VT\", \"VA\", \"VA\", \"VA\", \"WA\", \"WA\", \"WA\", \"WV\", \"WV\", \"WV\", \"WI\", \"WI\", \"WI\", \"WY\", \"WY\", \"WY\", \"DC\", \"DC\", \"DC\", \"US\", \"US\", \"US\"], \"name\": \"\", \"z\": [7.8, 10.6, 10.0, 9.4, 11.5, 11.0, 5.2, 9.9, 8.8, 6.7, 12.2, 10.9, 11.5, 14.9, 14.1, 6.1, 10.7, 9.6, 9.9, 9.8, 9.8, 5.9, 9.6, 8.8, 9.9, 13.7, 13.0, 8.9, 11.6, 10.9, 7.5, 11.7, 10.8, 2.4, 7.8, 6.4, 6.2, 9.7, 8.9, 6.6, 8.4, 8.0, 4.4, 6.6, 6.0, 4.0, 6.9, 6.2, 6.4, 11.0, 9.9, 9.5, 13.6, 12.6, 5.4, 8.6, 8.0, 6.5, 11.9, 10.7, 6.0, 10.8, 9.9, 5.5, 8.9, 8.2, 2.8, 6.5, 5.7, 7.5, 13.0, 11.7, 4.1, 8.0, 7.1, 4.3, 8.7, 7.7, 5.6, 7.9, 7.3, 6.9, 12.0, 10.8, 4.0, 7.8, 7.1, 8.6, 11.5, 10.9, 7.4, 11.6, 10.7, 10.1, 13.3, 12.6, 6.4, 11.3, 10.3, 4.6, 8.5, 7.6, 5.3, 8.7, 7.9, 5.1, 9.7, 8.5, 5.5, 10.6, 9.5, 7.7, 9.5, 9.1, 6.5, 6.7, 6.7, 8.0, 11.7, 10.9, 5.1, 8.4, 7.5, 6.3, 9.8, 9.0, 8.2, 11.9, 11.0, 4.6, 7.5, 6.7, 7.0, 9.3, 8.9, 8.3, 10.0, 9.6, 5.1, 7.4, 6.9, 6.4, 10.8, 9.9, 3.6, 7.1, 6.3, 4.1, 9.4, 8.1, 10.0, 15.7, 14.7, 7.6, 11.1, 10.3], \"type\": \"choropleth\"}], \"name\": \"250\"}, {\"data\": [{\"coloraxis\": \"coloraxis\", \"geo\": \"geo\", \"hovertemplate\": \"Child allowance=300<br>State=%{location}<br>Child poverty rate=%{z}<extra></extra>\", \"locationmode\": \"USA-states\", \"locations\": [\"AL\", \"AL\", \"AL\", \"AK\", \"AK\", \"AK\", \"AZ\", \"AZ\", \"AZ\", \"AR\", \"AR\", \"AR\", \"CA\", \"CA\", \"CA\", \"CO\", \"CO\", \"CO\", \"CT\", \"CT\", \"CT\", \"DE\", \"DE\", \"DE\", \"FL\", \"FL\", \"FL\", \"GA\", \"GA\", \"GA\", \"HI\", \"HI\", \"HI\", \"ID\", \"ID\", \"ID\", \"IL\", \"IL\", \"IL\", \"IN\", \"IN\", \"IN\", \"IA\", \"IA\", \"IA\", \"KS\", \"KS\", \"KS\", \"KY\", \"KY\", \"KY\", \"LA\", \"LA\", \"LA\", \"ME\", \"ME\", \"ME\", \"MD\", \"MD\", \"MD\", \"MA\", \"MA\", \"MA\", \"MI\", \"MI\", \"MI\", \"MN\", \"MN\", \"MN\", \"MS\", \"MS\", \"MS\", \"MO\", \"MO\", \"MO\", \"MT\", \"MT\", \"MT\", \"NE\", \"NE\", \"NE\", \"NV\", \"NV\", \"NV\", \"NH\", \"NH\", \"NH\", \"NJ\", \"NJ\", \"NJ\", \"NM\", \"NM\", \"NM\", \"NY\", \"NY\", \"NY\", \"NC\", \"NC\", \"NC\", \"ND\", \"ND\", \"ND\", \"OH\", \"OH\", \"OH\", \"OK\", \"OK\", \"OK\", \"OR\", \"OR\", \"OR\", \"PA\", \"PA\", \"PA\", \"RI\", \"RI\", \"RI\", \"SC\", \"SC\", \"SC\", \"SD\", \"SD\", \"SD\", \"TN\", \"TN\", \"TN\", \"TX\", \"TX\", \"TX\", \"UT\", \"UT\", \"UT\", \"VT\", \"VT\", \"VT\", \"VA\", \"VA\", \"VA\", \"WA\", \"WA\", \"WA\", \"WV\", \"WV\", \"WV\", \"WI\", \"WI\", \"WI\", \"WY\", \"WY\", \"WY\", \"DC\", \"DC\", \"DC\", \"US\", \"US\", \"US\"], \"name\": \"\", \"z\": [7.2, 10.5, 9.8, 8.4, 11.3, 10.6, 4.8, 9.7, 8.6, 5.6, 12.0, 10.4, 10.1, 14.5, 13.5, 5.4, 10.4, 9.3, 8.1, 9.4, 9.1, 5.2, 9.4, 8.6, 8.8, 13.6, 12.6, 7.9, 11.3, 10.5, 6.2, 11.5, 10.3, 2.3, 7.7, 6.4, 5.6, 9.6, 8.6, 6.1, 8.3, 7.8, 3.4, 6.4, 5.7, 3.5, 6.8, 6.0, 5.3, 10.7, 9.5, 8.0, 13.2, 11.9, 5.0, 8.6, 7.9, 6.1, 11.8, 10.5, 5.3, 10.6, 9.6, 5.1, 8.8, 8.0, 2.3, 6.4, 5.5, 7.0, 12.9, 11.5, 3.1, 7.9, 6.8, 4.1, 8.6, 7.7, 5.0, 7.7, 7.0, 6.2, 11.8, 10.6, 3.6, 7.7, 6.9, 7.8, 11.3, 10.5, 5.4, 11.3, 10.0, 9.4, 13.1, 12.4, 5.6, 11.1, 9.9, 4.5, 8.4, 7.5, 4.4, 8.5, 7.6, 4.8, 9.6, 8.4, 4.7, 10.4, 9.2, 7.4, 9.4, 9.0, 5.6, 6.5, 6.3, 7.0, 11.4, 10.4, 4.3, 8.2, 7.2, 5.7, 9.7, 8.8, 7.1, 11.7, 10.5, 3.7, 7.3, 6.2, 6.5, 9.3, 8.8, 7.3, 9.8, 9.3, 4.6, 7.2, 6.7, 5.4, 10.5, 9.4, 3.4, 7.0, 6.2, 3.8, 9.3, 8.0, 9.0, 15.6, 14.4, 6.7, 10.9, 10.0], \"type\": \"choropleth\"}], \"name\": \"300\"}, {\"data\": [{\"coloraxis\": \"coloraxis\", \"geo\": \"geo\", \"hovertemplate\": \"Child allowance=350<br>State=%{location}<br>Child poverty rate=%{z}<extra></extra>\", \"locationmode\": \"USA-states\", \"locations\": [\"AL\", \"AL\", \"AL\", \"AK\", \"AK\", \"AK\", \"AZ\", \"AZ\", \"AZ\", \"AR\", \"AR\", \"AR\", \"CA\", \"CA\", \"CA\", \"CO\", \"CO\", \"CO\", \"CT\", \"CT\", \"CT\", \"DE\", \"DE\", \"DE\", \"FL\", \"FL\", \"FL\", \"GA\", \"GA\", \"GA\", \"HI\", \"HI\", \"HI\", \"ID\", \"ID\", \"ID\", \"IL\", \"IL\", \"IL\", \"IN\", \"IN\", \"IN\", \"IA\", \"IA\", \"IA\", \"KS\", \"KS\", \"KS\", \"KY\", \"KY\", \"KY\", \"LA\", \"LA\", \"LA\", \"ME\", \"ME\", \"ME\", \"MD\", \"MD\", \"MD\", \"MA\", \"MA\", \"MA\", \"MI\", \"MI\", \"MI\", \"MN\", \"MN\", \"MN\", \"MS\", \"MS\", \"MS\", \"MO\", \"MO\", \"MO\", \"MT\", \"MT\", \"MT\", \"NE\", \"NE\", \"NE\", \"NV\", \"NV\", \"NV\", \"NH\", \"NH\", \"NH\", \"NJ\", \"NJ\", \"NJ\", \"NM\", \"NM\", \"NM\", \"NY\", \"NY\", \"NY\", \"NC\", \"NC\", \"NC\", \"ND\", \"ND\", \"ND\", \"OH\", \"OH\", \"OH\", \"OK\", \"OK\", \"OK\", \"OR\", \"OR\", \"OR\", \"PA\", \"PA\", \"PA\", \"RI\", \"RI\", \"RI\", \"SC\", \"SC\", \"SC\", \"SD\", \"SD\", \"SD\", \"TN\", \"TN\", \"TN\", \"TX\", \"TX\", \"TX\", \"UT\", \"UT\", \"UT\", \"VT\", \"VT\", \"VT\", \"VA\", \"VA\", \"VA\", \"WA\", \"WA\", \"WA\", \"WV\", \"WV\", \"WV\", \"WI\", \"WI\", \"WI\", \"WY\", \"WY\", \"WY\", \"DC\", \"DC\", \"DC\", \"US\", \"US\", \"US\"], \"name\": \"\", \"z\": [6.4, 10.4, 9.5, 7.9, 11.0, 10.2, 4.3, 9.6, 8.3, 5.0, 11.9, 10.3, 9.2, 14.3, 13.1, 5.1, 10.4, 9.2, 7.7, 9.3, 9.0, 4.7, 9.3, 8.3, 8.0, 13.4, 12.3, 7.0, 11.1, 10.1, 5.9, 11.3, 10.1, 2.3, 7.7, 6.3, 5.3, 9.5, 8.6, 5.5, 8.2, 7.6, 2.8, 6.2, 5.4, 3.5, 6.8, 5.9, 4.3, 10.5, 9.1, 7.3, 13.0, 11.6, 4.7, 8.7, 8.0, 5.4, 11.6, 10.2, 4.7, 10.5, 9.3, 4.6, 8.7, 7.8, 2.0, 6.3, 5.4, 5.9, 12.6, 11.0, 2.6, 7.8, 6.6, 4.0, 8.7, 7.7, 4.0, 7.5, 6.6, 5.8, 11.8, 10.5, 3.1, 7.6, 6.7, 6.8, 11.1, 10.2, 4.7, 11.1, 9.6, 8.6, 13.0, 12.1, 5.0, 11.0, 9.7, 3.9, 8.3, 7.2, 3.8, 8.4, 7.3, 4.5, 9.4, 8.2, 4.2, 10.3, 9.0, 6.4, 9.2, 8.6, 4.7, 6.4, 6.0, 6.3, 11.2, 10.2, 3.6, 7.9, 6.8, 5.2, 9.6, 8.6, 6.3, 11.5, 10.1, 3.4, 7.1, 6.0, 5.8, 9.2, 8.6, 6.8, 9.6, 9.0, 3.5, 7.1, 6.3, 4.3, 10.2, 9.0, 2.7, 6.8, 5.9, 3.3, 9.1, 7.8, 8.1, 15.5, 14.1, 6.0, 10.8, 9.7], \"type\": \"choropleth\"}], \"name\": \"350\"}, {\"data\": [{\"coloraxis\": \"coloraxis\", \"geo\": \"geo\", \"hovertemplate\": \"Child allowance=400<br>State=%{location}<br>Child poverty rate=%{z}<extra></extra>\", \"locationmode\": \"USA-states\", \"locations\": [\"AL\", \"AL\", \"AL\", \"AK\", \"AK\", \"AK\", \"AZ\", \"AZ\", \"AZ\", \"AR\", \"AR\", \"AR\", \"CA\", \"CA\", \"CA\", \"CO\", \"CO\", \"CO\", \"CT\", \"CT\", \"CT\", \"DE\", \"DE\", \"DE\", \"FL\", \"FL\", \"FL\", \"GA\", \"GA\", \"GA\", \"HI\", \"HI\", \"HI\", \"ID\", \"ID\", \"ID\", \"IL\", \"IL\", \"IL\", \"IN\", \"IN\", \"IN\", \"IA\", \"IA\", \"IA\", \"KS\", \"KS\", \"KS\", \"KY\", \"KY\", \"KY\", \"LA\", \"LA\", \"LA\", \"ME\", \"ME\", \"ME\", \"MD\", \"MD\", \"MD\", \"MA\", \"MA\", \"MA\", \"MI\", \"MI\", \"MI\", \"MN\", \"MN\", \"MN\", \"MS\", \"MS\", \"MS\", \"MO\", \"MO\", \"MO\", \"MT\", \"MT\", \"MT\", \"NE\", \"NE\", \"NE\", \"NV\", \"NV\", \"NV\", \"NH\", \"NH\", \"NH\", \"NJ\", \"NJ\", \"NJ\", \"NM\", \"NM\", \"NM\", \"NY\", \"NY\", \"NY\", \"NC\", \"NC\", \"NC\", \"ND\", \"ND\", \"ND\", \"OH\", \"OH\", \"OH\", \"OK\", \"OK\", \"OK\", \"OR\", \"OR\", \"OR\", \"PA\", \"PA\", \"PA\", \"RI\", \"RI\", \"RI\", \"SC\", \"SC\", \"SC\", \"SD\", \"SD\", \"SD\", \"TN\", \"TN\", \"TN\", \"TX\", \"TX\", \"TX\", \"UT\", \"UT\", \"UT\", \"VT\", \"VT\", \"VT\", \"VA\", \"VA\", \"VA\", \"WA\", \"WA\", \"WA\", \"WV\", \"WV\", \"WV\", \"WI\", \"WI\", \"WI\", \"WY\", \"WY\", \"WY\", \"DC\", \"DC\", \"DC\", \"US\", \"US\", \"US\"], \"name\": \"\", \"z\": [5.7, 10.3, 9.3, 7.5, 10.8, 10.0, 3.7, 9.4, 8.1, 4.6, 11.8, 10.1, 8.2, 14.0, 12.7, 4.8, 10.3, 9.1, 7.5, 9.2, 8.8, 4.1, 9.1, 8.1, 7.3, 13.3, 12.1, 6.6, 11.0, 9.9, 5.5, 11.2, 10.0, 1.9, 7.7, 6.2, 4.5, 9.4, 8.3, 4.3, 7.9, 7.0, 2.8, 6.2, 5.4, 3.1, 6.7, 5.8, 3.8, 10.3, 8.8, 6.3, 12.8, 11.2, 4.2, 8.6, 7.8, 4.8, 11.5, 10.0, 4.4, 10.4, 9.2, 4.2, 8.6, 7.6, 1.8, 6.3, 5.2, 5.5, 12.5, 10.8, 2.6, 7.8, 6.6, 3.6, 8.6, 7.5, 3.9, 7.4, 6.5, 5.2, 11.7, 10.2, 3.1, 7.5, 6.7, 6.5, 11.1, 10.0, 4.4, 11.0, 9.5, 8.1, 12.8, 11.8, 4.4, 10.9, 9.5, 3.2, 8.2, 6.9, 3.1, 8.3, 7.1, 3.9, 9.3, 8.0, 3.7, 10.2, 8.8, 5.9, 9.2, 8.5, 4.4, 6.3, 5.9, 5.5, 11.1, 9.9, 3.3, 7.8, 6.7, 4.5, 9.5, 8.4, 5.6, 11.3, 9.8, 3.2, 7.1, 6.0, 5.4, 9.2, 8.5, 5.2, 9.3, 8.4, 3.3, 7.2, 6.3, 3.7, 10.1, 8.8, 2.7, 6.9, 5.9, 2.8, 9.0, 7.5, 7.6, 15.3, 13.9, 5.4, 10.6, 9.4], \"type\": \"choropleth\"}], \"name\": \"400\"}, {\"data\": [{\"coloraxis\": \"coloraxis\", \"geo\": \"geo\", \"hovertemplate\": \"Child allowance=450<br>State=%{location}<br>Child poverty rate=%{z}<extra></extra>\", \"locationmode\": \"USA-states\", \"locations\": [\"AL\", \"AL\", \"AL\", \"AK\", \"AK\", \"AK\", \"AZ\", \"AZ\", \"AZ\", \"AR\", \"AR\", \"AR\", \"CA\", \"CA\", \"CA\", \"CO\", \"CO\", \"CO\", \"CT\", \"CT\", \"CT\", \"DE\", \"DE\", \"DE\", \"FL\", \"FL\", \"FL\", \"GA\", \"GA\", \"GA\", \"HI\", \"HI\", \"HI\", \"ID\", \"ID\", \"ID\", \"IL\", \"IL\", \"IL\", \"IN\", \"IN\", \"IN\", \"IA\", \"IA\", \"IA\", \"KS\", \"KS\", \"KS\", \"KY\", \"KY\", \"KY\", \"LA\", \"LA\", \"LA\", \"ME\", \"ME\", \"ME\", \"MD\", \"MD\", \"MD\", \"MA\", \"MA\", \"MA\", \"MI\", \"MI\", \"MI\", \"MN\", \"MN\", \"MN\", \"MS\", \"MS\", \"MS\", \"MO\", \"MO\", \"MO\", \"MT\", \"MT\", \"MT\", \"NE\", \"NE\", \"NE\", \"NV\", \"NV\", \"NV\", \"NH\", \"NH\", \"NH\", \"NJ\", \"NJ\", \"NJ\", \"NM\", \"NM\", \"NM\", \"NY\", \"NY\", \"NY\", \"NC\", \"NC\", \"NC\", \"ND\", \"ND\", \"ND\", \"OH\", \"OH\", \"OH\", \"OK\", \"OK\", \"OK\", \"OR\", \"OR\", \"OR\", \"PA\", \"PA\", \"PA\", \"RI\", \"RI\", \"RI\", \"SC\", \"SC\", \"SC\", \"SD\", \"SD\", \"SD\", \"TN\", \"TN\", \"TN\", \"TX\", \"TX\", \"TX\", \"UT\", \"UT\", \"UT\", \"VT\", \"VT\", \"VT\", \"VA\", \"VA\", \"VA\", \"WA\", \"WA\", \"WA\", \"WV\", \"WV\", \"WV\", \"WI\", \"WI\", \"WI\", \"WY\", \"WY\", \"WY\", \"DC\", \"DC\", \"DC\", \"US\", \"US\", \"US\"], \"name\": \"\", \"z\": [5.0, 10.1, 9.0, 7.4, 10.8, 9.9, 3.3, 9.3, 7.9, 3.9, 11.7, 9.8, 7.3, 13.8, 12.3, 4.1, 10.2, 8.8, 6.1, 9.0, 8.4, 4.0, 9.2, 8.1, 6.7, 13.2, 11.9, 5.4, 10.8, 9.5, 4.6, 11.1, 9.7, 1.9, 7.7, 6.2, 3.8, 9.3, 8.1, 3.8, 7.8, 6.8, 2.2, 6.2, 5.3, 2.2, 6.6, 5.5, 3.0, 10.1, 8.5, 5.4, 12.5, 10.8, 4.1, 8.6, 7.7, 4.3, 11.4, 9.9, 3.7, 10.2, 8.9, 3.8, 8.5, 7.5, 1.8, 6.3, 5.2, 5.1, 12.3, 10.6, 2.3, 7.6, 6.4, 3.3, 8.5, 7.4, 3.6, 7.3, 6.4, 4.4, 11.5, 9.9, 2.8, 7.5, 6.6, 5.6, 10.9, 9.7, 3.8, 10.8, 9.2, 7.2, 12.6, 11.5, 4.1, 10.8, 9.3, 2.5, 8.0, 6.7, 2.9, 8.2, 7.0, 3.1, 9.2, 7.6, 3.7, 10.2, 8.8, 5.0, 9.0, 8.2, 3.8, 6.2, 5.7, 5.1, 11.0, 9.7, 2.7, 7.7, 6.4, 4.0, 9.4, 8.2, 4.9, 11.1, 9.5, 3.0, 7.1, 5.9, 4.9, 9.1, 8.3, 4.5, 9.1, 8.1, 2.7, 7.1, 6.1, 3.2, 10.0, 8.6, 2.3, 6.8, 5.8, 2.7, 8.9, 7.5, 6.9, 15.2, 13.6, 4.8, 10.5, 9.2], \"type\": \"choropleth\"}], \"name\": \"450\"}, {\"data\": [{\"coloraxis\": \"coloraxis\", \"geo\": \"geo\", \"hovertemplate\": \"Child allowance=500<br>State=%{location}<br>Child poverty rate=%{z}<extra></extra>\", \"locationmode\": \"USA-states\", \"locations\": [\"AL\", \"AL\", \"AL\", \"AK\", \"AK\", \"AK\", \"AZ\", \"AZ\", \"AZ\", \"AR\", \"AR\", \"AR\", \"CA\", \"CA\", \"CA\", \"CO\", \"CO\", \"CO\", \"CT\", \"CT\", \"CT\", \"DE\", \"DE\", \"DE\", \"FL\", \"FL\", \"FL\", \"GA\", \"GA\", \"GA\", \"HI\", \"HI\", \"HI\", \"ID\", \"ID\", \"ID\", \"IL\", \"IL\", \"IL\", \"IN\", \"IN\", \"IN\", \"IA\", \"IA\", \"IA\", \"KS\", \"KS\", \"KS\", \"KY\", \"KY\", \"KY\", \"LA\", \"LA\", \"LA\", \"ME\", \"ME\", \"ME\", \"MD\", \"MD\", \"MD\", \"MA\", \"MA\", \"MA\", \"MI\", \"MI\", \"MI\", \"MN\", \"MN\", \"MN\", \"MS\", \"MS\", \"MS\", \"MO\", \"MO\", \"MO\", \"MT\", \"MT\", \"MT\", \"NE\", \"NE\", \"NE\", \"NV\", \"NV\", \"NV\", \"NH\", \"NH\", \"NH\", \"NJ\", \"NJ\", \"NJ\", \"NM\", \"NM\", \"NM\", \"NY\", \"NY\", \"NY\", \"NC\", \"NC\", \"NC\", \"ND\", \"ND\", \"ND\", \"OH\", \"OH\", \"OH\", \"OK\", \"OK\", \"OK\", \"OR\", \"OR\", \"OR\", \"PA\", \"PA\", \"PA\", \"RI\", \"RI\", \"RI\", \"SC\", \"SC\", \"SC\", \"SD\", \"SD\", \"SD\", \"TN\", \"TN\", \"TN\", \"TX\", \"TX\", \"TX\", \"UT\", \"UT\", \"UT\", \"VT\", \"VT\", \"VT\", \"VA\", \"VA\", \"VA\", \"WA\", \"WA\", \"WA\", \"WV\", \"WV\", \"WV\", \"WI\", \"WI\", \"WI\", \"WY\", \"WY\", \"WY\", \"DC\", \"DC\", \"DC\", \"US\", \"US\", \"US\"], \"name\": \"\", \"z\": [4.8, 10.1, 8.9, 6.7, 10.6, 9.6, 3.1, 9.3, 7.8, 3.2, 11.5, 9.5, 6.7, 13.7, 12.1, 3.8, 10.1, 8.7, 5.7, 8.8, 8.2, 3.9, 9.1, 8.0, 6.0, 13.0, 11.6, 4.8, 10.7, 9.2, 3.6, 10.9, 9.3, 1.8, 7.7, 6.2, 3.4, 9.3, 7.9, 3.2, 7.7, 6.6, 2.0, 6.1, 5.1, 2.1, 6.5, 5.4, 2.8, 10.0, 8.4, 4.6, 12.3, 10.4, 3.8, 8.6, 7.7, 4.1, 11.4, 9.8, 3.3, 10.1, 8.7, 3.6, 8.5, 7.4, 1.2, 6.2, 5.0, 4.4, 12.1, 10.2, 2.1, 7.6, 6.3, 2.6, 8.4, 7.1, 3.3, 7.3, 6.3, 4.2, 11.5, 9.8, 2.2, 7.4, 6.4, 4.9, 10.7, 9.4, 3.2, 10.6, 8.9, 6.3, 12.5, 11.2, 3.5, 10.6, 9.0, 2.5, 8.0, 6.7, 2.6, 8.1, 6.9, 2.8, 9.1, 7.5, 3.0, 10.1, 8.6, 4.3, 8.8, 7.8, 2.7, 6.1, 5.4, 4.8, 10.9, 9.6, 2.3, 7.6, 6.2, 3.9, 9.3, 8.1, 4.3, 10.9, 9.2, 2.9, 7.1, 5.9, 4.5, 9.2, 8.3, 4.1, 9.1, 8.0, 2.6, 7.1, 6.1, 2.6, 9.9, 8.4, 2.2, 6.8, 5.8, 2.2, 8.8, 7.2, 5.9, 15.0, 13.3, 4.3, 10.4, 9.0], \"type\": \"choropleth\"}], \"name\": \"500\"}]);\n",
       "                        }).then(function(){\n",
       "                            \n",
       "var gd = document.getElementById('1226b139-b894-46ab-80d3-28a6e093743d');\n",
       "var x = new MutationObserver(function (mutations, observer) {{\n",
       "        var display = window.getComputedStyle(gd).display;\n",
       "        if (!display || display === 'none') {{\n",
       "            console.log([gd, 'removed!']);\n",
       "            Plotly.purge(gd);\n",
       "            observer.disconnect();\n",
       "        }}\n",
       "}});\n",
       "\n",
       "// Listen for the removal of the full notebook cells\n",
       "var notebookContainer = gd.closest('#notebook-container');\n",
       "if (notebookContainer) {{\n",
       "    x.observe(notebookContainer, {childList: true});\n",
       "}}\n",
       "\n",
       "// Listen for the clearing of the current output cell\n",
       "var outputEl = gd.closest('.output');\n",
       "if (outputEl) {{\n",
       "    x.observe(outputEl, {childList: true});\n",
       "}}\n",
       "\n",
       "                        })\n",
       "                };\n",
       "                });\n",
       "            </script>\n",
       "        </div>"
      ]
     },
     "metadata": {},
     "output_type": "display_data"
    }
   ],
   "source": [
    "fed_states = summary[summary['age_group'] == 'child']\n",
    "fed_states = summary[summary['race'] == 'All']\n",
    "\n",
    "fed_map = px.choropleth(fed_states, \n",
    "                        locations='code',\n",
    "                        color='fed_poverty_rate', \n",
    "                        animation_frame='child_allowance',\n",
    "                        color_continuous_scale='reds',\n",
    "                        locationmode='USA-states',\n",
    "                        scope='usa',\n",
    "                        range_color=(0, 22),\n",
    "                        title='Child poverty with federally funded tax reform',\n",
    "                        height=600,\n",
    "                        labels={'child_allowance':'Child allowance',\n",
    "                                'code': 'State',\n",
    "                                'fed_poverty_rate': 'Child poverty rate'})\n",
    "\n",
    "fed_map.update_layout(coloraxis_showscale=False,\n",
    "                      font=dict(family='Roboto'))\n",
    "fed_map.show(config={'displayModeBar': False})"
   ]
  },
  {
   "cell_type": "code",
   "execution_count": 6,
   "metadata": {
    "tags": [
     "hide-input"
    ]
   },
   "outputs": [
    {
     "data": {
      "application/vnd.plotly.v1+json": {
       "config": {
        "displayModeBar": false,
        "plotlyServerURL": "https://plot.ly"
       },
       "data": [
        {
         "coloraxis": "coloraxis",
         "geo": "geo",
         "hovertemplate": "Child Allowance=0<br>State=%{location}<br>Child poverty rate=%{z}<extra></extra>",
         "locationmode": "USA-states",
         "locations": [
          "AL",
          "AL",
          "AL",
          "AK",
          "AK",
          "AK",
          "AZ",
          "AZ",
          "AZ",
          "AR",
          "AR",
          "AR",
          "CA",
          "CA",
          "CA",
          "CO",
          "CO",
          "CO",
          "CT",
          "CT",
          "CT",
          "DE",
          "DE",
          "DE",
          "FL",
          "FL",
          "FL",
          "GA",
          "GA",
          "GA",
          "HI",
          "HI",
          "HI",
          "ID",
          "ID",
          "ID",
          "IL",
          "IL",
          "IL",
          "IN",
          "IN",
          "IN",
          "IA",
          "IA",
          "IA",
          "KS",
          "KS",
          "KS",
          "KY",
          "KY",
          "KY",
          "LA",
          "LA",
          "LA",
          "ME",
          "ME",
          "ME",
          "MD",
          "MD",
          "MD",
          "MA",
          "MA",
          "MA",
          "MI",
          "MI",
          "MI",
          "MN",
          "MN",
          "MN",
          "MS",
          "MS",
          "MS",
          "MO",
          "MO",
          "MO",
          "MT",
          "MT",
          "MT",
          "NE",
          "NE",
          "NE",
          "NV",
          "NV",
          "NV",
          "NH",
          "NH",
          "NH",
          "NJ",
          "NJ",
          "NJ",
          "NM",
          "NM",
          "NM",
          "NY",
          "NY",
          "NY",
          "NC",
          "NC",
          "NC",
          "ND",
          "ND",
          "ND",
          "OH",
          "OH",
          "OH",
          "OK",
          "OK",
          "OK",
          "OR",
          "OR",
          "OR",
          "PA",
          "PA",
          "PA",
          "RI",
          "RI",
          "RI",
          "SC",
          "SC",
          "SC",
          "SD",
          "SD",
          "SD",
          "TN",
          "TN",
          "TN",
          "TX",
          "TX",
          "TX",
          "UT",
          "UT",
          "UT",
          "VT",
          "VT",
          "VT",
          "VA",
          "VA",
          "VA",
          "WA",
          "WA",
          "WA",
          "WV",
          "WV",
          "WV",
          "WI",
          "WI",
          "WI",
          "WY",
          "WY",
          "WY",
          "DC",
          "DC",
          "DC",
          "US",
          "US",
          "US"
         ],
         "name": "",
         "type": "choropleth",
         "z": [
          14.8,
          12.1,
          12.7,
          14.3,
          12.9,
          13.3,
          13,
          11.7,
          12,
          12.5,
          13.3,
          13.1,
          19.6,
          16.8,
          17.4,
          11.4,
          11.8,
          11.7,
          13.6,
          10.7,
          11.3,
          10.4,
          10.6,
          10.6,
          18.4,
          15.3,
          16,
          15.5,
          13.1,
          13.7,
          15.6,
          13.3,
          13.8,
          7.1,
          8.7,
          8.3,
          12.5,
          11.1,
          11.4,
          12.6,
          9.7,
          10.4,
          8.1,
          7.3,
          7.5,
          7.3,
          7.6,
          7.5,
          10.3,
          11.5,
          11.2,
          19.5,
          15.6,
          16.6,
          9.6,
          9.4,
          9.4,
          11.2,
          12.8,
          12.5,
          10.7,
          11.7,
          11.5,
          10.5,
          9.9,
          10.1,
          5.3,
          6.9,
          6.6,
          17,
          14.9,
          15.4,
          8.8,
          8.9,
          8.9,
          8,
          9.3,
          9,
          9.7,
          8.9,
          9.1,
          13.7,
          13.5,
          13.5,
          8.1,
          8.6,
          8.5,
          13.8,
          12.8,
          13,
          13.9,
          13.5,
          13.6,
          17.2,
          14.6,
          15.2,
          14.9,
          13.2,
          13.6,
          9.8,
          9.5,
          9.6,
          11.3,
          10.1,
          10.3,
          10.1,
          10.9,
          10.7,
          10.3,
          11.5,
          11.3,
          13,
          10.7,
          11.1,
          10.1,
          7.6,
          8.1,
          15.1,
          12.8,
          13.3,
          9.1,
          9,
          9.1,
          12.1,
          10.9,
          11.2,
          15.3,
          13.6,
          14.1,
          7.6,
          8.5,
          8.2,
          12.4,
          10.1,
          10.6,
          13.4,
          11.3,
          11.8,
          8.8,
          8.2,
          8.4,
          13.4,
          12.3,
          12.5,
          8.2,
          7.8,
          7.9,
          9.3,
          10.2,
          10,
          17.3,
          16.9,
          17,
          13.9,
          12.5,
          12.8
         ]
        }
       ],
       "frames": [
        {
         "data": [
          {
           "coloraxis": "coloraxis",
           "geo": "geo",
           "hovertemplate": "Child Allowance=0<br>State=%{location}<br>Child poverty rate=%{z}<extra></extra>",
           "locationmode": "USA-states",
           "locations": [
            "AL",
            "AL",
            "AL",
            "AK",
            "AK",
            "AK",
            "AZ",
            "AZ",
            "AZ",
            "AR",
            "AR",
            "AR",
            "CA",
            "CA",
            "CA",
            "CO",
            "CO",
            "CO",
            "CT",
            "CT",
            "CT",
            "DE",
            "DE",
            "DE",
            "FL",
            "FL",
            "FL",
            "GA",
            "GA",
            "GA",
            "HI",
            "HI",
            "HI",
            "ID",
            "ID",
            "ID",
            "IL",
            "IL",
            "IL",
            "IN",
            "IN",
            "IN",
            "IA",
            "IA",
            "IA",
            "KS",
            "KS",
            "KS",
            "KY",
            "KY",
            "KY",
            "LA",
            "LA",
            "LA",
            "ME",
            "ME",
            "ME",
            "MD",
            "MD",
            "MD",
            "MA",
            "MA",
            "MA",
            "MI",
            "MI",
            "MI",
            "MN",
            "MN",
            "MN",
            "MS",
            "MS",
            "MS",
            "MO",
            "MO",
            "MO",
            "MT",
            "MT",
            "MT",
            "NE",
            "NE",
            "NE",
            "NV",
            "NV",
            "NV",
            "NH",
            "NH",
            "NH",
            "NJ",
            "NJ",
            "NJ",
            "NM",
            "NM",
            "NM",
            "NY",
            "NY",
            "NY",
            "NC",
            "NC",
            "NC",
            "ND",
            "ND",
            "ND",
            "OH",
            "OH",
            "OH",
            "OK",
            "OK",
            "OK",
            "OR",
            "OR",
            "OR",
            "PA",
            "PA",
            "PA",
            "RI",
            "RI",
            "RI",
            "SC",
            "SC",
            "SC",
            "SD",
            "SD",
            "SD",
            "TN",
            "TN",
            "TN",
            "TX",
            "TX",
            "TX",
            "UT",
            "UT",
            "UT",
            "VT",
            "VT",
            "VT",
            "VA",
            "VA",
            "VA",
            "WA",
            "WA",
            "WA",
            "WV",
            "WV",
            "WV",
            "WI",
            "WI",
            "WI",
            "WY",
            "WY",
            "WY",
            "DC",
            "DC",
            "DC",
            "US",
            "US",
            "US"
           ],
           "name": "",
           "type": "choropleth",
           "z": [
            14.8,
            12.1,
            12.7,
            14.3,
            12.9,
            13.3,
            13,
            11.7,
            12,
            12.5,
            13.3,
            13.1,
            19.6,
            16.8,
            17.4,
            11.4,
            11.8,
            11.7,
            13.6,
            10.7,
            11.3,
            10.4,
            10.6,
            10.6,
            18.4,
            15.3,
            16,
            15.5,
            13.1,
            13.7,
            15.6,
            13.3,
            13.8,
            7.1,
            8.7,
            8.3,
            12.5,
            11.1,
            11.4,
            12.6,
            9.7,
            10.4,
            8.1,
            7.3,
            7.5,
            7.3,
            7.6,
            7.5,
            10.3,
            11.5,
            11.2,
            19.5,
            15.6,
            16.6,
            9.6,
            9.4,
            9.4,
            11.2,
            12.8,
            12.5,
            10.7,
            11.7,
            11.5,
            10.5,
            9.9,
            10.1,
            5.3,
            6.9,
            6.6,
            17,
            14.9,
            15.4,
            8.8,
            8.9,
            8.9,
            8,
            9.3,
            9,
            9.7,
            8.9,
            9.1,
            13.7,
            13.5,
            13.5,
            8.1,
            8.6,
            8.5,
            13.8,
            12.8,
            13,
            13.9,
            13.5,
            13.6,
            17.2,
            14.6,
            15.2,
            14.9,
            13.2,
            13.6,
            9.8,
            9.5,
            9.6,
            11.3,
            10.1,
            10.3,
            10.1,
            10.9,
            10.7,
            10.3,
            11.5,
            11.3,
            13,
            10.7,
            11.1,
            10.1,
            7.6,
            8.1,
            15.1,
            12.8,
            13.3,
            9.1,
            9,
            9.1,
            12.1,
            10.9,
            11.2,
            15.3,
            13.6,
            14.1,
            7.6,
            8.5,
            8.2,
            12.4,
            10.1,
            10.6,
            13.4,
            11.3,
            11.8,
            8.8,
            8.2,
            8.4,
            13.4,
            12.3,
            12.5,
            8.2,
            7.8,
            7.9,
            9.3,
            10.2,
            10,
            17.3,
            16.9,
            17,
            13.9,
            12.5,
            12.8
           ]
          }
         ],
         "name": "0"
        },
        {
         "data": [
          {
           "coloraxis": "coloraxis",
           "geo": "geo",
           "hovertemplate": "Child Allowance=50<br>State=%{location}<br>Child poverty rate=%{z}<extra></extra>",
           "locationmode": "USA-states",
           "locations": [
            "AL",
            "AL",
            "AL",
            "AK",
            "AK",
            "AK",
            "AZ",
            "AZ",
            "AZ",
            "AR",
            "AR",
            "AR",
            "CA",
            "CA",
            "CA",
            "CO",
            "CO",
            "CO",
            "CT",
            "CT",
            "CT",
            "DE",
            "DE",
            "DE",
            "FL",
            "FL",
            "FL",
            "GA",
            "GA",
            "GA",
            "HI",
            "HI",
            "HI",
            "ID",
            "ID",
            "ID",
            "IL",
            "IL",
            "IL",
            "IN",
            "IN",
            "IN",
            "IA",
            "IA",
            "IA",
            "KS",
            "KS",
            "KS",
            "KY",
            "KY",
            "KY",
            "LA",
            "LA",
            "LA",
            "ME",
            "ME",
            "ME",
            "MD",
            "MD",
            "MD",
            "MA",
            "MA",
            "MA",
            "MI",
            "MI",
            "MI",
            "MN",
            "MN",
            "MN",
            "MS",
            "MS",
            "MS",
            "MO",
            "MO",
            "MO",
            "MT",
            "MT",
            "MT",
            "NE",
            "NE",
            "NE",
            "NV",
            "NV",
            "NV",
            "NH",
            "NH",
            "NH",
            "NJ",
            "NJ",
            "NJ",
            "NM",
            "NM",
            "NM",
            "NY",
            "NY",
            "NY",
            "NC",
            "NC",
            "NC",
            "ND",
            "ND",
            "ND",
            "OH",
            "OH",
            "OH",
            "OK",
            "OK",
            "OK",
            "OR",
            "OR",
            "OR",
            "PA",
            "PA",
            "PA",
            "RI",
            "RI",
            "RI",
            "SC",
            "SC",
            "SC",
            "SD",
            "SD",
            "SD",
            "TN",
            "TN",
            "TN",
            "TX",
            "TX",
            "TX",
            "UT",
            "UT",
            "UT",
            "VT",
            "VT",
            "VT",
            "VA",
            "VA",
            "VA",
            "WA",
            "WA",
            "WA",
            "WV",
            "WV",
            "WV",
            "WI",
            "WI",
            "WI",
            "WY",
            "WY",
            "WY",
            "DC",
            "DC",
            "DC",
            "US",
            "US",
            "US"
           ],
           "name": "",
           "type": "choropleth",
           "z": [
            13.7,
            11.8,
            12.2,
            12.8,
            12.7,
            12.7,
            10.4,
            11.1,
            11,
            10.4,
            12.8,
            12.2,
            17.8,
            16.3,
            16.7,
            10,
            11.4,
            11.1,
            13,
            10.6,
            11.1,
            9.5,
            10.3,
            10.2,
            16.3,
            14.9,
            15.2,
            14.7,
            12.9,
            13.3,
            14,
            12.8,
            13.1,
            6.1,
            8.6,
            7.9,
            11.3,
            10.8,
            10.9,
            11.8,
            9.5,
            10.1,
            7.4,
            7,
            7.1,
            5.5,
            7.2,
            6.8,
            9.5,
            11.4,
            11,
            17.6,
            15.3,
            15.9,
            7.9,
            9.2,
            8.9,
            10.2,
            12.7,
            12.1,
            9.4,
            11.5,
            11.1,
            9.4,
            9.7,
            9.6,
            4.5,
            6.8,
            6.2,
            14.9,
            14.6,
            14.6,
            7.1,
            8.6,
            8.3,
            7.4,
            9.1,
            8.8,
            8.4,
            8.7,
            8.6,
            10.5,
            12.8,
            12.3,
            7.1,
            8.4,
            8.2,
            12.9,
            12.6,
            12.7,
            12,
            13,
            12.8,
            15.7,
            14.3,
            14.6,
            12.8,
            12.8,
            12.8,
            8.2,
            9.3,
            9,
            10.1,
            9.9,
            9.9,
            9,
            10.5,
            10.2,
            9,
            11.3,
            10.8,
            11.6,
            10.3,
            10.6,
            9.5,
            7.4,
            7.8,
            13.1,
            12.5,
            12.7,
            8.4,
            8.9,
            8.8,
            10.3,
            10.6,
            10.5,
            13.5,
            13.2,
            13.3,
            6.7,
            8.2,
            7.7,
            10.8,
            10,
            10.1,
            12.4,
            11.1,
            11.4,
            7.7,
            8,
            7.9,
            12.2,
            12,
            12.1,
            6.8,
            7.6,
            7.4,
            7.5,
            10,
            9.4,
            15.6,
            16.6,
            16.4,
            12.4,
            12.1,
            12.2
           ]
          }
         ],
         "name": "50"
        },
        {
         "data": [
          {
           "coloraxis": "coloraxis",
           "geo": "geo",
           "hovertemplate": "Child Allowance=100<br>State=%{location}<br>Child poverty rate=%{z}<extra></extra>",
           "locationmode": "USA-states",
           "locations": [
            "AL",
            "AL",
            "AL",
            "AK",
            "AK",
            "AK",
            "AZ",
            "AZ",
            "AZ",
            "AR",
            "AR",
            "AR",
            "CA",
            "CA",
            "CA",
            "CO",
            "CO",
            "CO",
            "CT",
            "CT",
            "CT",
            "DE",
            "DE",
            "DE",
            "FL",
            "FL",
            "FL",
            "GA",
            "GA",
            "GA",
            "HI",
            "HI",
            "HI",
            "ID",
            "ID",
            "ID",
            "IL",
            "IL",
            "IL",
            "IN",
            "IN",
            "IN",
            "IA",
            "IA",
            "IA",
            "KS",
            "KS",
            "KS",
            "KY",
            "KY",
            "KY",
            "LA",
            "LA",
            "LA",
            "ME",
            "ME",
            "ME",
            "MD",
            "MD",
            "MD",
            "MA",
            "MA",
            "MA",
            "MI",
            "MI",
            "MI",
            "MN",
            "MN",
            "MN",
            "MS",
            "MS",
            "MS",
            "MO",
            "MO",
            "MO",
            "MT",
            "MT",
            "MT",
            "NE",
            "NE",
            "NE",
            "NV",
            "NV",
            "NV",
            "NH",
            "NH",
            "NH",
            "NJ",
            "NJ",
            "NJ",
            "NM",
            "NM",
            "NM",
            "NY",
            "NY",
            "NY",
            "NC",
            "NC",
            "NC",
            "ND",
            "ND",
            "ND",
            "OH",
            "OH",
            "OH",
            "OK",
            "OK",
            "OK",
            "OR",
            "OR",
            "OR",
            "PA",
            "PA",
            "PA",
            "RI",
            "RI",
            "RI",
            "SC",
            "SC",
            "SC",
            "SD",
            "SD",
            "SD",
            "TN",
            "TN",
            "TN",
            "TX",
            "TX",
            "TX",
            "UT",
            "UT",
            "UT",
            "VT",
            "VT",
            "VT",
            "VA",
            "VA",
            "VA",
            "WA",
            "WA",
            "WA",
            "WV",
            "WV",
            "WV",
            "WI",
            "WI",
            "WI",
            "WY",
            "WY",
            "WY",
            "DC",
            "DC",
            "DC",
            "US",
            "US",
            "US"
           ],
           "name": "",
           "type": "choropleth",
           "z": [
            12.1,
            11.5,
            11.6,
            11.9,
            12.4,
            12.3,
            9.1,
            10.8,
            10.4,
            9,
            12.6,
            11.7,
            16.4,
            16,
            16.1,
            8.8,
            11.2,
            10.6,
            12.9,
            10.5,
            11,
            8.6,
            10.1,
            9.8,
            13.6,
            14.5,
            14.3,
            13.1,
            12.5,
            12.7,
            12.7,
            12.6,
            12.6,
            4.8,
            8.3,
            7.4,
            9.5,
            10.4,
            10.2,
            10.3,
            9.2,
            9.5,
            6.3,
            6.8,
            6.7,
            5.1,
            7.1,
            6.6,
            8.3,
            11.3,
            10.7,
            15.6,
            14.8,
            15,
            7,
            9,
            8.6,
            8.5,
            12.4,
            11.5,
            8.6,
            11.4,
            10.9,
            8.1,
            9.4,
            9.1,
            3.7,
            6.7,
            6,
            13,
            14.2,
            13.9,
            6.7,
            8.5,
            8.1,
            6.9,
            9.1,
            8.6,
            7.6,
            8.4,
            8.2,
            9.8,
            12.7,
            12.1,
            6.4,
            8.2,
            7.9,
            11.8,
            12.4,
            12.2,
            10.8,
            12.7,
            12.2,
            14.2,
            14,
            14,
            10.1,
            12.3,
            11.8,
            7.5,
            9.1,
            8.7,
            8.3,
            9.6,
            9.3,
            7.7,
            10.3,
            9.6,
            7.6,
            10.9,
            10.2,
            10.5,
            10.2,
            10.2,
            8.4,
            7.2,
            7.5,
            11.2,
            12.2,
            12,
            6.7,
            8.5,
            8,
            9.1,
            10.4,
            10.1,
            11.9,
            12.9,
            12.6,
            5.7,
            7.9,
            7.3,
            9.4,
            9.8,
            9.7,
            11.1,
            10.9,
            10.9,
            6.7,
            7.8,
            7.6,
            10.1,
            11.6,
            11.3,
            5.7,
            7.5,
            7.1,
            6.7,
            9.9,
            9.1,
            14.4,
            16.4,
            16.1,
            10.9,
            11.8,
            11.6
           ]
          }
         ],
         "name": "100"
        },
        {
         "data": [
          {
           "coloraxis": "coloraxis",
           "geo": "geo",
           "hovertemplate": "Child Allowance=150<br>State=%{location}<br>Child poverty rate=%{z}<extra></extra>",
           "locationmode": "USA-states",
           "locations": [
            "AL",
            "AL",
            "AL",
            "AK",
            "AK",
            "AK",
            "AZ",
            "AZ",
            "AZ",
            "AR",
            "AR",
            "AR",
            "CA",
            "CA",
            "CA",
            "CO",
            "CO",
            "CO",
            "CT",
            "CT",
            "CT",
            "DE",
            "DE",
            "DE",
            "FL",
            "FL",
            "FL",
            "GA",
            "GA",
            "GA",
            "HI",
            "HI",
            "HI",
            "ID",
            "ID",
            "ID",
            "IL",
            "IL",
            "IL",
            "IN",
            "IN",
            "IN",
            "IA",
            "IA",
            "IA",
            "KS",
            "KS",
            "KS",
            "KY",
            "KY",
            "KY",
            "LA",
            "LA",
            "LA",
            "ME",
            "ME",
            "ME",
            "MD",
            "MD",
            "MD",
            "MA",
            "MA",
            "MA",
            "MI",
            "MI",
            "MI",
            "MN",
            "MN",
            "MN",
            "MS",
            "MS",
            "MS",
            "MO",
            "MO",
            "MO",
            "MT",
            "MT",
            "MT",
            "NE",
            "NE",
            "NE",
            "NV",
            "NV",
            "NV",
            "NH",
            "NH",
            "NH",
            "NJ",
            "NJ",
            "NJ",
            "NM",
            "NM",
            "NM",
            "NY",
            "NY",
            "NY",
            "NC",
            "NC",
            "NC",
            "ND",
            "ND",
            "ND",
            "OH",
            "OH",
            "OH",
            "OK",
            "OK",
            "OK",
            "OR",
            "OR",
            "OR",
            "PA",
            "PA",
            "PA",
            "RI",
            "RI",
            "RI",
            "SC",
            "SC",
            "SC",
            "SD",
            "SD",
            "SD",
            "TN",
            "TN",
            "TN",
            "TX",
            "TX",
            "TX",
            "UT",
            "UT",
            "UT",
            "VT",
            "VT",
            "VT",
            "VA",
            "VA",
            "VA",
            "WA",
            "WA",
            "WA",
            "WV",
            "WV",
            "WV",
            "WI",
            "WI",
            "WI",
            "WY",
            "WY",
            "WY",
            "DC",
            "DC",
            "DC",
            "US",
            "US",
            "US"
           ],
           "name": "",
           "type": "choropleth",
           "z": [
            10.2,
            11.1,
            10.9,
            11.3,
            12.2,
            12,
            7.5,
            10.5,
            9.8,
            8.1,
            12.5,
            11.4,
            14.8,
            15.7,
            15.4,
            6.8,
            10.8,
            9.9,
            11.4,
            10.1,
            10.4,
            7.6,
            9.9,
            9.4,
            12.1,
            14.1,
            13.7,
            11,
            12.1,
            11.8,
            10.9,
            12.3,
            12,
            4.4,
            8.3,
            7.3,
            8.4,
            10.2,
            9.8,
            9.2,
            9,
            9.1,
            5.5,
            6.8,
            6.5,
            4.4,
            7,
            6.4,
            7.8,
            11.2,
            10.4,
            13.4,
            14.4,
            14.2,
            5.6,
            8.7,
            8.1,
            7.4,
            12.1,
            11.1,
            7.6,
            11.1,
            10.4,
            7.1,
            9.2,
            8.7,
            3.5,
            6.7,
            5.9,
            10.4,
            13.7,
            12.9,
            6.2,
            8.5,
            8,
            5.9,
            8.9,
            8.3,
            6.7,
            8.1,
            7.8,
            9.1,
            12.6,
            11.8,
            5.9,
            8.1,
            7.7,
            10.9,
            12.2,
            11.9,
            9.3,
            12.3,
            11.6,
            12.9,
            13.7,
            13.5,
            8.4,
            11.8,
            11.1,
            6.6,
            9,
            8.4,
            7.4,
            9.4,
            8.9,
            6.7,
            10.1,
            9.2,
            6.6,
            10.8,
            9.9,
            9.1,
            9.9,
            9.7,
            7.7,
            7,
            7.2,
            9.8,
            12.1,
            11.6,
            6.4,
            8.5,
            8,
            8.4,
            10.2,
            9.8,
            10.8,
            12.6,
            12.1,
            5.3,
            7.7,
            7,
            8.3,
            9.6,
            9.4,
            10.1,
            10.5,
            10.4,
            6.1,
            7.6,
            7.3,
            8.4,
            11.2,
            10.6,
            5,
            7.3,
            6.8,
            5.4,
            9.7,
            8.7,
            13.2,
            16.3,
            15.7,
            9.7,
            11.6,
            11.1
           ]
          }
         ],
         "name": "150"
        },
        {
         "data": [
          {
           "coloraxis": "coloraxis",
           "geo": "geo",
           "hovertemplate": "Child Allowance=200<br>State=%{location}<br>Child poverty rate=%{z}<extra></extra>",
           "locationmode": "USA-states",
           "locations": [
            "AL",
            "AL",
            "AL",
            "AK",
            "AK",
            "AK",
            "AZ",
            "AZ",
            "AZ",
            "AR",
            "AR",
            "AR",
            "CA",
            "CA",
            "CA",
            "CO",
            "CO",
            "CO",
            "CT",
            "CT",
            "CT",
            "DE",
            "DE",
            "DE",
            "FL",
            "FL",
            "FL",
            "GA",
            "GA",
            "GA",
            "HI",
            "HI",
            "HI",
            "ID",
            "ID",
            "ID",
            "IL",
            "IL",
            "IL",
            "IN",
            "IN",
            "IN",
            "IA",
            "IA",
            "IA",
            "KS",
            "KS",
            "KS",
            "KY",
            "KY",
            "KY",
            "LA",
            "LA",
            "LA",
            "ME",
            "ME",
            "ME",
            "MD",
            "MD",
            "MD",
            "MA",
            "MA",
            "MA",
            "MI",
            "MI",
            "MI",
            "MN",
            "MN",
            "MN",
            "MS",
            "MS",
            "MS",
            "MO",
            "MO",
            "MO",
            "MT",
            "MT",
            "MT",
            "NE",
            "NE",
            "NE",
            "NV",
            "NV",
            "NV",
            "NH",
            "NH",
            "NH",
            "NJ",
            "NJ",
            "NJ",
            "NM",
            "NM",
            "NM",
            "NY",
            "NY",
            "NY",
            "NC",
            "NC",
            "NC",
            "ND",
            "ND",
            "ND",
            "OH",
            "OH",
            "OH",
            "OK",
            "OK",
            "OK",
            "OR",
            "OR",
            "OR",
            "PA",
            "PA",
            "PA",
            "RI",
            "RI",
            "RI",
            "SC",
            "SC",
            "SC",
            "SD",
            "SD",
            "SD",
            "TN",
            "TN",
            "TN",
            "TX",
            "TX",
            "TX",
            "UT",
            "UT",
            "UT",
            "VT",
            "VT",
            "VT",
            "VA",
            "VA",
            "VA",
            "WA",
            "WA",
            "WA",
            "WV",
            "WV",
            "WV",
            "WI",
            "WI",
            "WI",
            "WY",
            "WY",
            "WY",
            "DC",
            "DC",
            "DC",
            "US",
            "US",
            "US"
           ],
           "name": "",
           "type": "choropleth",
           "z": [
            9.3,
            10.9,
            10.5,
            10.6,
            12,
            11.6,
            5.8,
            10.1,
            9.1,
            7.5,
            12.4,
            11.2,
            13,
            15.2,
            14.7,
            6.5,
            10.7,
            9.8,
            10.7,
            10,
            10.1,
            7.1,
            9.9,
            9.3,
            10.9,
            14,
            13.3,
            10,
            11.9,
            11.4,
            8.2,
            11.8,
            11,
            3.6,
            8.1,
            7,
            7.2,
            9.9,
            9.3,
            8.1,
            8.7,
            8.6,
            4.7,
            6.6,
            6.1,
            4.3,
            6.9,
            6.3,
            7.2,
            11.1,
            10.2,
            11.1,
            14,
            13.3,
            5.5,
            8.7,
            8,
            6.9,
            12,
            10.8,
            6.9,
            10.9,
            10.1,
            6.3,
            9.1,
            8.5,
            3,
            6.5,
            5.7,
            8.8,
            13.3,
            12.2,
            5.3,
            8.4,
            7.7,
            5.4,
            8.9,
            8.1,
            6.3,
            8,
            7.6,
            7.7,
            12.3,
            11.2,
            5,
            7.9,
            7.3,
            9.3,
            11.7,
            11.2,
            8.2,
            11.9,
            11.1,
            11,
            13.3,
            12.8,
            7.2,
            11.6,
            10.6,
            5.4,
            8.6,
            7.8,
            6.6,
            9.1,
            8.6,
            5.7,
            9.9,
            8.8,
            6.1,
            10.7,
            9.7,
            8.3,
            9.7,
            9.4,
            7,
            6.9,
            6.9,
            8.8,
            11.9,
            11.2,
            5.1,
            8.4,
            7.6,
            7.8,
            10.1,
            9.6,
            9.2,
            12.2,
            11.4,
            4.7,
            7.6,
            6.7,
            7.7,
            9.4,
            9.1,
            9.2,
            10.2,
            10,
            5.5,
            7.4,
            7,
            7.8,
            11,
            10.3,
            4,
            7.1,
            6.4,
            4.6,
            9.5,
            8.3,
            12.1,
            16.1,
            15.4,
            8.5,
            11.3,
            10.7
           ]
          }
         ],
         "name": "200"
        },
        {
         "data": [
          {
           "coloraxis": "coloraxis",
           "geo": "geo",
           "hovertemplate": "Child Allowance=250<br>State=%{location}<br>Child poverty rate=%{z}<extra></extra>",
           "locationmode": "USA-states",
           "locations": [
            "AL",
            "AL",
            "AL",
            "AK",
            "AK",
            "AK",
            "AZ",
            "AZ",
            "AZ",
            "AR",
            "AR",
            "AR",
            "CA",
            "CA",
            "CA",
            "CO",
            "CO",
            "CO",
            "CT",
            "CT",
            "CT",
            "DE",
            "DE",
            "DE",
            "FL",
            "FL",
            "FL",
            "GA",
            "GA",
            "GA",
            "HI",
            "HI",
            "HI",
            "ID",
            "ID",
            "ID",
            "IL",
            "IL",
            "IL",
            "IN",
            "IN",
            "IN",
            "IA",
            "IA",
            "IA",
            "KS",
            "KS",
            "KS",
            "KY",
            "KY",
            "KY",
            "LA",
            "LA",
            "LA",
            "ME",
            "ME",
            "ME",
            "MD",
            "MD",
            "MD",
            "MA",
            "MA",
            "MA",
            "MI",
            "MI",
            "MI",
            "MN",
            "MN",
            "MN",
            "MS",
            "MS",
            "MS",
            "MO",
            "MO",
            "MO",
            "MT",
            "MT",
            "MT",
            "NE",
            "NE",
            "NE",
            "NV",
            "NV",
            "NV",
            "NH",
            "NH",
            "NH",
            "NJ",
            "NJ",
            "NJ",
            "NM",
            "NM",
            "NM",
            "NY",
            "NY",
            "NY",
            "NC",
            "NC",
            "NC",
            "ND",
            "ND",
            "ND",
            "OH",
            "OH",
            "OH",
            "OK",
            "OK",
            "OK",
            "OR",
            "OR",
            "OR",
            "PA",
            "PA",
            "PA",
            "RI",
            "RI",
            "RI",
            "SC",
            "SC",
            "SC",
            "SD",
            "SD",
            "SD",
            "TN",
            "TN",
            "TN",
            "TX",
            "TX",
            "TX",
            "UT",
            "UT",
            "UT",
            "VT",
            "VT",
            "VT",
            "VA",
            "VA",
            "VA",
            "WA",
            "WA",
            "WA",
            "WV",
            "WV",
            "WV",
            "WI",
            "WI",
            "WI",
            "WY",
            "WY",
            "WY",
            "DC",
            "DC",
            "DC",
            "US",
            "US",
            "US"
           ],
           "name": "",
           "type": "choropleth",
           "z": [
            8,
            10.6,
            10.1,
            9.4,
            11.5,
            11,
            5.2,
            9.9,
            8.8,
            6.7,
            12.3,
            10.9,
            11.5,
            14.9,
            14.1,
            6.1,
            10.6,
            9.6,
            9.8,
            9.7,
            9.7,
            5.9,
            9.6,
            8.8,
            9.9,
            13.7,
            13,
            8.9,
            11.6,
            10.9,
            7.5,
            11.6,
            10.7,
            2.4,
            7.8,
            6.5,
            6.2,
            9.7,
            8.9,
            6.6,
            8.5,
            8,
            4.4,
            6.6,
            6,
            4,
            6.9,
            6.2,
            6.4,
            11,
            10,
            9.5,
            13.6,
            12.6,
            5.4,
            8.6,
            8,
            6.5,
            11.9,
            10.7,
            5.9,
            10.7,
            9.8,
            5.5,
            8.9,
            8.2,
            2.8,
            6.5,
            5.7,
            7.5,
            13.1,
            11.7,
            4.1,
            8,
            7.1,
            4.3,
            8.7,
            7.8,
            5.6,
            7.9,
            7.3,
            6.9,
            12,
            10.8,
            4,
            7.8,
            7.1,
            8.6,
            11.5,
            10.9,
            7.4,
            11.7,
            10.7,
            10.1,
            13.3,
            12.6,
            6.4,
            11.3,
            10.3,
            4.6,
            8.5,
            7.6,
            5.3,
            8.7,
            7.9,
            5.1,
            9.7,
            8.6,
            5.4,
            10.6,
            9.5,
            7.7,
            9.5,
            9.1,
            6.5,
            6.7,
            6.7,
            8,
            11.7,
            10.9,
            5.1,
            8.4,
            7.6,
            6.3,
            9.8,
            9,
            8.2,
            11.9,
            11,
            4.6,
            7.5,
            6.7,
            7,
            9.3,
            8.9,
            8.3,
            10,
            9.6,
            5.1,
            7.4,
            6.9,
            6.4,
            10.8,
            9.9,
            3.6,
            7.1,
            6.3,
            4.1,
            9.4,
            8.1,
            9.9,
            15.7,
            14.6,
            7.6,
            11.1,
            10.3
           ]
          }
         ],
         "name": "250"
        },
        {
         "data": [
          {
           "coloraxis": "coloraxis",
           "geo": "geo",
           "hovertemplate": "Child Allowance=300<br>State=%{location}<br>Child poverty rate=%{z}<extra></extra>",
           "locationmode": "USA-states",
           "locations": [
            "AL",
            "AL",
            "AL",
            "AK",
            "AK",
            "AK",
            "AZ",
            "AZ",
            "AZ",
            "AR",
            "AR",
            "AR",
            "CA",
            "CA",
            "CA",
            "CO",
            "CO",
            "CO",
            "CT",
            "CT",
            "CT",
            "DE",
            "DE",
            "DE",
            "FL",
            "FL",
            "FL",
            "GA",
            "GA",
            "GA",
            "HI",
            "HI",
            "HI",
            "ID",
            "ID",
            "ID",
            "IL",
            "IL",
            "IL",
            "IN",
            "IN",
            "IN",
            "IA",
            "IA",
            "IA",
            "KS",
            "KS",
            "KS",
            "KY",
            "KY",
            "KY",
            "LA",
            "LA",
            "LA",
            "ME",
            "ME",
            "ME",
            "MD",
            "MD",
            "MD",
            "MA",
            "MA",
            "MA",
            "MI",
            "MI",
            "MI",
            "MN",
            "MN",
            "MN",
            "MS",
            "MS",
            "MS",
            "MO",
            "MO",
            "MO",
            "MT",
            "MT",
            "MT",
            "NE",
            "NE",
            "NE",
            "NV",
            "NV",
            "NV",
            "NH",
            "NH",
            "NH",
            "NJ",
            "NJ",
            "NJ",
            "NM",
            "NM",
            "NM",
            "NY",
            "NY",
            "NY",
            "NC",
            "NC",
            "NC",
            "ND",
            "ND",
            "ND",
            "OH",
            "OH",
            "OH",
            "OK",
            "OK",
            "OK",
            "OR",
            "OR",
            "OR",
            "PA",
            "PA",
            "PA",
            "RI",
            "RI",
            "RI",
            "SC",
            "SC",
            "SC",
            "SD",
            "SD",
            "SD",
            "TN",
            "TN",
            "TN",
            "TX",
            "TX",
            "TX",
            "UT",
            "UT",
            "UT",
            "VT",
            "VT",
            "VT",
            "VA",
            "VA",
            "VA",
            "WA",
            "WA",
            "WA",
            "WV",
            "WV",
            "WV",
            "WI",
            "WI",
            "WI",
            "WY",
            "WY",
            "WY",
            "DC",
            "DC",
            "DC",
            "US",
            "US",
            "US"
           ],
           "name": "",
           "type": "choropleth",
           "z": [
            7.2,
            10.5,
            9.8,
            8.4,
            11.3,
            10.6,
            4.8,
            9.8,
            8.6,
            5.6,
            12.1,
            10.5,
            10,
            14.5,
            13.5,
            5.4,
            10.4,
            9.2,
            8.1,
            9.4,
            9.1,
            5.2,
            9.4,
            8.5,
            8.8,
            13.6,
            12.6,
            7.9,
            11.3,
            10.5,
            6.2,
            11.5,
            10.3,
            2.3,
            7.8,
            6.4,
            5.6,
            9.6,
            8.6,
            6.1,
            8.4,
            7.8,
            3.4,
            6.4,
            5.7,
            3.5,
            6.8,
            6,
            5.4,
            10.8,
            9.5,
            8,
            13.2,
            11.9,
            5,
            8.6,
            7.9,
            6.1,
            11.8,
            10.5,
            5.3,
            10.6,
            9.6,
            5.1,
            8.8,
            8,
            2.3,
            6.4,
            5.5,
            7,
            12.9,
            11.5,
            3.1,
            7.9,
            6.8,
            4.2,
            8.7,
            7.7,
            5,
            7.8,
            7.1,
            6.2,
            11.9,
            10.6,
            3.6,
            7.7,
            6.9,
            7.8,
            11.3,
            10.5,
            5.4,
            11.3,
            10,
            9.4,
            13.1,
            12.3,
            5.6,
            11.1,
            9.9,
            4.5,
            8.4,
            7.5,
            4.4,
            8.5,
            7.6,
            4.9,
            9.7,
            8.5,
            4.7,
            10.4,
            9.2,
            7.4,
            9.4,
            9,
            5.6,
            6.5,
            6.3,
            7,
            11.4,
            10.4,
            4.3,
            8.2,
            7.2,
            5.7,
            9.8,
            8.8,
            7.1,
            11.7,
            10.5,
            3.7,
            7.4,
            6.3,
            6.5,
            9.3,
            8.7,
            7.3,
            9.8,
            9.3,
            4.6,
            7.2,
            6.7,
            5.4,
            10.6,
            9.5,
            3.4,
            7,
            6.2,
            3.8,
            9.3,
            8,
            9,
            15.6,
            14.3,
            6.7,
            10.9,
            10
           ]
          }
         ],
         "name": "300"
        },
        {
         "data": [
          {
           "coloraxis": "coloraxis",
           "geo": "geo",
           "hovertemplate": "Child Allowance=350<br>State=%{location}<br>Child poverty rate=%{z}<extra></extra>",
           "locationmode": "USA-states",
           "locations": [
            "AL",
            "AL",
            "AL",
            "AK",
            "AK",
            "AK",
            "AZ",
            "AZ",
            "AZ",
            "AR",
            "AR",
            "AR",
            "CA",
            "CA",
            "CA",
            "CO",
            "CO",
            "CO",
            "CT",
            "CT",
            "CT",
            "DE",
            "DE",
            "DE",
            "FL",
            "FL",
            "FL",
            "GA",
            "GA",
            "GA",
            "HI",
            "HI",
            "HI",
            "ID",
            "ID",
            "ID",
            "IL",
            "IL",
            "IL",
            "IN",
            "IN",
            "IN",
            "IA",
            "IA",
            "IA",
            "KS",
            "KS",
            "KS",
            "KY",
            "KY",
            "KY",
            "LA",
            "LA",
            "LA",
            "ME",
            "ME",
            "ME",
            "MD",
            "MD",
            "MD",
            "MA",
            "MA",
            "MA",
            "MI",
            "MI",
            "MI",
            "MN",
            "MN",
            "MN",
            "MS",
            "MS",
            "MS",
            "MO",
            "MO",
            "MO",
            "MT",
            "MT",
            "MT",
            "NE",
            "NE",
            "NE",
            "NV",
            "NV",
            "NV",
            "NH",
            "NH",
            "NH",
            "NJ",
            "NJ",
            "NJ",
            "NM",
            "NM",
            "NM",
            "NY",
            "NY",
            "NY",
            "NC",
            "NC",
            "NC",
            "ND",
            "ND",
            "ND",
            "OH",
            "OH",
            "OH",
            "OK",
            "OK",
            "OK",
            "OR",
            "OR",
            "OR",
            "PA",
            "PA",
            "PA",
            "RI",
            "RI",
            "RI",
            "SC",
            "SC",
            "SC",
            "SD",
            "SD",
            "SD",
            "TN",
            "TN",
            "TN",
            "TX",
            "TX",
            "TX",
            "UT",
            "UT",
            "UT",
            "VT",
            "VT",
            "VT",
            "VA",
            "VA",
            "VA",
            "WA",
            "WA",
            "WA",
            "WV",
            "WV",
            "WV",
            "WI",
            "WI",
            "WI",
            "WY",
            "WY",
            "WY",
            "DC",
            "DC",
            "DC",
            "US",
            "US",
            "US"
           ],
           "name": "",
           "type": "choropleth",
           "z": [
            6.4,
            10.4,
            9.5,
            8,
            11.1,
            10.3,
            4.3,
            9.6,
            8.3,
            5,
            12,
            10.3,
            9.2,
            14.3,
            13.1,
            5.1,
            10.4,
            9.2,
            7.7,
            9.3,
            9,
            4.6,
            9.2,
            8.2,
            8,
            13.4,
            12.3,
            7,
            11.2,
            10.2,
            5.9,
            11.3,
            10.1,
            2.3,
            7.8,
            6.4,
            5.3,
            9.4,
            8.5,
            5.5,
            8.2,
            7.6,
            2.9,
            6.3,
            5.5,
            3.5,
            6.8,
            5.9,
            4.3,
            10.5,
            9.1,
            7.3,
            13,
            11.6,
            4.7,
            8.7,
            8,
            5.4,
            11.6,
            10.2,
            4.7,
            10.4,
            9.2,
            4.6,
            8.7,
            7.8,
            2,
            6.3,
            5.3,
            5.9,
            12.6,
            11,
            2.6,
            7.8,
            6.6,
            4,
            8.7,
            7.7,
            4.1,
            7.5,
            6.6,
            5.8,
            11.8,
            10.5,
            3.1,
            7.6,
            6.7,
            6.8,
            11.1,
            10.1,
            4.7,
            11.1,
            9.6,
            8.6,
            13,
            12.1,
            5,
            11.1,
            9.7,
            3.9,
            8.3,
            7.2,
            3.8,
            8.4,
            7.4,
            4.5,
            9.5,
            8.3,
            4.2,
            10.2,
            8.9,
            6.4,
            9.2,
            8.6,
            4.7,
            6.4,
            6,
            6.3,
            11.3,
            10.2,
            3.6,
            7.9,
            6.8,
            5.2,
            9.6,
            8.7,
            6.3,
            11.6,
            10.2,
            3.4,
            7.3,
            6.2,
            5.8,
            9.2,
            8.6,
            6.8,
            9.6,
            9,
            3.5,
            7.1,
            6.3,
            4.4,
            10.3,
            9.1,
            2.7,
            6.8,
            5.9,
            3.3,
            9.1,
            7.8,
            7.9,
            15.3,
            14,
            6,
            10.8,
            9.7
           ]
          }
         ],
         "name": "350"
        },
        {
         "data": [
          {
           "coloraxis": "coloraxis",
           "geo": "geo",
           "hovertemplate": "Child Allowance=400<br>State=%{location}<br>Child poverty rate=%{z}<extra></extra>",
           "locationmode": "USA-states",
           "locations": [
            "AL",
            "AL",
            "AL",
            "AK",
            "AK",
            "AK",
            "AZ",
            "AZ",
            "AZ",
            "AR",
            "AR",
            "AR",
            "CA",
            "CA",
            "CA",
            "CO",
            "CO",
            "CO",
            "CT",
            "CT",
            "CT",
            "DE",
            "DE",
            "DE",
            "FL",
            "FL",
            "FL",
            "GA",
            "GA",
            "GA",
            "HI",
            "HI",
            "HI",
            "ID",
            "ID",
            "ID",
            "IL",
            "IL",
            "IL",
            "IN",
            "IN",
            "IN",
            "IA",
            "IA",
            "IA",
            "KS",
            "KS",
            "KS",
            "KY",
            "KY",
            "KY",
            "LA",
            "LA",
            "LA",
            "ME",
            "ME",
            "ME",
            "MD",
            "MD",
            "MD",
            "MA",
            "MA",
            "MA",
            "MI",
            "MI",
            "MI",
            "MN",
            "MN",
            "MN",
            "MS",
            "MS",
            "MS",
            "MO",
            "MO",
            "MO",
            "MT",
            "MT",
            "MT",
            "NE",
            "NE",
            "NE",
            "NV",
            "NV",
            "NV",
            "NH",
            "NH",
            "NH",
            "NJ",
            "NJ",
            "NJ",
            "NM",
            "NM",
            "NM",
            "NY",
            "NY",
            "NY",
            "NC",
            "NC",
            "NC",
            "ND",
            "ND",
            "ND",
            "OH",
            "OH",
            "OH",
            "OK",
            "OK",
            "OK",
            "OR",
            "OR",
            "OR",
            "PA",
            "PA",
            "PA",
            "RI",
            "RI",
            "RI",
            "SC",
            "SC",
            "SC",
            "SD",
            "SD",
            "SD",
            "TN",
            "TN",
            "TN",
            "TX",
            "TX",
            "TX",
            "UT",
            "UT",
            "UT",
            "VT",
            "VT",
            "VT",
            "VA",
            "VA",
            "VA",
            "WA",
            "WA",
            "WA",
            "WV",
            "WV",
            "WV",
            "WI",
            "WI",
            "WI",
            "WY",
            "WY",
            "WY",
            "DC",
            "DC",
            "DC",
            "US",
            "US",
            "US"
           ],
           "name": "",
           "type": "choropleth",
           "z": [
            5.7,
            10.3,
            9.3,
            7.5,
            10.9,
            10.1,
            3.7,
            9.4,
            8.1,
            4.6,
            11.9,
            10.1,
            8.2,
            14,
            12.7,
            4.8,
            10.3,
            9,
            7.5,
            9.2,
            8.8,
            4.1,
            9.1,
            8.1,
            7.3,
            13.3,
            12.1,
            6.6,
            11,
            9.9,
            5.5,
            11.2,
            10,
            1.9,
            7.8,
            6.3,
            4.5,
            9.3,
            8.2,
            4.4,
            8,
            7.2,
            2.8,
            6.3,
            5.5,
            3.1,
            6.7,
            5.8,
            3.8,
            10.4,
            8.9,
            6.3,
            12.8,
            11.2,
            4.2,
            8.6,
            7.8,
            4.8,
            11.5,
            10,
            4.3,
            10.3,
            9.1,
            4.2,
            8.6,
            7.6,
            1.8,
            6.3,
            5.2,
            5.5,
            12.5,
            10.8,
            2.6,
            7.8,
            6.6,
            3.6,
            8.6,
            7.5,
            3.9,
            7.4,
            6.5,
            5.2,
            11.7,
            10.2,
            3.1,
            7.5,
            6.7,
            6.5,
            11,
            10,
            4.4,
            11.2,
            9.6,
            8.1,
            12.8,
            11.8,
            4.4,
            10.9,
            9.5,
            3.2,
            8.2,
            7,
            3.1,
            8.3,
            7.1,
            3.9,
            9.4,
            8,
            3.7,
            10.2,
            8.8,
            5.9,
            9.1,
            8.4,
            4.4,
            6.3,
            5.9,
            5.5,
            11.1,
            9.9,
            3.3,
            7.8,
            6.7,
            4.5,
            9.5,
            8.4,
            5.6,
            11.4,
            9.9,
            3.2,
            7.4,
            6.1,
            5.4,
            9.2,
            8.4,
            5.2,
            9.3,
            8.4,
            3.3,
            7.1,
            6.2,
            3.7,
            10.1,
            8.8,
            2.7,
            6.9,
            5.9,
            2.8,
            9,
            7.5,
            7.5,
            15.2,
            13.7,
            5.4,
            10.6,
            9.4
           ]
          }
         ],
         "name": "400"
        },
        {
         "data": [
          {
           "coloraxis": "coloraxis",
           "geo": "geo",
           "hovertemplate": "Child Allowance=450<br>State=%{location}<br>Child poverty rate=%{z}<extra></extra>",
           "locationmode": "USA-states",
           "locations": [
            "AL",
            "AL",
            "AL",
            "AK",
            "AK",
            "AK",
            "AZ",
            "AZ",
            "AZ",
            "AR",
            "AR",
            "AR",
            "CA",
            "CA",
            "CA",
            "CO",
            "CO",
            "CO",
            "CT",
            "CT",
            "CT",
            "DE",
            "DE",
            "DE",
            "FL",
            "FL",
            "FL",
            "GA",
            "GA",
            "GA",
            "HI",
            "HI",
            "HI",
            "ID",
            "ID",
            "ID",
            "IL",
            "IL",
            "IL",
            "IN",
            "IN",
            "IN",
            "IA",
            "IA",
            "IA",
            "KS",
            "KS",
            "KS",
            "KY",
            "KY",
            "KY",
            "LA",
            "LA",
            "LA",
            "ME",
            "ME",
            "ME",
            "MD",
            "MD",
            "MD",
            "MA",
            "MA",
            "MA",
            "MI",
            "MI",
            "MI",
            "MN",
            "MN",
            "MN",
            "MS",
            "MS",
            "MS",
            "MO",
            "MO",
            "MO",
            "MT",
            "MT",
            "MT",
            "NE",
            "NE",
            "NE",
            "NV",
            "NV",
            "NV",
            "NH",
            "NH",
            "NH",
            "NJ",
            "NJ",
            "NJ",
            "NM",
            "NM",
            "NM",
            "NY",
            "NY",
            "NY",
            "NC",
            "NC",
            "NC",
            "ND",
            "ND",
            "ND",
            "OH",
            "OH",
            "OH",
            "OK",
            "OK",
            "OK",
            "OR",
            "OR",
            "OR",
            "PA",
            "PA",
            "PA",
            "RI",
            "RI",
            "RI",
            "SC",
            "SC",
            "SC",
            "SD",
            "SD",
            "SD",
            "TN",
            "TN",
            "TN",
            "TX",
            "TX",
            "TX",
            "UT",
            "UT",
            "UT",
            "VT",
            "VT",
            "VT",
            "VA",
            "VA",
            "VA",
            "WA",
            "WA",
            "WA",
            "WV",
            "WV",
            "WV",
            "WI",
            "WI",
            "WI",
            "WY",
            "WY",
            "WY",
            "DC",
            "DC",
            "DC",
            "US",
            "US",
            "US"
           ],
           "name": "",
           "type": "choropleth",
           "z": [
            5,
            10.2,
            9,
            7.4,
            10.9,
            10,
            3.3,
            9.3,
            7.9,
            3.9,
            11.7,
            9.8,
            7.3,
            13.8,
            12.3,
            4.1,
            10.2,
            8.8,
            6,
            8.9,
            8.3,
            4,
            9,
            8,
            6.7,
            13.2,
            11.9,
            5.4,
            10.8,
            9.5,
            4.6,
            11.1,
            9.7,
            1.9,
            7.8,
            6.3,
            3.8,
            9.3,
            8.1,
            3.9,
            7.9,
            6.9,
            2.2,
            6.2,
            5.3,
            2.2,
            6.6,
            5.5,
            3,
            10.1,
            8.5,
            5.4,
            12.7,
            10.9,
            4.1,
            8.6,
            7.7,
            4.3,
            11.4,
            9.9,
            3.6,
            10.1,
            8.8,
            3.8,
            8.5,
            7.5,
            1.8,
            6.3,
            5.2,
            5.1,
            12.3,
            10.6,
            2.3,
            7.6,
            6.4,
            3.3,
            8.5,
            7.4,
            3.6,
            7.4,
            6.4,
            4.4,
            11.5,
            9.9,
            2.8,
            7.5,
            6.6,
            5.5,
            10.8,
            9.6,
            3.8,
            11,
            9.3,
            7.1,
            12.5,
            11.4,
            4.1,
            10.8,
            9.3,
            2.5,
            8,
            6.7,
            2.9,
            8.2,
            7,
            3.1,
            9.3,
            7.7,
            3.7,
            10.2,
            8.8,
            5,
            9,
            8.2,
            3.8,
            6.2,
            5.7,
            5.2,
            11,
            9.7,
            2.7,
            7.7,
            6.4,
            4,
            9.4,
            8.2,
            4.9,
            11.1,
            9.5,
            3.1,
            7.3,
            6,
            4.9,
            9.1,
            8.3,
            4.5,
            9.1,
            8.1,
            2.7,
            7,
            6.1,
            3.2,
            10.1,
            8.6,
            2.3,
            6.8,
            5.8,
            2.7,
            8.9,
            7.5,
            6.7,
            15,
            13.5,
            4.8,
            10.5,
            9.2
           ]
          }
         ],
         "name": "450"
        },
        {
         "data": [
          {
           "coloraxis": "coloraxis",
           "geo": "geo",
           "hovertemplate": "Child Allowance=500<br>State=%{location}<br>Child poverty rate=%{z}<extra></extra>",
           "locationmode": "USA-states",
           "locations": [
            "AL",
            "AL",
            "AL",
            "AK",
            "AK",
            "AK",
            "AZ",
            "AZ",
            "AZ",
            "AR",
            "AR",
            "AR",
            "CA",
            "CA",
            "CA",
            "CO",
            "CO",
            "CO",
            "CT",
            "CT",
            "CT",
            "DE",
            "DE",
            "DE",
            "FL",
            "FL",
            "FL",
            "GA",
            "GA",
            "GA",
            "HI",
            "HI",
            "HI",
            "ID",
            "ID",
            "ID",
            "IL",
            "IL",
            "IL",
            "IN",
            "IN",
            "IN",
            "IA",
            "IA",
            "IA",
            "KS",
            "KS",
            "KS",
            "KY",
            "KY",
            "KY",
            "LA",
            "LA",
            "LA",
            "ME",
            "ME",
            "ME",
            "MD",
            "MD",
            "MD",
            "MA",
            "MA",
            "MA",
            "MI",
            "MI",
            "MI",
            "MN",
            "MN",
            "MN",
            "MS",
            "MS",
            "MS",
            "MO",
            "MO",
            "MO",
            "MT",
            "MT",
            "MT",
            "NE",
            "NE",
            "NE",
            "NV",
            "NV",
            "NV",
            "NH",
            "NH",
            "NH",
            "NJ",
            "NJ",
            "NJ",
            "NM",
            "NM",
            "NM",
            "NY",
            "NY",
            "NY",
            "NC",
            "NC",
            "NC",
            "ND",
            "ND",
            "ND",
            "OH",
            "OH",
            "OH",
            "OK",
            "OK",
            "OK",
            "OR",
            "OR",
            "OR",
            "PA",
            "PA",
            "PA",
            "RI",
            "RI",
            "RI",
            "SC",
            "SC",
            "SC",
            "SD",
            "SD",
            "SD",
            "TN",
            "TN",
            "TN",
            "TX",
            "TX",
            "TX",
            "UT",
            "UT",
            "UT",
            "VT",
            "VT",
            "VT",
            "VA",
            "VA",
            "VA",
            "WA",
            "WA",
            "WA",
            "WV",
            "WV",
            "WV",
            "WI",
            "WI",
            "WI",
            "WY",
            "WY",
            "WY",
            "DC",
            "DC",
            "DC",
            "US",
            "US",
            "US"
           ],
           "name": "",
           "type": "choropleth",
           "z": [
            4.8,
            10.1,
            8.9,
            6.7,
            10.6,
            9.6,
            3.1,
            9.3,
            7.9,
            3.2,
            11.6,
            9.5,
            6.7,
            13.7,
            12.1,
            3.8,
            10.1,
            8.7,
            5.7,
            8.8,
            8.1,
            3.9,
            9.1,
            8,
            6,
            13,
            11.6,
            4.8,
            10.7,
            9.3,
            3.6,
            10.9,
            9.3,
            1.8,
            7.8,
            6.3,
            3.4,
            9.2,
            7.9,
            3.3,
            7.8,
            6.7,
            2,
            6.2,
            5.2,
            2.1,
            6.5,
            5.4,
            2.8,
            10.1,
            8.4,
            4.6,
            12.4,
            10.5,
            3.8,
            8.6,
            7.7,
            4,
            11.3,
            9.7,
            3.3,
            10,
            8.7,
            3.6,
            8.5,
            7.4,
            1.2,
            6.1,
            5,
            4.4,
            12.1,
            10.3,
            2.1,
            7.6,
            6.3,
            2.6,
            8.5,
            7.2,
            3.3,
            7.3,
            6.3,
            4.2,
            11.5,
            9.8,
            2.2,
            7.3,
            6.4,
            4.9,
            10.7,
            9.4,
            3.2,
            10.8,
            9,
            6.3,
            12.4,
            11.1,
            3.5,
            10.6,
            9,
            2.5,
            8,
            6.7,
            2.6,
            8.1,
            6.9,
            2.8,
            9.2,
            7.6,
            3,
            10,
            8.6,
            4.3,
            8.8,
            7.8,
            2.7,
            6.1,
            5.4,
            4.8,
            10.9,
            9.6,
            2.3,
            7.6,
            6.2,
            3.9,
            9.3,
            8.1,
            4.3,
            11,
            9.3,
            2.9,
            7.2,
            6,
            4.5,
            9,
            8.1,
            4.1,
            9,
            8,
            2.6,
            7,
            6,
            2.7,
            10,
            8.4,
            2.2,
            6.8,
            5.8,
            2.2,
            8.8,
            7.2,
            5.8,
            14.8,
            13.2,
            4.3,
            10.4,
            9
           ]
          }
         ],
         "name": "500"
        }
       ],
       "layout": {
        "coloraxis": {
         "cmax": 22,
         "cmin": 0,
         "colorbar": {
          "title": {
           "text": "Child poverty rate"
          }
         },
         "colorscale": [
          [
           0,
           "rgb(255,245,240)"
          ],
          [
           0.125,
           "rgb(254,224,210)"
          ],
          [
           0.25,
           "rgb(252,187,161)"
          ],
          [
           0.375,
           "rgb(252,146,114)"
          ],
          [
           0.5,
           "rgb(251,106,74)"
          ],
          [
           0.625,
           "rgb(239,59,44)"
          ],
          [
           0.75,
           "rgb(203,24,29)"
          ],
          [
           0.875,
           "rgb(165,15,21)"
          ],
          [
           1,
           "rgb(103,0,13)"
          ]
         ],
         "showscale": false
        },
        "font": {
         "family": "Roboto"
        },
        "geo": {
         "center": {},
         "domain": {
          "x": [
           0,
           1
          ],
          "y": [
           0,
           1
          ]
         },
         "scope": "usa"
        },
        "height": 600,
        "legend": {
         "tracegroupgap": 0
        },
        "sliders": [
         {
          "active": 0,
          "currentvalue": {
           "prefix": "Child Allowance="
          },
          "len": 0.9,
          "pad": {
           "b": 10,
           "t": 60
          },
          "steps": [
           {
            "args": [
             [
              "0"
             ],
             {
              "frame": {
               "duration": 0,
               "redraw": true
              },
              "fromcurrent": true,
              "mode": "immediate",
              "transition": {
               "duration": 0,
               "easing": "linear"
              }
             }
            ],
            "label": "0",
            "method": "animate"
           },
           {
            "args": [
             [
              "50"
             ],
             {
              "frame": {
               "duration": 0,
               "redraw": true
              },
              "fromcurrent": true,
              "mode": "immediate",
              "transition": {
               "duration": 0,
               "easing": "linear"
              }
             }
            ],
            "label": "50",
            "method": "animate"
           },
           {
            "args": [
             [
              "100"
             ],
             {
              "frame": {
               "duration": 0,
               "redraw": true
              },
              "fromcurrent": true,
              "mode": "immediate",
              "transition": {
               "duration": 0,
               "easing": "linear"
              }
             }
            ],
            "label": "100",
            "method": "animate"
           },
           {
            "args": [
             [
              "150"
             ],
             {
              "frame": {
               "duration": 0,
               "redraw": true
              },
              "fromcurrent": true,
              "mode": "immediate",
              "transition": {
               "duration": 0,
               "easing": "linear"
              }
             }
            ],
            "label": "150",
            "method": "animate"
           },
           {
            "args": [
             [
              "200"
             ],
             {
              "frame": {
               "duration": 0,
               "redraw": true
              },
              "fromcurrent": true,
              "mode": "immediate",
              "transition": {
               "duration": 0,
               "easing": "linear"
              }
             }
            ],
            "label": "200",
            "method": "animate"
           },
           {
            "args": [
             [
              "250"
             ],
             {
              "frame": {
               "duration": 0,
               "redraw": true
              },
              "fromcurrent": true,
              "mode": "immediate",
              "transition": {
               "duration": 0,
               "easing": "linear"
              }
             }
            ],
            "label": "250",
            "method": "animate"
           },
           {
            "args": [
             [
              "300"
             ],
             {
              "frame": {
               "duration": 0,
               "redraw": true
              },
              "fromcurrent": true,
              "mode": "immediate",
              "transition": {
               "duration": 0,
               "easing": "linear"
              }
             }
            ],
            "label": "300",
            "method": "animate"
           },
           {
            "args": [
             [
              "350"
             ],
             {
              "frame": {
               "duration": 0,
               "redraw": true
              },
              "fromcurrent": true,
              "mode": "immediate",
              "transition": {
               "duration": 0,
               "easing": "linear"
              }
             }
            ],
            "label": "350",
            "method": "animate"
           },
           {
            "args": [
             [
              "400"
             ],
             {
              "frame": {
               "duration": 0,
               "redraw": true
              },
              "fromcurrent": true,
              "mode": "immediate",
              "transition": {
               "duration": 0,
               "easing": "linear"
              }
             }
            ],
            "label": "400",
            "method": "animate"
           },
           {
            "args": [
             [
              "450"
             ],
             {
              "frame": {
               "duration": 0,
               "redraw": true
              },
              "fromcurrent": true,
              "mode": "immediate",
              "transition": {
               "duration": 0,
               "easing": "linear"
              }
             }
            ],
            "label": "450",
            "method": "animate"
           },
           {
            "args": [
             [
              "500"
             ],
             {
              "frame": {
               "duration": 0,
               "redraw": true
              },
              "fromcurrent": true,
              "mode": "immediate",
              "transition": {
               "duration": 0,
               "easing": "linear"
              }
             }
            ],
            "label": "500",
            "method": "animate"
           }
          ],
          "x": 0.1,
          "xanchor": "left",
          "y": 0,
          "yanchor": "top"
         }
        ],
        "template": {
         "data": {
          "bar": [
           {
            "error_x": {
             "color": "#2a3f5f"
            },
            "error_y": {
             "color": "#2a3f5f"
            },
            "marker": {
             "line": {
              "color": "#E5ECF6",
              "width": 0.5
             }
            },
            "type": "bar"
           }
          ],
          "barpolar": [
           {
            "marker": {
             "line": {
              "color": "#E5ECF6",
              "width": 0.5
             }
            },
            "type": "barpolar"
           }
          ],
          "carpet": [
           {
            "aaxis": {
             "endlinecolor": "#2a3f5f",
             "gridcolor": "white",
             "linecolor": "white",
             "minorgridcolor": "white",
             "startlinecolor": "#2a3f5f"
            },
            "baxis": {
             "endlinecolor": "#2a3f5f",
             "gridcolor": "white",
             "linecolor": "white",
             "minorgridcolor": "white",
             "startlinecolor": "#2a3f5f"
            },
            "type": "carpet"
           }
          ],
          "choropleth": [
           {
            "colorbar": {
             "outlinewidth": 0,
             "ticks": ""
            },
            "type": "choropleth"
           }
          ],
          "contour": [
           {
            "colorbar": {
             "outlinewidth": 0,
             "ticks": ""
            },
            "colorscale": [
             [
              0,
              "#0d0887"
             ],
             [
              0.1111111111111111,
              "#46039f"
             ],
             [
              0.2222222222222222,
              "#7201a8"
             ],
             [
              0.3333333333333333,
              "#9c179e"
             ],
             [
              0.4444444444444444,
              "#bd3786"
             ],
             [
              0.5555555555555556,
              "#d8576b"
             ],
             [
              0.6666666666666666,
              "#ed7953"
             ],
             [
              0.7777777777777778,
              "#fb9f3a"
             ],
             [
              0.8888888888888888,
              "#fdca26"
             ],
             [
              1,
              "#f0f921"
             ]
            ],
            "type": "contour"
           }
          ],
          "contourcarpet": [
           {
            "colorbar": {
             "outlinewidth": 0,
             "ticks": ""
            },
            "type": "contourcarpet"
           }
          ],
          "heatmap": [
           {
            "colorbar": {
             "outlinewidth": 0,
             "ticks": ""
            },
            "colorscale": [
             [
              0,
              "#0d0887"
             ],
             [
              0.1111111111111111,
              "#46039f"
             ],
             [
              0.2222222222222222,
              "#7201a8"
             ],
             [
              0.3333333333333333,
              "#9c179e"
             ],
             [
              0.4444444444444444,
              "#bd3786"
             ],
             [
              0.5555555555555556,
              "#d8576b"
             ],
             [
              0.6666666666666666,
              "#ed7953"
             ],
             [
              0.7777777777777778,
              "#fb9f3a"
             ],
             [
              0.8888888888888888,
              "#fdca26"
             ],
             [
              1,
              "#f0f921"
             ]
            ],
            "type": "heatmap"
           }
          ],
          "heatmapgl": [
           {
            "colorbar": {
             "outlinewidth": 0,
             "ticks": ""
            },
            "colorscale": [
             [
              0,
              "#0d0887"
             ],
             [
              0.1111111111111111,
              "#46039f"
             ],
             [
              0.2222222222222222,
              "#7201a8"
             ],
             [
              0.3333333333333333,
              "#9c179e"
             ],
             [
              0.4444444444444444,
              "#bd3786"
             ],
             [
              0.5555555555555556,
              "#d8576b"
             ],
             [
              0.6666666666666666,
              "#ed7953"
             ],
             [
              0.7777777777777778,
              "#fb9f3a"
             ],
             [
              0.8888888888888888,
              "#fdca26"
             ],
             [
              1,
              "#f0f921"
             ]
            ],
            "type": "heatmapgl"
           }
          ],
          "histogram": [
           {
            "marker": {
             "colorbar": {
              "outlinewidth": 0,
              "ticks": ""
             }
            },
            "type": "histogram"
           }
          ],
          "histogram2d": [
           {
            "colorbar": {
             "outlinewidth": 0,
             "ticks": ""
            },
            "colorscale": [
             [
              0,
              "#0d0887"
             ],
             [
              0.1111111111111111,
              "#46039f"
             ],
             [
              0.2222222222222222,
              "#7201a8"
             ],
             [
              0.3333333333333333,
              "#9c179e"
             ],
             [
              0.4444444444444444,
              "#bd3786"
             ],
             [
              0.5555555555555556,
              "#d8576b"
             ],
             [
              0.6666666666666666,
              "#ed7953"
             ],
             [
              0.7777777777777778,
              "#fb9f3a"
             ],
             [
              0.8888888888888888,
              "#fdca26"
             ],
             [
              1,
              "#f0f921"
             ]
            ],
            "type": "histogram2d"
           }
          ],
          "histogram2dcontour": [
           {
            "colorbar": {
             "outlinewidth": 0,
             "ticks": ""
            },
            "colorscale": [
             [
              0,
              "#0d0887"
             ],
             [
              0.1111111111111111,
              "#46039f"
             ],
             [
              0.2222222222222222,
              "#7201a8"
             ],
             [
              0.3333333333333333,
              "#9c179e"
             ],
             [
              0.4444444444444444,
              "#bd3786"
             ],
             [
              0.5555555555555556,
              "#d8576b"
             ],
             [
              0.6666666666666666,
              "#ed7953"
             ],
             [
              0.7777777777777778,
              "#fb9f3a"
             ],
             [
              0.8888888888888888,
              "#fdca26"
             ],
             [
              1,
              "#f0f921"
             ]
            ],
            "type": "histogram2dcontour"
           }
          ],
          "mesh3d": [
           {
            "colorbar": {
             "outlinewidth": 0,
             "ticks": ""
            },
            "type": "mesh3d"
           }
          ],
          "parcoords": [
           {
            "line": {
             "colorbar": {
              "outlinewidth": 0,
              "ticks": ""
             }
            },
            "type": "parcoords"
           }
          ],
          "pie": [
           {
            "automargin": true,
            "type": "pie"
           }
          ],
          "scatter": [
           {
            "marker": {
             "colorbar": {
              "outlinewidth": 0,
              "ticks": ""
             }
            },
            "type": "scatter"
           }
          ],
          "scatter3d": [
           {
            "line": {
             "colorbar": {
              "outlinewidth": 0,
              "ticks": ""
             }
            },
            "marker": {
             "colorbar": {
              "outlinewidth": 0,
              "ticks": ""
             }
            },
            "type": "scatter3d"
           }
          ],
          "scattercarpet": [
           {
            "marker": {
             "colorbar": {
              "outlinewidth": 0,
              "ticks": ""
             }
            },
            "type": "scattercarpet"
           }
          ],
          "scattergeo": [
           {
            "marker": {
             "colorbar": {
              "outlinewidth": 0,
              "ticks": ""
             }
            },
            "type": "scattergeo"
           }
          ],
          "scattergl": [
           {
            "marker": {
             "colorbar": {
              "outlinewidth": 0,
              "ticks": ""
             }
            },
            "type": "scattergl"
           }
          ],
          "scattermapbox": [
           {
            "marker": {
             "colorbar": {
              "outlinewidth": 0,
              "ticks": ""
             }
            },
            "type": "scattermapbox"
           }
          ],
          "scatterpolar": [
           {
            "marker": {
             "colorbar": {
              "outlinewidth": 0,
              "ticks": ""
             }
            },
            "type": "scatterpolar"
           }
          ],
          "scatterpolargl": [
           {
            "marker": {
             "colorbar": {
              "outlinewidth": 0,
              "ticks": ""
             }
            },
            "type": "scatterpolargl"
           }
          ],
          "scatterternary": [
           {
            "marker": {
             "colorbar": {
              "outlinewidth": 0,
              "ticks": ""
             }
            },
            "type": "scatterternary"
           }
          ],
          "surface": [
           {
            "colorbar": {
             "outlinewidth": 0,
             "ticks": ""
            },
            "colorscale": [
             [
              0,
              "#0d0887"
             ],
             [
              0.1111111111111111,
              "#46039f"
             ],
             [
              0.2222222222222222,
              "#7201a8"
             ],
             [
              0.3333333333333333,
              "#9c179e"
             ],
             [
              0.4444444444444444,
              "#bd3786"
             ],
             [
              0.5555555555555556,
              "#d8576b"
             ],
             [
              0.6666666666666666,
              "#ed7953"
             ],
             [
              0.7777777777777778,
              "#fb9f3a"
             ],
             [
              0.8888888888888888,
              "#fdca26"
             ],
             [
              1,
              "#f0f921"
             ]
            ],
            "type": "surface"
           }
          ],
          "table": [
           {
            "cells": {
             "fill": {
              "color": "#EBF0F8"
             },
             "line": {
              "color": "white"
             }
            },
            "header": {
             "fill": {
              "color": "#C8D4E3"
             },
             "line": {
              "color": "white"
             }
            },
            "type": "table"
           }
          ]
         },
         "layout": {
          "annotationdefaults": {
           "arrowcolor": "#2a3f5f",
           "arrowhead": 0,
           "arrowwidth": 1
          },
          "coloraxis": {
           "colorbar": {
            "outlinewidth": 0,
            "ticks": ""
           }
          },
          "colorscale": {
           "diverging": [
            [
             0,
             "#8e0152"
            ],
            [
             0.1,
             "#c51b7d"
            ],
            [
             0.2,
             "#de77ae"
            ],
            [
             0.3,
             "#f1b6da"
            ],
            [
             0.4,
             "#fde0ef"
            ],
            [
             0.5,
             "#f7f7f7"
            ],
            [
             0.6,
             "#e6f5d0"
            ],
            [
             0.7,
             "#b8e186"
            ],
            [
             0.8,
             "#7fbc41"
            ],
            [
             0.9,
             "#4d9221"
            ],
            [
             1,
             "#276419"
            ]
           ],
           "sequential": [
            [
             0,
             "#0d0887"
            ],
            [
             0.1111111111111111,
             "#46039f"
            ],
            [
             0.2222222222222222,
             "#7201a8"
            ],
            [
             0.3333333333333333,
             "#9c179e"
            ],
            [
             0.4444444444444444,
             "#bd3786"
            ],
            [
             0.5555555555555556,
             "#d8576b"
            ],
            [
             0.6666666666666666,
             "#ed7953"
            ],
            [
             0.7777777777777778,
             "#fb9f3a"
            ],
            [
             0.8888888888888888,
             "#fdca26"
            ],
            [
             1,
             "#f0f921"
            ]
           ],
           "sequentialminus": [
            [
             0,
             "#0d0887"
            ],
            [
             0.1111111111111111,
             "#46039f"
            ],
            [
             0.2222222222222222,
             "#7201a8"
            ],
            [
             0.3333333333333333,
             "#9c179e"
            ],
            [
             0.4444444444444444,
             "#bd3786"
            ],
            [
             0.5555555555555556,
             "#d8576b"
            ],
            [
             0.6666666666666666,
             "#ed7953"
            ],
            [
             0.7777777777777778,
             "#fb9f3a"
            ],
            [
             0.8888888888888888,
             "#fdca26"
            ],
            [
             1,
             "#f0f921"
            ]
           ]
          },
          "colorway": [
           "#636efa",
           "#EF553B",
           "#00cc96",
           "#ab63fa",
           "#FFA15A",
           "#19d3f3",
           "#FF6692",
           "#B6E880",
           "#FF97FF",
           "#FECB52"
          ],
          "font": {
           "color": "#2a3f5f"
          },
          "geo": {
           "bgcolor": "white",
           "lakecolor": "white",
           "landcolor": "#E5ECF6",
           "showlakes": true,
           "showland": true,
           "subunitcolor": "white"
          },
          "hoverlabel": {
           "align": "left"
          },
          "hovermode": "closest",
          "mapbox": {
           "style": "light"
          },
          "paper_bgcolor": "white",
          "plot_bgcolor": "#E5ECF6",
          "polar": {
           "angularaxis": {
            "gridcolor": "white",
            "linecolor": "white",
            "ticks": ""
           },
           "bgcolor": "#E5ECF6",
           "radialaxis": {
            "gridcolor": "white",
            "linecolor": "white",
            "ticks": ""
           }
          },
          "scene": {
           "xaxis": {
            "backgroundcolor": "#E5ECF6",
            "gridcolor": "white",
            "gridwidth": 2,
            "linecolor": "white",
            "showbackground": true,
            "ticks": "",
            "zerolinecolor": "white"
           },
           "yaxis": {
            "backgroundcolor": "#E5ECF6",
            "gridcolor": "white",
            "gridwidth": 2,
            "linecolor": "white",
            "showbackground": true,
            "ticks": "",
            "zerolinecolor": "white"
           },
           "zaxis": {
            "backgroundcolor": "#E5ECF6",
            "gridcolor": "white",
            "gridwidth": 2,
            "linecolor": "white",
            "showbackground": true,
            "ticks": "",
            "zerolinecolor": "white"
           }
          },
          "shapedefaults": {
           "line": {
            "color": "#2a3f5f"
           }
          },
          "ternary": {
           "aaxis": {
            "gridcolor": "white",
            "linecolor": "white",
            "ticks": ""
           },
           "baxis": {
            "gridcolor": "white",
            "linecolor": "white",
            "ticks": ""
           },
           "bgcolor": "#E5ECF6",
           "caxis": {
            "gridcolor": "white",
            "linecolor": "white",
            "ticks": ""
           }
          },
          "title": {
           "x": 0.05
          },
          "xaxis": {
           "automargin": true,
           "gridcolor": "white",
           "linecolor": "white",
           "ticks": "",
           "title": {
            "standoff": 15
           },
           "zerolinecolor": "white",
           "zerolinewidth": 2
          },
          "yaxis": {
           "automargin": true,
           "gridcolor": "white",
           "linecolor": "white",
           "ticks": "",
           "title": {
            "standoff": 15
           },
           "zerolinecolor": "white",
           "zerolinewidth": 2
          }
         }
        },
        "title": {
         "text": "Child poverty with state funded tax reform"
        },
        "updatemenus": [
         {
          "buttons": [
           {
            "args": [
             null,
             {
              "frame": {
               "duration": 500,
               "redraw": true
              },
              "fromcurrent": true,
              "mode": "immediate",
              "transition": {
               "duration": 500,
               "easing": "linear"
              }
             }
            ],
            "label": "&#9654;",
            "method": "animate"
           },
           {
            "args": [
             [
              null
             ],
             {
              "frame": {
               "duration": 0,
               "redraw": true
              },
              "fromcurrent": true,
              "mode": "immediate",
              "transition": {
               "duration": 0,
               "easing": "linear"
              }
             }
            ],
            "label": "&#9724;",
            "method": "animate"
           }
          ],
          "direction": "left",
          "pad": {
           "r": 10,
           "t": 70
          },
          "showactive": false,
          "type": "buttons",
          "x": 0.1,
          "xanchor": "right",
          "y": 0,
          "yanchor": "top"
         }
        ]
       }
      },
      "text/html": [
       "<div>\n",
       "        \n",
       "        \n",
       "            <div id=\"c25d91c7-4af7-417d-b3a6-55714d8ffb54\" class=\"plotly-graph-div\" style=\"height:600px; width:100%;\"></div>\n",
       "            <script type=\"text/javascript\">\n",
       "                require([\"plotly\"], function(Plotly) {\n",
       "                    window.PLOTLYENV=window.PLOTLYENV || {};\n",
       "                    \n",
       "                if (document.getElementById(\"c25d91c7-4af7-417d-b3a6-55714d8ffb54\")) {\n",
       "                    Plotly.newPlot(\n",
       "                        'c25d91c7-4af7-417d-b3a6-55714d8ffb54',\n",
       "                        [{\"coloraxis\": \"coloraxis\", \"geo\": \"geo\", \"hovertemplate\": \"Child Allowance=0<br>State=%{location}<br>Child poverty rate=%{z}<extra></extra>\", \"locationmode\": \"USA-states\", \"locations\": [\"AL\", \"AL\", \"AL\", \"AK\", \"AK\", \"AK\", \"AZ\", \"AZ\", \"AZ\", \"AR\", \"AR\", \"AR\", \"CA\", \"CA\", \"CA\", \"CO\", \"CO\", \"CO\", \"CT\", \"CT\", \"CT\", \"DE\", \"DE\", \"DE\", \"FL\", \"FL\", \"FL\", \"GA\", \"GA\", \"GA\", \"HI\", \"HI\", \"HI\", \"ID\", \"ID\", \"ID\", \"IL\", \"IL\", \"IL\", \"IN\", \"IN\", \"IN\", \"IA\", \"IA\", \"IA\", \"KS\", \"KS\", \"KS\", \"KY\", \"KY\", \"KY\", \"LA\", \"LA\", \"LA\", \"ME\", \"ME\", \"ME\", \"MD\", \"MD\", \"MD\", \"MA\", \"MA\", \"MA\", \"MI\", \"MI\", \"MI\", \"MN\", \"MN\", \"MN\", \"MS\", \"MS\", \"MS\", \"MO\", \"MO\", \"MO\", \"MT\", \"MT\", \"MT\", \"NE\", \"NE\", \"NE\", \"NV\", \"NV\", \"NV\", \"NH\", \"NH\", \"NH\", \"NJ\", \"NJ\", \"NJ\", \"NM\", \"NM\", \"NM\", \"NY\", \"NY\", \"NY\", \"NC\", \"NC\", \"NC\", \"ND\", \"ND\", \"ND\", \"OH\", \"OH\", \"OH\", \"OK\", \"OK\", \"OK\", \"OR\", \"OR\", \"OR\", \"PA\", \"PA\", \"PA\", \"RI\", \"RI\", \"RI\", \"SC\", \"SC\", \"SC\", \"SD\", \"SD\", \"SD\", \"TN\", \"TN\", \"TN\", \"TX\", \"TX\", \"TX\", \"UT\", \"UT\", \"UT\", \"VT\", \"VT\", \"VT\", \"VA\", \"VA\", \"VA\", \"WA\", \"WA\", \"WA\", \"WV\", \"WV\", \"WV\", \"WI\", \"WI\", \"WI\", \"WY\", \"WY\", \"WY\", \"DC\", \"DC\", \"DC\", \"US\", \"US\", \"US\"], \"name\": \"\", \"type\": \"choropleth\", \"z\": [14.8, 12.1, 12.7, 14.3, 12.9, 13.3, 13.0, 11.7, 12.0, 12.5, 13.3, 13.1, 19.6, 16.8, 17.4, 11.4, 11.8, 11.7, 13.6, 10.7, 11.3, 10.4, 10.6, 10.6, 18.4, 15.3, 16.0, 15.5, 13.1, 13.7, 15.6, 13.3, 13.8, 7.1, 8.7, 8.3, 12.5, 11.1, 11.4, 12.6, 9.7, 10.4, 8.1, 7.3, 7.5, 7.3, 7.6, 7.5, 10.3, 11.5, 11.2, 19.5, 15.6, 16.6, 9.6, 9.4, 9.4, 11.2, 12.8, 12.5, 10.7, 11.7, 11.5, 10.5, 9.9, 10.1, 5.3, 6.9, 6.6, 17.0, 14.9, 15.4, 8.8, 8.9, 8.9, 8.0, 9.3, 9.0, 9.7, 8.9, 9.1, 13.7, 13.5, 13.5, 8.1, 8.6, 8.5, 13.8, 12.8, 13.0, 13.9, 13.5, 13.6, 17.2, 14.6, 15.2, 14.9, 13.2, 13.6, 9.8, 9.5, 9.6, 11.3, 10.1, 10.3, 10.1, 10.9, 10.7, 10.3, 11.5, 11.3, 13.0, 10.7, 11.1, 10.1, 7.6, 8.1, 15.1, 12.8, 13.3, 9.1, 9.0, 9.1, 12.1, 10.9, 11.2, 15.3, 13.6, 14.1, 7.6, 8.5, 8.2, 12.4, 10.1, 10.6, 13.4, 11.3, 11.8, 8.8, 8.2, 8.4, 13.4, 12.3, 12.5, 8.2, 7.8, 7.9, 9.3, 10.2, 10.0, 17.3, 16.9, 17.0, 13.9, 12.5, 12.8]}],\n",
       "                        {\"coloraxis\": {\"cmax\": 22, \"cmin\": 0, \"colorbar\": {\"title\": {\"text\": \"Child poverty rate\"}}, \"colorscale\": [[0.0, \"rgb(255,245,240)\"], [0.125, \"rgb(254,224,210)\"], [0.25, \"rgb(252,187,161)\"], [0.375, \"rgb(252,146,114)\"], [0.5, \"rgb(251,106,74)\"], [0.625, \"rgb(239,59,44)\"], [0.75, \"rgb(203,24,29)\"], [0.875, \"rgb(165,15,21)\"], [1.0, \"rgb(103,0,13)\"]], \"showscale\": false}, \"font\": {\"family\": \"Roboto\"}, \"geo\": {\"center\": {}, \"domain\": {\"x\": [0.0, 1.0], \"y\": [0.0, 1.0]}, \"scope\": \"usa\"}, \"height\": 600, \"legend\": {\"tracegroupgap\": 0}, \"sliders\": [{\"active\": 0, \"currentvalue\": {\"prefix\": \"Child Allowance=\"}, \"len\": 0.9, \"pad\": {\"b\": 10, \"t\": 60}, \"steps\": [{\"args\": [[\"0\"], {\"frame\": {\"duration\": 0, \"redraw\": true}, \"fromcurrent\": true, \"mode\": \"immediate\", \"transition\": {\"duration\": 0, \"easing\": \"linear\"}}], \"label\": \"0\", \"method\": \"animate\"}, {\"args\": [[\"50\"], {\"frame\": {\"duration\": 0, \"redraw\": true}, \"fromcurrent\": true, \"mode\": \"immediate\", \"transition\": {\"duration\": 0, \"easing\": \"linear\"}}], \"label\": \"50\", \"method\": \"animate\"}, {\"args\": [[\"100\"], {\"frame\": {\"duration\": 0, \"redraw\": true}, \"fromcurrent\": true, \"mode\": \"immediate\", \"transition\": {\"duration\": 0, \"easing\": \"linear\"}}], \"label\": \"100\", \"method\": \"animate\"}, {\"args\": [[\"150\"], {\"frame\": {\"duration\": 0, \"redraw\": true}, \"fromcurrent\": true, \"mode\": \"immediate\", \"transition\": {\"duration\": 0, \"easing\": \"linear\"}}], \"label\": \"150\", \"method\": \"animate\"}, {\"args\": [[\"200\"], {\"frame\": {\"duration\": 0, \"redraw\": true}, \"fromcurrent\": true, \"mode\": \"immediate\", \"transition\": {\"duration\": 0, \"easing\": \"linear\"}}], \"label\": \"200\", \"method\": \"animate\"}, {\"args\": [[\"250\"], {\"frame\": {\"duration\": 0, \"redraw\": true}, \"fromcurrent\": true, \"mode\": \"immediate\", \"transition\": {\"duration\": 0, \"easing\": \"linear\"}}], \"label\": \"250\", \"method\": \"animate\"}, {\"args\": [[\"300\"], {\"frame\": {\"duration\": 0, \"redraw\": true}, \"fromcurrent\": true, \"mode\": \"immediate\", \"transition\": {\"duration\": 0, \"easing\": \"linear\"}}], \"label\": \"300\", \"method\": \"animate\"}, {\"args\": [[\"350\"], {\"frame\": {\"duration\": 0, \"redraw\": true}, \"fromcurrent\": true, \"mode\": \"immediate\", \"transition\": {\"duration\": 0, \"easing\": \"linear\"}}], \"label\": \"350\", \"method\": \"animate\"}, {\"args\": [[\"400\"], {\"frame\": {\"duration\": 0, \"redraw\": true}, \"fromcurrent\": true, \"mode\": \"immediate\", \"transition\": {\"duration\": 0, \"easing\": \"linear\"}}], \"label\": \"400\", \"method\": \"animate\"}, {\"args\": [[\"450\"], {\"frame\": {\"duration\": 0, \"redraw\": true}, \"fromcurrent\": true, \"mode\": \"immediate\", \"transition\": {\"duration\": 0, \"easing\": \"linear\"}}], \"label\": \"450\", \"method\": \"animate\"}, {\"args\": [[\"500\"], {\"frame\": {\"duration\": 0, \"redraw\": true}, \"fromcurrent\": true, \"mode\": \"immediate\", \"transition\": {\"duration\": 0, \"easing\": \"linear\"}}], \"label\": \"500\", \"method\": \"animate\"}], \"x\": 0.1, \"xanchor\": \"left\", \"y\": 0, \"yanchor\": \"top\"}], \"template\": {\"data\": {\"bar\": [{\"error_x\": {\"color\": \"#2a3f5f\"}, \"error_y\": {\"color\": \"#2a3f5f\"}, \"marker\": {\"line\": {\"color\": \"#E5ECF6\", \"width\": 0.5}}, \"type\": \"bar\"}], \"barpolar\": [{\"marker\": {\"line\": {\"color\": \"#E5ECF6\", \"width\": 0.5}}, \"type\": \"barpolar\"}], \"carpet\": [{\"aaxis\": {\"endlinecolor\": \"#2a3f5f\", \"gridcolor\": \"white\", \"linecolor\": \"white\", \"minorgridcolor\": \"white\", \"startlinecolor\": \"#2a3f5f\"}, \"baxis\": {\"endlinecolor\": \"#2a3f5f\", \"gridcolor\": \"white\", \"linecolor\": \"white\", \"minorgridcolor\": \"white\", \"startlinecolor\": \"#2a3f5f\"}, \"type\": \"carpet\"}], \"choropleth\": [{\"colorbar\": {\"outlinewidth\": 0, \"ticks\": \"\"}, \"type\": \"choropleth\"}], \"contour\": [{\"colorbar\": {\"outlinewidth\": 0, \"ticks\": \"\"}, \"colorscale\": [[0.0, \"#0d0887\"], [0.1111111111111111, \"#46039f\"], [0.2222222222222222, \"#7201a8\"], [0.3333333333333333, \"#9c179e\"], [0.4444444444444444, \"#bd3786\"], [0.5555555555555556, \"#d8576b\"], [0.6666666666666666, \"#ed7953\"], [0.7777777777777778, \"#fb9f3a\"], [0.8888888888888888, \"#fdca26\"], [1.0, \"#f0f921\"]], \"type\": \"contour\"}], \"contourcarpet\": [{\"colorbar\": {\"outlinewidth\": 0, \"ticks\": \"\"}, \"type\": \"contourcarpet\"}], \"heatmap\": [{\"colorbar\": {\"outlinewidth\": 0, \"ticks\": \"\"}, \"colorscale\": [[0.0, \"#0d0887\"], [0.1111111111111111, \"#46039f\"], [0.2222222222222222, \"#7201a8\"], [0.3333333333333333, \"#9c179e\"], [0.4444444444444444, \"#bd3786\"], [0.5555555555555556, \"#d8576b\"], [0.6666666666666666, \"#ed7953\"], [0.7777777777777778, \"#fb9f3a\"], [0.8888888888888888, \"#fdca26\"], [1.0, \"#f0f921\"]], \"type\": \"heatmap\"}], \"heatmapgl\": [{\"colorbar\": {\"outlinewidth\": 0, \"ticks\": \"\"}, \"colorscale\": [[0.0, \"#0d0887\"], [0.1111111111111111, \"#46039f\"], [0.2222222222222222, \"#7201a8\"], [0.3333333333333333, \"#9c179e\"], [0.4444444444444444, \"#bd3786\"], [0.5555555555555556, \"#d8576b\"], [0.6666666666666666, \"#ed7953\"], [0.7777777777777778, \"#fb9f3a\"], [0.8888888888888888, \"#fdca26\"], [1.0, \"#f0f921\"]], \"type\": \"heatmapgl\"}], \"histogram\": [{\"marker\": {\"colorbar\": {\"outlinewidth\": 0, \"ticks\": \"\"}}, \"type\": \"histogram\"}], \"histogram2d\": [{\"colorbar\": {\"outlinewidth\": 0, \"ticks\": \"\"}, \"colorscale\": [[0.0, \"#0d0887\"], [0.1111111111111111, \"#46039f\"], [0.2222222222222222, \"#7201a8\"], [0.3333333333333333, \"#9c179e\"], [0.4444444444444444, \"#bd3786\"], [0.5555555555555556, \"#d8576b\"], [0.6666666666666666, \"#ed7953\"], [0.7777777777777778, \"#fb9f3a\"], [0.8888888888888888, \"#fdca26\"], [1.0, \"#f0f921\"]], \"type\": \"histogram2d\"}], \"histogram2dcontour\": [{\"colorbar\": {\"outlinewidth\": 0, \"ticks\": \"\"}, \"colorscale\": [[0.0, \"#0d0887\"], [0.1111111111111111, \"#46039f\"], [0.2222222222222222, \"#7201a8\"], [0.3333333333333333, \"#9c179e\"], [0.4444444444444444, \"#bd3786\"], [0.5555555555555556, \"#d8576b\"], [0.6666666666666666, \"#ed7953\"], [0.7777777777777778, \"#fb9f3a\"], [0.8888888888888888, \"#fdca26\"], [1.0, \"#f0f921\"]], \"type\": \"histogram2dcontour\"}], \"mesh3d\": [{\"colorbar\": {\"outlinewidth\": 0, \"ticks\": \"\"}, \"type\": \"mesh3d\"}], \"parcoords\": [{\"line\": {\"colorbar\": {\"outlinewidth\": 0, \"ticks\": \"\"}}, \"type\": \"parcoords\"}], \"pie\": [{\"automargin\": true, \"type\": \"pie\"}], \"scatter\": [{\"marker\": {\"colorbar\": {\"outlinewidth\": 0, \"ticks\": \"\"}}, \"type\": \"scatter\"}], \"scatter3d\": [{\"line\": {\"colorbar\": {\"outlinewidth\": 0, \"ticks\": \"\"}}, \"marker\": {\"colorbar\": {\"outlinewidth\": 0, \"ticks\": \"\"}}, \"type\": \"scatter3d\"}], \"scattercarpet\": [{\"marker\": {\"colorbar\": {\"outlinewidth\": 0, \"ticks\": \"\"}}, \"type\": \"scattercarpet\"}], \"scattergeo\": [{\"marker\": {\"colorbar\": {\"outlinewidth\": 0, \"ticks\": \"\"}}, \"type\": \"scattergeo\"}], \"scattergl\": [{\"marker\": {\"colorbar\": {\"outlinewidth\": 0, \"ticks\": \"\"}}, \"type\": \"scattergl\"}], \"scattermapbox\": [{\"marker\": {\"colorbar\": {\"outlinewidth\": 0, \"ticks\": \"\"}}, \"type\": \"scattermapbox\"}], \"scatterpolar\": [{\"marker\": {\"colorbar\": {\"outlinewidth\": 0, \"ticks\": \"\"}}, \"type\": \"scatterpolar\"}], \"scatterpolargl\": [{\"marker\": {\"colorbar\": {\"outlinewidth\": 0, \"ticks\": \"\"}}, \"type\": \"scatterpolargl\"}], \"scatterternary\": [{\"marker\": {\"colorbar\": {\"outlinewidth\": 0, \"ticks\": \"\"}}, \"type\": \"scatterternary\"}], \"surface\": [{\"colorbar\": {\"outlinewidth\": 0, \"ticks\": \"\"}, \"colorscale\": [[0.0, \"#0d0887\"], [0.1111111111111111, \"#46039f\"], [0.2222222222222222, \"#7201a8\"], [0.3333333333333333, \"#9c179e\"], [0.4444444444444444, \"#bd3786\"], [0.5555555555555556, \"#d8576b\"], [0.6666666666666666, \"#ed7953\"], [0.7777777777777778, \"#fb9f3a\"], [0.8888888888888888, \"#fdca26\"], [1.0, \"#f0f921\"]], \"type\": \"surface\"}], \"table\": [{\"cells\": {\"fill\": {\"color\": \"#EBF0F8\"}, \"line\": {\"color\": \"white\"}}, \"header\": {\"fill\": {\"color\": \"#C8D4E3\"}, \"line\": {\"color\": \"white\"}}, \"type\": \"table\"}]}, \"layout\": {\"annotationdefaults\": {\"arrowcolor\": \"#2a3f5f\", \"arrowhead\": 0, \"arrowwidth\": 1}, \"coloraxis\": {\"colorbar\": {\"outlinewidth\": 0, \"ticks\": \"\"}}, \"colorscale\": {\"diverging\": [[0, \"#8e0152\"], [0.1, \"#c51b7d\"], [0.2, \"#de77ae\"], [0.3, \"#f1b6da\"], [0.4, \"#fde0ef\"], [0.5, \"#f7f7f7\"], [0.6, \"#e6f5d0\"], [0.7, \"#b8e186\"], [0.8, \"#7fbc41\"], [0.9, \"#4d9221\"], [1, \"#276419\"]], \"sequential\": [[0.0, \"#0d0887\"], [0.1111111111111111, \"#46039f\"], [0.2222222222222222, \"#7201a8\"], [0.3333333333333333, \"#9c179e\"], [0.4444444444444444, \"#bd3786\"], [0.5555555555555556, \"#d8576b\"], [0.6666666666666666, \"#ed7953\"], [0.7777777777777778, \"#fb9f3a\"], [0.8888888888888888, \"#fdca26\"], [1.0, \"#f0f921\"]], \"sequentialminus\": [[0.0, \"#0d0887\"], [0.1111111111111111, \"#46039f\"], [0.2222222222222222, \"#7201a8\"], [0.3333333333333333, \"#9c179e\"], [0.4444444444444444, \"#bd3786\"], [0.5555555555555556, \"#d8576b\"], [0.6666666666666666, \"#ed7953\"], [0.7777777777777778, \"#fb9f3a\"], [0.8888888888888888, \"#fdca26\"], [1.0, \"#f0f921\"]]}, \"colorway\": [\"#636efa\", \"#EF553B\", \"#00cc96\", \"#ab63fa\", \"#FFA15A\", \"#19d3f3\", \"#FF6692\", \"#B6E880\", \"#FF97FF\", \"#FECB52\"], \"font\": {\"color\": \"#2a3f5f\"}, \"geo\": {\"bgcolor\": \"white\", \"lakecolor\": \"white\", \"landcolor\": \"#E5ECF6\", \"showlakes\": true, \"showland\": true, \"subunitcolor\": \"white\"}, \"hoverlabel\": {\"align\": \"left\"}, \"hovermode\": \"closest\", \"mapbox\": {\"style\": \"light\"}, \"paper_bgcolor\": \"white\", \"plot_bgcolor\": \"#E5ECF6\", \"polar\": {\"angularaxis\": {\"gridcolor\": \"white\", \"linecolor\": \"white\", \"ticks\": \"\"}, \"bgcolor\": \"#E5ECF6\", \"radialaxis\": {\"gridcolor\": \"white\", \"linecolor\": \"white\", \"ticks\": \"\"}}, \"scene\": {\"xaxis\": {\"backgroundcolor\": \"#E5ECF6\", \"gridcolor\": \"white\", \"gridwidth\": 2, \"linecolor\": \"white\", \"showbackground\": true, \"ticks\": \"\", \"zerolinecolor\": \"white\"}, \"yaxis\": {\"backgroundcolor\": \"#E5ECF6\", \"gridcolor\": \"white\", \"gridwidth\": 2, \"linecolor\": \"white\", \"showbackground\": true, \"ticks\": \"\", \"zerolinecolor\": \"white\"}, \"zaxis\": {\"backgroundcolor\": \"#E5ECF6\", \"gridcolor\": \"white\", \"gridwidth\": 2, \"linecolor\": \"white\", \"showbackground\": true, \"ticks\": \"\", \"zerolinecolor\": \"white\"}}, \"shapedefaults\": {\"line\": {\"color\": \"#2a3f5f\"}}, \"ternary\": {\"aaxis\": {\"gridcolor\": \"white\", \"linecolor\": \"white\", \"ticks\": \"\"}, \"baxis\": {\"gridcolor\": \"white\", \"linecolor\": \"white\", \"ticks\": \"\"}, \"bgcolor\": \"#E5ECF6\", \"caxis\": {\"gridcolor\": \"white\", \"linecolor\": \"white\", \"ticks\": \"\"}}, \"title\": {\"x\": 0.05}, \"xaxis\": {\"automargin\": true, \"gridcolor\": \"white\", \"linecolor\": \"white\", \"ticks\": \"\", \"title\": {\"standoff\": 15}, \"zerolinecolor\": \"white\", \"zerolinewidth\": 2}, \"yaxis\": {\"automargin\": true, \"gridcolor\": \"white\", \"linecolor\": \"white\", \"ticks\": \"\", \"title\": {\"standoff\": 15}, \"zerolinecolor\": \"white\", \"zerolinewidth\": 2}}}, \"title\": {\"text\": \"Child poverty with state funded tax reform\"}, \"updatemenus\": [{\"buttons\": [{\"args\": [null, {\"frame\": {\"duration\": 500, \"redraw\": true}, \"fromcurrent\": true, \"mode\": \"immediate\", \"transition\": {\"duration\": 500, \"easing\": \"linear\"}}], \"label\": \"&#9654;\", \"method\": \"animate\"}, {\"args\": [[null], {\"frame\": {\"duration\": 0, \"redraw\": true}, \"fromcurrent\": true, \"mode\": \"immediate\", \"transition\": {\"duration\": 0, \"easing\": \"linear\"}}], \"label\": \"&#9724;\", \"method\": \"animate\"}], \"direction\": \"left\", \"pad\": {\"r\": 10, \"t\": 70}, \"showactive\": false, \"type\": \"buttons\", \"x\": 0.1, \"xanchor\": \"right\", \"y\": 0, \"yanchor\": \"top\"}]},\n",
       "                        {\"displayModeBar\": false, \"responsive\": true}\n",
       "                    ).then(function(){\n",
       "                            Plotly.addFrames('c25d91c7-4af7-417d-b3a6-55714d8ffb54', [{\"data\": [{\"coloraxis\": \"coloraxis\", \"geo\": \"geo\", \"hovertemplate\": \"Child Allowance=0<br>State=%{location}<br>Child poverty rate=%{z}<extra></extra>\", \"locationmode\": \"USA-states\", \"locations\": [\"AL\", \"AL\", \"AL\", \"AK\", \"AK\", \"AK\", \"AZ\", \"AZ\", \"AZ\", \"AR\", \"AR\", \"AR\", \"CA\", \"CA\", \"CA\", \"CO\", \"CO\", \"CO\", \"CT\", \"CT\", \"CT\", \"DE\", \"DE\", \"DE\", \"FL\", \"FL\", \"FL\", \"GA\", \"GA\", \"GA\", \"HI\", \"HI\", \"HI\", \"ID\", \"ID\", \"ID\", \"IL\", \"IL\", \"IL\", \"IN\", \"IN\", \"IN\", \"IA\", \"IA\", \"IA\", \"KS\", \"KS\", \"KS\", \"KY\", \"KY\", \"KY\", \"LA\", \"LA\", \"LA\", \"ME\", \"ME\", \"ME\", \"MD\", \"MD\", \"MD\", \"MA\", \"MA\", \"MA\", \"MI\", \"MI\", \"MI\", \"MN\", \"MN\", \"MN\", \"MS\", \"MS\", \"MS\", \"MO\", \"MO\", \"MO\", \"MT\", \"MT\", \"MT\", \"NE\", \"NE\", \"NE\", \"NV\", \"NV\", \"NV\", \"NH\", \"NH\", \"NH\", \"NJ\", \"NJ\", \"NJ\", \"NM\", \"NM\", \"NM\", \"NY\", \"NY\", \"NY\", \"NC\", \"NC\", \"NC\", \"ND\", \"ND\", \"ND\", \"OH\", \"OH\", \"OH\", \"OK\", \"OK\", \"OK\", \"OR\", \"OR\", \"OR\", \"PA\", \"PA\", \"PA\", \"RI\", \"RI\", \"RI\", \"SC\", \"SC\", \"SC\", \"SD\", \"SD\", \"SD\", \"TN\", \"TN\", \"TN\", \"TX\", \"TX\", \"TX\", \"UT\", \"UT\", \"UT\", \"VT\", \"VT\", \"VT\", \"VA\", \"VA\", \"VA\", \"WA\", \"WA\", \"WA\", \"WV\", \"WV\", \"WV\", \"WI\", \"WI\", \"WI\", \"WY\", \"WY\", \"WY\", \"DC\", \"DC\", \"DC\", \"US\", \"US\", \"US\"], \"name\": \"\", \"z\": [14.8, 12.1, 12.7, 14.3, 12.9, 13.3, 13.0, 11.7, 12.0, 12.5, 13.3, 13.1, 19.6, 16.8, 17.4, 11.4, 11.8, 11.7, 13.6, 10.7, 11.3, 10.4, 10.6, 10.6, 18.4, 15.3, 16.0, 15.5, 13.1, 13.7, 15.6, 13.3, 13.8, 7.1, 8.7, 8.3, 12.5, 11.1, 11.4, 12.6, 9.7, 10.4, 8.1, 7.3, 7.5, 7.3, 7.6, 7.5, 10.3, 11.5, 11.2, 19.5, 15.6, 16.6, 9.6, 9.4, 9.4, 11.2, 12.8, 12.5, 10.7, 11.7, 11.5, 10.5, 9.9, 10.1, 5.3, 6.9, 6.6, 17.0, 14.9, 15.4, 8.8, 8.9, 8.9, 8.0, 9.3, 9.0, 9.7, 8.9, 9.1, 13.7, 13.5, 13.5, 8.1, 8.6, 8.5, 13.8, 12.8, 13.0, 13.9, 13.5, 13.6, 17.2, 14.6, 15.2, 14.9, 13.2, 13.6, 9.8, 9.5, 9.6, 11.3, 10.1, 10.3, 10.1, 10.9, 10.7, 10.3, 11.5, 11.3, 13.0, 10.7, 11.1, 10.1, 7.6, 8.1, 15.1, 12.8, 13.3, 9.1, 9.0, 9.1, 12.1, 10.9, 11.2, 15.3, 13.6, 14.1, 7.6, 8.5, 8.2, 12.4, 10.1, 10.6, 13.4, 11.3, 11.8, 8.8, 8.2, 8.4, 13.4, 12.3, 12.5, 8.2, 7.8, 7.9, 9.3, 10.2, 10.0, 17.3, 16.9, 17.0, 13.9, 12.5, 12.8], \"type\": \"choropleth\"}], \"name\": \"0\"}, {\"data\": [{\"coloraxis\": \"coloraxis\", \"geo\": \"geo\", \"hovertemplate\": \"Child Allowance=50<br>State=%{location}<br>Child poverty rate=%{z}<extra></extra>\", \"locationmode\": \"USA-states\", \"locations\": [\"AL\", \"AL\", \"AL\", \"AK\", \"AK\", \"AK\", \"AZ\", \"AZ\", \"AZ\", \"AR\", \"AR\", \"AR\", \"CA\", \"CA\", \"CA\", \"CO\", \"CO\", \"CO\", \"CT\", \"CT\", \"CT\", \"DE\", \"DE\", \"DE\", \"FL\", \"FL\", \"FL\", \"GA\", \"GA\", \"GA\", \"HI\", \"HI\", \"HI\", \"ID\", \"ID\", \"ID\", \"IL\", \"IL\", \"IL\", \"IN\", \"IN\", \"IN\", \"IA\", \"IA\", \"IA\", \"KS\", \"KS\", \"KS\", \"KY\", \"KY\", \"KY\", \"LA\", \"LA\", \"LA\", \"ME\", \"ME\", \"ME\", \"MD\", \"MD\", \"MD\", \"MA\", \"MA\", \"MA\", \"MI\", \"MI\", \"MI\", \"MN\", \"MN\", \"MN\", \"MS\", \"MS\", \"MS\", \"MO\", \"MO\", \"MO\", \"MT\", \"MT\", \"MT\", \"NE\", \"NE\", \"NE\", \"NV\", \"NV\", \"NV\", \"NH\", \"NH\", \"NH\", \"NJ\", \"NJ\", \"NJ\", \"NM\", \"NM\", \"NM\", \"NY\", \"NY\", \"NY\", \"NC\", \"NC\", \"NC\", \"ND\", \"ND\", \"ND\", \"OH\", \"OH\", \"OH\", \"OK\", \"OK\", \"OK\", \"OR\", \"OR\", \"OR\", \"PA\", \"PA\", \"PA\", \"RI\", \"RI\", \"RI\", \"SC\", \"SC\", \"SC\", \"SD\", \"SD\", \"SD\", \"TN\", \"TN\", \"TN\", \"TX\", \"TX\", \"TX\", \"UT\", \"UT\", \"UT\", \"VT\", \"VT\", \"VT\", \"VA\", \"VA\", \"VA\", \"WA\", \"WA\", \"WA\", \"WV\", \"WV\", \"WV\", \"WI\", \"WI\", \"WI\", \"WY\", \"WY\", \"WY\", \"DC\", \"DC\", \"DC\", \"US\", \"US\", \"US\"], \"name\": \"\", \"z\": [13.7, 11.8, 12.2, 12.8, 12.7, 12.7, 10.4, 11.1, 11.0, 10.4, 12.8, 12.2, 17.8, 16.3, 16.7, 10.0, 11.4, 11.1, 13.0, 10.6, 11.1, 9.5, 10.3, 10.2, 16.3, 14.9, 15.2, 14.7, 12.9, 13.3, 14.0, 12.8, 13.1, 6.1, 8.6, 7.9, 11.3, 10.8, 10.9, 11.8, 9.5, 10.1, 7.4, 7.0, 7.1, 5.5, 7.2, 6.8, 9.5, 11.4, 11.0, 17.6, 15.3, 15.9, 7.9, 9.2, 8.9, 10.2, 12.7, 12.1, 9.4, 11.5, 11.1, 9.4, 9.7, 9.6, 4.5, 6.8, 6.2, 14.9, 14.6, 14.6, 7.1, 8.6, 8.3, 7.4, 9.1, 8.8, 8.4, 8.7, 8.6, 10.5, 12.8, 12.3, 7.1, 8.4, 8.2, 12.9, 12.6, 12.7, 12.0, 13.0, 12.8, 15.7, 14.3, 14.6, 12.8, 12.8, 12.8, 8.2, 9.3, 9.0, 10.1, 9.9, 9.9, 9.0, 10.5, 10.2, 9.0, 11.3, 10.8, 11.6, 10.3, 10.6, 9.5, 7.4, 7.8, 13.1, 12.5, 12.7, 8.4, 8.9, 8.8, 10.3, 10.6, 10.5, 13.5, 13.2, 13.3, 6.7, 8.2, 7.7, 10.8, 10.0, 10.1, 12.4, 11.1, 11.4, 7.7, 8.0, 7.9, 12.2, 12.0, 12.1, 6.8, 7.6, 7.4, 7.5, 10.0, 9.4, 15.6, 16.6, 16.4, 12.4, 12.1, 12.2], \"type\": \"choropleth\"}], \"name\": \"50\"}, {\"data\": [{\"coloraxis\": \"coloraxis\", \"geo\": \"geo\", \"hovertemplate\": \"Child Allowance=100<br>State=%{location}<br>Child poverty rate=%{z}<extra></extra>\", \"locationmode\": \"USA-states\", \"locations\": [\"AL\", \"AL\", \"AL\", \"AK\", \"AK\", \"AK\", \"AZ\", \"AZ\", \"AZ\", \"AR\", \"AR\", \"AR\", \"CA\", \"CA\", \"CA\", \"CO\", \"CO\", \"CO\", \"CT\", \"CT\", \"CT\", \"DE\", \"DE\", \"DE\", \"FL\", \"FL\", \"FL\", \"GA\", \"GA\", \"GA\", \"HI\", \"HI\", \"HI\", \"ID\", \"ID\", \"ID\", \"IL\", \"IL\", \"IL\", \"IN\", \"IN\", \"IN\", \"IA\", \"IA\", \"IA\", \"KS\", \"KS\", \"KS\", \"KY\", \"KY\", \"KY\", \"LA\", \"LA\", \"LA\", \"ME\", \"ME\", \"ME\", \"MD\", \"MD\", \"MD\", \"MA\", \"MA\", \"MA\", \"MI\", \"MI\", \"MI\", \"MN\", \"MN\", \"MN\", \"MS\", \"MS\", \"MS\", \"MO\", \"MO\", \"MO\", \"MT\", \"MT\", \"MT\", \"NE\", \"NE\", \"NE\", \"NV\", \"NV\", \"NV\", \"NH\", \"NH\", \"NH\", \"NJ\", \"NJ\", \"NJ\", \"NM\", \"NM\", \"NM\", \"NY\", \"NY\", \"NY\", \"NC\", \"NC\", \"NC\", \"ND\", \"ND\", \"ND\", \"OH\", \"OH\", \"OH\", \"OK\", \"OK\", \"OK\", \"OR\", \"OR\", \"OR\", \"PA\", \"PA\", \"PA\", \"RI\", \"RI\", \"RI\", \"SC\", \"SC\", \"SC\", \"SD\", \"SD\", \"SD\", \"TN\", \"TN\", \"TN\", \"TX\", \"TX\", \"TX\", \"UT\", \"UT\", \"UT\", \"VT\", \"VT\", \"VT\", \"VA\", \"VA\", \"VA\", \"WA\", \"WA\", \"WA\", \"WV\", \"WV\", \"WV\", \"WI\", \"WI\", \"WI\", \"WY\", \"WY\", \"WY\", \"DC\", \"DC\", \"DC\", \"US\", \"US\", \"US\"], \"name\": \"\", \"z\": [12.1, 11.5, 11.6, 11.9, 12.4, 12.3, 9.1, 10.8, 10.4, 9.0, 12.6, 11.7, 16.4, 16.0, 16.1, 8.8, 11.2, 10.6, 12.9, 10.5, 11.0, 8.6, 10.1, 9.8, 13.6, 14.5, 14.3, 13.1, 12.5, 12.7, 12.7, 12.6, 12.6, 4.8, 8.3, 7.4, 9.5, 10.4, 10.2, 10.3, 9.2, 9.5, 6.3, 6.8, 6.7, 5.1, 7.1, 6.6, 8.3, 11.3, 10.7, 15.6, 14.8, 15.0, 7.0, 9.0, 8.6, 8.5, 12.4, 11.5, 8.6, 11.4, 10.9, 8.1, 9.4, 9.1, 3.7, 6.7, 6.0, 13.0, 14.2, 13.9, 6.7, 8.5, 8.1, 6.9, 9.1, 8.6, 7.6, 8.4, 8.2, 9.8, 12.7, 12.1, 6.4, 8.2, 7.9, 11.8, 12.4, 12.2, 10.8, 12.7, 12.2, 14.2, 14.0, 14.0, 10.1, 12.3, 11.8, 7.5, 9.1, 8.7, 8.3, 9.6, 9.3, 7.7, 10.3, 9.6, 7.6, 10.9, 10.2, 10.5, 10.2, 10.2, 8.4, 7.2, 7.5, 11.2, 12.2, 12.0, 6.7, 8.5, 8.0, 9.1, 10.4, 10.1, 11.9, 12.9, 12.6, 5.7, 7.9, 7.3, 9.4, 9.8, 9.7, 11.1, 10.9, 10.9, 6.7, 7.8, 7.6, 10.1, 11.6, 11.3, 5.7, 7.5, 7.1, 6.7, 9.9, 9.1, 14.4, 16.4, 16.1, 10.9, 11.8, 11.6], \"type\": \"choropleth\"}], \"name\": \"100\"}, {\"data\": [{\"coloraxis\": \"coloraxis\", \"geo\": \"geo\", \"hovertemplate\": \"Child Allowance=150<br>State=%{location}<br>Child poverty rate=%{z}<extra></extra>\", \"locationmode\": \"USA-states\", \"locations\": [\"AL\", \"AL\", \"AL\", \"AK\", \"AK\", \"AK\", \"AZ\", \"AZ\", \"AZ\", \"AR\", \"AR\", \"AR\", \"CA\", \"CA\", \"CA\", \"CO\", \"CO\", \"CO\", \"CT\", \"CT\", \"CT\", \"DE\", \"DE\", \"DE\", \"FL\", \"FL\", \"FL\", \"GA\", \"GA\", \"GA\", \"HI\", \"HI\", \"HI\", \"ID\", \"ID\", \"ID\", \"IL\", \"IL\", \"IL\", \"IN\", \"IN\", \"IN\", \"IA\", \"IA\", \"IA\", \"KS\", \"KS\", \"KS\", \"KY\", \"KY\", \"KY\", \"LA\", \"LA\", \"LA\", \"ME\", \"ME\", \"ME\", \"MD\", \"MD\", \"MD\", \"MA\", \"MA\", \"MA\", \"MI\", \"MI\", \"MI\", \"MN\", \"MN\", \"MN\", \"MS\", \"MS\", \"MS\", \"MO\", \"MO\", \"MO\", \"MT\", \"MT\", \"MT\", \"NE\", \"NE\", \"NE\", \"NV\", \"NV\", \"NV\", \"NH\", \"NH\", \"NH\", \"NJ\", \"NJ\", \"NJ\", \"NM\", \"NM\", \"NM\", \"NY\", \"NY\", \"NY\", \"NC\", \"NC\", \"NC\", \"ND\", \"ND\", \"ND\", \"OH\", \"OH\", \"OH\", \"OK\", \"OK\", \"OK\", \"OR\", \"OR\", \"OR\", \"PA\", \"PA\", \"PA\", \"RI\", \"RI\", \"RI\", \"SC\", \"SC\", \"SC\", \"SD\", \"SD\", \"SD\", \"TN\", \"TN\", \"TN\", \"TX\", \"TX\", \"TX\", \"UT\", \"UT\", \"UT\", \"VT\", \"VT\", \"VT\", \"VA\", \"VA\", \"VA\", \"WA\", \"WA\", \"WA\", \"WV\", \"WV\", \"WV\", \"WI\", \"WI\", \"WI\", \"WY\", \"WY\", \"WY\", \"DC\", \"DC\", \"DC\", \"US\", \"US\", \"US\"], \"name\": \"\", \"z\": [10.2, 11.1, 10.9, 11.3, 12.2, 12.0, 7.5, 10.5, 9.8, 8.1, 12.5, 11.4, 14.8, 15.7, 15.4, 6.8, 10.8, 9.9, 11.4, 10.1, 10.4, 7.6, 9.9, 9.4, 12.1, 14.1, 13.7, 11.0, 12.1, 11.8, 10.9, 12.3, 12.0, 4.4, 8.3, 7.3, 8.4, 10.2, 9.8, 9.2, 9.0, 9.1, 5.5, 6.8, 6.5, 4.4, 7.0, 6.4, 7.8, 11.2, 10.4, 13.4, 14.4, 14.2, 5.6, 8.7, 8.1, 7.4, 12.1, 11.1, 7.6, 11.1, 10.4, 7.1, 9.2, 8.7, 3.5, 6.7, 5.9, 10.4, 13.7, 12.9, 6.2, 8.5, 8.0, 5.9, 8.9, 8.3, 6.7, 8.1, 7.8, 9.1, 12.6, 11.8, 5.9, 8.1, 7.7, 10.9, 12.2, 11.9, 9.3, 12.3, 11.6, 12.9, 13.7, 13.5, 8.4, 11.8, 11.1, 6.6, 9.0, 8.4, 7.4, 9.4, 8.9, 6.7, 10.1, 9.2, 6.6, 10.8, 9.9, 9.1, 9.9, 9.7, 7.7, 7.0, 7.2, 9.8, 12.1, 11.6, 6.4, 8.5, 8.0, 8.4, 10.2, 9.8, 10.8, 12.6, 12.1, 5.3, 7.7, 7.0, 8.3, 9.6, 9.4, 10.1, 10.5, 10.4, 6.1, 7.6, 7.3, 8.4, 11.2, 10.6, 5.0, 7.3, 6.8, 5.4, 9.7, 8.7, 13.2, 16.3, 15.7, 9.7, 11.6, 11.1], \"type\": \"choropleth\"}], \"name\": \"150\"}, {\"data\": [{\"coloraxis\": \"coloraxis\", \"geo\": \"geo\", \"hovertemplate\": \"Child Allowance=200<br>State=%{location}<br>Child poverty rate=%{z}<extra></extra>\", \"locationmode\": \"USA-states\", \"locations\": [\"AL\", \"AL\", \"AL\", \"AK\", \"AK\", \"AK\", \"AZ\", \"AZ\", \"AZ\", \"AR\", \"AR\", \"AR\", \"CA\", \"CA\", \"CA\", \"CO\", \"CO\", \"CO\", \"CT\", \"CT\", \"CT\", \"DE\", \"DE\", \"DE\", \"FL\", \"FL\", \"FL\", \"GA\", \"GA\", \"GA\", \"HI\", \"HI\", \"HI\", \"ID\", \"ID\", \"ID\", \"IL\", \"IL\", \"IL\", \"IN\", \"IN\", \"IN\", \"IA\", \"IA\", \"IA\", \"KS\", \"KS\", \"KS\", \"KY\", \"KY\", \"KY\", \"LA\", \"LA\", \"LA\", \"ME\", \"ME\", \"ME\", \"MD\", \"MD\", \"MD\", \"MA\", \"MA\", \"MA\", \"MI\", \"MI\", \"MI\", \"MN\", \"MN\", \"MN\", \"MS\", \"MS\", \"MS\", \"MO\", \"MO\", \"MO\", \"MT\", \"MT\", \"MT\", \"NE\", \"NE\", \"NE\", \"NV\", \"NV\", \"NV\", \"NH\", \"NH\", \"NH\", \"NJ\", \"NJ\", \"NJ\", \"NM\", \"NM\", \"NM\", \"NY\", \"NY\", \"NY\", \"NC\", \"NC\", \"NC\", \"ND\", \"ND\", \"ND\", \"OH\", \"OH\", \"OH\", \"OK\", \"OK\", \"OK\", \"OR\", \"OR\", \"OR\", \"PA\", \"PA\", \"PA\", \"RI\", \"RI\", \"RI\", \"SC\", \"SC\", \"SC\", \"SD\", \"SD\", \"SD\", \"TN\", \"TN\", \"TN\", \"TX\", \"TX\", \"TX\", \"UT\", \"UT\", \"UT\", \"VT\", \"VT\", \"VT\", \"VA\", \"VA\", \"VA\", \"WA\", \"WA\", \"WA\", \"WV\", \"WV\", \"WV\", \"WI\", \"WI\", \"WI\", \"WY\", \"WY\", \"WY\", \"DC\", \"DC\", \"DC\", \"US\", \"US\", \"US\"], \"name\": \"\", \"z\": [9.3, 10.9, 10.5, 10.6, 12.0, 11.6, 5.8, 10.1, 9.1, 7.5, 12.4, 11.2, 13.0, 15.2, 14.7, 6.5, 10.7, 9.8, 10.7, 10.0, 10.1, 7.1, 9.9, 9.3, 10.9, 14.0, 13.3, 10.0, 11.9, 11.4, 8.2, 11.8, 11.0, 3.6, 8.1, 7.0, 7.2, 9.9, 9.3, 8.1, 8.7, 8.6, 4.7, 6.6, 6.1, 4.3, 6.9, 6.3, 7.2, 11.1, 10.2, 11.1, 14.0, 13.3, 5.5, 8.7, 8.0, 6.9, 12.0, 10.8, 6.9, 10.9, 10.1, 6.3, 9.1, 8.5, 3.0, 6.5, 5.7, 8.8, 13.3, 12.2, 5.3, 8.4, 7.7, 5.4, 8.9, 8.1, 6.3, 8.0, 7.6, 7.7, 12.3, 11.2, 5.0, 7.9, 7.3, 9.3, 11.7, 11.2, 8.2, 11.9, 11.1, 11.0, 13.3, 12.8, 7.2, 11.6, 10.6, 5.4, 8.6, 7.8, 6.6, 9.1, 8.6, 5.7, 9.9, 8.8, 6.1, 10.7, 9.7, 8.3, 9.7, 9.4, 7.0, 6.9, 6.9, 8.8, 11.9, 11.2, 5.1, 8.4, 7.6, 7.8, 10.1, 9.6, 9.2, 12.2, 11.4, 4.7, 7.6, 6.7, 7.7, 9.4, 9.1, 9.2, 10.2, 10.0, 5.5, 7.4, 7.0, 7.8, 11.0, 10.3, 4.0, 7.1, 6.4, 4.6, 9.5, 8.3, 12.1, 16.1, 15.4, 8.5, 11.3, 10.7], \"type\": \"choropleth\"}], \"name\": \"200\"}, {\"data\": [{\"coloraxis\": \"coloraxis\", \"geo\": \"geo\", \"hovertemplate\": \"Child Allowance=250<br>State=%{location}<br>Child poverty rate=%{z}<extra></extra>\", \"locationmode\": \"USA-states\", \"locations\": [\"AL\", \"AL\", \"AL\", \"AK\", \"AK\", \"AK\", \"AZ\", \"AZ\", \"AZ\", \"AR\", \"AR\", \"AR\", \"CA\", \"CA\", \"CA\", \"CO\", \"CO\", \"CO\", \"CT\", \"CT\", \"CT\", \"DE\", \"DE\", \"DE\", \"FL\", \"FL\", \"FL\", \"GA\", \"GA\", \"GA\", \"HI\", \"HI\", \"HI\", \"ID\", \"ID\", \"ID\", \"IL\", \"IL\", \"IL\", \"IN\", \"IN\", \"IN\", \"IA\", \"IA\", \"IA\", \"KS\", \"KS\", \"KS\", \"KY\", \"KY\", \"KY\", \"LA\", \"LA\", \"LA\", \"ME\", \"ME\", \"ME\", \"MD\", \"MD\", \"MD\", \"MA\", \"MA\", \"MA\", \"MI\", \"MI\", \"MI\", \"MN\", \"MN\", \"MN\", \"MS\", \"MS\", \"MS\", \"MO\", \"MO\", \"MO\", \"MT\", \"MT\", \"MT\", \"NE\", \"NE\", \"NE\", \"NV\", \"NV\", \"NV\", \"NH\", \"NH\", \"NH\", \"NJ\", \"NJ\", \"NJ\", \"NM\", \"NM\", \"NM\", \"NY\", \"NY\", \"NY\", \"NC\", \"NC\", \"NC\", \"ND\", \"ND\", \"ND\", \"OH\", \"OH\", \"OH\", \"OK\", \"OK\", \"OK\", \"OR\", \"OR\", \"OR\", \"PA\", \"PA\", \"PA\", \"RI\", \"RI\", \"RI\", \"SC\", \"SC\", \"SC\", \"SD\", \"SD\", \"SD\", \"TN\", \"TN\", \"TN\", \"TX\", \"TX\", \"TX\", \"UT\", \"UT\", \"UT\", \"VT\", \"VT\", \"VT\", \"VA\", \"VA\", \"VA\", \"WA\", \"WA\", \"WA\", \"WV\", \"WV\", \"WV\", \"WI\", \"WI\", \"WI\", \"WY\", \"WY\", \"WY\", \"DC\", \"DC\", \"DC\", \"US\", \"US\", \"US\"], \"name\": \"\", \"z\": [8.0, 10.6, 10.1, 9.4, 11.5, 11.0, 5.2, 9.9, 8.8, 6.7, 12.3, 10.9, 11.5, 14.9, 14.1, 6.1, 10.6, 9.6, 9.8, 9.7, 9.7, 5.9, 9.6, 8.8, 9.9, 13.7, 13.0, 8.9, 11.6, 10.9, 7.5, 11.6, 10.7, 2.4, 7.8, 6.5, 6.2, 9.7, 8.9, 6.6, 8.5, 8.0, 4.4, 6.6, 6.0, 4.0, 6.9, 6.2, 6.4, 11.0, 10.0, 9.5, 13.6, 12.6, 5.4, 8.6, 8.0, 6.5, 11.9, 10.7, 5.9, 10.7, 9.8, 5.5, 8.9, 8.2, 2.8, 6.5, 5.7, 7.5, 13.1, 11.7, 4.1, 8.0, 7.1, 4.3, 8.7, 7.8, 5.6, 7.9, 7.3, 6.9, 12.0, 10.8, 4.0, 7.8, 7.1, 8.6, 11.5, 10.9, 7.4, 11.7, 10.7, 10.1, 13.3, 12.6, 6.4, 11.3, 10.3, 4.6, 8.5, 7.6, 5.3, 8.7, 7.9, 5.1, 9.7, 8.6, 5.4, 10.6, 9.5, 7.7, 9.5, 9.1, 6.5, 6.7, 6.7, 8.0, 11.7, 10.9, 5.1, 8.4, 7.6, 6.3, 9.8, 9.0, 8.2, 11.9, 11.0, 4.6, 7.5, 6.7, 7.0, 9.3, 8.9, 8.3, 10.0, 9.6, 5.1, 7.4, 6.9, 6.4, 10.8, 9.9, 3.6, 7.1, 6.3, 4.1, 9.4, 8.1, 9.9, 15.7, 14.6, 7.6, 11.1, 10.3], \"type\": \"choropleth\"}], \"name\": \"250\"}, {\"data\": [{\"coloraxis\": \"coloraxis\", \"geo\": \"geo\", \"hovertemplate\": \"Child Allowance=300<br>State=%{location}<br>Child poverty rate=%{z}<extra></extra>\", \"locationmode\": \"USA-states\", \"locations\": [\"AL\", \"AL\", \"AL\", \"AK\", \"AK\", \"AK\", \"AZ\", \"AZ\", \"AZ\", \"AR\", \"AR\", \"AR\", \"CA\", \"CA\", \"CA\", \"CO\", \"CO\", \"CO\", \"CT\", \"CT\", \"CT\", \"DE\", \"DE\", \"DE\", \"FL\", \"FL\", \"FL\", \"GA\", \"GA\", \"GA\", \"HI\", \"HI\", \"HI\", \"ID\", \"ID\", \"ID\", \"IL\", \"IL\", \"IL\", \"IN\", \"IN\", \"IN\", \"IA\", \"IA\", \"IA\", \"KS\", \"KS\", \"KS\", \"KY\", \"KY\", \"KY\", \"LA\", \"LA\", \"LA\", \"ME\", \"ME\", \"ME\", \"MD\", \"MD\", \"MD\", \"MA\", \"MA\", \"MA\", \"MI\", \"MI\", \"MI\", \"MN\", \"MN\", \"MN\", \"MS\", \"MS\", \"MS\", \"MO\", \"MO\", \"MO\", \"MT\", \"MT\", \"MT\", \"NE\", \"NE\", \"NE\", \"NV\", \"NV\", \"NV\", \"NH\", \"NH\", \"NH\", \"NJ\", \"NJ\", \"NJ\", \"NM\", \"NM\", \"NM\", \"NY\", \"NY\", \"NY\", \"NC\", \"NC\", \"NC\", \"ND\", \"ND\", \"ND\", \"OH\", \"OH\", \"OH\", \"OK\", \"OK\", \"OK\", \"OR\", \"OR\", \"OR\", \"PA\", \"PA\", \"PA\", \"RI\", \"RI\", \"RI\", \"SC\", \"SC\", \"SC\", \"SD\", \"SD\", \"SD\", \"TN\", \"TN\", \"TN\", \"TX\", \"TX\", \"TX\", \"UT\", \"UT\", \"UT\", \"VT\", \"VT\", \"VT\", \"VA\", \"VA\", \"VA\", \"WA\", \"WA\", \"WA\", \"WV\", \"WV\", \"WV\", \"WI\", \"WI\", \"WI\", \"WY\", \"WY\", \"WY\", \"DC\", \"DC\", \"DC\", \"US\", \"US\", \"US\"], \"name\": \"\", \"z\": [7.2, 10.5, 9.8, 8.4, 11.3, 10.6, 4.8, 9.8, 8.6, 5.6, 12.1, 10.5, 10.0, 14.5, 13.5, 5.4, 10.4, 9.2, 8.1, 9.4, 9.1, 5.2, 9.4, 8.5, 8.8, 13.6, 12.6, 7.9, 11.3, 10.5, 6.2, 11.5, 10.3, 2.3, 7.8, 6.4, 5.6, 9.6, 8.6, 6.1, 8.4, 7.8, 3.4, 6.4, 5.7, 3.5, 6.8, 6.0, 5.4, 10.8, 9.5, 8.0, 13.2, 11.9, 5.0, 8.6, 7.9, 6.1, 11.8, 10.5, 5.3, 10.6, 9.6, 5.1, 8.8, 8.0, 2.3, 6.4, 5.5, 7.0, 12.9, 11.5, 3.1, 7.9, 6.8, 4.2, 8.7, 7.7, 5.0, 7.8, 7.1, 6.2, 11.9, 10.6, 3.6, 7.7, 6.9, 7.8, 11.3, 10.5, 5.4, 11.3, 10.0, 9.4, 13.1, 12.3, 5.6, 11.1, 9.9, 4.5, 8.4, 7.5, 4.4, 8.5, 7.6, 4.9, 9.7, 8.5, 4.7, 10.4, 9.2, 7.4, 9.4, 9.0, 5.6, 6.5, 6.3, 7.0, 11.4, 10.4, 4.3, 8.2, 7.2, 5.7, 9.8, 8.8, 7.1, 11.7, 10.5, 3.7, 7.4, 6.3, 6.5, 9.3, 8.7, 7.3, 9.8, 9.3, 4.6, 7.2, 6.7, 5.4, 10.6, 9.5, 3.4, 7.0, 6.2, 3.8, 9.3, 8.0, 9.0, 15.6, 14.3, 6.7, 10.9, 10.0], \"type\": \"choropleth\"}], \"name\": \"300\"}, {\"data\": [{\"coloraxis\": \"coloraxis\", \"geo\": \"geo\", \"hovertemplate\": \"Child Allowance=350<br>State=%{location}<br>Child poverty rate=%{z}<extra></extra>\", \"locationmode\": \"USA-states\", \"locations\": [\"AL\", \"AL\", \"AL\", \"AK\", \"AK\", \"AK\", \"AZ\", \"AZ\", \"AZ\", \"AR\", \"AR\", \"AR\", \"CA\", \"CA\", \"CA\", \"CO\", \"CO\", \"CO\", \"CT\", \"CT\", \"CT\", \"DE\", \"DE\", \"DE\", \"FL\", \"FL\", \"FL\", \"GA\", \"GA\", \"GA\", \"HI\", \"HI\", \"HI\", \"ID\", \"ID\", \"ID\", \"IL\", \"IL\", \"IL\", \"IN\", \"IN\", \"IN\", \"IA\", \"IA\", \"IA\", \"KS\", \"KS\", \"KS\", \"KY\", \"KY\", \"KY\", \"LA\", \"LA\", \"LA\", \"ME\", \"ME\", \"ME\", \"MD\", \"MD\", \"MD\", \"MA\", \"MA\", \"MA\", \"MI\", \"MI\", \"MI\", \"MN\", \"MN\", \"MN\", \"MS\", \"MS\", \"MS\", \"MO\", \"MO\", \"MO\", \"MT\", \"MT\", \"MT\", \"NE\", \"NE\", \"NE\", \"NV\", \"NV\", \"NV\", \"NH\", \"NH\", \"NH\", \"NJ\", \"NJ\", \"NJ\", \"NM\", \"NM\", \"NM\", \"NY\", \"NY\", \"NY\", \"NC\", \"NC\", \"NC\", \"ND\", \"ND\", \"ND\", \"OH\", \"OH\", \"OH\", \"OK\", \"OK\", \"OK\", \"OR\", \"OR\", \"OR\", \"PA\", \"PA\", \"PA\", \"RI\", \"RI\", \"RI\", \"SC\", \"SC\", \"SC\", \"SD\", \"SD\", \"SD\", \"TN\", \"TN\", \"TN\", \"TX\", \"TX\", \"TX\", \"UT\", \"UT\", \"UT\", \"VT\", \"VT\", \"VT\", \"VA\", \"VA\", \"VA\", \"WA\", \"WA\", \"WA\", \"WV\", \"WV\", \"WV\", \"WI\", \"WI\", \"WI\", \"WY\", \"WY\", \"WY\", \"DC\", \"DC\", \"DC\", \"US\", \"US\", \"US\"], \"name\": \"\", \"z\": [6.4, 10.4, 9.5, 8.0, 11.1, 10.3, 4.3, 9.6, 8.3, 5.0, 12.0, 10.3, 9.2, 14.3, 13.1, 5.1, 10.4, 9.2, 7.7, 9.3, 9.0, 4.6, 9.2, 8.2, 8.0, 13.4, 12.3, 7.0, 11.2, 10.2, 5.9, 11.3, 10.1, 2.3, 7.8, 6.4, 5.3, 9.4, 8.5, 5.5, 8.2, 7.6, 2.9, 6.3, 5.5, 3.5, 6.8, 5.9, 4.3, 10.5, 9.1, 7.3, 13.0, 11.6, 4.7, 8.7, 8.0, 5.4, 11.6, 10.2, 4.7, 10.4, 9.2, 4.6, 8.7, 7.8, 2.0, 6.3, 5.3, 5.9, 12.6, 11.0, 2.6, 7.8, 6.6, 4.0, 8.7, 7.7, 4.1, 7.5, 6.6, 5.8, 11.8, 10.5, 3.1, 7.6, 6.7, 6.8, 11.1, 10.1, 4.7, 11.1, 9.6, 8.6, 13.0, 12.1, 5.0, 11.1, 9.7, 3.9, 8.3, 7.2, 3.8, 8.4, 7.4, 4.5, 9.5, 8.3, 4.2, 10.2, 8.9, 6.4, 9.2, 8.6, 4.7, 6.4, 6.0, 6.3, 11.3, 10.2, 3.6, 7.9, 6.8, 5.2, 9.6, 8.7, 6.3, 11.6, 10.2, 3.4, 7.3, 6.2, 5.8, 9.2, 8.6, 6.8, 9.6, 9.0, 3.5, 7.1, 6.3, 4.4, 10.3, 9.1, 2.7, 6.8, 5.9, 3.3, 9.1, 7.8, 7.9, 15.3, 14.0, 6.0, 10.8, 9.7], \"type\": \"choropleth\"}], \"name\": \"350\"}, {\"data\": [{\"coloraxis\": \"coloraxis\", \"geo\": \"geo\", \"hovertemplate\": \"Child Allowance=400<br>State=%{location}<br>Child poverty rate=%{z}<extra></extra>\", \"locationmode\": \"USA-states\", \"locations\": [\"AL\", \"AL\", \"AL\", \"AK\", \"AK\", \"AK\", \"AZ\", \"AZ\", \"AZ\", \"AR\", \"AR\", \"AR\", \"CA\", \"CA\", \"CA\", \"CO\", \"CO\", \"CO\", \"CT\", \"CT\", \"CT\", \"DE\", \"DE\", \"DE\", \"FL\", \"FL\", \"FL\", \"GA\", \"GA\", \"GA\", \"HI\", \"HI\", \"HI\", \"ID\", \"ID\", \"ID\", \"IL\", \"IL\", \"IL\", \"IN\", \"IN\", \"IN\", \"IA\", \"IA\", \"IA\", \"KS\", \"KS\", \"KS\", \"KY\", \"KY\", \"KY\", \"LA\", \"LA\", \"LA\", \"ME\", \"ME\", \"ME\", \"MD\", \"MD\", \"MD\", \"MA\", \"MA\", \"MA\", \"MI\", \"MI\", \"MI\", \"MN\", \"MN\", \"MN\", \"MS\", \"MS\", \"MS\", \"MO\", \"MO\", \"MO\", \"MT\", \"MT\", \"MT\", \"NE\", \"NE\", \"NE\", \"NV\", \"NV\", \"NV\", \"NH\", \"NH\", \"NH\", \"NJ\", \"NJ\", \"NJ\", \"NM\", \"NM\", \"NM\", \"NY\", \"NY\", \"NY\", \"NC\", \"NC\", \"NC\", \"ND\", \"ND\", \"ND\", \"OH\", \"OH\", \"OH\", \"OK\", \"OK\", \"OK\", \"OR\", \"OR\", \"OR\", \"PA\", \"PA\", \"PA\", \"RI\", \"RI\", \"RI\", \"SC\", \"SC\", \"SC\", \"SD\", \"SD\", \"SD\", \"TN\", \"TN\", \"TN\", \"TX\", \"TX\", \"TX\", \"UT\", \"UT\", \"UT\", \"VT\", \"VT\", \"VT\", \"VA\", \"VA\", \"VA\", \"WA\", \"WA\", \"WA\", \"WV\", \"WV\", \"WV\", \"WI\", \"WI\", \"WI\", \"WY\", \"WY\", \"WY\", \"DC\", \"DC\", \"DC\", \"US\", \"US\", \"US\"], \"name\": \"\", \"z\": [5.7, 10.3, 9.3, 7.5, 10.9, 10.1, 3.7, 9.4, 8.1, 4.6, 11.9, 10.1, 8.2, 14.0, 12.7, 4.8, 10.3, 9.0, 7.5, 9.2, 8.8, 4.1, 9.1, 8.1, 7.3, 13.3, 12.1, 6.6, 11.0, 9.9, 5.5, 11.2, 10.0, 1.9, 7.8, 6.3, 4.5, 9.3, 8.2, 4.4, 8.0, 7.2, 2.8, 6.3, 5.5, 3.1, 6.7, 5.8, 3.8, 10.4, 8.9, 6.3, 12.8, 11.2, 4.2, 8.6, 7.8, 4.8, 11.5, 10.0, 4.3, 10.3, 9.1, 4.2, 8.6, 7.6, 1.8, 6.3, 5.2, 5.5, 12.5, 10.8, 2.6, 7.8, 6.6, 3.6, 8.6, 7.5, 3.9, 7.4, 6.5, 5.2, 11.7, 10.2, 3.1, 7.5, 6.7, 6.5, 11.0, 10.0, 4.4, 11.2, 9.6, 8.1, 12.8, 11.8, 4.4, 10.9, 9.5, 3.2, 8.2, 7.0, 3.1, 8.3, 7.1, 3.9, 9.4, 8.0, 3.7, 10.2, 8.8, 5.9, 9.1, 8.4, 4.4, 6.3, 5.9, 5.5, 11.1, 9.9, 3.3, 7.8, 6.7, 4.5, 9.5, 8.4, 5.6, 11.4, 9.9, 3.2, 7.4, 6.1, 5.4, 9.2, 8.4, 5.2, 9.3, 8.4, 3.3, 7.1, 6.2, 3.7, 10.1, 8.8, 2.7, 6.9, 5.9, 2.8, 9.0, 7.5, 7.5, 15.2, 13.7, 5.4, 10.6, 9.4], \"type\": \"choropleth\"}], \"name\": \"400\"}, {\"data\": [{\"coloraxis\": \"coloraxis\", \"geo\": \"geo\", \"hovertemplate\": \"Child Allowance=450<br>State=%{location}<br>Child poverty rate=%{z}<extra></extra>\", \"locationmode\": \"USA-states\", \"locations\": [\"AL\", \"AL\", \"AL\", \"AK\", \"AK\", \"AK\", \"AZ\", \"AZ\", \"AZ\", \"AR\", \"AR\", \"AR\", \"CA\", \"CA\", \"CA\", \"CO\", \"CO\", \"CO\", \"CT\", \"CT\", \"CT\", \"DE\", \"DE\", \"DE\", \"FL\", \"FL\", \"FL\", \"GA\", \"GA\", \"GA\", \"HI\", \"HI\", \"HI\", \"ID\", \"ID\", \"ID\", \"IL\", \"IL\", \"IL\", \"IN\", \"IN\", \"IN\", \"IA\", \"IA\", \"IA\", \"KS\", \"KS\", \"KS\", \"KY\", \"KY\", \"KY\", \"LA\", \"LA\", \"LA\", \"ME\", \"ME\", \"ME\", \"MD\", \"MD\", \"MD\", \"MA\", \"MA\", \"MA\", \"MI\", \"MI\", \"MI\", \"MN\", \"MN\", \"MN\", \"MS\", \"MS\", \"MS\", \"MO\", \"MO\", \"MO\", \"MT\", \"MT\", \"MT\", \"NE\", \"NE\", \"NE\", \"NV\", \"NV\", \"NV\", \"NH\", \"NH\", \"NH\", \"NJ\", \"NJ\", \"NJ\", \"NM\", \"NM\", \"NM\", \"NY\", \"NY\", \"NY\", \"NC\", \"NC\", \"NC\", \"ND\", \"ND\", \"ND\", \"OH\", \"OH\", \"OH\", \"OK\", \"OK\", \"OK\", \"OR\", \"OR\", \"OR\", \"PA\", \"PA\", \"PA\", \"RI\", \"RI\", \"RI\", \"SC\", \"SC\", \"SC\", \"SD\", \"SD\", \"SD\", \"TN\", \"TN\", \"TN\", \"TX\", \"TX\", \"TX\", \"UT\", \"UT\", \"UT\", \"VT\", \"VT\", \"VT\", \"VA\", \"VA\", \"VA\", \"WA\", \"WA\", \"WA\", \"WV\", \"WV\", \"WV\", \"WI\", \"WI\", \"WI\", \"WY\", \"WY\", \"WY\", \"DC\", \"DC\", \"DC\", \"US\", \"US\", \"US\"], \"name\": \"\", \"z\": [5.0, 10.2, 9.0, 7.4, 10.9, 10.0, 3.3, 9.3, 7.9, 3.9, 11.7, 9.8, 7.3, 13.8, 12.3, 4.1, 10.2, 8.8, 6.0, 8.9, 8.3, 4.0, 9.0, 8.0, 6.7, 13.2, 11.9, 5.4, 10.8, 9.5, 4.6, 11.1, 9.7, 1.9, 7.8, 6.3, 3.8, 9.3, 8.1, 3.9, 7.9, 6.9, 2.2, 6.2, 5.3, 2.2, 6.6, 5.5, 3.0, 10.1, 8.5, 5.4, 12.7, 10.9, 4.1, 8.6, 7.7, 4.3, 11.4, 9.9, 3.6, 10.1, 8.8, 3.8, 8.5, 7.5, 1.8, 6.3, 5.2, 5.1, 12.3, 10.6, 2.3, 7.6, 6.4, 3.3, 8.5, 7.4, 3.6, 7.4, 6.4, 4.4, 11.5, 9.9, 2.8, 7.5, 6.6, 5.5, 10.8, 9.6, 3.8, 11.0, 9.3, 7.1, 12.5, 11.4, 4.1, 10.8, 9.3, 2.5, 8.0, 6.7, 2.9, 8.2, 7.0, 3.1, 9.3, 7.7, 3.7, 10.2, 8.8, 5.0, 9.0, 8.2, 3.8, 6.2, 5.7, 5.2, 11.0, 9.7, 2.7, 7.7, 6.4, 4.0, 9.4, 8.2, 4.9, 11.1, 9.5, 3.1, 7.3, 6.0, 4.9, 9.1, 8.3, 4.5, 9.1, 8.1, 2.7, 7.0, 6.1, 3.2, 10.1, 8.6, 2.3, 6.8, 5.8, 2.7, 8.9, 7.5, 6.7, 15.0, 13.5, 4.8, 10.5, 9.2], \"type\": \"choropleth\"}], \"name\": \"450\"}, {\"data\": [{\"coloraxis\": \"coloraxis\", \"geo\": \"geo\", \"hovertemplate\": \"Child Allowance=500<br>State=%{location}<br>Child poverty rate=%{z}<extra></extra>\", \"locationmode\": \"USA-states\", \"locations\": [\"AL\", \"AL\", \"AL\", \"AK\", \"AK\", \"AK\", \"AZ\", \"AZ\", \"AZ\", \"AR\", \"AR\", \"AR\", \"CA\", \"CA\", \"CA\", \"CO\", \"CO\", \"CO\", \"CT\", \"CT\", \"CT\", \"DE\", \"DE\", \"DE\", \"FL\", \"FL\", \"FL\", \"GA\", \"GA\", \"GA\", \"HI\", \"HI\", \"HI\", \"ID\", \"ID\", \"ID\", \"IL\", \"IL\", \"IL\", \"IN\", \"IN\", \"IN\", \"IA\", \"IA\", \"IA\", \"KS\", \"KS\", \"KS\", \"KY\", \"KY\", \"KY\", \"LA\", \"LA\", \"LA\", \"ME\", \"ME\", \"ME\", \"MD\", \"MD\", \"MD\", \"MA\", \"MA\", \"MA\", \"MI\", \"MI\", \"MI\", \"MN\", \"MN\", \"MN\", \"MS\", \"MS\", \"MS\", \"MO\", \"MO\", \"MO\", \"MT\", \"MT\", \"MT\", \"NE\", \"NE\", \"NE\", \"NV\", \"NV\", \"NV\", \"NH\", \"NH\", \"NH\", \"NJ\", \"NJ\", \"NJ\", \"NM\", \"NM\", \"NM\", \"NY\", \"NY\", \"NY\", \"NC\", \"NC\", \"NC\", \"ND\", \"ND\", \"ND\", \"OH\", \"OH\", \"OH\", \"OK\", \"OK\", \"OK\", \"OR\", \"OR\", \"OR\", \"PA\", \"PA\", \"PA\", \"RI\", \"RI\", \"RI\", \"SC\", \"SC\", \"SC\", \"SD\", \"SD\", \"SD\", \"TN\", \"TN\", \"TN\", \"TX\", \"TX\", \"TX\", \"UT\", \"UT\", \"UT\", \"VT\", \"VT\", \"VT\", \"VA\", \"VA\", \"VA\", \"WA\", \"WA\", \"WA\", \"WV\", \"WV\", \"WV\", \"WI\", \"WI\", \"WI\", \"WY\", \"WY\", \"WY\", \"DC\", \"DC\", \"DC\", \"US\", \"US\", \"US\"], \"name\": \"\", \"z\": [4.8, 10.1, 8.9, 6.7, 10.6, 9.6, 3.1, 9.3, 7.9, 3.2, 11.6, 9.5, 6.7, 13.7, 12.1, 3.8, 10.1, 8.7, 5.7, 8.8, 8.1, 3.9, 9.1, 8.0, 6.0, 13.0, 11.6, 4.8, 10.7, 9.3, 3.6, 10.9, 9.3, 1.8, 7.8, 6.3, 3.4, 9.2, 7.9, 3.3, 7.8, 6.7, 2.0, 6.2, 5.2, 2.1, 6.5, 5.4, 2.8, 10.1, 8.4, 4.6, 12.4, 10.5, 3.8, 8.6, 7.7, 4.0, 11.3, 9.7, 3.3, 10.0, 8.7, 3.6, 8.5, 7.4, 1.2, 6.1, 5.0, 4.4, 12.1, 10.3, 2.1, 7.6, 6.3, 2.6, 8.5, 7.2, 3.3, 7.3, 6.3, 4.2, 11.5, 9.8, 2.2, 7.3, 6.4, 4.9, 10.7, 9.4, 3.2, 10.8, 9.0, 6.3, 12.4, 11.1, 3.5, 10.6, 9.0, 2.5, 8.0, 6.7, 2.6, 8.1, 6.9, 2.8, 9.2, 7.6, 3.0, 10.0, 8.6, 4.3, 8.8, 7.8, 2.7, 6.1, 5.4, 4.8, 10.9, 9.6, 2.3, 7.6, 6.2, 3.9, 9.3, 8.1, 4.3, 11.0, 9.3, 2.9, 7.2, 6.0, 4.5, 9.0, 8.1, 4.1, 9.0, 8.0, 2.6, 7.0, 6.0, 2.7, 10.0, 8.4, 2.2, 6.8, 5.8, 2.2, 8.8, 7.2, 5.8, 14.8, 13.2, 4.3, 10.4, 9.0], \"type\": \"choropleth\"}], \"name\": \"500\"}]);\n",
       "                        }).then(function(){\n",
       "                            \n",
       "var gd = document.getElementById('c25d91c7-4af7-417d-b3a6-55714d8ffb54');\n",
       "var x = new MutationObserver(function (mutations, observer) {{\n",
       "        var display = window.getComputedStyle(gd).display;\n",
       "        if (!display || display === 'none') {{\n",
       "            console.log([gd, 'removed!']);\n",
       "            Plotly.purge(gd);\n",
       "            observer.disconnect();\n",
       "        }}\n",
       "}});\n",
       "\n",
       "// Listen for the removal of the full notebook cells\n",
       "var notebookContainer = gd.closest('#notebook-container');\n",
       "if (notebookContainer) {{\n",
       "    x.observe(notebookContainer, {childList: true});\n",
       "}}\n",
       "\n",
       "// Listen for the clearing of the current output cell\n",
       "var outputEl = gd.closest('.output');\n",
       "if (outputEl) {{\n",
       "    x.observe(outputEl, {childList: true});\n",
       "}}\n",
       "\n",
       "                        })\n",
       "                };\n",
       "                });\n",
       "            </script>\n",
       "        </div>"
      ]
     },
     "metadata": {},
     "output_type": "display_data"
    }
   ],
   "source": [
    "# create a choropleth map for state funded child allowance\n",
    "\n",
    "state_states = summary[summary['age_group'] == 'child']\n",
    "state_states = summary[summary['race'] == 'All']\n",
    "\n",
    "state_map = px.choropleth(state_states, \n",
    "                       locations='code',\n",
    "                       color='state_poverty_rate', \n",
    "                       animation_frame='child_allowance',\n",
    "                       color_continuous_scale='reds',\n",
    "                       locationmode='USA-states',\n",
    "                       scope='usa',\n",
    "                       range_color=(0, 22),\n",
    "                       title=('Child poverty with state funded tax reform'),\n",
    "                       height=600,\n",
    "                       labels={'child_allowance':'Child Allowance',\n",
    "                              'code': 'State',\n",
    "                              'state_poverty_rate': 'Child poverty rate'})\n",
    "\n",
    "state_map.update_layout(coloraxis_showscale=False,\n",
    "                        font=dict(family='Roboto'))\n",
    "state_map.show(config={'displayModeBar': False})"
   ]
  },
  {
   "cell_type": "markdown",
   "metadata": {},
   "source": [
    "The next set of charts show how different demographics are impacted by each reform.  Across states, a $300 monthly child allowance cuts child poverty by about half and narrows the gap between Black and White child poverty within a few percentage points."
   ]
  },
  {
   "cell_type": "code",
   "execution_count": 7,
   "metadata": {
    "tags": [
     "hide-input"
    ]
   },
   "outputs": [
    {
     "data": {
      "text/html": [
       "<div>\n",
       "<style scoped>\n",
       "    .dataframe tbody tr th:only-of-type {\n",
       "        vertical-align: middle;\n",
       "    }\n",
       "\n",
       "    .dataframe tbody tr th {\n",
       "        vertical-align: top;\n",
       "    }\n",
       "\n",
       "    .dataframe thead th {\n",
       "        text-align: right;\n",
       "    }\n",
       "</style>\n",
       "<table border=\"1\" class=\"dataframe\">\n",
       "  <thead>\n",
       "    <tr style=\"text-align: right;\">\n",
       "      <th></th>\n",
       "      <th>code</th>\n",
       "      <th>state</th>\n",
       "      <th>child_allowance</th>\n",
       "      <th>age_group</th>\n",
       "      <th>race</th>\n",
       "      <th>non_funded_poverty_rate</th>\n",
       "      <th>non_funded_tax_rate</th>\n",
       "      <th>non_funded_gini</th>\n",
       "      <th>fed_poverty_rate</th>\n",
       "      <th>fed_tax_rate</th>\n",
       "      <th>fed_gini</th>\n",
       "      <th>state_poverty_rate</th>\n",
       "      <th>state_tax_rate</th>\n",
       "      <th>state_gini</th>\n",
       "    </tr>\n",
       "  </thead>\n",
       "  <tbody>\n",
       "    <tr>\n",
       "      <th>1</th>\n",
       "      <td>AL</td>\n",
       "      <td>Alabama</td>\n",
       "      <td>0</td>\n",
       "      <td>child</td>\n",
       "      <td>All</td>\n",
       "      <td>14.8</td>\n",
       "      <td>0.0</td>\n",
       "      <td>0.418</td>\n",
       "      <td>14.8</td>\n",
       "      <td>0.0</td>\n",
       "      <td>0.418</td>\n",
       "      <td>14.8</td>\n",
       "      <td>0.0</td>\n",
       "      <td>0.418</td>\n",
       "    </tr>\n",
       "    <tr>\n",
       "      <th>5</th>\n",
       "      <td>AL</td>\n",
       "      <td>Alabama</td>\n",
       "      <td>0</td>\n",
       "      <td>adult</td>\n",
       "      <td>All</td>\n",
       "      <td>12.1</td>\n",
       "      <td>0.0</td>\n",
       "      <td>0.440</td>\n",
       "      <td>12.1</td>\n",
       "      <td>0.0</td>\n",
       "      <td>0.440</td>\n",
       "      <td>12.1</td>\n",
       "      <td>0.0</td>\n",
       "      <td>0.440</td>\n",
       "    </tr>\n",
       "    <tr>\n",
       "      <th>9</th>\n",
       "      <td>AL</td>\n",
       "      <td>Alabama</td>\n",
       "      <td>0</td>\n",
       "      <td>all</td>\n",
       "      <td>All</td>\n",
       "      <td>12.7</td>\n",
       "      <td>0.0</td>\n",
       "      <td>0.446</td>\n",
       "      <td>12.7</td>\n",
       "      <td>0.0</td>\n",
       "      <td>0.446</td>\n",
       "      <td>12.7</td>\n",
       "      <td>0.0</td>\n",
       "      <td>0.446</td>\n",
       "    </tr>\n",
       "    <tr>\n",
       "      <th>13</th>\n",
       "      <td>AL</td>\n",
       "      <td>Alabama</td>\n",
       "      <td>50</td>\n",
       "      <td>child</td>\n",
       "      <td>All</td>\n",
       "      <td>13.7</td>\n",
       "      <td>0.0</td>\n",
       "      <td>0.409</td>\n",
       "      <td>13.7</td>\n",
       "      <td>0.5</td>\n",
       "      <td>0.408</td>\n",
       "      <td>13.7</td>\n",
       "      <td>0.7</td>\n",
       "      <td>0.408</td>\n",
       "    </tr>\n",
       "    <tr>\n",
       "      <th>17</th>\n",
       "      <td>AL</td>\n",
       "      <td>Alabama</td>\n",
       "      <td>50</td>\n",
       "      <td>adult</td>\n",
       "      <td>All</td>\n",
       "      <td>11.8</td>\n",
       "      <td>0.0</td>\n",
       "      <td>0.438</td>\n",
       "      <td>11.8</td>\n",
       "      <td>0.5</td>\n",
       "      <td>0.437</td>\n",
       "      <td>11.8</td>\n",
       "      <td>0.7</td>\n",
       "      <td>0.437</td>\n",
       "    </tr>\n",
       "    <tr>\n",
       "      <th>...</th>\n",
       "      <td>...</td>\n",
       "      <td>...</td>\n",
       "      <td>...</td>\n",
       "      <td>...</td>\n",
       "      <td>...</td>\n",
       "      <td>...</td>\n",
       "      <td>...</td>\n",
       "      <td>...</td>\n",
       "      <td>...</td>\n",
       "      <td>...</td>\n",
       "      <td>...</td>\n",
       "      <td>...</td>\n",
       "      <td>...</td>\n",
       "      <td>...</td>\n",
       "    </tr>\n",
       "    <tr>\n",
       "      <th>6845</th>\n",
       "      <td>US</td>\n",
       "      <td>US</td>\n",
       "      <td>450</td>\n",
       "      <td>adult</td>\n",
       "      <td>All</td>\n",
       "      <td>10.2</td>\n",
       "      <td>0.0</td>\n",
       "      <td>0.424</td>\n",
       "      <td>10.5</td>\n",
       "      <td>4.8</td>\n",
       "      <td>0.416</td>\n",
       "      <td>10.5</td>\n",
       "      <td>4.8</td>\n",
       "      <td>0.417</td>\n",
       "    </tr>\n",
       "    <tr>\n",
       "      <th>6849</th>\n",
       "      <td>US</td>\n",
       "      <td>US</td>\n",
       "      <td>450</td>\n",
       "      <td>all</td>\n",
       "      <td>All</td>\n",
       "      <td>9.0</td>\n",
       "      <td>0.0</td>\n",
       "      <td>0.418</td>\n",
       "      <td>9.2</td>\n",
       "      <td>4.8</td>\n",
       "      <td>0.410</td>\n",
       "      <td>9.2</td>\n",
       "      <td>4.8</td>\n",
       "      <td>0.411</td>\n",
       "    </tr>\n",
       "    <tr>\n",
       "      <th>6853</th>\n",
       "      <td>US</td>\n",
       "      <td>US</td>\n",
       "      <td>500</td>\n",
       "      <td>child</td>\n",
       "      <td>All</td>\n",
       "      <td>4.2</td>\n",
       "      <td>0.0</td>\n",
       "      <td>0.352</td>\n",
       "      <td>4.3</td>\n",
       "      <td>5.3</td>\n",
       "      <td>0.341</td>\n",
       "      <td>4.3</td>\n",
       "      <td>5.4</td>\n",
       "      <td>0.342</td>\n",
       "    </tr>\n",
       "    <tr>\n",
       "      <th>6857</th>\n",
       "      <td>US</td>\n",
       "      <td>US</td>\n",
       "      <td>500</td>\n",
       "      <td>adult</td>\n",
       "      <td>All</td>\n",
       "      <td>10.1</td>\n",
       "      <td>0.0</td>\n",
       "      <td>0.422</td>\n",
       "      <td>10.4</td>\n",
       "      <td>5.3</td>\n",
       "      <td>0.414</td>\n",
       "      <td>10.4</td>\n",
       "      <td>5.4</td>\n",
       "      <td>0.414</td>\n",
       "    </tr>\n",
       "    <tr>\n",
       "      <th>6861</th>\n",
       "      <td>US</td>\n",
       "      <td>US</td>\n",
       "      <td>500</td>\n",
       "      <td>all</td>\n",
       "      <td>All</td>\n",
       "      <td>8.8</td>\n",
       "      <td>0.0</td>\n",
       "      <td>0.415</td>\n",
       "      <td>9.0</td>\n",
       "      <td>5.3</td>\n",
       "      <td>0.406</td>\n",
       "      <td>9.0</td>\n",
       "      <td>5.4</td>\n",
       "      <td>0.407</td>\n",
       "    </tr>\n",
       "  </tbody>\n",
       "</table>\n",
       "<p>1716 rows × 14 columns</p>\n",
       "</div>"
      ],
      "text/plain": [
       "     code    state  child_allowance age_group race  non_funded_poverty_rate  \\\n",
       "1      AL  Alabama                0     child  All                     14.8   \n",
       "5      AL  Alabama                0     adult  All                     12.1   \n",
       "9      AL  Alabama                0       all  All                     12.7   \n",
       "13     AL  Alabama               50     child  All                     13.7   \n",
       "17     AL  Alabama               50     adult  All                     11.8   \n",
       "...   ...      ...              ...       ...  ...                      ...   \n",
       "6845   US       US              450     adult  All                     10.2   \n",
       "6849   US       US              450       all  All                      9.0   \n",
       "6853   US       US              500     child  All                      4.2   \n",
       "6857   US       US              500     adult  All                     10.1   \n",
       "6861   US       US              500       all  All                      8.8   \n",
       "\n",
       "      non_funded_tax_rate  non_funded_gini  fed_poverty_rate  fed_tax_rate  \\\n",
       "1                     0.0            0.418              14.8           0.0   \n",
       "5                     0.0            0.440              12.1           0.0   \n",
       "9                     0.0            0.446              12.7           0.0   \n",
       "13                    0.0            0.409              13.7           0.5   \n",
       "17                    0.0            0.438              11.8           0.5   \n",
       "...                   ...              ...               ...           ...   \n",
       "6845                  0.0            0.424              10.5           4.8   \n",
       "6849                  0.0            0.418               9.2           4.8   \n",
       "6853                  0.0            0.352               4.3           5.3   \n",
       "6857                  0.0            0.422              10.4           5.3   \n",
       "6861                  0.0            0.415               9.0           5.3   \n",
       "\n",
       "      fed_gini  state_poverty_rate  state_tax_rate  state_gini  \n",
       "1        0.418                14.8             0.0       0.418  \n",
       "5        0.440                12.1             0.0       0.440  \n",
       "9        0.446                12.7             0.0       0.446  \n",
       "13       0.408                13.7             0.7       0.408  \n",
       "17       0.437                11.8             0.7       0.437  \n",
       "...        ...                 ...             ...         ...  \n",
       "6845     0.416                10.5             4.8       0.417  \n",
       "6849     0.410                 9.2             4.8       0.411  \n",
       "6853     0.341                 4.3             5.4       0.342  \n",
       "6857     0.414                10.4             5.4       0.414  \n",
       "6861     0.406                 9.0             5.4       0.407  \n",
       "\n",
       "[1716 rows x 14 columns]"
      ]
     },
     "execution_count": 7,
     "metadata": {},
     "output_type": "execute_result"
    }
   ],
   "source": [
    "age_groups = summary[summary['race'] == 'All']\n",
    "age_groups"
   ]
  },
  {
   "cell_type": "markdown",
   "metadata": {},
   "source": [
    "## Poverty - Race"
   ]
  },
  {
   "cell_type": "code",
   "execution_count": 8,
   "metadata": {
    "tags": [
     "hide-input"
    ]
   },
   "outputs": [],
   "source": [
    "race = summary[summary['age_group'] == 'child']"
   ]
  },
  {
   "cell_type": "markdown",
   "metadata": {},
   "source": [
    "Together, these figures show how a child allowance can accomplish its initial purpose of reducing child poverty while also decreasing adult poverty and abating inequality.  \n",
    "\n",
    "Currently, the closest thing America has to a child allowance is the Child Tax Credit which provides up to $2,000 per child to eligible families. Yet over one-third of children in the U.S are ineligible for the full child tax credit because their families don’t earn enough to qualify, and another one-tenth are excluded because their families earn too much.\n",
    "\n",
    "The charts above reflect the opportunity for federal legislation to reduce child poverty across states, as well as states’ opportunity to reduce child poverty with truly universal child allowances of their own.  This data can be used to advocate for the expansion of child allowances and fully refundable tax credits to reduce poverty and prioritize the well-being of children."
   ]
  }
 ],
 "metadata": {
  "celltoolbar": "Tags",
  "kernelspec": {
   "display_name": "Python 3",
   "language": "python",
   "name": "python3"
  },
  "language_info": {
   "codemirror_mode": {
    "name": "ipython",
    "version": 3
   },
   "file_extension": ".py",
   "mimetype": "text/x-python",
   "name": "python",
   "nbconvert_exporter": "python",
   "pygments_lexer": "ipython3",
   "version": "3.7.9"
  }
 },
 "nbformat": 4,
 "nbformat_minor": 4
}
