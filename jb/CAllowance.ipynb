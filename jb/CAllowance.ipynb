{
 "metadata": {
  "language_info": {
   "codemirror_mode": {
    "name": "ipython",
    "version": 3
   },
   "file_extension": ".py",
   "mimetype": "text/x-python",
   "name": "python",
   "nbconvert_exporter": "python",
   "pygments_lexer": "ipython3",
   "version": "3.8.3"
  },
  "orig_nbformat": 2,
  "kernelspec": {
   "name": "python3",
   "display_name": "Python 3.8.3 64-bit ('base': conda)",
   "metadata": {
    "interpreter": {
     "hash": "9702a4269d6f7fda6c2aa4753998c23781a6d1b24ee67be8de902a564ce33446"
    }
   }
  }
 },
 "nbformat": 4,
 "nbformat_minor": 2,
 "cells": [
  {
   "source": [
    "We begin by reading in the dataset and generating some functions that we will use repeatedly to calculate poerty rates and gini coefficients as well as to generate simple percentage changes."
   ],
   "cell_type": "markdown",
   "metadata": {}
  },
  {
   "cell_type": "code",
   "execution_count": null,
   "metadata": {},
   "outputs": [],
   "source": [
    "person_sim = pd.read_csv(\n",
    "    \"https://github.com/UBICenter/child-allowance/blob/master/jb/data/cps_00003.csv.gz?raw=true\",  # noqa\n",
    "    compression=\"gzip\")\n",
    "\n",
    "# Define a function to calculate poverty rates from the poverty flag\n",
    "def pov(data, group):\n",
    "    return pd.DataFrame(\n",
    "        mdf.weighted_mean(data, \"poverty_flag\", \"asecwt\", groupby=group)\n",
    "    )\n",
    "\n",
    "\n",
    "# Define function to generate gini coefficients\n",
    "def gin(data, group):\n",
    "    return pd.DataFrame(\n",
    "        data.groupby(group).apply(\n",
    "            lambda x: mdf.gini(x, \"spmftotval\", \"asecwt\")\n",
    "        )\n",
    "    )\n",
    "\n",
    "# Define percentage change function\n",
    "def percent_change(pp_change, old):\n",
    "    return 100 * pp_change / old"
   ]
  },
  {
   "source": [
    "We generate poverty rates for the total population and by demographics of interest, namely sex, race, whether one is a child (under 6) and by state. We similarly generate gini coefficients for the total population and by state."
   ],
   "cell_type": "markdown",
   "metadata": {}
  },
  {
   "cell_type": "code",
   "execution_count": 1,
   "metadata": {},
   "outputs": [
    {
     "output_type": "error",
     "ename": "NameError",
     "evalue": "name 'pov' is not defined",
     "traceback": [
      "\u001b[1;31m---------------------------------------------------------------------------\u001b[0m",
      "\u001b[1;31mNameError\u001b[0m                                 Traceback (most recent call last)",
      "\u001b[1;32m<ipython-input-1-add4701aebe2>\u001b[0m in \u001b[0;36m<module>\u001b[1;34m\u001b[0m\n\u001b[0;32m      1\u001b[0m \u001b[1;31m# Poverty rate and state-based heterogenous poverty rates\u001b[0m\u001b[1;33m\u001b[0m\u001b[1;33m\u001b[0m\u001b[1;33m\u001b[0m\u001b[0m\n\u001b[1;32m----> 2\u001b[1;33m \u001b[0mpoverty_rate\u001b[0m \u001b[1;33m=\u001b[0m \u001b[0mpov\u001b[0m\u001b[1;33m(\u001b[0m\u001b[0mperson_sim\u001b[0m\u001b[1;33m,\u001b[0m \u001b[1;34m\"sim_flag\"\u001b[0m\u001b[1;33m)\u001b[0m \u001b[1;31m# Overall poverty rate\u001b[0m\u001b[1;33m\u001b[0m\u001b[1;33m\u001b[0m\u001b[0m\n\u001b[0m\u001b[0;32m      3\u001b[0m \u001b[0mpoverty_rate_sex\u001b[0m \u001b[1;33m=\u001b[0m \u001b[0mpov\u001b[0m\u001b[1;33m(\u001b[0m\u001b[0mperson_sim\u001b[0m\u001b[1;33m,\u001b[0m \u001b[1;33m[\u001b[0m\u001b[1;34m\"sim_flag\"\u001b[0m\u001b[1;33m,\u001b[0m \u001b[1;34m\"sex\"\u001b[0m\u001b[1;33m]\u001b[0m\u001b[1;33m)\u001b[0m \u001b[1;31m# Poverty rates by sex\u001b[0m\u001b[1;33m\u001b[0m\u001b[1;33m\u001b[0m\u001b[0m\n\u001b[0;32m      4\u001b[0m \u001b[0mpoverty_rate_race_hispan\u001b[0m \u001b[1;33m=\u001b[0m \u001b[0mpov\u001b[0m\u001b[1;33m(\u001b[0m\u001b[0mperson_sim\u001b[0m\u001b[1;33m,\u001b[0m \u001b[1;33m[\u001b[0m\u001b[1;34m\"sim_flag\"\u001b[0m\u001b[1;33m,\u001b[0m \u001b[1;34m\"race_hispan\"\u001b[0m\u001b[1;33m]\u001b[0m\u001b[1;33m)\u001b[0m  \u001b[1;31m#\u001b[0m\u001b[1;33m\u001b[0m\u001b[1;33m\u001b[0m\u001b[0m\n\u001b[0;32m      5\u001b[0m \u001b[0mpoverty_rate_child\u001b[0m \u001b[1;33m=\u001b[0m \u001b[0mpov\u001b[0m\u001b[1;33m(\u001b[0m\u001b[0mperson_sim\u001b[0m\u001b[1;33m[\u001b[0m\u001b[0mperson_sim\u001b[0m\u001b[1;33m.\u001b[0m\u001b[0mchild_6\u001b[0m\u001b[1;33m]\u001b[0m\u001b[1;33m,\u001b[0m \u001b[1;34m\"sim_flag\"\u001b[0m\u001b[1;33m)\u001b[0m \u001b[1;31m# Child poverty rate\u001b[0m\u001b[1;33m\u001b[0m\u001b[1;33m\u001b[0m\u001b[0m\n",
      "\u001b[1;31mNameError\u001b[0m: name 'pov' is not defined"
     ]
    }
   ],
   "source": [
    "# Poverty rates by demographics of interest\n",
    "poverty_rate = pov(person_sim, \"sim_flag\") # Overall poverty rate\n",
    "poverty_rate_sex = pov(person_sim, [\"sim_flag\", \"sex\"]) # Poverty rates by sex\n",
    "poverty_rate_race_hispan = pov(person_sim, [\"sim_flag\", \"race_hispan\"])  # Poverty rates by race\n",
    "poverty_rate_child = pov(person_sim[person_sim.child_6], \"sim_flag\") # Child poverty rate\n",
    "\n",
    "# State-based poverty rates\n",
    "poverty_rate_state = pov(person_sim, [\"sim_flag\", \"state\"])\n",
    "\n",
    "# Rename constructed poverty_rates\n",
    "poverty_rates = [\n",
    "    poverty_rate,\n",
    "    poverty_rate_sex,\n",
    "    poverty_rate_race_hispan,\n",
    "    poverty_rate_state,\n",
    "    poverty_rate_child,\n",
    "]\n",
    "for i in poverty_rates:\n",
    "    i.rename({0: \"poverty_rate\"}, axis=1, inplace=True)\n",
    "\n",
    "    \n",
    "# Gini coefficients and state/demographic-based heterogenous gini coefficients\n",
    "gini = gin(person_sim, \"sim_flag\")\n",
    "gini_state = gin(person_sim, [\"sim_flag\", \"state\"])\n",
    "\n",
    "# Rename constructed gini coefficients\n",
    "ginis = [\n",
    "    gini,\n",
    "    gini_state,\n",
    "]\n",
    "for i in ginis:\n",
    "    i.rename({0: \"gini_coefficient\"}, axis=1, inplace=True)\n",
    "\n",
    "# Create pivot table to interpret state-based poverty effects\n",
    "state_pov = poverty_rate_state.pivot_table(\n",
    "    values=\"poverty_rate\", index=\"state\", columns=\"sim_flag\"\n",
    ")\n",
    "# Create pivot table to interpret state-based gini effects\n",
    "state_gini = gini_state.pivot_table(\n",
    "    values=\"gini_coefficient\", index=\"state\", columns=\"sim_flag\"\n",
    ")"
   ]
  },
  {
   "source": [
    "We then generate state-based poverty rate and gini percentage changes to reflect the impact of the simulation. "
   ],
   "cell_type": "markdown",
   "metadata": {}
  },
  {
   "cell_type": "code",
   "execution_count": null,
   "metadata": {},
   "outputs": [],
   "source": [
    "\n",
    "# Generate state-based poverty rate percentage changes\n",
    "state_pov[\"poverty_change_cc\"] = state.baseline - state.cc_replacement\n",
    "state_pov[\"poverty_change_flat\"] = state.baseline, state.child_allowance\n",
    "state_pov[\"poverty_change_%_cc\"] = state_pov.poverty_change_cc - state.baseline\n",
    "state_pov[\"poverty_change_%_flat\"] = (\n",
    "    state_pov.poverty_change_flat - state.baseline\n",
    ")\n",
    "\n",
    "# Construct state-based gini coefficient percentage changes\n",
    "state_gini[\"gini_change_cc\"] = pp_change(state.baseline, state.cc_replacement)\n",
    "state_gini[\"gini_change_flat\"] = pp_change(\n",
    "    state.baseline, state.child_allowance\n",
    ")\n",
    "state_gini[\"gini_change_pc_cc\"] = percent_change(\n",
    "    state_gini.gini_change_cc, state.baseline\n",
    ")\n",
    "state_gini[\"gini_change_pc_flat\"] = percent_change(\n",
    "    state_gini.gini_change_flat, state.baseline\n",
    ")\n",
    "\n",
    "# Re-arrange and present pivot tables, descending by % change\n",
    "# in poverty rate\n",
    "state_pov.sort_values(by=\"poverty_change_%_flat\", ascending=True)\n",
    "state_gini.sort_values(by=\"gini_change_%_flat\", ascending=True)"
   ]
  }
 ]
}